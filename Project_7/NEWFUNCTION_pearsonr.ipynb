{
 "cells": [
  {
   "cell_type": "code",
   "execution_count": 1,
   "metadata": {
    "collapsed": true
   },
   "outputs": [],
   "source": [
    "import pandas as pd\n",
    "\n",
    "df = pd.read_csv('/Users/Paul/Desktop/General_Assembly/DSI_SM_01/projects/01-projects-weekly/project-07/starter-code/MASTER_Project7_withNoProbelmPerecent.csv')"
   ]
  },
  {
   "cell_type": "code",
   "execution_count": 2,
   "metadata": {
    "collapsed": false
   },
   "outputs": [
    {
     "data": {
      "text/html": [
       "<div>\n",
       "<table border=\"1\" class=\"dataframe\">\n",
       "  <thead>\n",
       "    <tr style=\"text-align: right;\">\n",
       "      <th></th>\n",
       "      <th>Unnamed: 0</th>\n",
       "      <th>Airport</th>\n",
       "      <th>FAA REGION</th>\n",
       "      <th>Departure Cancellations</th>\n",
       "      <th>Arrival Cancellations</th>\n",
       "      <th>Departure Diversions</th>\n",
       "      <th>Arrival Diversions</th>\n",
       "      <th>departures for metric computation</th>\n",
       "      <th>arrivals for metric computation</th>\n",
       "      <th>percent on-time gate departures</th>\n",
       "      <th>...</th>\n",
       "      <th>average taxi out delay</th>\n",
       "      <th>average airport departure delay</th>\n",
       "      <th>average airborne delay</th>\n",
       "      <th>average taxi in delay</th>\n",
       "      <th>average block delay</th>\n",
       "      <th>average gate arrival delay</th>\n",
       "      <th>Arrival Percentage</th>\n",
       "      <th>Departure Percentage</th>\n",
       "      <th>No Diversion Percentage</th>\n",
       "      <th>Overall Chance of No Problems</th>\n",
       "    </tr>\n",
       "  </thead>\n",
       "  <tbody>\n",
       "    <tr>\n",
       "      <th>0</th>\n",
       "      <td>0</td>\n",
       "      <td>SJU</td>\n",
       "      <td>ASO</td>\n",
       "      <td>330.0</td>\n",
       "      <td>289.0</td>\n",
       "      <td>55.0</td>\n",
       "      <td>28.0</td>\n",
       "      <td>60371.0</td>\n",
       "      <td>56735.0</td>\n",
       "      <td>0.8019</td>\n",
       "      <td>...</td>\n",
       "      <td>2.27</td>\n",
       "      <td>12.43</td>\n",
       "      <td>1.88</td>\n",
       "      <td>0.79</td>\n",
       "      <td>3.39</td>\n",
       "      <td>12.28</td>\n",
       "      <td>0.994906</td>\n",
       "      <td>0.994534</td>\n",
       "      <td>0.998582</td>\n",
       "      <td>0.996007</td>\n",
       "    </tr>\n",
       "    <tr>\n",
       "      <th>1</th>\n",
       "      <td>1</td>\n",
       "      <td>SJU</td>\n",
       "      <td>ASO</td>\n",
       "      <td>315.0</td>\n",
       "      <td>282.0</td>\n",
       "      <td>64.0</td>\n",
       "      <td>36.0</td>\n",
       "      <td>57736.0</td>\n",
       "      <td>54870.0</td>\n",
       "      <td>0.7789</td>\n",
       "      <td>...</td>\n",
       "      <td>3.03</td>\n",
       "      <td>14.43</td>\n",
       "      <td>1.63</td>\n",
       "      <td>1.36</td>\n",
       "      <td>4.04</td>\n",
       "      <td>14.65</td>\n",
       "      <td>0.994861</td>\n",
       "      <td>0.994544</td>\n",
       "      <td>0.998224</td>\n",
       "      <td>0.995876</td>\n",
       "    </tr>\n",
       "    <tr>\n",
       "      <th>2</th>\n",
       "      <td>2</td>\n",
       "      <td>SJU</td>\n",
       "      <td>ASO</td>\n",
       "      <td>257.0</td>\n",
       "      <td>233.0</td>\n",
       "      <td>63.0</td>\n",
       "      <td>44.0</td>\n",
       "      <td>55707.0</td>\n",
       "      <td>52948.0</td>\n",
       "      <td>0.8054</td>\n",
       "      <td>...</td>\n",
       "      <td>4.28</td>\n",
       "      <td>14.34</td>\n",
       "      <td>1.73</td>\n",
       "      <td>1.29</td>\n",
       "      <td>4.19</td>\n",
       "      <td>14.17</td>\n",
       "      <td>0.995599</td>\n",
       "      <td>0.995387</td>\n",
       "      <td>0.998030</td>\n",
       "      <td>0.996339</td>\n",
       "    </tr>\n",
       "    <tr>\n",
       "      <th>3</th>\n",
       "      <td>3</td>\n",
       "      <td>SJU</td>\n",
       "      <td>ASO</td>\n",
       "      <td>307.0</td>\n",
       "      <td>278.0</td>\n",
       "      <td>70.0</td>\n",
       "      <td>42.0</td>\n",
       "      <td>47987.0</td>\n",
       "      <td>47246.0</td>\n",
       "      <td>0.8014</td>\n",
       "      <td>...</td>\n",
       "      <td>3.16</td>\n",
       "      <td>14.97</td>\n",
       "      <td>1.55</td>\n",
       "      <td>1.71</td>\n",
       "      <td>4.09</td>\n",
       "      <td>16.31</td>\n",
       "      <td>0.994116</td>\n",
       "      <td>0.993602</td>\n",
       "      <td>0.997648</td>\n",
       "      <td>0.995122</td>\n",
       "    </tr>\n",
       "    <tr>\n",
       "      <th>4</th>\n",
       "      <td>4</td>\n",
       "      <td>SJU</td>\n",
       "      <td>ASO</td>\n",
       "      <td>238.0</td>\n",
       "      <td>197.0</td>\n",
       "      <td>78.0</td>\n",
       "      <td>29.0</td>\n",
       "      <td>44493.0</td>\n",
       "      <td>43448.0</td>\n",
       "      <td>0.8004</td>\n",
       "      <td>...</td>\n",
       "      <td>1.85</td>\n",
       "      <td>13.59</td>\n",
       "      <td>1.64</td>\n",
       "      <td>1.25</td>\n",
       "      <td>3.75</td>\n",
       "      <td>15.18</td>\n",
       "      <td>0.995466</td>\n",
       "      <td>0.994651</td>\n",
       "      <td>0.997567</td>\n",
       "      <td>0.995894</td>\n",
       "    </tr>\n",
       "  </tbody>\n",
       "</table>\n",
       "<p>5 rows × 24 columns</p>\n",
       "</div>"
      ],
      "text/plain": [
       "   Unnamed: 0 Airport FAA REGION  Departure Cancellations  \\\n",
       "0           0     SJU        ASO                    330.0   \n",
       "1           1     SJU        ASO                    315.0   \n",
       "2           2     SJU        ASO                    257.0   \n",
       "3           3     SJU        ASO                    307.0   \n",
       "4           4     SJU        ASO                    238.0   \n",
       "\n",
       "   Arrival Cancellations  Departure Diversions  Arrival Diversions  \\\n",
       "0                  289.0                  55.0                28.0   \n",
       "1                  282.0                  64.0                36.0   \n",
       "2                  233.0                  63.0                44.0   \n",
       "3                  278.0                  70.0                42.0   \n",
       "4                  197.0                  78.0                29.0   \n",
       "\n",
       "   departures for metric computation  arrivals for metric computation  \\\n",
       "0                            60371.0                          56735.0   \n",
       "1                            57736.0                          54870.0   \n",
       "2                            55707.0                          52948.0   \n",
       "3                            47987.0                          47246.0   \n",
       "4                            44493.0                          43448.0   \n",
       "\n",
       "   percent on-time gate departures              ...                \\\n",
       "0                           0.8019              ...                 \n",
       "1                           0.7789              ...                 \n",
       "2                           0.8054              ...                 \n",
       "3                           0.8014              ...                 \n",
       "4                           0.8004              ...                 \n",
       "\n",
       "   average taxi out delay  average airport departure delay  \\\n",
       "0                    2.27                            12.43   \n",
       "1                    3.03                            14.43   \n",
       "2                    4.28                            14.34   \n",
       "3                    3.16                            14.97   \n",
       "4                    1.85                            13.59   \n",
       "\n",
       "   average airborne delay  average taxi in delay  average block delay  \\\n",
       "0                    1.88                   0.79                 3.39   \n",
       "1                    1.63                   1.36                 4.04   \n",
       "2                    1.73                   1.29                 4.19   \n",
       "3                    1.55                   1.71                 4.09   \n",
       "4                    1.64                   1.25                 3.75   \n",
       "\n",
       "   average gate arrival delay  Arrival Percentage  Departure Percentage  \\\n",
       "0                       12.28            0.994906              0.994534   \n",
       "1                       14.65            0.994861              0.994544   \n",
       "2                       14.17            0.995599              0.995387   \n",
       "3                       16.31            0.994116              0.993602   \n",
       "4                       15.18            0.995466              0.994651   \n",
       "\n",
       "   No Diversion Percentage  Overall Chance of No Problems  \n",
       "0                 0.998582                       0.996007  \n",
       "1                 0.998224                       0.995876  \n",
       "2                 0.998030                       0.996339  \n",
       "3                 0.997648                       0.995122  \n",
       "4                 0.997567                       0.995894  \n",
       "\n",
       "[5 rows x 24 columns]"
      ]
     },
     "execution_count": 2,
     "metadata": {},
     "output_type": "execute_result"
    }
   ],
   "source": [
    "df.head()"
   ]
  },
  {
   "cell_type": "code",
   "execution_count": 6,
   "metadata": {
    "collapsed": true
   },
   "outputs": [],
   "source": [
    "# turn airport into numeric ids with LabelEncoder\n",
    "from sklearn.preprocessing import LabelEncoder"
   ]
  },
  {
   "cell_type": "code",
   "execution_count": 7,
   "metadata": {
    "collapsed": false
   },
   "outputs": [],
   "source": [
    "# turn airport into numeric ids with LabelEncoder\n",
    "le = LabelEncoder()\n",
    "tmp = le.fit_transform(df['Airport'])\n",
    "df['Airport'] = tmp"
   ]
  },
  {
   "cell_type": "raw",
   "metadata": {},
   "source": [
    "Pearson's correlation coefficient is a measure of how well your data would be fitted by a linear regression. If you only provide it with two points, then there is a line passing exactly through both points, hence your data perfectly fits a line, hence the correlation coefficient is exactly 1. "
   ]
  },
  {
   "cell_type": "code",
   "execution_count": 9,
   "metadata": {
    "collapsed": false,
    "scrolled": true
   },
   "outputs": [
    {
     "data": {
      "text/plain": [
       "(0.1763229534750885, 4.7922767411128119e-07)"
      ]
     },
     "execution_count": 9,
     "metadata": {},
     "output_type": "execute_result"
    }
   ],
   "source": [
    "import scipy\n",
    "from scipy.stats import pearsonr\n",
    "\n",
    "x = df['Airport']\n",
    "y = df['Overall Chance of No Problems']\n",
    "\n",
    "pearsonr(x, y)"
   ]
  },
  {
   "cell_type": "code",
   "execution_count": 11,
   "metadata": {
    "collapsed": false
   },
   "outputs": [
    {
     "data": {
      "text/plain": [
       "(-0.16965876778434211, 1.289885450297902e-06)"
      ]
     },
     "execution_count": 11,
     "metadata": {},
     "output_type": "execute_result"
    }
   ],
   "source": [
    "\n",
    "pearsonr(df['Airport'],df['average airborne delay'])"
   ]
  },
  {
   "cell_type": "code",
   "execution_count": null,
   "metadata": {
    "collapsed": true
   },
   "outputs": [],
   "source": []
  }
 ],
 "metadata": {
  "kernelspec": {
   "display_name": "Python 2",
   "language": "python",
   "name": "python2"
  },
  "language_info": {
   "codemirror_mode": {
    "name": "ipython",
    "version": 2
   },
   "file_extension": ".py",
   "mimetype": "text/x-python",
   "name": "python",
   "nbconvert_exporter": "python",
   "pygments_lexer": "ipython2",
   "version": "2.7.11"
  }
 },
 "nbformat": 4,
 "nbformat_minor": 0
}
