{
 "cells": [
  {
   "cell_type": "code",
   "execution_count": 34,
   "metadata": {
    "collapsed": true
   },
   "outputs": [],
   "source": [
    "import pandas as pd\n",
    "\n",
    "%matplotlib inline\n",
    "\n",
    "import pandas as pd \n",
    "import matplotlib as plt\n",
    "import numpy as np\n",
    "import sklearn as sk \n",
    "from scipy.stats import pearsonr, normaltest\n",
    "from sklearn import preprocessing\n",
    "from sklearn.decomposition import PCA\n",
    "from sklearn import metrics\n",
    "import warnings\n",
    "warnings.simplefilter(action = \"ignore\", category = FutureWarning) \n",
    "import os\n",
    "# turn airport into numeric ids with LabelEncoder\n",
    "from sklearn.preprocessing import LabelEncoder\n",
    "%matplotlib inline \n",
    "\n",
    "import pandas as pd\n",
    "import numpy as np\n",
    "from sklearn import cluster, metrics\n",
    "from sklearn.ensemble import ExtraTreesClassifier\n",
    "from sklearn.neighbors import KNeighborsClassifier\n",
    "\n",
    "from scipy.cluster.hierarchy import dendrogram, linkage, cophenet, fcluster\n",
    "from scipy.spatial.distance import pdist\n",
    "\n",
    "from sklearn.preprocessing import StandardScaler\n",
    "from sklearn.decomposition import PCA \n",
    "\n",
    "from sklearn import linear_model, decomposition, datasets\n",
    "from sklearn.pipeline import Pipeline\n",
    "from sklearn.grid_search import GridSearchCV\n",
    "\n",
    "\n",
    "import matplotlib.pyplot as plt\n",
    "import matplotlib\n",
    "import seaborn as sns\n",
    "matplotlib.style.use('ggplot') \n",
    "import pandas as pd"
   ]
  },
  {
   "cell_type": "code",
   "execution_count": 2,
   "metadata": {
    "collapsed": true
   },
   "outputs": [],
   "source": [
    "df = pd.read_csv('/Users/Paul/Desktop/General_Assembly/DSI_SM_01/projects/01-projects-weekly/project-07/starter-code/MASTER_Project7_withNoProbelmPerecent.csv')"
   ]
  },
  {
   "cell_type": "code",
   "execution_count": 24,
   "metadata": {
    "collapsed": false
   },
   "outputs": [],
   "source": [
    "df = df.ix[:,1:]"
   ]
  },
  {
   "cell_type": "code",
   "execution_count": 25,
   "metadata": {
    "collapsed": true
   },
   "outputs": [],
   "source": [
    "df =df[[0,2,3,4,5,6,7,8,9,10,11,12,13,14,15,16,17,18,19,20,21,22]]"
   ]
  },
  {
   "cell_type": "code",
   "execution_count": 26,
   "metadata": {
    "collapsed": false
   },
   "outputs": [
    {
     "data": {
      "text/html": [
       "<div>\n",
       "<table border=\"1\" class=\"dataframe\">\n",
       "  <thead>\n",
       "    <tr style=\"text-align: right;\">\n",
       "      <th></th>\n",
       "      <th>Airport</th>\n",
       "      <th>Departure Cancellations</th>\n",
       "      <th>Arrival Cancellations</th>\n",
       "      <th>Departure Diversions</th>\n",
       "      <th>Arrival Diversions</th>\n",
       "      <th>departures for metric computation</th>\n",
       "      <th>arrivals for metric computation</th>\n",
       "      <th>percent on-time gate departures</th>\n",
       "      <th>percent on-time airport departures</th>\n",
       "      <th>percent on-time gate arrivals</th>\n",
       "      <th>...</th>\n",
       "      <th>average taxi out delay</th>\n",
       "      <th>average airport departure delay</th>\n",
       "      <th>average airborne delay</th>\n",
       "      <th>average taxi in delay</th>\n",
       "      <th>average block delay</th>\n",
       "      <th>average gate arrival delay</th>\n",
       "      <th>Arrival Percentage</th>\n",
       "      <th>Departure Percentage</th>\n",
       "      <th>No Diversion Percentage</th>\n",
       "      <th>Overall Chance of No Problems</th>\n",
       "    </tr>\n",
       "  </thead>\n",
       "  <tbody>\n",
       "    <tr>\n",
       "      <th>0</th>\n",
       "      <td>SJU</td>\n",
       "      <td>330.0</td>\n",
       "      <td>289.0</td>\n",
       "      <td>55.0</td>\n",
       "      <td>28.0</td>\n",
       "      <td>60371.0</td>\n",
       "      <td>56735.0</td>\n",
       "      <td>0.8019</td>\n",
       "      <td>0.7794</td>\n",
       "      <td>0.7984</td>\n",
       "      <td>...</td>\n",
       "      <td>2.27</td>\n",
       "      <td>12.43</td>\n",
       "      <td>1.88</td>\n",
       "      <td>0.79</td>\n",
       "      <td>3.39</td>\n",
       "      <td>12.28</td>\n",
       "      <td>0.994906</td>\n",
       "      <td>0.994534</td>\n",
       "      <td>0.998582</td>\n",
       "      <td>0.996007</td>\n",
       "    </tr>\n",
       "    <tr>\n",
       "      <th>1</th>\n",
       "      <td>SJU</td>\n",
       "      <td>315.0</td>\n",
       "      <td>282.0</td>\n",
       "      <td>64.0</td>\n",
       "      <td>36.0</td>\n",
       "      <td>57736.0</td>\n",
       "      <td>54870.0</td>\n",
       "      <td>0.7789</td>\n",
       "      <td>0.7464</td>\n",
       "      <td>0.7604</td>\n",
       "      <td>...</td>\n",
       "      <td>3.03</td>\n",
       "      <td>14.43</td>\n",
       "      <td>1.63</td>\n",
       "      <td>1.36</td>\n",
       "      <td>4.04</td>\n",
       "      <td>14.65</td>\n",
       "      <td>0.994861</td>\n",
       "      <td>0.994544</td>\n",
       "      <td>0.998224</td>\n",
       "      <td>0.995876</td>\n",
       "    </tr>\n",
       "    <tr>\n",
       "      <th>2</th>\n",
       "      <td>SJU</td>\n",
       "      <td>257.0</td>\n",
       "      <td>233.0</td>\n",
       "      <td>63.0</td>\n",
       "      <td>44.0</td>\n",
       "      <td>55707.0</td>\n",
       "      <td>52948.0</td>\n",
       "      <td>0.8054</td>\n",
       "      <td>0.7446</td>\n",
       "      <td>0.7611</td>\n",
       "      <td>...</td>\n",
       "      <td>4.28</td>\n",
       "      <td>14.34</td>\n",
       "      <td>1.73</td>\n",
       "      <td>1.29</td>\n",
       "      <td>4.19</td>\n",
       "      <td>14.17</td>\n",
       "      <td>0.995599</td>\n",
       "      <td>0.995387</td>\n",
       "      <td>0.998030</td>\n",
       "      <td>0.996339</td>\n",
       "    </tr>\n",
       "    <tr>\n",
       "      <th>3</th>\n",
       "      <td>SJU</td>\n",
       "      <td>307.0</td>\n",
       "      <td>278.0</td>\n",
       "      <td>70.0</td>\n",
       "      <td>42.0</td>\n",
       "      <td>47987.0</td>\n",
       "      <td>47246.0</td>\n",
       "      <td>0.8014</td>\n",
       "      <td>0.7522</td>\n",
       "      <td>0.7414</td>\n",
       "      <td>...</td>\n",
       "      <td>3.16</td>\n",
       "      <td>14.97</td>\n",
       "      <td>1.55</td>\n",
       "      <td>1.71</td>\n",
       "      <td>4.09</td>\n",
       "      <td>16.31</td>\n",
       "      <td>0.994116</td>\n",
       "      <td>0.993602</td>\n",
       "      <td>0.997648</td>\n",
       "      <td>0.995122</td>\n",
       "    </tr>\n",
       "    <tr>\n",
       "      <th>4</th>\n",
       "      <td>SJU</td>\n",
       "      <td>238.0</td>\n",
       "      <td>197.0</td>\n",
       "      <td>78.0</td>\n",
       "      <td>29.0</td>\n",
       "      <td>44493.0</td>\n",
       "      <td>43448.0</td>\n",
       "      <td>0.8004</td>\n",
       "      <td>0.7810</td>\n",
       "      <td>0.7533</td>\n",
       "      <td>...</td>\n",
       "      <td>1.85</td>\n",
       "      <td>13.59</td>\n",
       "      <td>1.64</td>\n",
       "      <td>1.25</td>\n",
       "      <td>3.75</td>\n",
       "      <td>15.18</td>\n",
       "      <td>0.995466</td>\n",
       "      <td>0.994651</td>\n",
       "      <td>0.997567</td>\n",
       "      <td>0.995894</td>\n",
       "    </tr>\n",
       "  </tbody>\n",
       "</table>\n",
       "<p>5 rows × 22 columns</p>\n",
       "</div>"
      ],
      "text/plain": [
       "  Airport  Departure Cancellations  Arrival Cancellations  \\\n",
       "0     SJU                    330.0                  289.0   \n",
       "1     SJU                    315.0                  282.0   \n",
       "2     SJU                    257.0                  233.0   \n",
       "3     SJU                    307.0                  278.0   \n",
       "4     SJU                    238.0                  197.0   \n",
       "\n",
       "   Departure Diversions  Arrival Diversions  \\\n",
       "0                  55.0                28.0   \n",
       "1                  64.0                36.0   \n",
       "2                  63.0                44.0   \n",
       "3                  70.0                42.0   \n",
       "4                  78.0                29.0   \n",
       "\n",
       "   departures for metric computation  arrivals for metric computation  \\\n",
       "0                            60371.0                          56735.0   \n",
       "1                            57736.0                          54870.0   \n",
       "2                            55707.0                          52948.0   \n",
       "3                            47987.0                          47246.0   \n",
       "4                            44493.0                          43448.0   \n",
       "\n",
       "   percent on-time gate departures  percent on-time airport departures  \\\n",
       "0                           0.8019                              0.7794   \n",
       "1                           0.7789                              0.7464   \n",
       "2                           0.8054                              0.7446   \n",
       "3                           0.8014                              0.7522   \n",
       "4                           0.8004                              0.7810   \n",
       "\n",
       "   percent on-time gate arrivals              ...                \\\n",
       "0                         0.7984              ...                 \n",
       "1                         0.7604              ...                 \n",
       "2                         0.7611              ...                 \n",
       "3                         0.7414              ...                 \n",
       "4                         0.7533              ...                 \n",
       "\n",
       "   average taxi out delay  average airport departure delay  \\\n",
       "0                    2.27                            12.43   \n",
       "1                    3.03                            14.43   \n",
       "2                    4.28                            14.34   \n",
       "3                    3.16                            14.97   \n",
       "4                    1.85                            13.59   \n",
       "\n",
       "   average airborne delay  average taxi in delay  average block delay  \\\n",
       "0                    1.88                   0.79                 3.39   \n",
       "1                    1.63                   1.36                 4.04   \n",
       "2                    1.73                   1.29                 4.19   \n",
       "3                    1.55                   1.71                 4.09   \n",
       "4                    1.64                   1.25                 3.75   \n",
       "\n",
       "   average gate arrival delay  Arrival Percentage  Departure Percentage  \\\n",
       "0                       12.28            0.994906              0.994534   \n",
       "1                       14.65            0.994861              0.994544   \n",
       "2                       14.17            0.995599              0.995387   \n",
       "3                       16.31            0.994116              0.993602   \n",
       "4                       15.18            0.995466              0.994651   \n",
       "\n",
       "   No Diversion Percentage  Overall Chance of No Problems  \n",
       "0                 0.998582                       0.996007  \n",
       "1                 0.998224                       0.995876  \n",
       "2                 0.998030                       0.996339  \n",
       "3                 0.997648                       0.995122  \n",
       "4                 0.997567                       0.995894  \n",
       "\n",
       "[5 rows x 22 columns]"
      ]
     },
     "execution_count": 26,
     "metadata": {},
     "output_type": "execute_result"
    }
   ],
   "source": [
    "df.head() "
   ]
  },
  {
   "cell_type": "code",
   "execution_count": 29,
   "metadata": {
    "collapsed": false
   },
   "outputs": [],
   "source": [
    "# turn airport into numeric ids with LabelEncoder\n",
    "le = LabelEncoder()\n",
    "tmp = le.fit_transform(df['Airport'])\n",
    "df['Airport'] = tmp"
   ]
  },
  {
   "cell_type": "code",
   "execution_count": 30,
   "metadata": {
    "collapsed": true
   },
   "outputs": [],
   "source": [
    "y = df.ix[:,0]\n",
    "x= df.ix[:,1:]"
   ]
  },
  {
   "cell_type": "code",
   "execution_count": 32,
   "metadata": {
    "collapsed": false
   },
   "outputs": [
    {
     "data": {
      "text/plain": [
       "array([[ 330.        ,  289.        ,   55.        , ...,    0.9945338 ,\n",
       "           0.99858248,    0.99600747],\n",
       "       [ 315.        ,  282.        ,   64.        , ...,    0.99454413,\n",
       "           0.9982239 ,    0.9958762 ],\n",
       "       [ 257.        ,  233.        ,   63.        , ...,    0.99538658,\n",
       "           0.99803046,    0.99633883],\n",
       "       ..., \n",
       "       [ 216.        ,  284.        ,   78.        , ...,    0.99692842,\n",
       "           0.99833303,    0.99699592],\n",
       "       [ 141.        ,  184.        ,   65.        , ...,    0.99798525,\n",
       "           0.99844965,    0.9978748 ],\n",
       "       [ 111.        ,  162.        ,   74.        , ...,    0.9984388 ,\n",
       "           0.99851963,    0.99817659]])"
      ]
     },
     "execution_count": 32,
     "metadata": {},
     "output_type": "execute_result"
    }
   ],
   "source": [
    "X = x.as_matrix(columns=None)\n",
    "X"
   ]
  },
  {
   "cell_type": "code",
   "execution_count": 35,
   "metadata": {
    "collapsed": false
   },
   "outputs": [],
   "source": [
    "k = range(1,20)\n",
    "\n",
    "kmeansList= []\n",
    "for i in k:\n",
    "    kmeans = cluster.KMeans(n_clusters= i)\n",
    "    kmeans.fit(X)\n",
    "    labels = kmeans.labels_\n",
    "    kmeansList.append(metrics.accuracy_score(y, labels))"
   ]
  },
  {
   "cell_type": "code",
   "execution_count": 36,
   "metadata": {
    "collapsed": false
   },
   "outputs": [
    {
     "data": {
      "text/plain": [
       "(array([ 3.,  4.,  1.,  6.,  0.,  2.,  0.,  1.,  0.,  2.]),\n",
       " array([ 0.00372671,  0.00695652,  0.01018634,  0.01341615,  0.01664596,\n",
       "         0.01987578,  0.02310559,  0.0263354 ,  0.02956522,  0.03279503,\n",
       "         0.03602484]),\n",
       " <a list of 10 Patch objects>)"
      ]
     },
     "execution_count": 36,
     "metadata": {},
     "output_type": "execute_result"
    },
    {
     "data": {
      "image/png": "[encoded data removed]",
      "text/plain": [
       "<matplotlib.figure.Figure at 0x1165b3fd0>"
      ]
     },
     "metadata": {},
     "output_type": "display_data"
    }
   ],
   "source": [
    "plt.hist(kmeansList)"
   ]
  },
  {
   "cell_type": "code",
   "execution_count": 38,
   "metadata": {
    "collapsed": false
   },
   "outputs": [
    {
     "data": {
      "text/plain": [
       "0.55049706853152103"
      ]
     },
     "execution_count": 38,
     "metadata": {},
     "output_type": "execute_result"
    }
   ],
   "source": [
    "metrics.silhouette_score(X, labels, metric='euclidean')\n"
   ]
  },
  {
   "cell_type": "code",
   "execution_count": null,
   "metadata": {
    "collapsed": true
   },
   "outputs": [],
   "source": []
  },
  {
   "cell_type": "code",
   "execution_count": 39,
   "metadata": {
    "collapsed": false
   },
   "outputs": [
    {
     "data": {
      "text/plain": [
       "KNeighborsClassifier(algorithm='auto', leaf_size=30, metric='minkowski',\n",
       "           metric_params=None, n_jobs=1, n_neighbors=5, p=2,\n",
       "           weights='uniform')"
      ]
     },
     "execution_count": 39,
     "metadata": {},
     "output_type": "execute_result"
    }
   ],
   "source": [
    "\n",
    "knn = KNeighborsClassifier()\n",
    "knn.fit(X, labels)"
   ]
  },
  {
   "cell_type": "code",
   "execution_count": 40,
   "metadata": {
    "collapsed": true
   },
   "outputs": [],
   "source": [
    "exp = labels\n",
    "predicted = knn.predict(x)"
   ]
  },
  {
   "cell_type": "code",
   "execution_count": 41,
   "metadata": {
    "collapsed": false
   },
   "outputs": [
    {
     "name": "stdout",
     "output_type": "stream",
     "text": [
      "             precision    recall  f1-score   support\n",
      "\n",
      "          0       0.99      1.00      1.00       121\n",
      "          1       1.00      1.00      1.00        16\n",
      "          2       1.00      1.00      1.00        41\n",
      "          3       0.93      1.00      0.96        13\n",
      "          4       1.00      0.98      0.99        60\n",
      "          5       1.00      1.00      1.00        21\n",
      "          6       1.00      0.97      0.98        33\n",
      "          7       1.00      0.99      0.99        98\n",
      "          8       1.00      0.90      0.95        10\n",
      "          9       0.98      1.00      0.99        56\n",
      "         10       1.00      1.00      1.00        40\n",
      "         11       1.00      1.00      1.00        42\n",
      "         12       1.00      1.00      1.00        86\n",
      "         13       1.00      1.00      1.00        14\n",
      "         14       0.96      1.00      0.98        48\n",
      "         15       1.00      1.00      1.00         5\n",
      "         16       1.00      1.00      1.00        21\n",
      "         17       1.00      0.98      0.99        42\n",
      "         18       1.00      1.00      1.00        38\n",
      "\n",
      "avg / total       0.99      0.99      0.99       805\n",
      "\n",
      "[[121   0   0   0   0   0   0   0   0   0   0   0   0   0   0   0   0   0\n",
      "    0]\n",
      " [  0  16   0   0   0   0   0   0   0   0   0   0   0   0   0   0   0   0\n",
      "    0]\n",
      " [  0   0  41   0   0   0   0   0   0   0   0   0   0   0   0   0   0   0\n",
      "    0]\n",
      " [  0   0   0  13   0   0   0   0   0   0   0   0   0   0   0   0   0   0\n",
      "    0]\n",
      " [  0   0   0   0  59   0   0   0   0   0   0   0   0   0   1   0   0   0\n",
      "    0]\n",
      " [  0   0   0   0   0  21   0   0   0   0   0   0   0   0   0   0   0   0\n",
      "    0]\n",
      " [  0   0   0   0   0   0  32   0   0   0   0   0   0   0   1   0   0   0\n",
      "    0]\n",
      " [  1   0   0   0   0   0   0  97   0   0   0   0   0   0   0   0   0   0\n",
      "    0]\n",
      " [  0   0   0   1   0   0   0   0   9   0   0   0   0   0   0   0   0   0\n",
      "    0]\n",
      " [  0   0   0   0   0   0   0   0   0  56   0   0   0   0   0   0   0   0\n",
      "    0]\n",
      " [  0   0   0   0   0   0   0   0   0   0  40   0   0   0   0   0   0   0\n",
      "    0]\n",
      " [  0   0   0   0   0   0   0   0   0   0   0  42   0   0   0   0   0   0\n",
      "    0]\n",
      " [  0   0   0   0   0   0   0   0   0   0   0   0  86   0   0   0   0   0\n",
      "    0]\n",
      " [  0   0   0   0   0   0   0   0   0   0   0   0   0  14   0   0   0   0\n",
      "    0]\n",
      " [  0   0   0   0   0   0   0   0   0   0   0   0   0   0  48   0   0   0\n",
      "    0]\n",
      " [  0   0   0   0   0   0   0   0   0   0   0   0   0   0   0   5   0   0\n",
      "    0]\n",
      " [  0   0   0   0   0   0   0   0   0   0   0   0   0   0   0   0  21   0\n",
      "    0]\n",
      " [  0   0   0   0   0   0   0   0   0   1   0   0   0   0   0   0   0  41\n",
      "    0]\n",
      " [  0   0   0   0   0   0   0   0   0   0   0   0   0   0   0   0   0   0\n",
      "   38]]\n"
     ]
    }
   ],
   "source": [
    "print(metrics.classification_report(exp, predicted))\n",
    "print(metrics.confusion_matrix(exp, predicted))"
   ]
  },
  {
   "cell_type": "code",
   "execution_count": null,
   "metadata": {
    "collapsed": true
   },
   "outputs": [],
   "source": []
  },
  {
   "cell_type": "code",
   "execution_count": null,
   "metadata": {
    "collapsed": true
   },
   "outputs": [],
   "source": []
  },
  {
   "cell_type": "code",
   "execution_count": 42,
   "metadata": {
    "collapsed": true
   },
   "outputs": [],
   "source": [
    "Z = linkage(X, 'ward')\n"
   ]
  },
  {
   "cell_type": "code",
   "execution_count": 43,
   "metadata": {
    "collapsed": false
   },
   "outputs": [
    {
     "data": {
      "text/plain": [
       "0.69762372691011876"
      ]
     },
     "execution_count": 43,
     "metadata": {},
     "output_type": "execute_result"
    }
   ],
   "source": [
    "c, coph_dists = cophenet(Z, pdist(X))\n",
    "c"
   ]
  },
  {
   "cell_type": "code",
   "execution_count": 44,
   "metadata": {
    "collapsed": false
   },
   "outputs": [
    {
     "data": {
      "image/png": "[encoded data removed]",
      "text/plain": [
       "<matplotlib.figure.Figure at 0x11781f250>"
      ]
     },
     "metadata": {},
     "output_type": "display_data"
    }
   ],
   "source": [
    "plt.figure(figsize=(30, 10))\n",
    "plt.title('Dendrogram')\n",
    "plt.xlabel('Index Numbers')\n",
    "plt.ylabel('Distance')\n",
    "dendrogram(\n",
    "    Z,\n",
    "    leaf_rotation=90.,  \n",
    "    leaf_font_size=8.,\n",
    ")\n",
    "plt.show()\n"
   ]
  },
  {
   "cell_type": "code",
   "execution_count": 45,
   "metadata": {
    "collapsed": false
   },
   "outputs": [
    {
     "data": {
      "image/png": "[encoded data removed]",
      "text/plain": [
       "<matplotlib.figure.Figure at 0x11781f990>"
      ]
     },
     "metadata": {},
     "output_type": "display_data"
    }
   ],
   "source": [
    "\n",
    "plt.title('Truncated Dendrogram')\n",
    "plt.xlabel('Index Numbers')\n",
    "plt.ylabel('Distance')\n",
    "dendrogram(\n",
    "    Z,\n",
    "    truncate_mode='lastp',  \n",
    "    p=15,  \n",
    "    show_leaf_counts=False,  \n",
    "    leaf_rotation=90.,\n",
    "    leaf_font_size=12.,\n",
    "    show_contracted=True,  \n",
    ")\n",
    "plt.show()"
   ]
  },
  {
   "cell_type": "code",
   "execution_count": 46,
   "metadata": {
    "collapsed": false
   },
   "outputs": [
    {
     "data": {
      "text/plain": [
       "array([370, 268, 269, 251,  31, 253, 239,  48,  32,  49,  39, 129,  83,\n",
       "        71,  78, 114, 108, 204, 205, 113, 117,  68, 463, 453, 487, 503,\n",
       "       454, 467, 420, 421, 474, 472, 471, 568, 569, 578, 579, 540, 541,\n",
       "       570, 589, 587, 604, 603, 501, 527, 506, 518, 513, 485, 480, 481,\n",
       "       496, 482, 498, 140,  28,  10,   1,  11,  84,  79,  80,  63,  54,\n",
       "        58,  29,  33,  30, 240,  40,  52,  76,  77,  53,  50,  73, 440,\n",
       "       509, 497, 493, 441, 419, 412, 413, 407, 408, 404, 585, 615, 599,\n",
       "       717, 592, 544, 546, 548, 545, 564, 562, 284, 286, 255, 356, 366,\n",
       "       279, 275, 276, 287, 288, 297, 400, 384, 385, 402, 381, 360, 367,\n",
       "       351, 374, 394, 334, 634, 748, 760, 761, 752, 621, 617, 623, 635,\n",
       "       648, 637, 386, 254,  25, 244, 227, 238, 241, 229, 248, 278, 301,\n",
       "       173, 264, 257, 378, 353, 289, 294, 262, 265, 363, 355, 135, 246,\n",
       "       236, 230,  34,   8,  69,   9,  66,  61,  57, 128, 118, 124,  89,\n",
       "       103, 216, 221, 222, 213, 197, 198, 451, 486, 490, 499, 484, 464,\n",
       "       475, 432, 430, 428, 469, 361, 295, 349, 401, 382, 260, 296, 261,\n",
       "       266, 258, 357, 783, 765, 766, 764, 782, 777, 779, 781, 780, 762,\n",
       "       763, 650, 632, 636, 651, 638, 664, 672, 680, 668, 720, 721, 141,\n",
       "        82,  95,  85,  59, 122, 123, 206, 202, 214, 210, 792, 797, 794,\n",
       "       799, 795, 796, 803, 800, 801, 802, 788, 174, 267, 256, 368, 270,\n",
       "       225, 237, 233, 235, 245, 243, 157, 189, 190, 183, 176, 180, 181,\n",
       "       182, 191, 168, 171, 186, 187, 184, 177, 192, 169, 170, 172, 185,\n",
       "       166, 193, 772, 770, 771, 778, 756, 619, 749, 753, 754, 758, 767,\n",
       "       291, 292, 285, 358, 274,   5,  72,  51,  99,  90,  93,  74,   2,\n",
       "        42,  35,   6,  60,  64,  94,  91, 111, 119, 146, 148, 152, 150,\n",
       "       151, 153, 147, 290, 272, 228, 302, 231,  44,  46,  47,  19,  55,\n",
       "       100, 716, 711, 714, 605, 601, 575, 580, 565, 520, 442, 468, 685,\n",
       "       646, 654, 649, 630, 652, 631, 624, 622, 620, 618, 466, 457, 477,\n",
       "       458, 422, 308, 319, 325, 336, 392, 393, 732, 688, 676, 643, 669,\n",
       "       702, 709, 700, 703, 704, 701, 415, 417, 409, 410, 312, 329, 331,\n",
       "       332, 330, 326, 320, 316, 310, 309, 306, 395, 369, 280, 271, 223,\n",
       "       281, 263, 597, 598, 609, 707, 698, 705, 695, 735, 718, 719, 659,\n",
       "       449, 450, 437, 443, 429, 337, 398, 375, 371, 354, 379, 323, 315,\n",
       "       311, 318, 333, 388, 396, 397, 376, 377, 372, 298, 299, 300, 399,\n",
       "       345, 277, 273, 224, 232, 242, 249, 533, 555, 537, 521, 519, 439,\n",
       "       431, 478, 470, 476, 424, 549, 557, 561, 553, 554, 551, 552, 558,\n",
       "       566, 542, 559, 683, 655, 712, 713, 600, 571, 572, 581, 543, 567,\n",
       "       550, 629, 653, 610, 593, 560, 500, 423, 314, 389, 383, 347, 530,\n",
       "       532, 531, 534, 522, 529, 524, 539, 523, 516, 508, 405, 406, 414,\n",
       "       459, 418, 324, 327, 335, 373, 380, 348, 426, 455, 473, 433, 416,\n",
       "       307, 321, 328, 338, 391, 390, 750, 751, 757, 773, 774, 768, 775,\n",
       "       776, 769, 759, 755, 644, 626, 647, 656, 658, 641, 684, 682, 686,\n",
       "       674, 722,  37,  16, 112, 120, 115, 219, 218, 211, 208, 199, 195,\n",
       "       584, 517, 483, 460, 322, 346, 352, 387, 364, 359, 365, 586, 595,\n",
       "       706, 691, 662, 723, 739, 733, 730, 731, 670, 689, 690, 678, 661,\n",
       "       660, 729, 737, 738, 727, 728, 745, 726, 724, 725, 740, 746, 708,\n",
       "       694, 692, 696, 697, 693, 590, 741, 747, 715, 594, 582, 547, 563,\n",
       "       535, 538, 536, 158, 178, 188, 167, 175, 138, 142, 144, 131, 130,\n",
       "       127,  67, 102,  87,  86,  88, 207, 104, 109,  92, 110, 105, 143,\n",
       "         3,   7,  38,  23,  81,  12,  70,  56,  96,  97, 525, 526, 514,\n",
       "       504, 512, 446, 465, 479, 434, 436, 350, 149, 132, 156, 145, 125,\n",
       "       159, 163, 154, 155, 161, 162, 136,  45,  22,  15,  62, 106, 121,\n",
       "       116, 215, 212, 200, 556, 511, 515, 528, 502, 438, 452, 489, 488,\n",
       "       491, 492, 282, 362, 293, 283, 252,  24,  26,  43,  20,  13,  21,\n",
       "       798, 793, 804, 805, 785, 784, 790, 787, 789, 791, 786, 133, 134,\n",
       "       126, 160, 164, 165, 627, 628, 657, 640, 639, 687, 642, 677, 665,\n",
       "       671, 736, 743, 744, 742, 699, 607, 591, 596, 608, 588, 602, 606,\n",
       "       139,  75, 101,  98, 107, 203, 220, 217, 201, 196, 179, 137, 247,\n",
       "       234,  36,  41,   4,  27,  17,  18,  14,  65, 209, 444, 427, 425,\n",
       "       411, 313, 435, 317, 259, 226, 250, 625, 633, 645, 679, 681, 666,\n",
       "       663, 667, 675, 673, 734, 495, 507, 510, 505, 494, 447, 448, 456,\n",
       "       461, 462, 445, 710, 611, 613, 612, 614, 577, 573, 574, 583, 576,\n",
       "       616, 194, 342, 305, 303, 304, 403, 344, 343, 339, 341, 340], dtype=int32)"
      ]
     },
     "execution_count": 46,
     "metadata": {},
     "output_type": "execute_result"
    }
   ],
   "source": [
    "max_d = 30\n",
    "clusters = fcluster(Z, max_d, criterion='distance')\n",
    "clusters"
   ]
  },
  {
   "cell_type": "code",
   "execution_count": 47,
   "metadata": {
    "collapsed": false
   },
   "outputs": [
    {
     "data": {
      "image/png": "[encoded data removed]",
      "text/plain": [
       "<matplotlib.figure.Figure at 0x119c71810>"
      ]
     },
     "metadata": {},
     "output_type": "display_data"
    }
   ],
   "source": [
    "plt.scatter(X[:,0], X[:,2], c=clusters, cmap='prism')\n",
    "plt.show()"
   ]
  },
  {
   "cell_type": "code",
   "execution_count": null,
   "metadata": {
    "collapsed": true
   },
   "outputs": [],
   "source": []
  },
  {
   "cell_type": "code",
   "execution_count": null,
   "metadata": {
    "collapsed": true
   },
   "outputs": [],
   "source": []
  },
  {
   "cell_type": "code",
   "execution_count": 48,
   "metadata": {
    "collapsed": false
   },
   "outputs": [
    {
     "data": {
      "text/plain": [
       "ExtraTreesClassifier(bootstrap=False, class_weight=None, criterion='gini',\n",
       "           max_depth=None, max_features='auto', max_leaf_nodes=None,\n",
       "           min_samples_leaf=1, min_samples_split=2,\n",
       "           min_weight_fraction_leaf=0.0, n_estimators=10, n_jobs=1,\n",
       "           oob_score=False, random_state=None, verbose=0, warm_start=False)"
      ]
     },
     "execution_count": 48,
     "metadata": {},
     "output_type": "execute_result"
    }
   ],
   "source": [
    "trees2 = ExtraTreesClassifier()\n",
    "trees2.fit(X, clusters)"
   ]
  },
  {
   "cell_type": "code",
   "execution_count": 49,
   "metadata": {
    "collapsed": false
   },
   "outputs": [
    {
     "name": "stdout",
     "output_type": "stream",
     "text": [
      "[[  3.30000000e+02   2.89000000e+02   5.50000000e+01   2.80000000e+01\n",
      "    6.03710000e+04   5.67350000e+04   8.01900000e-01   7.79400000e-01\n",
      "    7.98400000e-01   1.11900000e+01   1.38400000e+01   2.27000000e+00\n",
      "    1.24300000e+01   1.88000000e+00   7.90000000e-01   3.39000000e+00\n",
      "    1.22800000e+01   9.94906143e-01   9.94533799e-01   9.98582481e-01\n",
      "    9.96007474e-01]\n",
      " [  3.15000000e+02   2.82000000e+02   6.40000000e+01   3.60000000e+01\n",
      "    5.77360000e+04   5.48700000e+04   7.78900000e-01   7.46400000e-01\n",
      "    7.60400000e-01   1.27400000e+01   1.41400000e+01   3.03000000e+00\n",
      "    1.44300000e+01   1.63000000e+00   1.36000000e+00   4.04000000e+00\n",
      "    1.46500000e+01   9.94860580e-01   9.94544132e-01   9.98223896e-01\n",
      "    9.95876202e-01]\n",
      " [  2.57000000e+02   2.33000000e+02   6.30000000e+01   4.40000000e+01\n",
      "    5.57070000e+04   5.29480000e+04   8.05400000e-01   7.44600000e-01\n",
      "    7.61100000e-01   1.16100000e+01   1.57500000e+01   4.28000000e+00\n",
      "    1.43400000e+01   1.73000000e+00   1.29000000e+00   4.19000000e+00\n",
      "    1.41700000e+01   9.95599456e-01   9.95386576e-01   9.98030463e-01\n",
      "    9.96338832e-01]\n",
      " [  3.07000000e+02   2.78000000e+02   7.00000000e+01   4.20000000e+01\n",
      "    4.79870000e+04   4.72460000e+04   8.01400000e-01   7.52200000e-01\n",
      "    7.41400000e-01   1.25300000e+01   1.52200000e+01   3.16000000e+00\n",
      "    1.49700000e+01   1.55000000e+00   1.71000000e+00   4.09000000e+00\n",
      "    1.63100000e+01   9.94115904e-01   9.93602434e-01   9.97647874e-01\n",
      "    9.95122071e-01]\n",
      " [  2.38000000e+02   1.97000000e+02   7.80000000e+01   2.90000000e+01\n",
      "    4.44930000e+04   4.34480000e+04   8.00400000e-01   7.81000000e-01\n",
      "    7.53300000e-01   1.25400000e+01   1.42200000e+01   1.85000000e+00\n",
      "    1.35900000e+01   1.64000000e+00   1.25000000e+00   3.75000000e+00\n",
      "    1.51800000e+01   9.95465844e-01   9.94650844e-01   9.97566550e-01\n",
      "    9.95894413e-01]]\n",
      "[ 0.04776119  0.04788557  0.04626866  0.04626866  0.04564677  0.0471393\n",
      "  0.04614428  0.04651741  0.04875622  0.04962687  0.04651741  0.05062189\n",
      "  0.05136816  0.04875622  0.04726368  0.04950249  0.04427861  0.0449005\n",
      "  0.04763682  0.05049751  0.04664179]\n"
     ]
    }
   ],
   "source": [
    "print(X[:5])\n",
    "\n",
    "print(trees2.feature_importances_)"
   ]
  },
  {
   "cell_type": "code",
   "execution_count": null,
   "metadata": {
    "collapsed": true
   },
   "outputs": [],
   "source": []
  },
  {
   "cell_type": "code",
   "execution_count": null,
   "metadata": {
    "collapsed": true
   },
   "outputs": [],
   "source": []
  },
  {
   "cell_type": "code",
   "execution_count": null,
   "metadata": {
    "collapsed": true
   },
   "outputs": [],
   "source": []
  },
  {
   "cell_type": "code",
   "execution_count": 50,
   "metadata": {
    "collapsed": false
   },
   "outputs": [
    {
     "data": {
      "text/plain": [
       "KNeighborsClassifier(algorithm='auto', leaf_size=30, metric='minkowski',\n",
       "           metric_params=None, n_jobs=1, n_neighbors=5, p=2,\n",
       "           weights='uniform')"
      ]
     },
     "execution_count": 50,
     "metadata": {},
     "output_type": "execute_result"
    }
   ],
   "source": [
    "knn2 = KNeighborsClassifier()\n",
    "knn2.fit(X, clusters)"
   ]
  },
  {
   "cell_type": "code",
   "execution_count": 51,
   "metadata": {
    "collapsed": false
   },
   "outputs": [
    {
     "name": "stdout",
     "output_type": "stream",
     "text": [
      "             precision    recall  f1-score   support\n",
      "\n",
      "          0       0.99      1.00      1.00       121\n",
      "          1       1.00      1.00      1.00        16\n",
      "          2       1.00      1.00      1.00        41\n",
      "          3       0.93      1.00      0.96        13\n",
      "          4       1.00      0.98      0.99        60\n",
      "          5       1.00      1.00      1.00        21\n",
      "          6       1.00      0.97      0.98        33\n",
      "          7       1.00      0.99      0.99        98\n",
      "          8       1.00      0.90      0.95        10\n",
      "          9       0.98      1.00      0.99        56\n",
      "         10       1.00      1.00      1.00        40\n",
      "         11       1.00      1.00      1.00        42\n",
      "         12       1.00      1.00      1.00        86\n",
      "         13       1.00      1.00      1.00        14\n",
      "         14       0.96      1.00      0.98        48\n",
      "         15       1.00      1.00      1.00         5\n",
      "         16       1.00      1.00      1.00        21\n",
      "         17       1.00      0.98      0.99        42\n",
      "         18       1.00      1.00      1.00        38\n",
      "\n",
      "avg / total       0.99      0.99      0.99       805\n",
      "\n",
      "[[121   0   0   0   0   0   0   0   0   0   0   0   0   0   0   0   0   0\n",
      "    0]\n",
      " [  0  16   0   0   0   0   0   0   0   0   0   0   0   0   0   0   0   0\n",
      "    0]\n",
      " [  0   0  41   0   0   0   0   0   0   0   0   0   0   0   0   0   0   0\n",
      "    0]\n",
      " [  0   0   0  13   0   0   0   0   0   0   0   0   0   0   0   0   0   0\n",
      "    0]\n",
      " [  0   0   0   0  59   0   0   0   0   0   0   0   0   0   1   0   0   0\n",
      "    0]\n",
      " [  0   0   0   0   0  21   0   0   0   0   0   0   0   0   0   0   0   0\n",
      "    0]\n",
      " [  0   0   0   0   0   0  32   0   0   0   0   0   0   0   1   0   0   0\n",
      "    0]\n",
      " [  1   0   0   0   0   0   0  97   0   0   0   0   0   0   0   0   0   0\n",
      "    0]\n",
      " [  0   0   0   1   0   0   0   0   9   0   0   0   0   0   0   0   0   0\n",
      "    0]\n",
      " [  0   0   0   0   0   0   0   0   0  56   0   0   0   0   0   0   0   0\n",
      "    0]\n",
      " [  0   0   0   0   0   0   0   0   0   0  40   0   0   0   0   0   0   0\n",
      "    0]\n",
      " [  0   0   0   0   0   0   0   0   0   0   0  42   0   0   0   0   0   0\n",
      "    0]\n",
      " [  0   0   0   0   0   0   0   0   0   0   0   0  86   0   0   0   0   0\n",
      "    0]\n",
      " [  0   0   0   0   0   0   0   0   0   0   0   0   0  14   0   0   0   0\n",
      "    0]\n",
      " [  0   0   0   0   0   0   0   0   0   0   0   0   0   0  48   0   0   0\n",
      "    0]\n",
      " [  0   0   0   0   0   0   0   0   0   0   0   0   0   0   0   5   0   0\n",
      "    0]\n",
      " [  0   0   0   0   0   0   0   0   0   0   0   0   0   0   0   0  21   0\n",
      "    0]\n",
      " [  0   0   0   0   0   0   0   0   0   1   0   0   0   0   0   0   0  41\n",
      "    0]\n",
      " [  0   0   0   0   0   0   0   0   0   0   0   0   0   0   0   0   0   0\n",
      "   38]]\n"
     ]
    }
   ],
   "source": [
    "print(metrics.classification_report(exp, predicted))\n",
    "print(metrics.confusion_matrix(exp, predicted))"
   ]
  },
  {
   "cell_type": "code",
   "execution_count": null,
   "metadata": {
    "collapsed": true
   },
   "outputs": [],
   "source": []
  },
  {
   "cell_type": "code",
   "execution_count": null,
   "metadata": {
    "collapsed": true
   },
   "outputs": [],
   "source": []
  },
  {
   "cell_type": "code",
   "execution_count": 52,
   "metadata": {
    "collapsed": true
   },
   "outputs": [],
   "source": [
    "\n",
    "PCA_ap = PCA(n_components=4)\n",
    "Y = PCA_ap.fit_transform(X)"
   ]
  },
  {
   "cell_type": "code",
   "execution_count": 55,
   "metadata": {
    "collapsed": false
   },
   "outputs": [
    {
     "data": {
      "text/plain": [
       "array([1, 2, 3])"
      ]
     },
     "execution_count": 55,
     "metadata": {},
     "output_type": "execute_result"
    }
   ],
   "source": [
    "# print PCA_ap.n_components\n",
    "# print PCA_set.explained_variance_\n",
    "x_vals = np.arange(1, PCA_ap.n_components)\n",
    "x_vals"
   ]
  },
  {
   "cell_type": "code",
   "execution_count": 56,
   "metadata": {
    "collapsed": false
   },
   "outputs": [
    {
     "data": {
      "text/html": [
       "<div>\n",
       "<table border=\"1\" class=\"dataframe\">\n",
       "  <thead>\n",
       "    <tr style=\"text-align: right;\">\n",
       "      <th></th>\n",
       "      <th>PC1</th>\n",
       "      <th>PC2</th>\n",
       "      <th>PC3</th>\n",
       "      <th>PC4</th>\n",
       "    </tr>\n",
       "  </thead>\n",
       "  <tbody>\n",
       "    <tr>\n",
       "      <th>234</th>\n",
       "      <td>532754.166497</td>\n",
       "      <td>-658.597413</td>\n",
       "      <td>-2162.571054</td>\n",
       "      <td>156.853929</td>\n",
       "    </tr>\n",
       "    <tr>\n",
       "      <th>689</th>\n",
       "      <td>526791.299544</td>\n",
       "      <td>6939.132124</td>\n",
       "      <td>-955.282603</td>\n",
       "      <td>-492.908381</td>\n",
       "    </tr>\n",
       "    <tr>\n",
       "      <th>232</th>\n",
       "      <td>523091.593869</td>\n",
       "      <td>8910.653595</td>\n",
       "      <td>-4545.380440</td>\n",
       "      <td>-120.211394</td>\n",
       "    </tr>\n",
       "    <tr>\n",
       "      <th>233</th>\n",
       "      <td>521040.325161</td>\n",
       "      <td>-860.091586</td>\n",
       "      <td>-1809.627838</td>\n",
       "      <td>-36.012916</td>\n",
       "    </tr>\n",
       "    <tr>\n",
       "      <th>235</th>\n",
       "      <td>520643.726854</td>\n",
       "      <td>-1718.395448</td>\n",
       "      <td>-1318.273489</td>\n",
       "      <td>266.313963</td>\n",
       "    </tr>\n",
       "    <tr>\n",
       "      <th>236</th>\n",
       "      <td>516609.825464</td>\n",
       "      <td>-2230.146139</td>\n",
       "      <td>-1026.661732</td>\n",
       "      <td>339.971994</td>\n",
       "    </tr>\n",
       "    <tr>\n",
       "      <th>231</th>\n",
       "      <td>512937.614884</td>\n",
       "      <td>973.312023</td>\n",
       "      <td>-1979.318704</td>\n",
       "      <td>-125.753006</td>\n",
       "    </tr>\n",
       "    <tr>\n",
       "      <th>690</th>\n",
       "      <td>510692.215994</td>\n",
       "      <td>2929.325897</td>\n",
       "      <td>1143.268675</td>\n",
       "      <td>-443.103809</td>\n",
       "    </tr>\n",
       "    <tr>\n",
       "      <th>237</th>\n",
       "      <td>502261.687306</td>\n",
       "      <td>2030.039953</td>\n",
       "      <td>-1986.208028</td>\n",
       "      <td>17.150805</td>\n",
       "    </tr>\n",
       "    <tr>\n",
       "      <th>691</th>\n",
       "      <td>500708.913143</td>\n",
       "      <td>9238.568217</td>\n",
       "      <td>-733.749908</td>\n",
       "      <td>-119.062138</td>\n",
       "    </tr>\n",
       "    <tr>\n",
       "      <th>239</th>\n",
       "      <td>486574.998382</td>\n",
       "      <td>-5762.058929</td>\n",
       "      <td>1834.966830</td>\n",
       "      <td>65.216332</td>\n",
       "    </tr>\n",
       "    <tr>\n",
       "      <th>692</th>\n",
       "      <td>484930.571834</td>\n",
       "      <td>14244.196966</td>\n",
       "      <td>-3278.952166</td>\n",
       "      <td>-469.359550</td>\n",
       "    </tr>\n",
       "    <tr>\n",
       "      <th>238</th>\n",
       "      <td>483296.279329</td>\n",
       "      <td>457.664497</td>\n",
       "      <td>220.481535</td>\n",
       "      <td>-15.396897</td>\n",
       "    </tr>\n",
       "    <tr>\n",
       "      <th>240</th>\n",
       "      <td>472598.966130</td>\n",
       "      <td>-4886.642455</td>\n",
       "      <td>702.393724</td>\n",
       "      <td>61.721350</td>\n",
       "    </tr>\n",
       "    <tr>\n",
       "      <th>693</th>\n",
       "      <td>451157.451279</td>\n",
       "      <td>12753.574160</td>\n",
       "      <td>-2661.864949</td>\n",
       "      <td>-222.153217</td>\n",
       "    </tr>\n",
       "    <tr>\n",
       "      <th>695</th>\n",
       "      <td>450003.603686</td>\n",
       "      <td>2610.185551</td>\n",
       "      <td>178.304125</td>\n",
       "      <td>-10.614732</td>\n",
       "    </tr>\n",
       "    <tr>\n",
       "      <th>699</th>\n",
       "      <td>449859.714721</td>\n",
       "      <td>10591.855274</td>\n",
       "      <td>-1701.766033</td>\n",
       "      <td>-329.816882</td>\n",
       "    </tr>\n",
       "    <tr>\n",
       "      <th>696</th>\n",
       "      <td>447752.304667</td>\n",
       "      <td>7934.029820</td>\n",
       "      <td>-1671.319915</td>\n",
       "      <td>-422.183808</td>\n",
       "    </tr>\n",
       "    <tr>\n",
       "      <th>241</th>\n",
       "      <td>446921.077605</td>\n",
       "      <td>31.116276</td>\n",
       "      <td>704.531537</td>\n",
       "      <td>-80.197594</td>\n",
       "    </tr>\n",
       "    <tr>\n",
       "      <th>697</th>\n",
       "      <td>445423.773383</td>\n",
       "      <td>607.916698</td>\n",
       "      <td>1294.875186</td>\n",
       "      <td>-139.099964</td>\n",
       "    </tr>\n",
       "    <tr>\n",
       "      <th>698</th>\n",
       "      <td>444766.479179</td>\n",
       "      <td>5417.489388</td>\n",
       "      <td>2099.282394</td>\n",
       "      <td>-242.621493</td>\n",
       "    </tr>\n",
       "    <tr>\n",
       "      <th>694</th>\n",
       "      <td>413476.221937</td>\n",
       "      <td>2041.165146</td>\n",
       "      <td>500.753224</td>\n",
       "      <td>-129.754752</td>\n",
       "    </tr>\n",
       "    <tr>\n",
       "      <th>198</th>\n",
       "      <td>399657.950436</td>\n",
       "      <td>-90.733201</td>\n",
       "      <td>-497.781073</td>\n",
       "      <td>414.444099</td>\n",
       "    </tr>\n",
       "    <tr>\n",
       "      <th>199</th>\n",
       "      <td>336031.376043</td>\n",
       "      <td>-992.455623</td>\n",
       "      <td>386.142426</td>\n",
       "      <td>304.359141</td>\n",
       "    </tr>\n",
       "    <tr>\n",
       "      <th>200</th>\n",
       "      <td>326070.253123</td>\n",
       "      <td>1035.452252</td>\n",
       "      <td>33.251421</td>\n",
       "      <td>438.720328</td>\n",
       "    </tr>\n",
       "    <tr>\n",
       "      <th>201</th>\n",
       "      <td>317159.818153</td>\n",
       "      <td>6472.721790</td>\n",
       "      <td>-1626.375669</td>\n",
       "      <td>1099.169486</td>\n",
       "    </tr>\n",
       "    <tr>\n",
       "      <th>208</th>\n",
       "      <td>313873.793679</td>\n",
       "      <td>3244.522604</td>\n",
       "      <td>-216.310518</td>\n",
       "      <td>480.868681</td>\n",
       "    </tr>\n",
       "    <tr>\n",
       "      <th>207</th>\n",
       "      <td>310820.966822</td>\n",
       "      <td>3283.052748</td>\n",
       "      <td>-1403.958526</td>\n",
       "      <td>492.306218</td>\n",
       "    </tr>\n",
       "    <tr>\n",
       "      <th>202</th>\n",
       "      <td>296308.025394</td>\n",
       "      <td>3986.456142</td>\n",
       "      <td>-781.746391</td>\n",
       "      <td>543.523612</td>\n",
       "    </tr>\n",
       "    <tr>\n",
       "      <th>204</th>\n",
       "      <td>294498.997548</td>\n",
       "      <td>176.147161</td>\n",
       "      <td>395.812675</td>\n",
       "      <td>698.099763</td>\n",
       "    </tr>\n",
       "    <tr>\n",
       "      <th>...</th>\n",
       "      <td>...</td>\n",
       "      <td>...</td>\n",
       "      <td>...</td>\n",
       "      <td>...</td>\n",
       "    </tr>\n",
       "    <tr>\n",
       "      <th>701</th>\n",
       "      <td>-146606.589205</td>\n",
       "      <td>482.082120</td>\n",
       "      <td>-97.513865</td>\n",
       "      <td>5.883612</td>\n",
       "    </tr>\n",
       "    <tr>\n",
       "      <th>646</th>\n",
       "      <td>-146956.692029</td>\n",
       "      <td>571.752698</td>\n",
       "      <td>-219.048370</td>\n",
       "      <td>1.073467</td>\n",
       "    </tr>\n",
       "    <tr>\n",
       "      <th>609</th>\n",
       "      <td>-146999.642367</td>\n",
       "      <td>580.396705</td>\n",
       "      <td>-112.571708</td>\n",
       "      <td>12.068757</td>\n",
       "    </tr>\n",
       "    <tr>\n",
       "      <th>700</th>\n",
       "      <td>-147151.524804</td>\n",
       "      <td>484.316559</td>\n",
       "      <td>-142.714917</td>\n",
       "      <td>3.453328</td>\n",
       "    </tr>\n",
       "    <tr>\n",
       "      <th>11</th>\n",
       "      <td>-147457.538954</td>\n",
       "      <td>579.604225</td>\n",
       "      <td>-57.893539</td>\n",
       "      <td>17.514154</td>\n",
       "    </tr>\n",
       "    <tr>\n",
       "      <th>610</th>\n",
       "      <td>-147558.886349</td>\n",
       "      <td>576.240115</td>\n",
       "      <td>-147.056400</td>\n",
       "      <td>8.388463</td>\n",
       "    </tr>\n",
       "    <tr>\n",
       "      <th>702</th>\n",
       "      <td>-147949.220764</td>\n",
       "      <td>491.560073</td>\n",
       "      <td>-130.139751</td>\n",
       "      <td>1.634669</td>\n",
       "    </tr>\n",
       "    <tr>\n",
       "      <th>649</th>\n",
       "      <td>-148006.030161</td>\n",
       "      <td>526.449237</td>\n",
       "      <td>-233.446425</td>\n",
       "      <td>13.147685</td>\n",
       "    </tr>\n",
       "    <tr>\n",
       "      <th>611</th>\n",
       "      <td>-148295.514652</td>\n",
       "      <td>637.501444</td>\n",
       "      <td>-156.977031</td>\n",
       "      <td>13.796426</td>\n",
       "    </tr>\n",
       "    <tr>\n",
       "      <th>165</th>\n",
       "      <td>-148715.069801</td>\n",
       "      <td>636.130837</td>\n",
       "      <td>-125.655676</td>\n",
       "      <td>26.848435</td>\n",
       "    </tr>\n",
       "    <tr>\n",
       "      <th>647</th>\n",
       "      <td>-150171.088967</td>\n",
       "      <td>539.195936</td>\n",
       "      <td>-266.416830</td>\n",
       "      <td>1.823234</td>\n",
       "    </tr>\n",
       "    <tr>\n",
       "      <th>653</th>\n",
       "      <td>-151530.025140</td>\n",
       "      <td>555.604170</td>\n",
       "      <td>-162.503713</td>\n",
       "      <td>1.003360</td>\n",
       "    </tr>\n",
       "    <tr>\n",
       "      <th>652</th>\n",
       "      <td>-151550.559580</td>\n",
       "      <td>587.998733</td>\n",
       "      <td>-194.233240</td>\n",
       "      <td>3.847237</td>\n",
       "    </tr>\n",
       "    <tr>\n",
       "      <th>703</th>\n",
       "      <td>-152148.291224</td>\n",
       "      <td>553.119414</td>\n",
       "      <td>-140.816288</td>\n",
       "      <td>0.277654</td>\n",
       "    </tr>\n",
       "    <tr>\n",
       "      <th>650</th>\n",
       "      <td>-152220.508017</td>\n",
       "      <td>575.964128</td>\n",
       "      <td>-185.292618</td>\n",
       "      <td>7.777024</td>\n",
       "    </tr>\n",
       "    <tr>\n",
       "      <th>654</th>\n",
       "      <td>-152386.658885</td>\n",
       "      <td>586.754432</td>\n",
       "      <td>-165.951320</td>\n",
       "      <td>7.059182</td>\n",
       "    </tr>\n",
       "    <tr>\n",
       "      <th>655</th>\n",
       "      <td>-152439.314792</td>\n",
       "      <td>586.776265</td>\n",
       "      <td>-114.419137</td>\n",
       "      <td>11.712140</td>\n",
       "    </tr>\n",
       "    <tr>\n",
       "      <th>651</th>\n",
       "      <td>-152491.255720</td>\n",
       "      <td>644.717852</td>\n",
       "      <td>-153.014849</td>\n",
       "      <td>11.700942</td>\n",
       "    </tr>\n",
       "    <tr>\n",
       "      <th>704</th>\n",
       "      <td>-152521.505656</td>\n",
       "      <td>549.584761</td>\n",
       "      <td>-178.819463</td>\n",
       "      <td>0.645991</td>\n",
       "    </tr>\n",
       "    <tr>\n",
       "      <th>705</th>\n",
       "      <td>-152947.818136</td>\n",
       "      <td>548.340279</td>\n",
       "      <td>-202.118317</td>\n",
       "      <td>1.141757</td>\n",
       "    </tr>\n",
       "    <tr>\n",
       "      <th>601</th>\n",
       "      <td>-153585.487575</td>\n",
       "      <td>893.594609</td>\n",
       "      <td>-201.285558</td>\n",
       "      <td>54.303174</td>\n",
       "    </tr>\n",
       "    <tr>\n",
       "      <th>253</th>\n",
       "      <td>-154079.300915</td>\n",
       "      <td>730.266120</td>\n",
       "      <td>-102.287166</td>\n",
       "      <td>81.261774</td>\n",
       "    </tr>\n",
       "    <tr>\n",
       "      <th>309</th>\n",
       "      <td>-155399.402787</td>\n",
       "      <td>664.288080</td>\n",
       "      <td>-84.687317</td>\n",
       "      <td>2.700090</td>\n",
       "    </tr>\n",
       "    <tr>\n",
       "      <th>645</th>\n",
       "      <td>-155504.867350</td>\n",
       "      <td>699.198035</td>\n",
       "      <td>-212.454480</td>\n",
       "      <td>4.620909</td>\n",
       "    </tr>\n",
       "    <tr>\n",
       "      <th>310</th>\n",
       "      <td>-156220.381725</td>\n",
       "      <td>685.632269</td>\n",
       "      <td>-158.923958</td>\n",
       "      <td>3.629687</td>\n",
       "    </tr>\n",
       "    <tr>\n",
       "      <th>311</th>\n",
       "      <td>-156512.876930</td>\n",
       "      <td>628.687873</td>\n",
       "      <td>-225.970832</td>\n",
       "      <td>3.944716</td>\n",
       "    </tr>\n",
       "    <tr>\n",
       "      <th>312</th>\n",
       "      <td>-156769.553835</td>\n",
       "      <td>642.511837</td>\n",
       "      <td>-198.844213</td>\n",
       "      <td>3.625067</td>\n",
       "    </tr>\n",
       "    <tr>\n",
       "      <th>313</th>\n",
       "      <td>-157091.738881</td>\n",
       "      <td>640.266186</td>\n",
       "      <td>-251.870637</td>\n",
       "      <td>3.865871</td>\n",
       "    </tr>\n",
       "    <tr>\n",
       "      <th>314</th>\n",
       "      <td>-157976.055489</td>\n",
       "      <td>658.682251</td>\n",
       "      <td>-157.236803</td>\n",
       "      <td>5.088245</td>\n",
       "    </tr>\n",
       "    <tr>\n",
       "      <th>308</th>\n",
       "      <td>-158297.041627</td>\n",
       "      <td>704.001598</td>\n",
       "      <td>-176.393910</td>\n",
       "      <td>4.320931</td>\n",
       "    </tr>\n",
       "  </tbody>\n",
       "</table>\n",
       "<p>805 rows × 4 columns</p>\n",
       "</div>"
      ],
      "text/plain": [
       "               PC1           PC2          PC3          PC4\n",
       "234  532754.166497   -658.597413 -2162.571054   156.853929\n",
       "689  526791.299544   6939.132124  -955.282603  -492.908381\n",
       "232  523091.593869   8910.653595 -4545.380440  -120.211394\n",
       "233  521040.325161   -860.091586 -1809.627838   -36.012916\n",
       "235  520643.726854  -1718.395448 -1318.273489   266.313963\n",
       "236  516609.825464  -2230.146139 -1026.661732   339.971994\n",
       "231  512937.614884    973.312023 -1979.318704  -125.753006\n",
       "690  510692.215994   2929.325897  1143.268675  -443.103809\n",
       "237  502261.687306   2030.039953 -1986.208028    17.150805\n",
       "691  500708.913143   9238.568217  -733.749908  -119.062138\n",
       "239  486574.998382  -5762.058929  1834.966830    65.216332\n",
       "692  484930.571834  14244.196966 -3278.952166  -469.359550\n",
       "238  483296.279329    457.664497   220.481535   -15.396897\n",
       "240  472598.966130  -4886.642455   702.393724    61.721350\n",
       "693  451157.451279  12753.574160 -2661.864949  -222.153217\n",
       "695  450003.603686   2610.185551   178.304125   -10.614732\n",
       "699  449859.714721  10591.855274 -1701.766033  -329.816882\n",
       "696  447752.304667   7934.029820 -1671.319915  -422.183808\n",
       "241  446921.077605     31.116276   704.531537   -80.197594\n",
       "697  445423.773383    607.916698  1294.875186  -139.099964\n",
       "698  444766.479179   5417.489388  2099.282394  -242.621493\n",
       "694  413476.221937   2041.165146   500.753224  -129.754752\n",
       "198  399657.950436    -90.733201  -497.781073   414.444099\n",
       "199  336031.376043   -992.455623   386.142426   304.359141\n",
       "200  326070.253123   1035.452252    33.251421   438.720328\n",
       "201  317159.818153   6472.721790 -1626.375669  1099.169486\n",
       "208  313873.793679   3244.522604  -216.310518   480.868681\n",
       "207  310820.966822   3283.052748 -1403.958526   492.306218\n",
       "202  296308.025394   3986.456142  -781.746391   543.523612\n",
       "204  294498.997548    176.147161   395.812675   698.099763\n",
       "..             ...           ...          ...          ...\n",
       "701 -146606.589205    482.082120   -97.513865     5.883612\n",
       "646 -146956.692029    571.752698  -219.048370     1.073467\n",
       "609 -146999.642367    580.396705  -112.571708    12.068757\n",
       "700 -147151.524804    484.316559  -142.714917     3.453328\n",
       "11  -147457.538954    579.604225   -57.893539    17.514154\n",
       "610 -147558.886349    576.240115  -147.056400     8.388463\n",
       "702 -147949.220764    491.560073  -130.139751     1.634669\n",
       "649 -148006.030161    526.449237  -233.446425    13.147685\n",
       "611 -148295.514652    637.501444  -156.977031    13.796426\n",
       "165 -148715.069801    636.130837  -125.655676    26.848435\n",
       "647 -150171.088967    539.195936  -266.416830     1.823234\n",
       "653 -151530.025140    555.604170  -162.503713     1.003360\n",
       "652 -151550.559580    587.998733  -194.233240     3.847237\n",
       "703 -152148.291224    553.119414  -140.816288     0.277654\n",
       "650 -152220.508017    575.964128  -185.292618     7.777024\n",
       "654 -152386.658885    586.754432  -165.951320     7.059182\n",
       "655 -152439.314792    586.776265  -114.419137    11.712140\n",
       "651 -152491.255720    644.717852  -153.014849    11.700942\n",
       "704 -152521.505656    549.584761  -178.819463     0.645991\n",
       "705 -152947.818136    548.340279  -202.118317     1.141757\n",
       "601 -153585.487575    893.594609  -201.285558    54.303174\n",
       "253 -154079.300915    730.266120  -102.287166    81.261774\n",
       "309 -155399.402787    664.288080   -84.687317     2.700090\n",
       "645 -155504.867350    699.198035  -212.454480     4.620909\n",
       "310 -156220.381725    685.632269  -158.923958     3.629687\n",
       "311 -156512.876930    628.687873  -225.970832     3.944716\n",
       "312 -156769.553835    642.511837  -198.844213     3.625067\n",
       "313 -157091.738881    640.266186  -251.870637     3.865871\n",
       "314 -157976.055489    658.682251  -157.236803     5.088245\n",
       "308 -158297.041627    704.001598  -176.393910     4.320931\n",
       "\n",
       "[805 rows x 4 columns]"
      ]
     },
     "execution_count": 56,
     "metadata": {},
     "output_type": "execute_result"
    }
   ],
   "source": [
    "ap_pca = pd.DataFrame(Y, columns=['PC1', 'PC2', 'PC3', 'PC4'])\n",
    "ap_pca.sort_values(by='PC1', ascending=False)"
   ]
  },
  {
   "cell_type": "code",
   "execution_count": 57,
   "metadata": {
    "collapsed": true
   },
   "outputs": [],
   "source": [
    "PCA_chain = PCA(n_components=4)\n",
    "logistic = linear_model.LogisticRegression()\n",
    "pipe = Pipeline(steps=[('pca', PCA_chain), ('logistic', logistic)])\n"
   ]
  },
  {
   "cell_type": "code",
   "execution_count": 58,
   "metadata": {
    "collapsed": false
   },
   "outputs": [
    {
     "data": {
      "text/plain": [
       "PCA(copy=True, n_components=4, whiten=False)"
      ]
     },
     "execution_count": 58,
     "metadata": {},
     "output_type": "execute_result"
    }
   ],
   "source": [
    "PCA_chain.fit(X)\n"
   ]
  },
  {
   "cell_type": "code",
   "execution_count": 59,
   "metadata": {
    "collapsed": false
   },
   "outputs": [
    {
     "data": {
      "text/plain": [
       "<matplotlib.text.Text at 0x119ae1c10>"
      ]
     },
     "execution_count": 59,
     "metadata": {},
     "output_type": "execute_result"
    },
    {
     "data": {
      "image/png": "[encoded data removed]",
      "text/plain": [
       "<matplotlib.figure.Figure at 0x11666e4d0>"
      ]
     },
     "metadata": {},
     "output_type": "display_data"
    }
   ],
   "source": [
    "plt.figure(1, figsize=(4, 3))\n",
    "plt.clf()\n",
    "plt.axes([.2, .2, .7, .7])\n",
    "plt.plot(PCA_chain.explained_variance_, linewidth=2)\n",
    "plt.axis('tight')\n",
    "plt.xlabel('n_components')\n",
    "plt.ylabel('explained_variance_')"
   ]
  },
  {
   "cell_type": "code",
   "execution_count": null,
   "metadata": {
    "collapsed": true
   },
   "outputs": [],
   "source": []
  }
 ],
 "metadata": {
  "kernelspec": {
   "display_name": "Python 2",
   "language": "python",
   "name": "python2"
  },
  "language_info": {
   "codemirror_mode": {
    "name": "ipython",
    "version": 2
   },
   "file_extension": ".py",
   "mimetype": "text/x-python",
   "name": "python",
   "nbconvert_exporter": "python",
   "pygments_lexer": "ipython2",
   "version": "2.7.11"
  }
 },
 "nbformat": 4,
 "nbformat_minor": 0
}
