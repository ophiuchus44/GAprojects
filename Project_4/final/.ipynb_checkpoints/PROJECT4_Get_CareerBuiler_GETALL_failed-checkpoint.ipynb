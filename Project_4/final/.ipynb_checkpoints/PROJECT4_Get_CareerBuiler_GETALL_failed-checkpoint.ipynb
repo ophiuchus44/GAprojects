{
 "cells": [
  {
   "cell_type": "code",
   "execution_count": 25,
   "metadata": {
    "collapsed": false
   },
   "outputs": [
    {
     "ename": "TypeError",
     "evalue": "cannot concatenate 'str' and 'tuple' objects",
     "output_type": "error",
     "traceback": [
      "\u001b[0;31m---------------------------------------------------------------------------\u001b[0m",
      "\u001b[0;31mTypeError\u001b[0m                                 Traceback (most recent call last)",
      "\u001b[0;32m<ipython-input-25-a0c5db4a478b>\u001b[0m in \u001b[0;36m<module>\u001b[0;34m()\u001b[0m\n\u001b[1;32m     47\u001b[0m \u001b[0;34m\u001b[0m\u001b[0m\n\u001b[1;32m     48\u001b[0m \u001b[0;32mfor\u001b[0m \u001b[0mkeyword\u001b[0m \u001b[0;32min\u001b[0m \u001b[0mkeywords\u001b[0m\u001b[0;34m:\u001b[0m\u001b[0;34m\u001b[0m\u001b[0m\n\u001b[0;32m---> 49\u001b[0;31m     \u001b[0mr\u001b[0m \u001b[0;34m=\u001b[0m \u001b[0mrequests\u001b[0m\u001b[0;34m.\u001b[0m\u001b[0mget\u001b[0m\u001b[0;34m(\u001b[0m\u001b[0mstartURL\u001b[0m \u001b[0;34m+\u001b[0m \u001b[0mkeywords\u001b[0m \u001b[0;34m+\u001b[0m \u001b[0mmiddle1\u001b[0m \u001b[0;34m+\u001b[0m \u001b[0mcity1\u001b[0m \u001b[0;34m+\u001b[0m \u001b[0mkeys\u001b[0m \u001b[0;34m+\u001b[0m \u001b[0mkeywords\u001b[0m \u001b[0;34m+\u001b[0m \u001b[0mmiddle2\u001b[0m \u001b[0;34m+\u001b[0m \u001b[0mcity2\u001b[0m \u001b[0;34m+\u001b[0m \u001b[0mendURL\u001b[0m\u001b[0;34m)\u001b[0m\u001b[0;34m\u001b[0m\u001b[0m\n\u001b[0m\u001b[1;32m     50\u001b[0m     \u001b[0msoup\u001b[0m \u001b[0;34m=\u001b[0m \u001b[0mBeautifulSoup\u001b[0m\u001b[0;34m(\u001b[0m\u001b[0mr\u001b[0m\u001b[0;34m.\u001b[0m\u001b[0mcontent\u001b[0m\u001b[0;34m,\u001b[0m \u001b[0;34m'lxml'\u001b[0m\u001b[0;34m)\u001b[0m\u001b[0;34m\u001b[0m\u001b[0m\n\u001b[1;32m     51\u001b[0m     \u001b[0mlistUrls\u001b[0m\u001b[0;34m.\u001b[0m\u001b[0mappend\u001b[0m\u001b[0;34m(\u001b[0m\u001b[0msoup\u001b[0m\u001b[0;34m)\u001b[0m\u001b[0;34m\u001b[0m\u001b[0m\n",
      "\u001b[0;31mTypeError\u001b[0m: cannot concatenate 'str' and 'tuple' objects"
     ]
    }
   ],
   "source": [
    "import requests\n",
    "from bs4 import BeautifulSoup\n",
    "\n",
    "### DOES NOT CHANGE ###\n",
    "startURL = 'http://www.careerbuilder.com/jobs-'\n",
    "\n",
    "# for testing\n",
    "keywords = ['python','data','analyst','scientist']\n",
    "\n",
    "\n",
    "#keywords uses - for the first instance and + for the second when there are 2 words to search\n",
    "keywords1 = ['python','data','analyst','data-science']\n",
    "\n",
    "### DOES NOT CHANGE ###\n",
    "middle1 ='-in-'\n",
    "\n",
    "#city uses - for teh first instance and + for the second when there are 2 words to search\n",
    "city1 = ['los-angeles','chicago','seatle','new-york','austin']\n",
    "\n",
    "### DOES NOT CHANGE ###\n",
    "keys = '?keywords='\n",
    "\n",
    "#keywords uses - for the first instance and + for the second when there are 2 words to search\n",
    "keywords2 = ['python','data','analyst','data+science']\n",
    "\n",
    "### DOES NOT CHANGE ###\n",
    "middle2 ='&location='\n",
    "\n",
    "#city uses - for teh first instance and + for the second when there are 2 words to search\n",
    "city2 = ['los+angeles','chicago','seatle','new+york','austin']\n",
    "\n",
    "### DOES NOT CHANGE ###\n",
    "endUrl = '&pay=20'\n",
    "\n",
    "# only initiated after the first page is scraped\n",
    "pageNumber = '?page_number'\n",
    "\n",
    "#(count starts on 2)\n",
    "page = range(2,100) \n",
    "\n",
    "\n",
    "#startURL    http://www.careerbuilder.com/jobs-\n",
    "#keywords1    data\n",
    "#middle1    -in-\n",
    "#city1    los-angeles\n",
    "#keys    ?keywords=\n",
    "#keywords2    data\n",
    "# middle2   &location=\n",
    "# city2    los+angeles\n",
    "# endurl    &pay=20\n",
    "#pageNumber ?page_number\n",
    "#page      range of 2-100 \n",
    "\n",
    "listUrls = []\n",
    "\n",
    "for keyword in keywords:\n",
    "    r = requests.get(startURL + keywords + middle1 + city1 + keys + keywords + middle2 + city2 + endURL)\n",
    "    soup = BeautifulSoup(r.content, 'lxml')\n",
    "    listUrls.append(soup)\n",
    "    \n",
    "    \n",
    "\n"
   ]
  },
  {
   "cell_type": "code",
   "execution_count": 5,
   "metadata": {
    "collapsed": false
   },
   "outputs": [],
   "source": [
    "soup = listUrls[0]"
   ]
  },
  {
   "cell_type": "code",
   "execution_count": 9,
   "metadata": {
    "collapsed": false
   },
   "outputs": [
    {
     "data": {
      "text/plain": [
       "<!DOCTYPE html>\\n<!--[if lt IE 7 ]> <html class=\"ie6\" lang=\"en\"> <![endif]--><!--[if IE 7 ]> <html class=\"ie7\" lang=\"en\"> <![endif]--><!--[if IE 8 ]> <html class=\"ie8\" lang=\"en\"> <![endif]--><!--[if (gte IE 9)|!(IE)]> ><! <![endif]--><html lang=\"en\">\\n<!-- <![endif] -->\\n<head>\\n<meta charset=\"unicode-escape\"/>\\n<script type=\"text/javascript\">window.NREUM||(NREUM={});NREUM.info={\"beacon\":\"bam.nr-data.net\",\"errorBeacon\":\"bam.nr-data.net\",\"licenseKey\":\"42096352b4\",\"applicationID\":\"4991347\",\"transactionName\":\"el1YEUVZXlRRSxgIXlttRQBWRFFQG1BZBlRB\",\"queueTime\":0,\"applicationTime\":1523,\"agent\":\"\"}</script>\\n<script type=\"text/javascript\">(window.NREUM||(NREUM={})).loader_config={xpid:\"Uw4HVFNbGwcJXVBRAwY=\"};window.NREUM||(NREUM={}),__nr_require=function(t,e,n){function r(n){if(!e[n]){var o=e[n]={exports:{}};t[n][0].call(o.exports,function(e){var o=t[n][1][e];return r(o||e)},o,o.exports)}return e[n].exports}if(\"function\"==typeof __nr_require)return __nr_require;for(var o=0;o<n.length;o++)r(n[o]);return r}({1:[function(t,e,n){function r(t){try{s.console&&console.log(t)}catch(e){}}var o,i=t(\"ee\"),a=t(15),s={};try{o=localStorage.getItem(\"__nr_flags\").split(\",\"),console&&\"function\"==typeof console.log&&(s.console=!0,-1!==o.indexOf(\"dev\")&&(s.dev=!0),-1!==o.indexOf(\"nr_dev\")&&(s.nrDev=!0))}catch(c){}s.nrDev&&i.on(\"internal-error\",function(t){r(t.stack)}),s.dev&&i.on(\"fn-err\",function(t,e,n){r(n.stack)}),s.dev&&(r(\"NR AGENT IN DEVELOPMENT MODE\"),r(\"flags: \"+a(s,function(t,e){return t}).join(\", \")))},{}],2:[function(t,e,n){function r(t,e,n,r,o){try{d?d-=1:i(\"err\",[o||new UncaughtException(t,e,n)])}catch(s){try{i(\"ierr\",[s,(new Date).getTime(),!0])}catch(c){}}return\"function\"==typeof f?f.apply(this,a(arguments)):!1}function UncaughtException(t,e,n){this.message=t||\"Uncaught error with no additional information\",this.sourceURL=e,this.line=n}function o(t){i(\"err\",[t,(new Date).getTime()])}var i=t(\"handle\"),a=t(16),s=t(\"ee\"),c=t(\"loader\"),f=window.onerror,u=!1,d=0;c.features.err=!0,t(1),window.onerror=r;try{throw new Error}catch(l){\"stack\"in l&&(t(8),t(7),\"addEventListener\"in window&&t(5),c.xhrWrappable&&t(9),u=!0)}s.on(\"fn-start\",function(t,e,n){u&&(d+=1)}),s.on(\"fn-err\",function(t,e,n){u&&(this.thrown=!0,o(n))}),s.on(\"fn-end\",function(){u&&!this.thrown&&d>0&&(d-=1)}),s.on(\"internal-error\",function(t){i(\"ierr\",[t,(new Date).getTime(),!0])})},{}],3:[function(t,e,n){t(\"loader\").features.ins=!0},{}],4:[function(t,e,n){function r(t){}if(window.performance&&window.performance.timing&&window.performance.getEntriesByType){var o=t(\"ee\"),i=t(\"handle\"),a=t(8),s=t(7),c=\"learResourceTimings\",f=\"addEventListener\",u=\"resourcetimingbufferfull\",d=\"bstResource\",l=\"resource\",p=\"-start\",h=\"-end\",m=\"fn\"+p,w=\"fn\"+h,v=\"bstTimer\",y=\"pushState\";t(\"loader\").features.stn=!0,t(6);var g=NREUM.o.EV;o.on(m,function(t,e){var n=t[0];n instanceof g&&(this.bstStart=Date.now())}),o.on(w,function(t,e){var n=t[0];n instanceof g&&i(\"bst\",[n,e,this.bstStart,Date.now()])}),a.on(m,function(t,e,n){this.bstStart=Date.now(),this.bstType=n}),a.on(w,function(t,e){i(v,[e,this.bstStart,Date.now(),this.bstType])}),s.on(m,function(){this.bstStart=Date.now()}),s.on(w,function(t,e){i(v,[e,this.bstStart,Date.now(),\"requestAnimationFrame\"])}),o.on(y+p,function(t){this.time=Date.now(),this.startPath=location.pathname+location.hash}),o.on(y+h,function(t){i(\"bstHist\",[location.pathname+location.hash,this.startPath,this.time])}),f in window.performance&&(window.performance[\"c\"+c]?window.performance[f](u,function(t){i(d,[window.performance.getEntriesByType(l)]),window.performance[\"c\"+c]()},!1):window.performance[f](\"webkit\"+u,function(t){i(d,[window.performance.getEntriesByType(l)]),window.performance[\"webkitC\"+c]()},!1)),document[f](\"scroll\",r,!1),document[f](\"keypress\",r,!1),document[f](\"click\",r,!1)}},{}],5:[function(t,e,n){function r(t){for(var e=t;e&&!e.hasOwnProperty(u);)e=Object.getPrototypeOf(e);e&&o(e)}function o(t){s.inPlace(t,[u,d],\"-\",i)}function i(t,e){return t[1]}var a=t(\"ee\").get(\"events\"),s=t(17)(a),c=t(\"gos\"),f=XMLHttpRequest,u=\"addEventListener\",d=\"removeEventListener\";e.exports=a,\"getPrototypeOf\"in Object?(r(document),r(window),r(f.prototype)):f.prototype.hasOwnProperty(u)&&(o(window),o(f.prototype)),a.on(u+\"-start\",function(t,e){if(t[1]){var n=t[1];if(\"function\"==typeof n){var r=c(n,\"nr@wrapped\",function(){return s(n,\"fn-\",null,n.name||\"anonymous\")});this.wrapped=t[1]=r}else\"function\"==typeof n.handleEvent&&s.inPlace(n,[\"handleEvent\"],\"fn-\")}}),a.on(d+\"-start\",function(t){var e=this.wrapped;e&&(t[1]=e)})},{}],6:[function(t,e,n){var r=t(\"ee\").get(\"history\"),o=t(17)(r);e.exports=r,o.inPlace(window.history,[\"pushState\",\"replaceState\"],\"-\")},{}],7:[function(t,e,n){var r=t(\"ee\").get(\"raf\"),o=t(17)(r),i=\"equestAnimationFrame\";e.exports=r,o.inPlace(window,[\"r\"+i,\"mozR\"+i,\"webkitR\"+i,\"msR\"+i],\"raf-\"),r.on(\"raf-start\",function(t){t[0]=o(t[0],\"fn-\")})},{}],8:[function(t,e,n){function r(t,e,n){t[0]=a(t[0],\"fn-\",null,n)}function o(t,e,n){this.method=n,this.timerDuration=\"number\"==typeof t[1]?t[1]:0,t[0]=a(t[0],\"fn-\",this,n)}var i=t(\"ee\").get(\"timer\"),a=t(17)(i),s=\"setTimeout\",c=\"setInterval\",f=\"clearTimeout\",u=\"-start\",d=\"-\";e.exports=i,a.inPlace(window,[s,\"setImmediate\"],s+d),a.inPlace(window,[c],c+d),a.inPlace(window,[f,\"clearImmediate\"],f+d),i.on(c+u,r),i.on(s+u,o)},{}],9:[function(t,e,n){function r(t,e){d.inPlace(e,[\"onreadystatechange\"],\"fn-\",s)}function o(){var t=this,e=u.context(t);t.readyState>3&&!e.resolved&&(e.resolved=!0,u.emit(\"xhr-resolved\",[],t)),d.inPlace(t,w,\"fn-\",s)}function i(t){v.push(t),h&&(g=-g,b.data=g)}function a(){for(var t=0;t<v.length;t++)r([],v[t]);v.length&&(v=[])}function s(t,e){return e}function c(t,e){for(var n in t)e[n]=t[n];return e}t(5);var f=t(\"ee\"),u=f.get(\"xhr\"),d=t(17)(u),l=NREUM.o,p=l.XHR,h=l.MO,m=\"readystatechange\",w=[\"onload\",\"onerror\",\"onabort\",\"onloadstart\",\"onloadend\",\"onprogress\",\"ontimeout\"],v=[];e.exports=u;var y=window.XMLHttpRequest=function(t){var e=new p(t);try{u.emit(\"new-xhr\",[e],e),e.addEventListener(m,o,!1)}catch(n){try{u.emit(\"internal-error\",[n])}catch(r){}}return e};if(c(p,y),y.prototype=p.prototype,d.inPlace(y.prototype,[\"open\",\"send\"],\"-xhr-\",s),u.on(\"send-xhr-start\",function(t,e){r(t,e),i(e)}),u.on(\"open-xhr-start\",r),h){var g=1,b=document.createTextNode(g);new h(a).observe(b,{characterData:!0})}else f.on(\"fn-end\",function(t){t[0]&&t[0].type===m||a()})},{}],10:[function(t,e,n){function r(t){var e=this.params,n=this.metrics;if(!this.ended){this.ended=!0;for(var r=0;d>r;r++)t.removeEventListener(u[r],this.listener,!1);if(!e.aborted){if(n.duration=(new Date).getTime()-this.startTime,4===t.readyState){e.status=t.status;var i=o(t,this.lastSize);if(i&&(n.rxSize=i),this.sameOrigin){var a=t.getResponseHeader(\"X-NewRelic-App-Data\");a&&(e.cat=a.split(\", \").pop())}}else e.status=0;n.cbTime=this.cbTime,f.emit(\"xhr-done\",[t],t),s(\"xhr\",[e,n,this.startTime])}}}function o(t,e){var n=t.responseType;if(\"json\"===n&&null!==e)return e;var r=\"arraybuffer\"===n||\"blob\"===n||\"json\"===n?t.response:t.responseText;return h(r)}function i(t,e){var n=c(e),r=t.params;r.host=n.hostname+\":\"+n.port,r.pathname=n.pathname,t.sameOrigin=n.sameOrigin}var a=t(\"loader\");if(a.xhrWrappable){var s=t(\"handle\"),c=t(11),f=t(\"ee\"),u=[\"load\",\"error\",\"abort\",\"timeout\"],d=u.length,l=t(\"id\"),p=t(14),h=t(13),m=window.XMLHttpRequest;a.features.xhr=!0,t(9),f.on(\"new-xhr\",function(t){var e=this;e.totalCbs=0,e.called=0,e.cbTime=0,e.end=r,e.ended=!1,e.xhrGuids={},e.lastSize=null,p&&(p>34||10>p)||window.opera||t.addEventListener(\"progress\",function(t){e.lastSize=t.loaded},!1)}),f.on(\"open-xhr-start\",function(t){this.params={method:t[0]},i(this,t[1]),this.metrics={}}),f.on(\"open-xhr-end\",function(t,e){\"loader_config\"in NREUM&&\"xpid\"in NREUM.loader_config&&this.sameOrigin&&e.setRequestHeader(\"X-NewRelic-ID\",NREUM.loader_config.xpid)}),f.on(\"send-xhr-start\",function(t,e){var n=this.metrics,r=t[0],o=this;if(n&&r){var i=h(r);i&&(n.txSize=i)}this.startTime=(new Date).getTime(),this.listener=function(t){try{\"abort\"===t.type&&(o.params.aborted=!0),(\"load\"!==t.type||o.called===o.totalCbs&&(o.onloadCalled||\"function\"!=typeof e.onload))&&o.end(e)}catch(n){try{f.emit(\"internal-error\",[n])}catch(r){}}};for(var a=0;d>a;a++)e.addEventListener(u[a],this.listener,!1)}),f.on(\"xhr-cb-time\",function(t,e,n){this.cbTime+=t,e?this.onloadCalled=!0:this.called+=1,this.called!==this.totalCbs||!this.onloadCalled&&\"function\"==typeof n.onload||this.end(n)}),f.on(\"xhr-load-added\",function(t,e){var n=\"\"+l(t)+!!e;this.xhrGuids&&!this.xhrGuids[n]&&(this.xhrGuids[n]=!0,this.totalCbs+=1)}),f.on(\"xhr-load-removed\",function(t,e){var n=\"\"+l(t)+!!e;this.xhrGuids&&this.xhrGuids[n]&&(delete this.xhrGuids[n],this.totalCbs-=1)}),f.on(\"addEventListener-end\",function(t,e){e instanceof m&&\"load\"===t[0]&&f.emit(\"xhr-load-added\",[t[1],t[2]],e)}),f.on(\"removeEventListener-end\",function(t,e){e instanceof m&&\"load\"===t[0]&&f.emit(\"xhr-load-removed\",[t[1],t[2]],e)}),f.on(\"fn-start\",function(t,e,n){e instanceof m&&(\"onload\"===n&&(this.onload=!0),(\"load\"===(t[0]&&t[0].type)||this.onload)&&(this.xhrCbStart=(new Date).getTime()))}),f.on(\"fn-end\",function(t,e){this.xhrCbStart&&f.emit(\"xhr-cb-time\",[(new Date).getTime()-this.xhrCbStart,this.onload,e],e)})}},{}],11:[function(t,e,n){e.exports=function(t){var e=document.createElement(\"a\"),n=window.location,r={};e.href=t,r.port=e.port;var o=e.href.split(\"://\");!r.port&&o[1]&&(r.port=o[1].split(\"/\")[0].split(\"@\").pop().split(\":\")[1]),r.port&&\"0\"!==r.port||(r.port=\"https\"===o[0]?\"443\":\"80\"),r.hostname=e.hostname||n.hostname,r.pathname=e.pathname,r.protocol=o[0],\"/\"!==r.pathname.charAt(0)&&(r.pathname=\"/\"+r.pathname);var i=!e.protocol||\":\"===e.protocol||e.protocol===n.protocol,a=e.hostname===document.domain&&e.port===n.port;return r.sameOrigin=i&&(!e.hostname||a),r}},{}],12:[function(t,e,n){function r(t,e){return function(){o(t,[(new Date).getTime()].concat(a(arguments)),null,e)}}var o=t(\"handle\"),i=t(15),a=t(16);\"undefined\"==typeof window.newrelic&&(newrelic=NREUM);var s=[\"setPageViewName\",\"setCustomAttribute\",\"finished\",\"addToTrace\",\"inlineHit\"],c=[\"addPageAction\"],f=\"api-\";i(s,function(t,e){newrelic[e]=r(f+e,\"api\")}),i(c,function(t,e){newrelic[e]=r(f+e)}),e.exports=newrelic,newrelic.noticeError=function(t){\"string\"==typeof t&&(t=new Error(t)),o(\"err\",[t,(new Date).getTime()])}},{}],13:[function(t,e,n){e.exports=function(t){if(\"string\"==typeof t&&t.length)return t.length;if(\"object\"==typeof t){if(\"undefined\"!=typeof ArrayBuffer&&t instanceof ArrayBuffer&&t.byteLength)return t.byteLength;if(\"undefined\"!=typeof Blob&&t instanceof Blob&&t.size)return t.size;if(!(\"undefined\"!=typeof FormData&&t instanceof FormData))try{return JSON.stringify(t).length}catch(e){return}}}},{}],14:[function(t,e,n){var r=0,o=navigator.userAgent.match(/Firefox[\\\\/\\\\s](\\\\d+\\\\.\\\\d+)/);o&&(r=+o[1]),e.exports=r},{}],15:[function(t,e,n){function r(t,e){var n=[],r=\"\",i=0;for(r in t)o.call(t,r)&&(n[i]=e(r,t[r]),i+=1);return n}var o=Object.prototype.hasOwnProperty;e.exports=r},{}],16:[function(t,e,n){function r(t,e,n){e||(e=0),\"undefined\"==typeof n&&(n=t?t.length:0);for(var r=-1,o=n-e||0,i=Array(0>o?0:o);++r<o;)i[r]=t[e+r];return i}e.exports=r},{}],17:[function(t,e,n){function r(t){return!(t&&\"function\"==typeof t&&t.apply&&!t[a])}var o=t(\"ee\"),i=t(16),a=\"nr@original\",s=Object.prototype.hasOwnProperty,c=!1;e.exports=function(t){function e(t,e,n,o){function nrWrapper(){var r,a,s,c;try{a=this,r=i(arguments),s=\"function\"==typeof n?n(r,a):n||{}}catch(u){d([u,\"\",[r,a,o],s])}f(e+\"start\",[r,a,o],s);try{return c=t.apply(a,r)}catch(l){throw f(e+\"err\",[r,a,l],s),l}finally{f(e+\"end\",[r,a,c],s)}}return r(t)?t:(e||(e=\"\"),nrWrapper[a]=t,u(t,nrWrapper),nrWrapper)}function n(t,n,o,i){o||(o=\"\");var a,s,c,f=\"-\"===o.charAt(0);for(c=0;c<n.length;c++)s=n[c],a=t[s],r(a)||(t[s]=e(a,f?s+o:o,i,s))}function f(e,n,r){if(!c){c=!0;try{t.emit(e,n,r)}catch(o){d([o,e,n,r])}c=!1}}function u(t,e){if(Object.defineProperty&&Object.keys)try{var n=Object.keys(t);return n.forEach(function(n){Object.defineProperty(e,n,{get:function(){return t[n]},set:function(e){return t[n]=e,e}})}),e}catch(r){d([r])}for(var o in t)s.call(t,o)&&(e[o]=t[o]);return e}function d(e){try{t.emit(\"internal-error\",e)}catch(n){}}return t||(t=o),e.inPlace=n,e.flag=a,e}},{}],ee:[function(t,e,n){function r(){}function o(t){function e(t){return t&&t instanceof r?t:t?s(t,a,i):i()}function n(n,r,o){t&&t(n,r,o);for(var i=e(o),a=l(n),s=a.length,c=0;s>c;c++)a[c].apply(i,r);var u=f[w[n]];return u&&u.push([v,n,r,i]),i}function d(t,e){m[t]=l(t).concat(e)}function l(t){return m[t]||[]}function p(t){return u[t]=u[t]||o(n)}function h(t,e){c(t,function(t,n){e=e||\"feature\",w[n]=e,e in f||(f[e]=[])})}var m={},w={},v={on:d,emit:n,get:p,listeners:l,context:e,buffer:h};return v}function i(){return new r}var a=\"nr@context\",s=t(\"gos\"),c=t(15),f={},u={},d=e.exports=o();d.backlog=f},{}],gos:[function(t,e,n){function r(t,e,n){if(o.call(t,e))return t[e];var r=n();if(Object.defineProperty&&Object.keys)try{return Object.defineProperty(t,e,{value:r,writable:!0,enumerable:!1}),r}catch(i){}return t[e]=r,r}var o=Object.prototype.hasOwnProperty;e.exports=r},{}],handle:[function(t,e,n){function r(t,e,n,r){o.buffer([t],r),o.emit(t,e,n)}var o=t(\"ee\").get(\"handle\");e.exports=r,r.ee=o},{}],id:[function(t,e,n){function r(t){var e=typeof t;return!t||\"object\"!==e&&\"function\"!==e?-1:t===window?0:a(t,i,function(){return o++})}var o=1,i=\"nr@id\",a=t(\"gos\");e.exports=r},{}],loader:[function(t,e,n){function r(){if(!g++){var t=y.info=NREUM.info,e=u.getElementsByTagName(\"script\")[0];if(t&&t.licenseKey&&t.applicationID&&e){c(w,function(e,n){t[e]||(t[e]=n)});var n=\"https\"===m.split(\":\")[0]||t.sslForHttp;y.proto=n?\"https://\":\"http://\",s(\"mark\",[\"onload\",a()],null,\"api\");var r=u.createElement(\"script\");r.src=y.proto+t.agent,e.parentNode.insertBefore(r,e)}}}function o(){\"complete\"===u.readyState&&i()}function i(){s(\"mark\",[\"domContent\",a()],null,\"api\")}function a(){return(new Date).getTime()}var s=t(\"handle\"),c=t(15),f=window,u=f.document,d=\"addEventListener\",l=\"attachEvent\",p=f.XMLHttpRequest,h=p&&p.prototype;NREUM.o={ST:setTimeout,CT:clearTimeout,XHR:p,REQ:f.Request,EV:f.Event,PR:f.Promise,MO:f.MutationObserver},t(12);var m=\"\"+location,w={beacon:\"bam.nr-data.net\",errorBeacon:\"bam.nr-data.net\",agent:\"js-agent.newrelic.com/nr-952.min.js\"},v=p&&h&&h[d]&&!/CriOS/.test(navigator.userAgent),y=e.exports={offset:a(),origin:m,features:{},xhrWrappable:v};u[d]?(u[d](\"DOMContentLoaded\",i,!1),f[d](\"load\",r,!1)):(u[l](\"onreadystatechange\",o),f[l](\"onload\",r)),s(\"mark\",[\"firstbyte\",a()],null,\"api\");var g=0},{}]},{},[\"loader\",2,10,4,3]);</script>\\n<meta content=\"width=device-width, initial-scale=1.0, maximum-scale=1.0, user-scalable=0\" name=\"viewport\"/>\\n<meta content=\"app-id=com.careerbuilder.SugarDrone\" name=\"google-play-app\"/>\\n<meta content=\"app-id=524123670\" name=\"apple-itunes-app\"/>\\n<meta content=\"mu-a2a0832f-10763ae9-170d6c87-70e4a59c\" name=\"blitz\"/>\\n<title>Python Jobs in Los Angeles, CA | CareerBuilder</title>\\n<link href=\"/assets/consumer_layouts/host_sites/us/application-d8272a0259d3971467e4803b9c40d9966f018b73e3f9b723c0d233fa24e21730.css\" media=\"screen\" rel=\"stylesheet\"/>\\n<link href=\"/assets/application-6cae7f3b31b05911c1e5407066b1a22daed2186e928dfc39946383f08076c3be.css\" media=\"screen\" rel=\"stylesheet\"/>\\n<link href=\"/assets/global/print-94645ed6711d4da397f0eec09ad14f235ab96e0406ce79b43f0a915e9b9d4f8b.css\" media=\"print\" rel=\"stylesheet\"/>\\n<link href=\"/humans.txt\" rel=\"author\" type=\"text/plain\"/>\\n<script>\\n  WebFontConfig = {\\n    google: { families: [ 'Lato:400,700,300,400italic:latin' ] }\\n  };\\n  (function() {\\n    var wf = document.createElement('script');\\n    wf.src = ('https:' == document.location.protocol ? 'https' : 'http') +\\n      '://ajax.googleapis.com/ajax/libs/webfont/1/webfont.js';\\n    wf.type = 'text/javascript';\\n    wf.async = 'true';\\n    var s = document.getElementsByTagName('script')[0];\\n    s.parentNode.insertBefore(wf, s);\\n  })();\\n</script>\\n<script>\\n  var ScriptVars = {\\n    recent_searches_new: 'New',\\n    notifications_enabled: true,\\n    firebase_jwt: ''\\n    , notification_title: \"Notifications\", no_notifications_message: \"You have no notifications.\", seconds_ago: \"%{0} seconds ago\", minutes_ago: \"%{0} minutes ago\", hours_ago: \"%{0} hours ago\", days_ago: \"%{0} days ago\", weeks_ago: \"%{0} weeks ago\", months_ago: \"%{0} months ago\", years_ago: \"%{0} years ago\", viewed_your_application: \"has viewed your application.\", anonymous_company_name: \"An Anonymous Company\", resume_viewed_with_company: \"Your resume has been viewed by %{0}.\", relative_resume_notification_message: \"You have %{0} new resume views.\", confirm_text: \"I understand that removing my account from CareerBuilder can not be undone and all resumes, cover letters and profile information can not be restored\", invalid_dropbox_resume_file_name: \"Oops. The %{file_name} document is probably not a resume.\", invalid_dropbox_resume_file_name_description: \"Please make sure your file is a resume.\", invalid_email_address_error_message: \"Please enter a valid email address.\", invalid_field_error_message: \"This field appears invalid.\", invalid_password_do_not_match: \"Your passwords do not match.\", invalid_password_error_message: \"Your password needs at least 3 of the following: an uppercase letter, a lowercase letter, a number, a symbol.\", invalid_password_length_error_message: \"Your password must be at least 8 characters long.\", invalid_resume_file_extension: \"File type is not accepted.\", invalid_resume_file_extension_description: \"Accepted file types are: DOC, DOCX, ODT, PDF, RTF, TXT, WPS.\", invalid_resume_file_size: \"File is too large.\", invalid_resume_file_size_description: \"File upload data is larger than the maximum of %{size} KB.\", job_alerts_title: \"Job Alerts\", months: [\"January\",\"February\",\"March\",\"April\",\"May\",\"June\",\"July\",\"August\",\"September\",\"October\",\"November\",\"December\"], per_hour: \"Per Hour\", per_month: \"Per Month\", per_year: \"Per Year\", present: \"Present\", quick_apply_error: \"There was an error attempting to apply, please try again.\", quick_apply_success: \"Application Sent\", required_field_error_message: \"This field is required.\", saved_job_unsave_message: \"Are you sure you want to unsave this job?\"\\n    , \"keywords\": \"python\", \"location\": \"los angeles\", \"desktop_domain\": \"www.careerbuilder.com\", \"vid\": \"VX26E62D90417F11E683D4E38D50A1238A23662K\", \"keywords\": \"python\", \"location\": \"los angeles\", \"jobs_word\": \"Jobs\", \"job_word\": \"Job\", \"defaultFilters\": {\"cat1\":\"\",\"cat2\":\"\",\"cat3\":\"\",\"cb_apply\":\"false\",\"emp\":\"all\",\"pay\":\"0\",\"posted\":\"30\",\"radius\":\"30\",\"sort\":\"relevance_desc\",\"map\":\"false\"}, \"request_is_internal\": false, \"back_to_search_path\": \"/jobs-python-in-los-angeles\", \"i18n\": {\"login_or_reg_required_save_job\":\"Sign in or register to save this job\",\"login_or_reg_required_default\":\"Sign in or register to use this feature\",\"saved\":\"Saved\",\"save\":\"Save Job\"}, \"visitor_id\": \"VX26E62D90417F11E683D4E38D50A1238A23662K\", \"site_id\": \"cbnsv\", \"host_site\": \"US\", \"user\": {\"authenticated\":null}, \"SingleSignOn\": {\"clientId\":\"81d4d612\",\"authenticated\":false,\"cbClientScriptUrl\":\"https://accounts.careerbuilder.com/share/hybrid/cblogin.aspx\",\"oauthjsEnabledForHostsite\":true,\"Page\":{}}\\n  };\\n</script>\\n<script>\\n  ScriptVars.host_site = 'US';\\n  ScriptVars.mobile_domain = 'm.careerbuilder.com';\\n  ScriptVars.country_code = 'us';\\n</script>\\n<script>\\n  window.dataLayer = [{\\n    \"site_id\":\"cbnsv\",\"session_id\":null,\"visitor_id\":\"VX26E62D90417F11E683D4E38D50A1238A23662K\",\"browser_id\":\"X1833AB774EF276FCB6F6A82C5E25E875ABA16AD7C8C77EE5A9622A8FA7651F4A32A8DFCC9A551D8E4A244618CF6F4C75A\",\"is_internal\":false,\"user_status\":\"Unknown\"\\n    , \"jrp_result_count\":37, \"jobsearch_evidence_id\":\"dd4ef795-9560-4576-af22-da1c330c35c3\", \"jobsearch_experiments\":\"lir:ignore,lirs:0,lcsr:8,ugns:test\", \\n  }]\\n</script>\\n<meta content=\"authenticity_token\" name=\"csrf-param\"/>\\n<meta content=\"yixe8PvYkD0dVPhv8/8rAHpPLMWfYTHYCSYbdZYuhjB64V34j+vPGfys6gpfOdruXhdioHcmZu0sUXNKxJtMnQ==\" name=\"csrf-token\"/>\\n<link href=\"http://www.careerbuilder.com/jobs-python-in-los-angeles,ca\" rel=\"canonical\"/>\\n<link href=\"http://www.careerbuilder.com/jobs-python-in-los-angeles?page_number=2\" rel=\"next\"/>\\n<meta content=\"Search and apply for Python Jobs in Los Angeles, CA hiring now on CareerBuilder.\" name=\"description\"/>\\n</head>\\n<body class=\"\">\\n<!-- Google Tag Manager -->\\n<noscript>\\n<iframe height=\"0\" src='//www.googletagmanager.com/ns.html?id=GTM-MLFVGH&amp;noscript=true&amp;browser_id=\"no_script_browser_id\"' style=\"display:none;visibility:hidden\" width=\"0\"></iframe>\\n</noscript>\\n<script id=\"google-tag-manager\">\\n      (function(w,d,s,l,i){w[l]=w[l]||[];w[l].push({'gtm.start':\\n      new Date().getTime(),event:'gtm.js'});var f=d.getElementsByTagName(s)[0],\\n      j=d.createElement(s),dl=l!='dataLayer'?'&l='+l:'';j.async=true;j.src=\\n      '//www.googletagmanager.com/gtm.js?id='+i+dl;f.parentNode.insertBefore(j,f);\\n      })(window,document,'script','dataLayer','GTM-MLFVGH');\\n      </script>\\n<!-- End Google Tag Manager -->\\n<script src=\"/assets/visual_web_optimizer-c9d9c067532295a9587ce7db328bd97e643e91653aec50f78574f7c1e7c3a1c6.js\"></script>\\n<div class=\"row\">\\n<div class=\"small-12 columns skip-navigation\">\\n<a href=\"#main-content\">Skip navigation</a>\\n</div>\\n</div>\\n<header id=\"header-main\">\\n<div class=\"row\" id=\"header-primary\">\\n<div class=\"small-2 columns hide-for-large-up\">\\n<div id=\"show-menu\">\\n<span class=\"fa fa-bars\"></span>\\n</div>\\n</div>\\n<div class=\"small-8 large-no-columns columns center-text\">\\n<a data-gtm=\"mobile-header|logo-home\" href=\"/\" id=\"header-logo\">\\n<img alt=\"Find Jobs at CareerBuilder\" height=\"32\" src=\"/assets/consumer_layouts/logo-eb9422713f74cd2ce626ee322e3af58d84e17f6ea2fa253abbee48639ff78ea5.svg\" width=\"210\"/>\\n</a>\\n</div>\\n<div class=\"small-2 columns text-right hide-for-large-up\">\\n</div>\\n<div id=\"header-menu\">\\n<div class=\"small-12 columns no-padding\">\\n<div class=\"hide-for-large-up\" id=\"header-menu-greeting\">\\n<div class=\"row\">\\n<div class=\"small-12 columns\">\\n<h2 class=\"light-weight\">\\nHello.\\n</h2>\\n</div>\\n</div>\\n<div class=\"row\">\\n<div class=\"small-12 columns\">\\n<h3 class=\"light-weight\">\\nSign in to find your next job.\\n</h3>\\n</div>\\n</div>\\n</div>\\n<div id=\"header-menu-links\">\\n<div class=\"show-for-large-up\" id=\"header-menu-employer-link\">\\n<a data-gtm=\"mobile-header|employer-home\" href=\"http://hiring.careerbuilder.com/recruitment-advertising/post-job-right-now\">Post Jobs</a>\\n</div>\\n<ul>\\n<li id=\"header-menu-authentication-links\">\\n<div class=\"row\">\\n<div class=\"small-6 large-no-columns columns header-menu-authentication-link\">\\n<a class=\"btn tertiary\" data-gtm=\"mobile-header|sign-in\" href=\"/user/sign-in\" id=\"header-menu-sign-in-link\"><span>\\n<span class=\"show-for-large-up\">\\n<div class=\"fa fa-lock\"></div>\\n</span>\\n</span>\\nSign In\\n</a></div>\\n<div class=\"small-6 large-no-columns columns header-menu-authentication-link\">\\n<a class=\"btn tertiary\" data-gtm=\"mobile-header|register\" href=\"/user/register\" id=\"header-menu-register-link\">Sign Up</a>\\n</div>\\n</div>\\n</li>\\n<a class=\"show-for-medium-down\" data-gtm=\"mobile-header|home\" href=\"/\"><li>Home</li>\\n</a><a data-gtm=\"mobile-header|add-resume\" href=\"/resumes/new\"><li>Add Resume</li>\\n</a><a data-gtm=\"mobile-header|browse-jobs\" href=\"/browse\" id=\"header-menu-browse-jobs-link\"><li>Browse Jobs</li>\\n</a><a data-gtm=\"mobile-header|coach-insights\" href=\"http://coach.careerbuilder.com\"><li>Explore Careers</li>\\n</a><a data-gtm=\"mobile-header|search-resources\" href=\"http://advice.careerbuilder.com\"><li>Search Resources</li>\\n</a><li class=\"header-menu-employer-text light-weight hide-for-large-up\">Looking to Hire?</li>\\n<a class=\"hide-for-large-up\" data-gtm=\"mobile-header|employer-home\" href=\"http://hiring.careerbuilder.com/recruitment-advertising/post-job-right-now\"><li>Post Jobs</li>\\n</a></ul>\\n</div>\\n</div>\\n</div>\\n</div>\\n<div class=\"row search-form\">\\n<form action=\"/jobs\" method=\"get\">\\n<article class=\"small-12 medium-5 columns search-form-column\">\\n<div class=\"search-input-container\">\\n<input class=\"search-input keywords\" data-autocomplete=\"keywords\" id=\"header-keywords\" name=\"keywords\" placeholder=\"Job Title, Skills, or Company\" type=\"text\" value=\"python\"/>\\n<label class=\"input-icon fa fa-search\" for=\"header-keywords\">\\n<span class=\"small-screen-search\">Search</span>\\n</label>\\n</div>\\n</article>\\n<article class=\"small-12 medium-5 columns search-form-column\">\\n<div class=\"search-input-container\">\\n<input class=\"search-input location\" data-autocomplete=\"location\" id=\"header-location\" name=\"location\" placeholder=\"City, State or ZIP\" type=\"text\" value=\"los angeles\"/>\\n<label class=\"input-icon fa fa-location-arrow\" for=\"header-location\">\\n<span class=\"accessibility-hide-text\">Location</span>\\n</label>\\n</div>\\n</article>\\n<article class=\"small-12 medium-2 columns search-form-column\">\\n<input class=\"btn search-jobs\" data-gtm=\"header_search_form_find_jobs_btn_clicked\" type=\"submit\" value=\"Find Jobs\"/>\\n</article>\\n</form>\\n</div>\\n</header>\\n<div class=\"job-results main-body\" id=\"main-content\">\\n<div class=\"page-header\">\\n<div class=\"row\">\\n<div class=\"small-12 columns\">\\n<h1>Python Jobs in Los Angeles, CA</h1>\\n<div class=\"count\">(37 Jobs)</div>\\n</div>\\n</div>\\n</div>\\n<div class=\"row\">\\n<div class=\"small-12 columns val-error-message hide\" id=\"ajax-error\"></div>\\n</div>\\n<div class=\"row top-user-actions\">\\n<div class=\"columns\">\\n<a class=\"bold\" data-gtm=\"jrp-job-list|view-recent-searches\" href=\"/recent-searches\">View Recent Searches</a>\\n<div class=\"related_searches show-for-large-up\">\\n<span class=\"related_separator show-for-large-up\">\\n|\\n</span>\\nRelated Searches:\\n<div class=\"related_search_links\">\\n<a class=\"crosslink\" data-gtm=\"jrp-crosslink|python developer\" href=\"/jobs-python-developer-in-los-angeles\">python developer</a>\\n<a class=\"crosslink\" data-gtm=\"jrp-crosslink|software engineer\" href=\"/jobs-software-engineer-in-los-angeles\">software engineer</a>\\n<a class=\"crosslink\" data-gtm=\"jrp-crosslink|linux engineer\" href=\"/jobs-linux-engineer-in-los-angeles\">linux engineer</a>\\n</div>\\n</div>\\n</div>\\n</div>\\n<div class=\"row\">\\n<div class=\"more-option\">\\n<div class=\"small-12 medium-3 columns\">\\n<div class=\"open-filters\">\\n<button class=\"btn secondary small-12 hide-for-large-up\" disabled=\"disabled\" id=\"btn-open-filter\">\\nFilter &amp; Sort (1)\\n</button>\\n</div>\\n</div>\\n</div>\\n</div>\\n<div class=\"row\">\\n<div class=\"small-12 large-2 columns no-padding\">\\n<div class=\"columns filter-reset show-for-large-up small-12\">\\n<a class=\"btn tertiary\" data-gtm=\"jrp-job-list|filter-reset-click\" href=\"/jobs-python-in-los-angeles\">Reset Filters</a>\\n</div>\\n<div class=\"filter-list small-12 columns show-for-large-up\">\\n<form action=\"/jobs\" id=\"filter-search-form\" method=\"get\">\\n<input id=\"filter-keywords\" name=\"keywords\" type=\"hidden\" value=\"python\"/>\\n<input id=\"filter-location\" name=\"location\" type=\"hidden\" value=\"los angeles\"/>\\n<div class=\"small-12 hide-for-large-up\">\\n<h3>Sort By</h3>\\n<dl class=\"accordion\">\\n<label class=\"accessibility-hide-text\" for=\"sort\">Sort By:</label>\\n<select class=\"drop-down-filter\" id=\"sort\" name=\"sort\">\\n<option disabled=\"disabled\">Sort By:</option>\\n<option selected=\"selected\" value=\"relevance_desc\">Relevance</option>\\n<option value=\"date_desc\">Date</option>\\n<option value=\"company_asc\">Company</option>\\n<option value=\"distance_asc\">Distance</option>\\n</select>\\n</dl>\\n</div>\\n<div class=\"small-12\">\\n<div class=\"hide-for-large-up filter-results-group\">\\n<h3 class=\"filter-results\">Filter Results</h3>\\n<a class=\"right\" data-gtm=\"jrp-job-list|filter-reset-click\" href=\"/jobs-python-in-los-angeles\">Reset Filters</a>\\n</div>\\n<dl class=\"accordion card\">\\n<dt class=\"posted-within accordion-active\">\\nDate Posted\\n</dt>\\n<dd class=\"posted-within active\">\\n<fieldset class=\"accessibility-hide\">\\n<legend class=\"accessibility-hide-text\">Date Posted</legend>\\n<ul>\\n<li class=\"filter-option\">\\n<input data-tag=\"filters-date-posted-1\" id=\"posted_1\" name=\"posted\" type=\"radio\" value=\"1\"/>\\n<label for=\"posted_1\">24 hours</label>\\n</li>\\n<li class=\"filter-option\">\\n<input data-tag=\"filters-date-posted-3\" id=\"posted_3\" name=\"posted\" type=\"radio\" value=\"3\"/>\\n<label for=\"posted_3\">3 days</label>\\n</li>\\n<li class=\"filter-option\">\\n<input data-tag=\"filters-date-posted-7\" id=\"posted_7\" name=\"posted\" type=\"radio\" value=\"7\"/>\\n<label for=\"posted_7\">7 days</label>\\n</li>\\n<li class=\"filter-option\">\\n<input checked=\"checked\" data-tag=\"filters-date-posted-30\" id=\"posted_30\" name=\"posted\" type=\"radio\" value=\"30\"/>\\n<label for=\"posted_30\">30 days</label>\\n</li>\\n</ul>\\n</fieldset>\\n</dd>\\n<dt class=\"distance accordion-active\">\\nDistance\\n</dt>\\n<dd class=\"distance active\">\\n<fieldset class=\"accessibility-hide\">\\n<legend class=\"accessibility-hide-text\">Distance</legend>\\n<ul>\\n<li class=\"filter-option\">\\n<input data-tag=\"filters-distance-5\" id=\"radius_5\" name=\"radius\" type=\"radio\" value=\"5\"/>\\n<label for=\"radius_5\">5 miles</label>\\n</li>\\n<li class=\"filter-option\">\\n<input data-tag=\"filters-distance-10\" id=\"radius_10\" name=\"radius\" type=\"radio\" value=\"10\"/>\\n<label for=\"radius_10\">10 miles</label>\\n</li>\\n<li class=\"filter-option\">\\n<input checked=\"checked\" data-tag=\"filters-distance-30\" id=\"radius_30\" name=\"radius\" type=\"radio\" value=\"30\"/>\\n<label for=\"radius_30\">30 miles</label>\\n</li>\\n<li class=\"filter-option\">\\n<input data-tag=\"filters-distance-50\" id=\"radius_50\" name=\"radius\" type=\"radio\" value=\"50\"/>\\n<label for=\"radius_50\">50 miles</label>\\n</li>\\n</ul>\\n</fieldset>\\n</dd>\\n<dt class=\"employment-type accordion-active\">\\nEmployment Type\\n</dt>\\n<dd class=\"employment-type active\">\\n<fieldset class=\"accessibility-hide\">\\n<legend class=\"accessibility-hide-text\">Employment Type</legend>\\n<ul>\\n<li class=\"filter-option\">\\n<input checked=\"checked\" class=\"emp\" data-tag=\"filters-emp-type-all\" id=\"emp_all\" type=\"checkbox\" value=\"all\"/>\\n<label for=\"emp_all\">All</label>\\n</li>\\n<li class=\"filter-option\">\\n<input class=\"emp emp-type\" data-tag=\"filters-emp-type-full-time\" id=\"emp_jtft\" type=\"checkbox\" value=\"jtft\"/>\\n<label for=\"emp_jtft\">Full Time</label>\\n</li>\\n<li class=\"filter-option\">\\n<input class=\"emp emp-type\" data-tag=\"filters-emp-type-part-time\" id=\"emp_jtpt\" type=\"checkbox\" value=\"jtpt\"/>\\n<label for=\"emp_jtpt\">Part Time</label>\\n</li>\\n<li class=\"filter-option\">\\n<input class=\"emp emp-type\" data-tag=\"filters-emp-type-contractor\" id=\"emp_jtct\" type=\"checkbox\" value=\"jtct\"/>\\n<label for=\"emp_jtct\">Contractor</label>\\n</li>\\n<li class=\"filter-option\">\\n<input class=\"emp emp-type\" data-tag=\"filters-emp-type-contract-to-hire\" id=\"emp_jtch\" type=\"checkbox\" value=\"jtch\"/>\\n<label for=\"emp_jtch\">Contract to Hire</label>\\n</li>\\n<li class=\"filter-option\">\\n<input class=\"emp emp-type\" data-tag=\"filters-emp-type-intern\" id=\"emp_jtin\" type=\"checkbox\" value=\"jtin\"/>\\n<label for=\"emp_jtin\">Intern</label>\\n</li>\\n<li class=\"filter-option\">\\n<input class=\"emp emp-type\" data-tag=\"filters-emp-type-seasonal-temp\" id=\"emp_jtse\" type=\"checkbox\" value=\"jtse\"/>\\n<label for=\"emp_jtse\">Seasonal / Temp</label>\\n</li>\\n</ul>\\n</fieldset>\\n<input id=\"emp\" name=\"emp\" type=\"hidden\" value=\"all\"/>\\n</dd>\\n<dt class=\"yearly-pay accordion-active\">\\nAnnual Pay\\n</dt>\\n<dd class=\"yearly-pay active\">\\n<fieldset class=\"accessibility-hide\">\\n<legend class=\"accessibility-hide-text\">Annual Pay</legend>\\n<ul>\\n<li class=\"filter-option\">\\n<input data-tag=\"filters-salary-0\" id=\"pay_0\" name=\"pay\" type=\"radio\" value=\"0\"/>\\n<label for=\"pay_0\">Any</label>\\n</li>\\n<li class=\"filter-option\">\\n<input checked=\"checked\" data-tag=\"filters-salary-20\" id=\"pay_20\" name=\"pay\" type=\"radio\" value=\"20\"/>\\n<label for=\"pay_20\">$20,000+</label>\\n</li>\\n<li class=\"filter-option\">\\n<input data-tag=\"filters-salary-40\" id=\"pay_40\" name=\"pay\" type=\"radio\" value=\"40\"/>\\n<label for=\"pay_40\">$40,000+</label>\\n</li>\\n<li class=\"filter-option\">\\n<input data-tag=\"filters-salary-60\" id=\"pay_60\" name=\"pay\" type=\"radio\" value=\"60\"/>\\n<label for=\"pay_60\">$60,000+</label>\\n</li>\\n<li class=\"filter-option\">\\n<input data-tag=\"filters-salary-80\" id=\"pay_80\" name=\"pay\" type=\"radio\" value=\"80\"/>\\n<label for=\"pay_80\">$80,000+</label>\\n</li>\\n<li class=\"filter-option\">\\n<input data-tag=\"filters-salary-100\" id=\"pay_100\" name=\"pay\" type=\"radio\" value=\"100\"/>\\n<label for=\"pay_100\">$100,000+</label>\\n</li>\\n<li class=\"filter-option\">\\n<input data-tag=\"filters-salary-120\" id=\"pay_120\" name=\"pay\" type=\"radio\" value=\"120\"/>\\n<label for=\"pay_120\">$120,000+</label>\\n</li>\\n</ul>\\n</fieldset>\\n</dd>\\n<dt class=\"job-category accordion-active\">\\nCompany\\n</dt>\\n<dd class=\"job-category active\">\\n<fieldset class=\"accessibility-hide\">\\n<legend class=\"accessibility-hide-text\">Company</legend>\\n<label class=\"accessibility-hide-text\" for=\"company\">\\nCompany\\n</label>\\n<select id=\"company\" name=\"company\">\\n<option value=\"\">All</option>\\n<option data-tag=\"filters-company-Adam Jacobs Associates\" value=\"Adam Jacobs Associates\">Adam Jacobs Associates (1)</option>\\n<option data-tag=\"filters-company-CyberCoders\" value=\"CyberCoders\">CyberCoders (40)</option>\\n<option data-tag=\"filters-company-Kforce Technology\" value=\"Kforce Technology\">Kforce Technology (1)</option>\\n<option data-tag=\"filters-company-Ledgent Technology &amp; Engineering\" value=\"Ledgent Technology &amp; Engineering\">Ledgent Technology &amp; Engineering (1)</option>\\n<option data-tag=\"filters-company-Los Angeles Police Federal Credit Union\" value=\"Los Angeles Police Federal Credit Union\">Los Angeles Police Federal Credit Union (2)</option>\\n<option data-tag=\"filters-company-Robert Half Technology\" value=\"Robert Half Technology\">Robert Half Technology (6)</option>\\n<option data-tag=\"filters-company-TEKsystems, Inc\" value=\"TEKsystems, Inc\">TEKsystems, Inc (1)</option>\\n<option data-tag=\"filters-company-The Creative Group\" value=\"The Creative Group\">The Creative Group (1)</option>\\n</select>\\n</fieldset>\\n</dd>\\n<dt class=\"job-category accordion-active\">\\nJob Category\\n</dt>\\n<dd class=\"job-category active\">\\n<fieldset class=\"accessibility-hide\">\\n<legend class=\"accessibility-hide-text\">Job Category</legend>\\n<label class=\"accessibility-hide-text\" for=\"cat1\">\\nCategory\\n</label>\\n<select id=\"cat1\" name=\"cat1\">\\n<option value=\"\">Select</option>\\n<option data-tag=\"filters-category-JN020\" value=\"JN020\">Consultant (1)</option>\\n<option data-tag=\"filters-category-JN021\" value=\"JN021\">Design (10)</option>\\n<option data-tag=\"filters-category-JN004\" value=\"JN004\">Engineering (50)</option>\\n<option data-tag=\"filters-category-JN018\" value=\"JN018\">Executive (1)</option>\\n<option data-tag=\"filters-category-JN008\" value=\"JN008\">Information Technology (55)</option>\\n<option data-tag=\"filters-category-JN037\" value=\"JN037\">Management (9)</option>\\n<option data-tag=\"filters-category-JN009\" value=\"JN009\">Marketing (2)</option>\\n<option data-tag=\"filters-category-JN010\" value=\"JN010\">Other (9)</option>\\n<option data-tag=\"filters-category-JN024\" value=\"JN024\">Professional Services (40)</option>\\n<option data-tag=\"filters-category-JN025\" value=\"JN025\">QA - Quality Control (4)</option>\\n<option data-tag=\"filters-category-JN026\" value=\"JN026\">Research (1)</option>\\n<option data-tag=\"filters-category-JN011\" value=\"JN011\">Sales (1)</option>\\n<option data-tag=\"filters-category-JN012\" value=\"JN012\">Science (3)</option>\\n</select>\\n<label class=\"accessibility-hide-text\" for=\"cat2\">\\nCategory\\n</label>\\n<select id=\"cat2\" name=\"cat2\">\\n<option value=\"\">Select</option>\\n<option data-tag=\"filters-category-JN020\" value=\"JN020\">Consultant (1)</option>\\n<option data-tag=\"filters-category-JN021\" value=\"JN021\">Design (10)</option>\\n<option data-tag=\"filters-category-JN004\" value=\"JN004\">Engineering (50)</option>\\n<option data-tag=\"filters-category-JN018\" value=\"JN018\">Executive (1)</option>\\n<option data-tag=\"filters-category-JN008\" value=\"JN008\">Information Technology (55)</option>\\n<option data-tag=\"filters-category-JN037\" value=\"JN037\">Management (9)</option>\\n<option data-tag=\"filters-category-JN009\" value=\"JN009\">Marketing (2)</option>\\n<option data-tag=\"filters-category-JN010\" value=\"JN010\">Other (9)</option>\\n<option data-tag=\"filters-category-JN024\" value=\"JN024\">Professional Services (40)</option>\\n<option data-tag=\"filters-category-JN025\" value=\"JN025\">QA - Quality Control (4)</option>\\n<option data-tag=\"filters-category-JN026\" value=\"JN026\">Research (1)</option>\\n<option data-tag=\"filters-category-JN011\" value=\"JN011\">Sales (1)</option>\\n<option data-tag=\"filters-category-JN012\" value=\"JN012\">Science (3)</option>\\n</select>\\n<label class=\"accessibility-hide-text\" for=\"cat3\">\\nCategory\\n</label>\\n<select id=\"cat3\" name=\"cat3\">\\n<option value=\"\">Select</option>\\n<option data-tag=\"filters-category-JN020\" value=\"JN020\">Consultant (1)</option>\\n<option data-tag=\"filters-category-JN021\" value=\"JN021\">Design (10)</option>\\n<option data-tag=\"filters-category-JN004\" value=\"JN004\">Engineering (50)</option>\\n<option data-tag=\"filters-category-JN018\" value=\"JN018\">Executive (1)</option>\\n<option data-tag=\"filters-category-JN008\" value=\"JN008\">Information Technology (55)</option>\\n<option data-tag=\"filters-category-JN037\" value=\"JN037\">Management (9)</option>\\n<option data-tag=\"filters-category-JN009\" value=\"JN009\">Marketing (2)</option>\\n<option data-tag=\"filters-category-JN010\" value=\"JN010\">Other (9)</option>\\n<option data-tag=\"filters-category-JN024\" value=\"JN024\">Professional Services (40)</option>\\n<option data-tag=\"filters-category-JN025\" value=\"JN025\">QA - Quality Control (4)</option>\\n<option data-tag=\"filters-category-JN026\" value=\"JN026\">Research (1)</option>\\n<option data-tag=\"filters-category-JN011\" value=\"JN011\">Sales (1)</option>\\n<option data-tag=\"filters-category-JN012\" value=\"JN012\">Science (3)</option>\\n</select>\\n</fieldset>\\n</dd>\\n<div class=\"simple-filter\">\\nCareerBuilder Apply Only\\n<div class=\"cb-apply-only-toggle toggle-section\">\\n<input class=\"slide-toggle cb-apply-toggle\" data-tag=\"filters-cb-apply-only\" id=\"cb-only\" type=\"checkbox\"/>\\n<label data-off=\"NO\" data-on=\"YES\" for=\"cb-only\"></label>\\n</div>\\n<input id=\"cb_apply\" name=\"cb_apply\" type=\"hidden\" value=\"false\"/>\\n</div>\\n</dl>\\n</div>\\n<div class=\"row\">\\n<div class=\"small-6 hide-for-large-up columns\">\\n<input class=\"btn\" id=\"btn-apply-filter\" type=\"submit\" value=\"Done\"/>\\n</div>\\n<div class=\"small-6 hide-for-large-up columns\">\\n<button class=\"btn negative\" id=\"btn-close-filter\">\\nCancel\\n</button>\\n</div>\\n</div>\\n<div class=\"row\">\\n<div class=\"side-ad-container\">\\n<div class=\"show-for-large-up large-12 columns\">\\n<div class=\"side-ad\"></div>\\n<h5>\\nADVERTISEMENT\\n</h5>\\n</div>\\n</div>\\n</div>\\n</form>\\n</div>\\n</div>\\n<div class=\"small-12 large-10 columns\">\\n<div class=\"results-area\">\\n<div class=\"job-list card\" data-count=\"25\">\\n<div class=\"show-for-large-up sort-by\" id=\"sort-links\">\\n<div class=\"sorting-options\">\\nSort By:\\n<a class=\"selected-sort-option\" href=\"/jobs-python-in-los-angeles?pay=20&amp;sort=relevance_desc\">Relevance</a>\\n|\\n<a href=\"/jobs-python-in-los-angeles?pay=20&amp;sort=date_desc\">Date</a>\\n|\\n<a href=\"/jobs-python-in-los-angeles?pay=20&amp;sort=company_asc\">Company</a>\\n|\\n<a href=\"/jobs-python-in-los-angeles?pay=20&amp;sort=distance_asc\">Distance</a>\\n</div>\\n</div>\\n<div class=\"jobs\">\\n<div class=\"job-row\">\\n<div class=\"row\">\\n<div class=\"column\">\\n<div class=\"cb-apply-indicator\">CAREERBUILDER APPLY</div>\\n</div>\\n</div>\\n<div class=\"row\">\\n<div class=\"column small-10\">\\n<h2 class=\"job-title\">\\n<a data-company-did=\"chq0vp6bknrr4w2y7pw\" data-gtm=\"jrp-job-list|job-title-click|1\" data-job-did=\"J3F4996D370B8GMVSJL\" href=\"/job/J3F4996D370B8GMVSJL?ipath=JRG1&amp;searchid=dd4ef795-9560-4576-af22-da1c330c35c3&amp;siteid=cbnsv\">Python Engineer - Love For Data - 99% WORK FROM HOME!</a>\\n</h2>\\n</div>\\n<div class=\"column small-2 time-posted\">\\n<div class=\"hide-for-medium-up\">\\n2d\\n</div>\\n<div class=\"show-for-medium-up\">\\n<em>\\n1 day ago\\n</em>\\n</div>\\n</div>\\n</div>\\n<div class=\"row job-information\">\\n<div class=\"columns medium-6\">\\n<h4 class=\"job-text employment-info\">\\nFull-Time | Pay: $100k - $140k/year\\n</h4>\\n<div class=\"job-description show-for-medium-up\">\\nThis position is open as of 7/3/2016. Python Engineer - Love For Data! We are a data-driven web company whose technologies are used by thousands of companies to increase marketing campaign exposure, reach normally unreachable audiences, and keep their bra\\n</div>\\n</div>\\n<div class=\"columns small-12 medium-3\">\\n<h4 class=\"job-text\">\\n<a data-company-did=\"chq0vp6bknrr4w2y7pw\" data-gtm=\"jrp-job-list|company-click|1\" data-job-did=\"J3F4996D370B8GMVSJL\" href=\"/company/chq0vp6bknrr4w2y7pw?ipath=JRG1\">CyberCoders</a>\\n</h4>\\n</div>\\n<div class=\"columns small-12 medium-3 end\">\\n<h4 class=\"job-text\">\\nLos Angeles, CA\\n</h4>\\n<h4 class=\"job-distance\">\\n5 miles\\n\\n</h4>\\n</div>\\n</div>\\n<div class=\"row user-actions\">\\n<div class=\"small-12 columns job-actions\" data-job-did=\"J3F4996D370B8GMVSJL\">\\n<span class=\"loading save-job\">\\n<a href=\"#\">\\n<span class=\"fa fa-star-o\"></span>\\nSave Job\\n</a>\\n</span>\\n<span class=\"hide saved-job\" js='{:id=&gt;\"\"}'>\\n<a class=\"saved-job-text\" href=\"#\">\\n<span class=\"fa fa-star\"></span>\\nSaved Job\\n</a>\\n<a href=\"/saved-jobs\">(View Saved Jobs)</a>\\n</span>\\n<a class=\"email-job-jrp\" data-gtm=\"jrp-job-list|email-link\" data-job-did=\"J3F4996D370B8GMVSJL\" href=\"#\">\\n<span class=\"fa fa-envelope\"></span>\\nEmail Job\\n</a>\\n</div>\\n</div>\\n</div>\\n<div class=\"job-row\">\\n<div class=\"row\">\\n<div class=\"column\">\\n<div class=\"cb-apply-indicator\">CAREERBUILDER APPLY</div>\\n</div>\\n</div>\\n<div class=\"row\">\\n<div class=\"column small-10\">\\n<h2 class=\"job-title\">\\n<a data-company-did=\"chq0vp6bknrr4w2y7pw\" data-gtm=\"jrp-job-list|job-title-click|2\" data-job-did=\"J3L6QM5YFTG9XDSBSV0\" href=\"/job/J3L6QM5YFTG9XDSBSV0?ipath=JRG2&amp;searchid=dd4ef795-9560-4576-af22-da1c330c35c3&amp;siteid=cbnsv\">Python Engineer</a>\\n</h2>\\n</div>\\n<div class=\"column small-2 time-posted\">\\n<div class=\"hide-for-medium-up\">\\n6d\\n</div>\\n<div class=\"show-for-medium-up\">\\n<em>\\n6 days ago\\n</em>\\n</div>\\n</div>\\n</div>\\n<div class=\"row job-information\">\\n<div class=\"columns medium-6\">\\n<h4 class=\"job-text employment-info\">\\nFull-Time | Pay: $80k - $130k/year\\n</h4>\\n<div class=\"job-description show-for-medium-up\">\\nThis position is open as of 7/3/2016. Python Engineer Are you a Senior Software Developer with Python experience and have worked on consumer-facing sites that reach millions? If so, your mom wouldn't want you to miss out... What You Need for this Position\\n</div>\\n</div>\\n<div class=\"columns small-12 medium-3\">\\n<h4 class=\"job-text\">\\n<a data-company-did=\"chq0vp6bknrr4w2y7pw\" data-gtm=\"jrp-job-list|company-click|2\" data-job-did=\"J3L6QM5YFTG9XDSBSV0\" href=\"/company/chq0vp6bknrr4w2y7pw?ipath=JRG2\">CyberCoders</a>\\n</h4>\\n</div>\\n<div class=\"columns small-12 medium-3 end\">\\n<h4 class=\"job-text\">\\nLos Angeles, CA\\n</h4>\\n<h4 class=\"job-distance\">\\n5 miles\\n<h4>\\n<a class=\"company-collapse-link\" data-company-did=\"chq0vp6bknrr4w2y7pw\" data-gtm=\"jrp-job-list|more-company-jobs|2\" data-job-did=\"J3L6QM5YFTG9XDSBSV0\" href=\"/jobs-python-in-los-angeles?company_name=CyberCoders&amp;grouping_value=6f34c9375ca1258bd25f25ecbf0692a9&amp;pay=20&amp;sort=distance_asc\">View 13 more</a>\\n</h4>\\n</h4>\\n</div>\\n</div>\\n<div class=\"row user-actions\">\\n<div class=\"small-12 columns job-actions\" data-job-did=\"J3L6QM5YFTG9XDSBSV0\">\\n<span class=\"loading save-job\">\\n<a href=\"#\">\\n<span class=\"fa fa-star-o\"></span>\\nSave Job\\n</a>\\n</span>\\n<span class=\"hide saved-job\" js='{:id=&gt;\"\"}'>\\n<a class=\"saved-job-text\" href=\"#\">\\n<span class=\"fa fa-star\"></span>\\nSaved Job\\n</a>\\n<a href=\"/saved-jobs\">(View Saved Jobs)</a>\\n</span>\\n<a class=\"email-job-jrp\" data-gtm=\"jrp-job-list|email-link\" data-job-did=\"J3L6QM5YFTG9XDSBSV0\" href=\"#\">\\n<span class=\"fa fa-envelope\"></span>\\nEmail Job\\n</a>\\n</div>\\n</div>\\n</div>\\n<div class=\"job-row\">\\n<div class=\"row\">\\n<div class=\"column\">\\n<div class=\"cb-apply-indicator\">CAREERBUILDER APPLY</div>\\n</div>\\n</div>\\n<div class=\"row\">\\n<div class=\"column small-10\">\\n<h2 class=\"job-title\">\\n<a data-company-did=\"\" data-gtm=\"jrp-job-list|job-title-click|3\" data-job-did=\"JHQ0D16HT6C08XH2W7T\" href=\"/job/JHQ0D16HT6C08XH2W7T?ipath=JRG3&amp;searchid=dd4ef795-9560-4576-af22-da1c330c35c3&amp;siteid=cbnsv\">Python/Django Developer</a>\\n</h2>\\n</div>\\n<div class=\"column small-2 time-posted\">\\n<div class=\"hide-for-medium-up\">\\n1w\\n</div>\\n<div class=\"show-for-medium-up\">\\n<em>\\n1 week ago\\n</em>\\n</div>\\n</div>\\n</div>\\n<div class=\"row job-information\">\\n<div class=\"columns medium-6\">\\n<h4 class=\"job-text employment-info\">\\nFull-Time | Pay: $50k - $90k/year\\n</h4>\\n<div class=\"job-description show-for-medium-up\">\\nAbout the Company: A leader in providing software training is in need for a Python/Django to join their company. This is an exciting role to take ownership of an existing application and build out new features.\\n</div>\\n</div>\\n<div class=\"columns small-12 medium-3\">\\n<h4 class=\"job-text\">\\nConfidential\\n</h4>\\n</div>\\n<div class=\"columns small-12 medium-3 end\">\\n<h4 class=\"job-text\">\\nOrange, CA\\n</h4>\\n<h4 class=\"job-distance\">\\n27 miles\\n\\n</h4>\\n</div>\\n</div>\\n<div class=\"row user-actions\">\\n<div class=\"small-12 columns job-actions\" data-job-did=\"JHQ0D16HT6C08XH2W7T\">\\n<span class=\"loading save-job\">\\n<a href=\"#\">\\n<span class=\"fa fa-star-o\"></span>\\nSave Job\\n</a>\\n</span>\\n<span class=\"hide saved-job\" js='{:id=&gt;\"\"}'>\\n<a class=\"saved-job-text\" href=\"#\">\\n<span class=\"fa fa-star\"></span>\\nSaved Job\\n</a>\\n<a href=\"/saved-jobs\">(View Saved Jobs)</a>\\n</span>\\n<a class=\"email-job-jrp\" data-gtm=\"jrp-job-list|email-link\" data-job-did=\"JHQ0D16HT6C08XH2W7T\" href=\"#\">\\n<span class=\"fa fa-envelope\"></span>\\nEmail Job\\n</a>\\n</div>\\n</div>\\n</div>\\n<div class=\"job-row\">\\n<div class=\"row\">\\n<div class=\"column\">\\n<div class=\"cb-apply-indicator\">CAREERBUILDER APPLY</div>\\n</div>\\n</div>\\n<div class=\"row\">\\n<div class=\"column small-10\">\\n<h2 class=\"job-title\">\\n<a data-company-did=\"\" data-gtm=\"jrp-job-list|job-title-click|4\" data-job-did=\"J9060N6L8WS8SNHT7LZ\" href=\"/job/J9060N6L8WS8SNHT7LZ?ipath=JRG4&amp;searchid=dd4ef795-9560-4576-af22-da1c330c35c3&amp;siteid=cbnsv\">Senior QA Engineer</a>\\n</h2>\\n</div>\\n<div class=\"column small-2 time-posted\">\\n<div class=\"hide-for-medium-up\">\\n4w\\n</div>\\n<div class=\"show-for-medium-up\">\\n<em>\\n4 weeks ago\\n</em>\\n</div>\\n</div>\\n</div>\\n<div class=\"row job-information\">\\n<div class=\"columns medium-6\">\\n<h4 class=\"job-text employment-info\">\\nFull-Time | Pay: $100k - $120k/year\\n</h4>\\n<div class=\"job-description show-for-medium-up\">\\nDescription: A highly innovative energy solutions startup is looking to hire a Senior QA Engineer. This company\\xa0focuses on providing energy saving solutions for a wide variety of industries, and turning the analytics into useful management tools for their\\n</div>\\n</div>\\n<div class=\"columns small-12 medium-3\">\\n<h4 class=\"job-text\">\\nConfidential\\n</h4>\\n</div>\\n<div class=\"columns small-12 medium-3 end\">\\n<h4 class=\"job-text\">\\nManhattan Beach, CA\\n</h4>\\n<h4 class=\"job-distance\">\\n13 miles\\n\\n</h4>\\n</div>\\n</div>\\n<div class=\"row user-actions\">\\n<div class=\"small-12 columns job-actions\" data-job-did=\"J9060N6L8WS8SNHT7LZ\">\\n<span class=\"loading save-job\">\\n<a href=\"#\">\\n<span class=\"fa fa-star-o\"></span>\\nSave Job\\n</a>\\n</span>\\n<span class=\"hide saved-job\" js='{:id=&gt;\"\"}'>\\n<a class=\"saved-job-text\" href=\"#\">\\n<span class=\"fa fa-star\"></span>\\nSaved Job\\n</a>\\n<a href=\"/saved-jobs\">(View Saved Jobs)</a>\\n</span>\\n<a class=\"email-job-jrp\" data-gtm=\"jrp-job-list|email-link\" data-job-did=\"J9060N6L8WS8SNHT7LZ\" href=\"#\">\\n<span class=\"fa fa-envelope\"></span>\\nEmail Job\\n</a>\\n</div>\\n</div>\\n</div>\\n<div class=\"job-row\">\\n<div class=\"row\">\\n<div class=\"column\">\\n<div class=\"cb-apply-indicator\">CAREERBUILDER APPLY</div>\\n</div>\\n</div>\\n<div class=\"row\">\\n<div class=\"column small-10\">\\n<h2 class=\"job-title\">\\n<a data-company-did=\"chq0vp6bknrr4w2y7pw\" data-gtm=\"jrp-job-list|job-title-click|5\" data-job-did=\"J3G18K66GRHDCWR166Z\" href=\"/job/J3G18K66GRHDCWR166Z?ipath=JRG5&amp;searchid=dd4ef795-9560-4576-af22-da1c330c35c3&amp;siteid=cbnsv\">Lead Linux Administrator</a>\\n</h2>\\n</div>\\n<div class=\"column small-2 time-posted\">\\n<div class=\"hide-for-medium-up\">\\n5d\\n</div>\\n<div class=\"show-for-medium-up\">\\n<em>\\n5 days ago\\n</em>\\n</div>\\n</div>\\n</div>\\n<div class=\"row job-information\">\\n<div class=\"columns medium-6\">\\n<h4 class=\"job-text employment-info\">\\nFull-Time | Pay: $100k - $140k/year\\n</h4>\\n<div class=\"job-description show-for-medium-up\">\\nThis position is open as of 7/3/2016. Lead Linux Administrator - Python, Perl, R If you are a Lead Linux Administrator with experience, please read on! Top Reasons to Work with Us 1. Competitive compensation with complete medical benefits, 401(k), etc. 2.\\n</div>\\n</div>\\n<div class=\"columns small-12 medium-3\">\\n<h4 class=\"job-text\">\\n<a data-company-did=\"chq0vp6bknrr4w2y7pw\" data-gtm=\"jrp-job-list|company-click|5\" data-job-did=\"J3G18K66GRHDCWR166Z\" href=\"/company/chq0vp6bknrr4w2y7pw?ipath=JRG5\">CyberCoders</a>\\n</h4>\\n</div>\\n<div class=\"columns small-12 medium-3 end\">\\n<h4 class=\"job-text\">\\nLos Angeles, CA\\n</h4>\\n<h4 class=\"job-distance\">\\n4 miles\\n\\n</h4>\\n</div>\\n</div>\\n<div class=\"row user-actions\">\\n<div class=\"small-12 columns job-actions\" data-job-did=\"J3G18K66GRHDCWR166Z\">\\n<span class=\"loading save-job\">\\n<a href=\"#\">\\n<span class=\"fa fa-star-o\"></span>\\nSave Job\\n</a>\\n</span>\\n<span class=\"hide saved-job\" js='{:id=&gt;\"\"}'>\\n<a class=\"saved-job-text\" href=\"#\">\\n<span class=\"fa fa-star\"></span>\\nSaved Job\\n</a>\\n<a href=\"/saved-jobs\">(View Saved Jobs)</a>\\n</span>\\n<a class=\"email-job-jrp\" data-gtm=\"jrp-job-list|email-link\" data-job-did=\"J3G18K66GRHDCWR166Z\" href=\"#\">\\n<span class=\"fa fa-envelope\"></span>\\nEmail Job\\n</a>\\n</div>\\n</div>\\n</div>\\n<div class=\"job-row\">\\n<div class=\"top-ad-container\">\\n<div class=\"show-for-medium-up\">\\n<div class=\"top-ad center-text\"></div>\\n<h5 class=\"center-text\">\\nADVERTISEMENT\\n</h5>\\n<hr/>\\n</div>\\n</div>\\n<div class=\"row\">\\n<div class=\"column\">\\n<div class=\"cb-apply-indicator\">CAREERBUILDER APPLY</div>\\n</div>\\n</div>\\n<div class=\"row\">\\n<div class=\"column small-10\">\\n<h2 class=\"job-title\">\\n<a data-company-did=\"chq0vp6bknrr4w2y7pw\" data-gtm=\"jrp-job-list|job-title-click|6\" data-job-did=\"J3H74F5Z7B5J8DS8WKN\" href=\"/job/J3H74F5Z7B5J8DS8WKN?ipath=JRG6&amp;searchid=dd4ef795-9560-4576-af22-da1c330c35c3&amp;siteid=cbnsv\">Lead QA Engineer</a>\\n</h2>\\n</div>\\n<div class=\"column small-2 time-posted\">\\n<div class=\"hide-for-medium-up\">\\n4d\\n</div>\\n<div class=\"show-for-medium-up\">\\n<em>\\n4 days ago\\n</em>\\n</div>\\n</div>\\n</div>\\n<div class=\"row job-information\">\\n<div class=\"columns medium-6\">\\n<h4 class=\"job-text employment-info\">\\nFull-Time | Pay: $100k - $130k/year\\n</h4>\\n<div class=\"job-description show-for-medium-up\">\\nThis position is open as of 7/3/2016. Senior Python Engineer Are you a Lead QA Engineer with automation experience? If so, read on... We are backed by Socal's #1 VC Firm and are the social, mobile and web\\xadbased online platform of choice by our customers!\\n</div>\\n</div>\\n<div class=\"columns small-12 medium-3\">\\n<h4 class=\"job-text\">\\n<a data-company-did=\"chq0vp6bknrr4w2y7pw\" data-gtm=\"jrp-job-list|company-click|6\" data-job-did=\"J3H74F5Z7B5J8DS8WKN\" href=\"/company/chq0vp6bknrr4w2y7pw?ipath=JRG6\">CyberCoders</a>\\n</h4>\\n</div>\\n<div class=\"columns small-12 medium-3 end\">\\n<h4 class=\"job-text\">\\nVenice, CA\\n</h4>\\n<h4 class=\"job-distance\">\\n13 miles\\n\\n</h4>\\n</div>\\n</div>\\n<div class=\"row user-actions\">\\n<div class=\"small-12 columns job-actions\" data-job-did=\"J3H74F5Z7B5J8DS8WKN\">\\n<span class=\"loading save-job\">\\n<a href=\"#\">\\n<span class=\"fa fa-star-o\"></span>\\nSave Job\\n</a>\\n</span>\\n<span class=\"hide saved-job\" js='{:id=&gt;\"\"}'>\\n<a class=\"saved-job-text\" href=\"#\">\\n<span class=\"fa fa-star\"></span>\\nSaved Job\\n</a>\\n<a href=\"/saved-jobs\">(View Saved Jobs)</a>\\n</span>\\n<a class=\"email-job-jrp\" data-gtm=\"jrp-job-list|email-link\" data-job-did=\"J3H74F5Z7B5J8DS8WKN\" href=\"#\">\\n<span class=\"fa fa-envelope\"></span>\\nEmail Job\\n</a>\\n</div>\\n</div>\\n</div>\\n<div class=\"job-row\">\\n<div class=\"row\">\\n<div class=\"column\">\\n<div class=\"cb-apply-indicator\">CAREERBUILDER APPLY</div>\\n</div>\\n</div>\\n<div class=\"row\">\\n<div class=\"column small-10\">\\n<h2 class=\"job-title\">\\n<a data-company-did=\"chq0vp6bknrr4w2y7pw\" data-gtm=\"jrp-job-list|job-title-click|7\" data-job-did=\"J3L4D865LF445FKLNJ9\" href=\"/job/J3L4D865LF445FKLNJ9?ipath=JRG7&amp;searchid=dd4ef795-9560-4576-af22-da1c330c35c3&amp;siteid=cbnsv\">REMOTE DevOps Engineer - Cloud, Automation, AWS</a>\\n</h2>\\n</div>\\n<div class=\"column small-2 time-posted\">\\n<div class=\"hide-for-medium-up\">\\n5d\\n</div>\\n<div class=\"show-for-medium-up\">\\n<em>\\n5 days ago\\n</em>\\n</div>\\n</div>\\n</div>\\n<div class=\"row job-information\">\\n<div class=\"columns medium-6\">\\n<h4 class=\"job-text employment-info\">\\nFull-Time | Pay: $140k - $175k/year\\n</h4>\\n<div class=\"job-description show-for-medium-up\">\\nThis position is open as of 7/3/2016. REMOTE DevOps Engineer - Cloud, Automation, AWS If you are a DevOps Engineer with a strong Cloud Computing background (AWS, Azure, etc.) and are open to work remotely - please read on! We are a widely used Cloud Compu\\n</div>\\n</div>\\n<div class=\"columns small-12 medium-3\">\\n<h4 class=\"job-text\">\\n<a data-company-did=\"chq0vp6bknrr4w2y7pw\" data-gtm=\"jrp-job-list|company-click|7\" data-job-did=\"J3L4D865LF445FKLNJ9\" href=\"/company/chq0vp6bknrr4w2y7pw?ipath=JRG7\">CyberCoders</a>\\n</h4>\\n</div>\\n<div class=\"columns small-12 medium-3 end\">\\n<h4 class=\"job-text\">\\nLos Angeles, CA\\n</h4>\\n<h4 class=\"job-distance\">\\n5 miles\\n<h4>\\n<a class=\"company-collapse-link\" data-company-did=\"chq0vp6bknrr4w2y7pw\" data-gtm=\"jrp-job-list|more-company-jobs|7\" data-job-did=\"J3L4D865LF445FKLNJ9\" href=\"/jobs-python-in-los-angeles?company_name=CyberCoders&amp;grouping_value=1c383c1ef1c5583d844c4ec6b4f46798&amp;pay=20&amp;sort=distance_asc\">View 1 more</a>\\n</h4>\\n</h4>\\n</div>\\n</div>\\n<div class=\"row user-actions\">\\n<div class=\"small-12 columns job-actions\" data-job-did=\"J3L4D865LF445FKLNJ9\">\\n<span class=\"loading save-job\">\\n<a href=\"#\">\\n<span class=\"fa fa-star-o\"></span>\\nSave Job\\n</a>\\n</span>\\n<span class=\"hide saved-job\" js='{:id=&gt;\"\"}'>\\n<a class=\"saved-job-text\" href=\"#\">\\n<span class=\"fa fa-star\"></span>\\nSaved Job\\n</a>\\n<a href=\"/saved-jobs\">(View Saved Jobs)</a>\\n</span>\\n<a class=\"email-job-jrp\" data-gtm=\"jrp-job-list|email-link\" data-job-did=\"J3L4D865LF445FKLNJ9\" href=\"#\">\\n<span class=\"fa fa-envelope\"></span>\\nEmail Job\\n</a>\\n</div>\\n</div>\\n</div>\\n<div class=\"job-row\">\\n<div class=\"row\">\\n<div class=\"column\">\\n<div class=\"cb-apply-indicator\">CAREERBUILDER APPLY</div>\\n</div>\\n</div>\\n<div class=\"row\">\\n<div class=\"column small-10\">\\n<h2 class=\"job-title\">\\n<a data-company-did=\"chq0vp6bknrr4w2y7pw\" data-gtm=\"jrp-job-list|job-title-click|8\" data-job-did=\"J3G74567HRK3TP8H6G3\" href=\"/job/J3G74567HRK3TP8H6G3?ipath=JRG8&amp;searchid=dd4ef795-9560-4576-af22-da1c330c35c3&amp;siteid=cbnsv\">Principal Lead Software Developer-Startup with amazing growth</a>\\n</h2>\\n</div>\\n<div class=\"column small-2 time-posted\">\\n<div class=\"hide-for-medium-up\">\\n2d\\n</div>\\n<div class=\"show-for-medium-up\">\\n<em>\\n1 day ago\\n</em>\\n</div>\\n</div>\\n</div>\\n<div class=\"row job-information\">\\n<div class=\"columns medium-6\">\\n<h4 class=\"job-text employment-info\">\\nFull-Time | Pay: $95k - $160k/year\\n</h4>\\n<div class=\"job-description show-for-medium-up\">\\nThis position is open as of 7/3/2016. Principal Lead Software Developer -Stealth Startup with growth If you are a Principal Lead Software Developer with 5+ years of experience, please read on! Based in Santa Monica, CA, We are a stable and growing digital\\n</div>\\n</div>\\n<div class=\"columns small-12 medium-3\">\\n<h4 class=\"job-text\">\\n<a data-company-did=\"chq0vp6bknrr4w2y7pw\" data-gtm=\"jrp-job-list|company-click|8\" data-job-did=\"J3G74567HRK3TP8H6G3\" href=\"/company/chq0vp6bknrr4w2y7pw?ipath=JRG8\">CyberCoders</a>\\n</h4>\\n</div>\\n<div class=\"columns small-12 medium-3 end\">\\n<h4 class=\"job-text\">\\nSanta Monica, CA\\n</h4>\\n<h4 class=\"job-distance\">\\n14 miles\\n\\n</h4>\\n</div>\\n</div>\\n<div class=\"row user-actions\">\\n<div class=\"small-12 columns job-actions\" data-job-did=\"J3G74567HRK3TP8H6G3\">\\n<span class=\"loading save-job\">\\n<a href=\"#\">\\n<span class=\"fa fa-star-o\"></span>\\nSave Job\\n</a>\\n</span>\\n<span class=\"hide saved-job\" js='{:id=&gt;\"\"}'>\\n<a class=\"saved-job-text\" href=\"#\">\\n<span class=\"fa fa-star\"></span>\\nSaved Job\\n</a>\\n<a href=\"/saved-jobs\">(View Saved Jobs)</a>\\n</span>\\n<a class=\"email-job-jrp\" data-gtm=\"jrp-job-list|email-link\" data-job-did=\"J3G74567HRK3TP8H6G3\" href=\"#\">\\n<span class=\"fa fa-envelope\"></span>\\nEmail Job\\n</a>\\n</div>\\n</div>\\n</div>\\n<div class=\"job-row\">\\n<div class=\"row\">\\n<div class=\"column\">\\n<div class=\"cb-apply-indicator\">CAREERBUILDER APPLY</div>\\n</div>\\n</div>\\n<div class=\"row\">\\n<div class=\"column small-10\">\\n<h2 class=\"job-title\">\\n<a data-company-did=\"chq0vp6bknrr4w2y7pw\" data-gtm=\"jrp-job-list|job-title-click|9\" data-job-did=\"J3L4CV64HS2TG3Z5X9F\" href=\"/job/J3L4CV64HS2TG3Z5X9F?ipath=JRG9&amp;searchid=dd4ef795-9560-4576-af22-da1c330c35c3&amp;siteid=cbnsv\">Senior Data Scientist</a>\\n</h2>\\n</div>\\n<div class=\"column small-2 time-posted\">\\n<div class=\"hide-for-medium-up\">\\n5d\\n</div>\\n<div class=\"show-for-medium-up\">\\n<em>\\n5 days ago\\n</em>\\n</div>\\n</div>\\n</div>\\n<div class=\"row job-information\">\\n<div class=\"columns medium-6\">\\n<h4 class=\"job-text employment-info\">\\nFull-Time | Pay: $140k - $175k/year\\n</h4>\\n<div class=\"job-description show-for-medium-up\">\\nThis position is open as of 7/3/2016. Senior Data Scientist for Powerful Marketing Analytics Platform! If you are a Senior level Data Scientist (Willing to move to SF) , please read on! Our next-gen data platform provides key access to customer data, unlo\\n</div>\\n</div>\\n<div class=\"columns small-12 medium-3\">\\n<h4 class=\"job-text\">\\n<a data-company-did=\"chq0vp6bknrr4w2y7pw\" data-gtm=\"jrp-job-list|company-click|9\" data-job-did=\"J3L4CV64HS2TG3Z5X9F\" href=\"/company/chq0vp6bknrr4w2y7pw?ipath=JRG9\">CyberCoders</a>\\n</h4>\\n</div>\\n<div class=\"columns small-12 medium-3 end\">\\n<h4 class=\"job-text\">\\nLos Angeles, CA\\n</h4>\\n<h4 class=\"job-distance\">\\n5 miles\\n<h4>\\n<a class=\"company-collapse-link\" data-company-did=\"chq0vp6bknrr4w2y7pw\" data-gtm=\"jrp-job-list|more-company-jobs|9\" data-job-did=\"J3L4CV64HS2TG3Z5X9F\" href=\"/jobs-python-in-los-angeles?company_name=CyberCoders&amp;grouping_value=8f1af979b221566bdccc3e24ad8e1caa&amp;pay=20&amp;sort=distance_asc\">View 1 more</a>\\n</h4>\\n</h4>\\n</div>\\n</div>\\n<div class=\"row user-actions\">\\n<div class=\"small-12 columns job-actions\" data-job-did=\"J3L4CV64HS2TG3Z5X9F\">\\n<span class=\"loading save-job\">\\n<a href=\"#\">\\n<span class=\"fa fa-star-o\"></span>\\nSave Job\\n</a>\\n</span>\\n<span class=\"hide saved-job\" js='{:id=&gt;\"\"}'>\\n<a class=\"saved-job-text\" href=\"#\">\\n<span class=\"fa fa-star\"></span>\\nSaved Job\\n</a>\\n<a href=\"/saved-jobs\">(View Saved Jobs)</a>\\n</span>\\n<a class=\"email-job-jrp\" data-gtm=\"jrp-job-list|email-link\" data-job-did=\"J3L4CV64HS2TG3Z5X9F\" href=\"#\">\\n<span class=\"fa fa-envelope\"></span>\\nEmail Job\\n</a>\\n</div>\\n</div>\\n</div>\\n<div class=\"job-row\">\\n<div class=\"row\">\\n<div class=\"column\">\\n<div class=\"cb-apply-indicator\">CAREERBUILDER APPLY</div>\\n</div>\\n</div>\\n<div class=\"row\">\\n<div class=\"column small-10\">\\n<h2 class=\"job-title\">\\n<a data-company-did=\"chq0vp6bknrr4w2y7pw\" data-gtm=\"jrp-job-list|job-title-click|10\" data-job-did=\"J3G2JY73GG8DJ8YZY73\" href=\"/job/J3G2JY73GG8DJ8YZY73?ipath=JRG10&amp;searchid=dd4ef795-9560-4576-af22-da1c330c35c3&amp;siteid=cbnsv\">Senior DevOps Engineer - large-scale data networks</a>\\n</h2>\\n</div>\\n<div class=\"column small-2 time-posted\">\\n<div class=\"hide-for-medium-up\">\\n4d\\n</div>\\n<div class=\"show-for-medium-up\">\\n<em>\\n4 days ago\\n</em>\\n</div>\\n</div>\\n</div>\\n<div class=\"row job-information\">\\n<div class=\"columns medium-6\">\\n<h4 class=\"job-text employment-info\">\\nFull-Time | Pay: $150k - $200k/year\\n</h4>\\n<div class=\"job-description show-for-medium-up\">\\nThis position is open as of 7/3/2016. Senior DevOps Engineer - popular social app! If you are a Senior DevOps Engineer with at least 5 years of experience working with large scale data networks, please read on! Headquartered in the heart of Hollywood, CA,\\n</div>\\n</div>\\n<div class=\"columns small-12 medium-3\">\\n<h4 class=\"job-text\">\\n<a data-company-did=\"chq0vp6bknrr4w2y7pw\" data-gtm=\"jrp-job-list|company-click|10\" data-job-did=\"J3G2JY73GG8DJ8YZY73\" href=\"/company/chq0vp6bknrr4w2y7pw?ipath=JRG10\">CyberCoders</a>\\n</h4>\\n</div>\\n<div class=\"columns small-12 medium-3 end\">\\n<h4 class=\"job-text\">\\nLos Angeles, CA\\n</h4>\\n<h4 class=\"job-distance\">\\n5 miles\\n\\n</h4>\\n</div>\\n</div>\\n<div class=\"row user-actions\">\\n<div class=\"small-12 columns job-actions\" data-job-did=\"J3G2JY73GG8DJ8YZY73\">\\n<span class=\"loading save-job\">\\n<a href=\"#\">\\n<span class=\"fa fa-star-o\"></span>\\nSave Job\\n</a>\\n</span>\\n<span class=\"hide saved-job\" js='{:id=&gt;\"\"}'>\\n<a class=\"saved-job-text\" href=\"#\">\\n<span class=\"fa fa-star\"></span>\\nSaved Job\\n</a>\\n<a href=\"/saved-jobs\">(View Saved Jobs)</a>\\n</span>\\n<a class=\"email-job-jrp\" data-gtm=\"jrp-job-list|email-link\" data-job-did=\"J3G2JY73GG8DJ8YZY73\" href=\"#\">\\n<span class=\"fa fa-envelope\"></span>\\nEmail Job\\n</a>\\n</div>\\n</div>\\n</div>\\n<div class=\"job-row\">\\n<div class=\"row\">\\n<div class=\"column\">\\n<div class=\"cb-apply-indicator\">CAREERBUILDER APPLY</div>\\n</div>\\n</div>\\n<div class=\"row\">\\n<div class=\"column small-10\">\\n<h2 class=\"job-title\">\\n<a data-company-did=\"chq0vp6bknrr4w2y7pw\" data-gtm=\"jrp-job-list|job-title-click|11\" data-job-did=\"J3K0L072Q98MTY9M9JP\" href=\"/job/J3K0L072Q98MTY9M9JP?ipath=JRG11&amp;searchid=dd4ef795-9560-4576-af22-da1c330c35c3&amp;siteid=cbnsv\">ASIC Verification Engineer</a>\\n</h2>\\n</div>\\n<div class=\"column small-2 time-posted\">\\n<div class=\"hide-for-medium-up\">\\n3d\\n</div>\\n<div class=\"show-for-medium-up\">\\n<em>\\n3 days ago\\n</em>\\n</div>\\n</div>\\n</div>\\n<div class=\"row job-information\">\\n<div class=\"columns medium-6\">\\n<h4 class=\"job-text employment-info\">\\nFull-Time | Pay: $90k - $175k/year\\n</h4>\\n<div class=\"job-description show-for-medium-up\">\\nThis position is open as of 7/3/2016. ASIC Verification Engineer If you are an ASIC Verification Engineer with experience, please read on! Top Reasons to Work with Us 1. Stealth organization, Incredibly well funded, made up of Brilliant Engineers 2. Solid\\n</div>\\n</div>\\n<div class=\"columns small-12 medium-3\">\\n<h4 class=\"job-text\">\\n<a data-company-did=\"chq0vp6bknrr4w2y7pw\" data-gtm=\"jrp-job-list|company-click|11\" data-job-did=\"J3K0L072Q98MTY9M9JP\" href=\"/company/chq0vp6bknrr4w2y7pw?ipath=JRG11\">CyberCoders</a>\\n</h4>\\n</div>\\n<div class=\"columns small-12 medium-3 end\">\\n<h4 class=\"job-text\">\\nPasadena, CA\\n</h4>\\n<h4 class=\"job-distance\">\\n8 miles\\n\\n</h4>\\n</div>\\n</div>\\n<div class=\"row user-actions\">\\n<div class=\"small-12 columns job-actions\" data-job-did=\"J3K0L072Q98MTY9M9JP\">\\n<span class=\"loading save-job\">\\n<a href=\"#\">\\n<span class=\"fa fa-star-o\"></span>\\nSave Job\\n</a>\\n</span>\\n<span class=\"hide saved-job\" js='{:id=&gt;\"\"}'>\\n<a class=\"saved-job-text\" href=\"#\">\\n<span class=\"fa fa-star\"></span>\\nSaved Job\\n</a>\\n<a href=\"/saved-jobs\">(View Saved Jobs)</a>\\n</span>\\n<a class=\"email-job-jrp\" data-gtm=\"jrp-job-list|email-link\" data-job-did=\"J3K0L072Q98MTY9M9JP\" href=\"#\">\\n<span class=\"fa fa-envelope\"></span>\\nEmail Job\\n</a>\\n</div>\\n</div>\\n</div>\\n<div class=\"job-row\">\\n<div class=\"row\">\\n<div class=\"column\">\\n<div class=\"cb-apply-indicator\">CAREERBUILDER APPLY</div>\\n</div>\\n</div>\\n<div class=\"row\">\\n<div class=\"column small-10\">\\n<h2 class=\"job-title\">\\n<a data-company-did=\"chq0vp6bknrr4w2y7pw\" data-gtm=\"jrp-job-list|job-title-click|12\" data-job-did=\"J3H28F79J1JBJFJHLSF\" href=\"/job/J3H28F79J1JBJFJHLSF?ipath=JRG12&amp;searchid=dd4ef795-9560-4576-af22-da1c330c35c3&amp;siteid=cbnsv\">Lead Devops Engineer - AWS</a>\\n</h2>\\n</div>\\n<div class=\"column small-2 time-posted\">\\n<div class=\"hide-for-medium-up\">\\n6d\\n</div>\\n<div class=\"show-for-medium-up\">\\n<em>\\n6 days ago\\n</em>\\n</div>\\n</div>\\n</div>\\n<div class=\"row job-information\">\\n<div class=\"columns medium-6\">\\n<h4 class=\"job-text employment-info\">\\nFull-Time | Pay: $150k - $200k/year\\n</h4>\\n<div class=\"job-description show-for-medium-up\">\\nThis position is open as of 7/3/2016. Lead Devops Engineer - AWS Are you a Lead Devops Engineer with AWS experience, read on... Based in a beautiful office location in Culver City, we are a fast paced growing Mobile Gaming Network (MGN). We are backed by\\n</div>\\n</div>\\n<div class=\"columns small-12 medium-3\">\\n<h4 class=\"job-text\">\\n<a data-company-did=\"chq0vp6bknrr4w2y7pw\" data-gtm=\"jrp-job-list|company-click|12\" data-job-did=\"J3H28F79J1JBJFJHLSF\" href=\"/company/chq0vp6bknrr4w2y7pw?ipath=JRG12\">CyberCoders</a>\\n</h4>\\n</div>\\n<div class=\"columns small-12 medium-3 end\">\\n<h4 class=\"job-text\">\\nCulver City, CA\\n</h4>\\n<h4 class=\"job-distance\">\\n9 miles\\n<h4>\\n<a class=\"company-collapse-link\" data-company-did=\"chq0vp6bknrr4w2y7pw\" data-gtm=\"jrp-job-list|more-company-jobs|12\" data-job-did=\"J3H28F79J1JBJFJHLSF\" href=\"/jobs-python-in-los-angeles?company_name=CyberCoders&amp;grouping_value=e9e34407491f9fbbe39c86335d527443&amp;pay=20&amp;sort=distance_asc\">View 1 more</a>\\n</h4>\\n</h4>\\n</div>\\n</div>\\n<div class=\"row user-actions\">\\n<div class=\"small-12 columns job-actions\" data-job-did=\"J3H28F79J1JBJFJHLSF\">\\n<span class=\"loading save-job\">\\n<a href=\"#\">\\n<span class=\"fa fa-star-o\"></span>\\nSave Job\\n</a>\\n</span>\\n<span class=\"hide saved-job\" js='{:id=&gt;\"\"}'>\\n<a class=\"saved-job-text\" href=\"#\">\\n<span class=\"fa fa-star\"></span>\\nSaved Job\\n</a>\\n<a href=\"/saved-jobs\">(View Saved Jobs)</a>\\n</span>\\n<a class=\"email-job-jrp\" data-gtm=\"jrp-job-list|email-link\" data-job-did=\"J3H28F79J1JBJFJHLSF\" href=\"#\">\\n<span class=\"fa fa-envelope\"></span>\\nEmail Job\\n</a>\\n</div>\\n</div>\\n</div>\\n<div class=\"job-row\">\\n<div class=\"row\">\\n<div class=\"column\">\\n<div class=\"cb-apply-indicator\">CAREERBUILDER APPLY</div>\\n</div>\\n</div>\\n<div class=\"row\">\\n<div class=\"column small-10\">\\n<h2 class=\"job-title\">\\n<a data-company-did=\"chq0vp6bknrr4w2y7pw\" data-gtm=\"jrp-job-list|job-title-click|13\" data-job-did=\"J3G5336F8SYP98FQGWC\" href=\"/job/J3G5336F8SYP98FQGWC?ipath=JRG13&amp;searchid=dd4ef795-9560-4576-af22-da1c330c35c3&amp;siteid=cbnsv\">Chief Technology Officer</a>\\n</h2>\\n</div>\\n<div class=\"column small-2 time-posted\">\\n<div class=\"hide-for-medium-up\">\\n3d\\n</div>\\n<div class=\"show-for-medium-up\">\\n<em>\\n3 days ago\\n</em>\\n</div>\\n</div>\\n</div>\\n<div class=\"row job-information\">\\n<div class=\"columns medium-6\">\\n<h4 class=\"job-text employment-info\">\\nFull-Time | Pay: $100k - $175k/year\\n</h4>\\n<div class=\"job-description show-for-medium-up\">\\nThis position is open as of 7/3/2016. Chief Technology Officer - Top Online Educational Platform! If you are a Senior Software Engineer with experience, please read on! CTO needed for heavily funded E-learning tech start up in Los Angeles!! We need your h\\n</div>\\n</div>\\n<div class=\"columns small-12 medium-3\">\\n<h4 class=\"job-text\">\\n<a data-company-did=\"chq0vp6bknrr4w2y7pw\" data-gtm=\"jrp-job-list|company-click|13\" data-job-did=\"J3G5336F8SYP98FQGWC\" href=\"/company/chq0vp6bknrr4w2y7pw?ipath=JRG13\">CyberCoders</a>\\n</h4>\\n</div>\\n<div class=\"columns small-12 medium-3 end\">\\n<h4 class=\"job-text\">\\nLos Angeles, CA\\n</h4>\\n<h4 class=\"job-distance\">\\n8 miles\\n\\n</h4>\\n</div>\\n</div>\\n<div class=\"row user-actions\">\\n<div class=\"small-12 columns job-actions\" data-job-did=\"J3G5336F8SYP98FQGWC\">\\n<span class=\"loading save-job\">\\n<a href=\"#\">\\n<span class=\"fa fa-star-o\"></span>\\nSave Job\\n</a>\\n</span>\\n<span class=\"hide saved-job\" js='{:id=&gt;\"\"}'>\\n<a class=\"saved-job-text\" href=\"#\">\\n<span class=\"fa fa-star\"></span>\\nSaved Job\\n</a>\\n<a href=\"/saved-jobs\">(View Saved Jobs)</a>\\n</span>\\n<a class=\"email-job-jrp\" data-gtm=\"jrp-job-list|email-link\" data-job-did=\"J3G5336F8SYP98FQGWC\" href=\"#\">\\n<span class=\"fa fa-envelope\"></span>\\nEmail Job\\n</a>\\n</div>\\n</div>\\n</div>\\n<div class=\"job-row\">\\n<div class=\"row\">\\n<div class=\"column\">\\n<div class=\"cb-apply-indicator\">CAREERBUILDER APPLY</div>\\n</div>\\n</div>\\n<div class=\"row\">\\n<div class=\"column small-10\">\\n<h2 class=\"job-title\">\\n<a data-company-did=\"chq0vp6bknrr4w2y7pw\" data-gtm=\"jrp-job-list|job-title-click|14\" data-job-did=\"J3K1BH69ZSC33SCTJ35\" href=\"/job/J3K1BH69ZSC33SCTJ35?ipath=JRG14&amp;searchid=dd4ef795-9560-4576-af22-da1c330c35c3&amp;siteid=cbnsv\">Director of Data Science</a>\\n</h2>\\n</div>\\n<div class=\"column small-2 time-posted\">\\n<div class=\"hide-for-medium-up\">\\n6d\\n</div>\\n<div class=\"show-for-medium-up\">\\n<em>\\n6 days ago\\n</em>\\n</div>\\n</div>\\n</div>\\n<div class=\"row job-information\">\\n<div class=\"columns medium-6\">\\n<h4 class=\"job-text employment-info\">\\nFull-Time | Pay: $150k - $250k/year\\n</h4>\\n<div class=\"job-description show-for-medium-up\">\\nThis position is open as of 7/3/2016. Director of Data Science \\u2022\\u2022Will relocate the right candidate\\u2022\\u2022 Are you a Director of Data Science with strong analytics, machine learning, statistics background? If so, read on... \\u2022\\u2022\\u2022\\u2022 Please note we will offer reloca\\n</div>\\n</div>\\n<div class=\"columns small-12 medium-3\">\\n<h4 class=\"job-text\">\\n<a data-company-did=\"chq0vp6bknrr4w2y7pw\" data-gtm=\"jrp-job-list|company-click|14\" data-job-did=\"J3K1BH69ZSC33SCTJ35\" href=\"/company/chq0vp6bknrr4w2y7pw?ipath=JRG14\">CyberCoders</a>\\n</h4>\\n</div>\\n<div class=\"columns small-12 medium-3 end\">\\n<h4 class=\"job-text\">\\nCulver City, CA\\n</h4>\\n<h4 class=\"job-distance\">\\n9 miles\\n\\n</h4>\\n</div>\\n</div>\\n<div class=\"row user-actions\">\\n<div class=\"small-12 columns job-actions\" data-job-did=\"J3K1BH69ZSC33SCTJ35\">\\n<span class=\"loading save-job\">\\n<a href=\"#\">\\n<span class=\"fa fa-star-o\"></span>\\nSave Job\\n</a>\\n</span>\\n<span class=\"hide saved-job\" js='{:id=&gt;\"\"}'>\\n<a class=\"saved-job-text\" href=\"#\">\\n<span class=\"fa fa-star\"></span>\\nSaved Job\\n</a>\\n<a href=\"/saved-jobs\">(View Saved Jobs)</a>\\n</span>\\n<a class=\"email-job-jrp\" data-gtm=\"jrp-job-list|email-link\" data-job-did=\"J3K1BH69ZSC33SCTJ35\" href=\"#\">\\n<span class=\"fa fa-envelope\"></span>\\nEmail Job\\n</a>\\n</div>\\n</div>\\n</div>\\n<div class=\"job-row\">\\n<div class=\"row\">\\n<div class=\"column\">\\n<div class=\"cb-apply-indicator\">CAREERBUILDER APPLY</div>\\n</div>\\n</div>\\n<div class=\"row\">\\n<div class=\"column small-10\">\\n<h2 class=\"job-title\">\\n<a data-company-did=\"chq0vp6bknrr4w2y7pw\" data-gtm=\"jrp-job-list|job-title-click|15\" data-job-did=\"J3G2GB6WG8PH1XF38TK\" href=\"/job/J3G2GB6WG8PH1XF38TK?ipath=JRG15&amp;searchid=dd4ef795-9560-4576-af22-da1c330c35c3&amp;siteid=cbnsv\">DevOps Engineer</a>\\n</h2>\\n</div>\\n<div class=\"column small-2 time-posted\">\\n<div class=\"hide-for-medium-up\">\\n5d\\n</div>\\n<div class=\"show-for-medium-up\">\\n<em>\\n5 days ago\\n</em>\\n</div>\\n</div>\\n</div>\\n<div class=\"row job-information\">\\n<div class=\"columns medium-6\">\\n<h4 class=\"job-text employment-info\">\\nFull-Time | Pay: $100k - $110k/year\\n</h4>\\n<div class=\"job-description show-for-medium-up\">\\nThis position is open as of 7/3/2016. DevOps Engineer - Innovative Ad-tech company If you are a DevOps Engineer with 5-10 years of Linux experience, please read on! We are an Advertising Technology Company in El Segundo, CA with a product that has been pu\\n</div>\\n</div>\\n<div class=\"columns small-12 medium-3\">\\n<h4 class=\"job-text\">\\n<a data-company-did=\"chq0vp6bknrr4w2y7pw\" data-gtm=\"jrp-job-list|company-click|15\" data-job-did=\"J3G2GB6WG8PH1XF38TK\" href=\"/company/chq0vp6bknrr4w2y7pw?ipath=JRG15\">CyberCoders</a>\\n</h4>\\n</div>\\n<div class=\"columns small-12 medium-3 end\">\\n<h4 class=\"job-text\">\\nEl Segundo, CA\\n</h4>\\n<h4 class=\"job-distance\">\\n12 miles\\n\\n</h4>\\n</div>\\n</div>\\n<div class=\"row user-actions\">\\n<div class=\"small-12 columns job-actions\" data-job-did=\"J3G2GB6WG8PH1XF38TK\">\\n<span class=\"loading save-job\">\\n<a href=\"#\">\\n<span class=\"fa fa-star-o\"></span>\\nSave Job\\n</a>\\n</span>\\n<span class=\"hide saved-job\" js='{:id=&gt;\"\"}'>\\n<a class=\"saved-job-text\" href=\"#\">\\n<span class=\"fa fa-star\"></span>\\nSaved Job\\n</a>\\n<a href=\"/saved-jobs\">(View Saved Jobs)</a>\\n</span>\\n<a class=\"email-job-jrp\" data-gtm=\"jrp-job-list|email-link\" data-job-did=\"J3G2GB6WG8PH1XF38TK\" href=\"#\">\\n<span class=\"fa fa-envelope\"></span>\\nEmail Job\\n</a>\\n</div>\\n</div>\\n</div>\\n<div class=\"job-row\">\\n<div class=\"row\">\\n<div class=\"column\">\\n<div class=\"cb-apply-indicator\">CAREERBUILDER APPLY</div>\\n</div>\\n</div>\\n<div class=\"row\">\\n<div class=\"column small-10\">\\n<h2 class=\"job-title\">\\n<a data-company-did=\"chq0vp6bknrr4w2y7pw\" data-gtm=\"jrp-job-list|job-title-click|16\" data-job-did=\"J3J5X56NR5HS591J2TT\" href=\"/job/J3J5X56NR5HS591J2TT?ipath=JRG16&amp;searchid=dd4ef795-9560-4576-af22-da1c330c35c3&amp;siteid=cbnsv\">Big Data Engineer</a>\\n</h2>\\n</div>\\n<div class=\"column small-2 time-posted\">\\n<div class=\"hide-for-medium-up\">\\n6d\\n</div>\\n<div class=\"show-for-medium-up\">\\n<em>\\n6 days ago\\n</em>\\n</div>\\n</div>\\n</div>\\n<div class=\"row job-information\">\\n<div class=\"columns medium-6\">\\n<h4 class=\"job-text employment-info\">\\nFull-Time | Pay: $120k - $150k/year\\n</h4>\\n<div class=\"job-description show-for-medium-up\">\\nThis position is open as of 7/3/2016. Big Data Engineer - Ad Tech Start Up If you are a Big Data Engineer that has experience with NoSQL open source products, please read on! Located in Los Angeles, we are an emerging advertising technology company that w\\n</div>\\n</div>\\n<div class=\"columns small-12 medium-3\">\\n<h4 class=\"job-text\">\\n<a data-company-did=\"chq0vp6bknrr4w2y7pw\" data-gtm=\"jrp-job-list|company-click|16\" data-job-did=\"J3J5X56NR5HS591J2TT\" href=\"/company/chq0vp6bknrr4w2y7pw?ipath=JRG16\">CyberCoders</a>\\n</h4>\\n</div>\\n<div class=\"columns small-12 medium-3 end\">\\n<h4 class=\"job-text\">\\nEl Segundo, CA\\n</h4>\\n<h4 class=\"job-distance\">\\n12 miles\\n\\n</h4>\\n</div>\\n</div>\\n<div class=\"row user-actions\">\\n<div class=\"small-12 columns job-actions\" data-job-did=\"J3J5X56NR5HS591J2TT\">\\n<span class=\"loading save-job\">\\n<a href=\"#\">\\n<span class=\"fa fa-star-o\"></span>\\nSave Job\\n</a>\\n</span>\\n<span class=\"hide saved-job\" js='{:id=&gt;\"\"}'>\\n<a class=\"saved-job-text\" href=\"#\">\\n<span class=\"fa fa-star\"></span>\\nSaved Job\\n</a>\\n<a href=\"/saved-jobs\">(View Saved Jobs)</a>\\n</span>\\n<a class=\"email-job-jrp\" data-gtm=\"jrp-job-list|email-link\" data-job-did=\"J3J5X56NR5HS591J2TT\" href=\"#\">\\n<span class=\"fa fa-envelope\"></span>\\nEmail Job\\n</a>\\n</div>\\n</div>\\n</div>\\n<div class=\"job-row\">\\n<div class=\"row\">\\n<div class=\"column\">\\n<div class=\"cb-apply-indicator\">CAREERBUILDER APPLY</div>\\n</div>\\n</div>\\n<div class=\"row\">\\n<div class=\"column small-10\">\\n<h2 class=\"job-title\">\\n<a data-company-did=\"chq0vp6bknrr4w2y7pw\" data-gtm=\"jrp-job-list|job-title-click|17\" data-job-did=\"J3K7SP6P1MS1NZLCK6P\" href=\"/job/J3K7SP6P1MS1NZLCK6P?ipath=JRG17&amp;searchid=dd4ef795-9560-4576-af22-da1c330c35c3&amp;siteid=cbnsv\">Full Stack Web Engineer - social networking start-up!</a>\\n</h2>\\n</div>\\n<div class=\"column small-2 time-posted\">\\n<div class=\"hide-for-medium-up\">\\n6d\\n</div>\\n<div class=\"show-for-medium-up\">\\n<em>\\n6 days ago\\n</em>\\n</div>\\n</div>\\n</div>\\n<div class=\"row job-information\">\\n<div class=\"columns medium-6\">\\n<h4 class=\"job-text employment-info\">\\nFull-Time | Pay: $120k - $200k/year\\n</h4>\\n<div class=\"job-description show-for-medium-up\">\\nThis position is open as of 7/3/2016. Senior Fullstack Engineer - Relo Offered Are you a Fullstack Web Engineer who dreams of working for a fast-growing start-up company with a fun corporate culture based right on the beach near Santa Monica? If yes, plea\\n</div>\\n</div>\\n<div class=\"columns small-12 medium-3\">\\n<h4 class=\"job-text\">\\n<a data-company-did=\"chq0vp6bknrr4w2y7pw\" data-gtm=\"jrp-job-list|company-click|17\" data-job-did=\"J3K7SP6P1MS1NZLCK6P\" href=\"/company/chq0vp6bknrr4w2y7pw?ipath=JRG17\">CyberCoders</a>\\n</h4>\\n</div>\\n<div class=\"columns small-12 medium-3 end\">\\n<h4 class=\"job-text\">\\nSanta Monica, CA\\n</h4>\\n<h4 class=\"job-distance\">\\n14 miles\\n\\n</h4>\\n</div>\\n</div>\\n<div class=\"row user-actions\">\\n<div class=\"small-12 columns job-actions\" data-job-did=\"J3K7SP6P1MS1NZLCK6P\">\\n<span class=\"loading save-job\">\\n<a href=\"#\">\\n<span class=\"fa fa-star-o\"></span>\\nSave Job\\n</a>\\n</span>\\n<span class=\"hide saved-job\" js='{:id=&gt;\"\"}'>\\n<a class=\"saved-job-text\" href=\"#\">\\n<span class=\"fa fa-star\"></span>\\nSaved Job\\n</a>\\n<a href=\"/saved-jobs\">(View Saved Jobs)</a>\\n</span>\\n<a class=\"email-job-jrp\" data-gtm=\"jrp-job-list|email-link\" data-job-did=\"J3K7SP6P1MS1NZLCK6P\" href=\"#\">\\n<span class=\"fa fa-envelope\"></span>\\nEmail Job\\n</a>\\n</div>\\n</div>\\n</div>\\n<div class=\"job-row\">\\n<div class=\"row\">\\n<div class=\"column\">\\n<div class=\"cb-apply-indicator\">CAREERBUILDER APPLY</div>\\n</div>\\n</div>\\n<div class=\"row\">\\n<div class=\"column small-10\">\\n<h2 class=\"job-title\">\\n<a data-company-did=\"chq0vp6bknrr4w2y7pw\" data-gtm=\"jrp-job-list|job-title-click|18\" data-job-did=\"J3J0CF74NPNQ78XZNJG\" href=\"/job/J3J0CF74NPNQ78XZNJG?ipath=JRG18&amp;searchid=dd4ef795-9560-4576-af22-da1c330c35c3&amp;siteid=cbnsv\">Senior Ruby Software Programmer</a>\\n</h2>\\n</div>\\n<div class=\"column small-2 time-posted\">\\n<div class=\"hide-for-medium-up\">\\n2d\\n</div>\\n<div class=\"show-for-medium-up\">\\n<em>\\n1 day ago\\n</em>\\n</div>\\n</div>\\n</div>\\n<div class=\"row job-information\">\\n<div class=\"columns medium-6\">\\n<h4 class=\"job-text employment-info\">\\nFull-Time | Pay: $120k - $150k/year\\n</h4>\\n<div class=\"job-description show-for-medium-up\">\\nThis position is open as of 7/3/2016. Sr. Ruby/ Rails Developer - Profitable Start-up If you are a Senior Software Engineer with Ruby on Rails experience and have a passion for games and other tech geek stuff, please continue reading! We are a mature and\\n</div>\\n</div>\\n<div class=\"columns small-12 medium-3\">\\n<h4 class=\"job-text\">\\n<a data-company-did=\"chq0vp6bknrr4w2y7pw\" data-gtm=\"jrp-job-list|company-click|18\" data-job-did=\"J3J0CF74NPNQ78XZNJG\" href=\"/company/chq0vp6bknrr4w2y7pw?ipath=JRG18\">CyberCoders</a>\\n</h4>\\n</div>\\n<div class=\"columns small-12 medium-3 end\">\\n<h4 class=\"job-text\">\\nLos Angeles, CA\\n</h4>\\n<h4 class=\"job-distance\">\\n5 miles\\n<h4>\\n<a class=\"company-collapse-link\" data-company-did=\"chq0vp6bknrr4w2y7pw\" data-gtm=\"jrp-job-list|more-company-jobs|18\" data-job-did=\"J3J0CF74NPNQ78XZNJG\" href=\"/jobs-python-in-los-angeles?company_name=CyberCoders&amp;grouping_value=67055d89fd0281f930df589a6999f3f5&amp;pay=20&amp;sort=distance_asc\">View 1 more</a>\\n</h4>\\n</h4>\\n</div>\\n</div>\\n<div class=\"row user-actions\">\\n<div class=\"small-12 columns job-actions\" data-job-did=\"J3J0CF74NPNQ78XZNJG\">\\n<span class=\"loading save-job\">\\n<a href=\"#\">\\n<span class=\"fa fa-star-o\"></span>\\nSave Job\\n</a>\\n</span>\\n<span class=\"hide saved-job\" js='{:id=&gt;\"\"}'>\\n<a class=\"saved-job-text\" href=\"#\">\\n<span class=\"fa fa-star\"></span>\\nSaved Job\\n</a>\\n<a href=\"/saved-jobs\">(View Saved Jobs)</a>\\n</span>\\n<a class=\"email-job-jrp\" data-gtm=\"jrp-job-list|email-link\" data-job-did=\"J3J0CF74NPNQ78XZNJG\" href=\"#\">\\n<span class=\"fa fa-envelope\"></span>\\nEmail Job\\n</a>\\n</div>\\n</div>\\n</div>\\n<div class=\"job-row\">\\n<div class=\"row\">\\n<div class=\"column\">\\n<div class=\"cb-apply-indicator\">CAREERBUILDER APPLY</div>\\n</div>\\n</div>\\n<div class=\"row\">\\n<div class=\"column small-10\">\\n<h2 class=\"job-title\">\\n<a data-company-did=\"chq0vp6bknrr4w2y7pw\" data-gtm=\"jrp-job-list|job-title-click|19\" data-job-did=\"J3G7BQ746Y0YJVB37DP\" href=\"/job/J3G7BQ746Y0YJVB37DP?ipath=JRG19&amp;searchid=dd4ef795-9560-4576-af22-da1c330c35c3&amp;siteid=cbnsv\">Director of QA</a>\\n</h2>\\n</div>\\n<div class=\"column small-2 time-posted\">\\n<div class=\"hide-for-medium-up\">\\n3d\\n</div>\\n<div class=\"show-for-medium-up\">\\n<em>\\n3 days ago\\n</em>\\n</div>\\n</div>\\n</div>\\n<div class=\"row job-information\">\\n<div class=\"columns medium-6\">\\n<h4 class=\"job-text employment-info\">\\nFull-Time | Pay: $150k - $200k/year\\n</h4>\\n<div class=\"job-description show-for-medium-up\">\\nThis position is open as of 7/3/2016. Hot Mobile Venice Monica Startup - Senior Devops Engineer Are you a Manager / Director of Quality Assurance with both manual and automated testing experience across iOS, Android, and web platforms? If so, read on... \\u2022\\n</div>\\n</div>\\n<div class=\"columns small-12 medium-3\">\\n<h4 class=\"job-text\">\\n<a data-company-did=\"chq0vp6bknrr4w2y7pw\" data-gtm=\"jrp-job-list|company-click|19\" data-job-did=\"J3G7BQ746Y0YJVB37DP\" href=\"/company/chq0vp6bknrr4w2y7pw?ipath=JRG19\">CyberCoders</a>\\n</h4>\\n</div>\\n<div class=\"columns small-12 medium-3 end\">\\n<h4 class=\"job-text\">\\nLos Angeles, CA\\n</h4>\\n<h4 class=\"job-distance\">\\n5 miles\\n\\n</h4>\\n</div>\\n</div>\\n<div class=\"row user-actions\">\\n<div class=\"small-12 columns job-actions\" data-job-did=\"J3G7BQ746Y0YJVB37DP\">\\n<span class=\"loading save-job\">\\n<a href=\"#\">\\n<span class=\"fa fa-star-o\"></span>\\nSave Job\\n</a>\\n</span>\\n<span class=\"hide saved-job\" js='{:id=&gt;\"\"}'>\\n<a class=\"saved-job-text\" href=\"#\">\\n<span class=\"fa fa-star\"></span>\\nSaved Job\\n</a>\\n<a href=\"/saved-jobs\">(View Saved Jobs)</a>\\n</span>\\n<a class=\"email-job-jrp\" data-gtm=\"jrp-job-list|email-link\" data-job-did=\"J3G7BQ746Y0YJVB37DP\" href=\"#\">\\n<span class=\"fa fa-envelope\"></span>\\nEmail Job\\n</a>\\n</div>\\n</div>\\n</div>\\n<div class=\"job-row\">\\n<div class=\"row\">\\n<div class=\"column\">\\n<div class=\"cb-apply-indicator\">CAREERBUILDER APPLY</div>\\n</div>\\n</div>\\n<div class=\"row\">\\n<div class=\"column small-10\">\\n<h2 class=\"job-title\">\\n<a data-company-did=\"chq0vp6bknrr4w2y7pw\" data-gtm=\"jrp-job-list|job-title-click|20\" data-job-did=\"J3J4ZF6L2VGT435KBGP\" href=\"/job/J3J4ZF6L2VGT435KBGP?ipath=JRG20&amp;searchid=dd4ef795-9560-4576-af22-da1c330c35c3&amp;siteid=cbnsv\">Senior Node.JS Developer - Relo Offered</a>\\n</h2>\\n</div>\\n<div class=\"column small-2 time-posted\">\\n<div class=\"hide-for-medium-up\">\\n6d\\n</div>\\n<div class=\"show-for-medium-up\">\\n<em>\\n6 days ago\\n</em>\\n</div>\\n</div>\\n</div>\\n<div class=\"row job-information\">\\n<div class=\"columns medium-6\">\\n<h4 class=\"job-text employment-info\">\\nFull-Time | Pay: $100k - $175k/year\\n</h4>\\n<div class=\"job-description show-for-medium-up\">\\nThis position is open as of 7/3/2016. IOS Developer - IOS Programmer - IOS Engineer - Mobile Developer - Mobile Programmer - IOS, C/C++ Are you a Superstar Node.JS Engineer? If so, read on... Are you passionate about working on the most cutting edge techn\\n</div>\\n</div>\\n<div class=\"columns small-12 medium-3\">\\n<h4 class=\"job-text\">\\n<a data-company-did=\"chq0vp6bknrr4w2y7pw\" data-gtm=\"jrp-job-list|company-click|20\" data-job-did=\"J3J4ZF6L2VGT435KBGP\" href=\"/company/chq0vp6bknrr4w2y7pw?ipath=JRG20\">CyberCoders</a>\\n</h4>\\n</div>\\n<div class=\"columns small-12 medium-3 end\">\\n<h4 class=\"job-text\">\\nWest Hollywood, CA\\n</h4>\\n<h4 class=\"job-distance\">\\n8 miles\\n\\n</h4>\\n</div>\\n</div>\\n<div class=\"row user-actions\">\\n<div class=\"small-12 columns job-actions\" data-job-did=\"J3J4ZF6L2VGT435KBGP\">\\n<span class=\"loading save-job\">\\n<a href=\"#\">\\n<span class=\"fa fa-star-o\"></span>\\nSave Job\\n</a>\\n</span>\\n<span class=\"hide saved-job\" js='{:id=&gt;\"\"}'>\\n<a class=\"saved-job-text\" href=\"#\">\\n<span class=\"fa fa-star\"></span>\\nSaved Job\\n</a>\\n<a href=\"/saved-jobs\">(View Saved Jobs)</a>\\n</span>\\n<a class=\"email-job-jrp\" data-gtm=\"jrp-job-list|email-link\" data-job-did=\"J3J4ZF6L2VGT435KBGP\" href=\"#\">\\n<span class=\"fa fa-envelope\"></span>\\nEmail Job\\n</a>\\n</div>\\n</div>\\n</div>\\n<div class=\"job-row\">\\n<div class=\"row\">\\n<div class=\"column\">\\n<div class=\"cb-apply-indicator\">CAREERBUILDER APPLY</div>\\n</div>\\n</div>\\n<div class=\"row\">\\n<div class=\"column small-10\">\\n<h2 class=\"job-title\">\\n<a data-company-did=\"chp05z73cc02ydhxn0x\" data-gtm=\"jrp-job-list|job-title-click|21\" data-job-did=\"J8Q0NQ61M3FYWFGSBCY\" href=\"/job/J8Q0NQ61M3FYWFGSBCY?ipath=JRG21&amp;searchid=dd4ef795-9560-4576-af22-da1c330c35c3&amp;siteid=cbnsv\">Platform Engineer, AWS DevOps (remote, immediate)</a>\\n</h2>\\n</div>\\n<div class=\"column small-2 time-posted\">\\n<div class=\"hide-for-medium-up\">\\n5d\\n</div>\\n<div class=\"show-for-medium-up\">\\n<em>\\n5 days ago\\n</em>\\n</div>\\n</div>\\n</div>\\n<div class=\"row job-information\">\\n<div class=\"columns medium-6\">\\n<h4 class=\"job-text employment-info\">\\nFull-Time | Pay: $135k - $175k/year\\n</h4>\\n<div class=\"job-description show-for-medium-up\">\\nPlatform Engineer (Automation Engineer, DevOps Engineer) Amazon Web Services - 100% AWS platform infratructure as Code Continuous Delivery Continuous Integration Puppet, Chef, Scala, Rust Ansible Python, Ruby, and more scripting Cloud Formation, Teraforms\\n</div>\\n</div>\\n<div class=\"columns small-12 medium-3\">\\n<h4 class=\"job-text\">\\n<a data-company-did=\"chp05z73cc02ydhxn0x\" data-gtm=\"jrp-job-list|company-click|21\" data-job-did=\"J8Q0NQ61M3FYWFGSBCY\" href=\"/company/chp05z73cc02ydhxn0x?ipath=JRG21\">Adam Jacobs Associates</a>\\n</h4>\\n</div>\\n<div class=\"columns small-12 medium-3 end\">\\n<h4 class=\"job-text\">\\nresume@adam-jacobs.com,richard@adam-jacobs.com\\n<br/>\\nLos Angeles, CA\\n</h4>\\n<h4 class=\"job-distance\">\\nNearby\\n\\n</h4>\\n</div>\\n</div>\\n<div class=\"row user-actions\">\\n<div class=\"small-12 columns job-actions\" data-job-did=\"J8Q0NQ61M3FYWFGSBCY\">\\n<span class=\"loading save-job\">\\n<a href=\"#\">\\n<span class=\"fa fa-star-o\"></span>\\nSave Job\\n</a>\\n</span>\\n<span class=\"hide saved-job\" js='{:id=&gt;\"\"}'>\\n<a class=\"saved-job-text\" href=\"#\">\\n<span class=\"fa fa-star\"></span>\\nSaved Job\\n</a>\\n<a href=\"/saved-jobs\">(View Saved Jobs)</a>\\n</span>\\n<a class=\"email-job-jrp\" data-gtm=\"jrp-job-list|email-link\" data-job-did=\"J8Q0NQ61M3FYWFGSBCY\" href=\"#\">\\n<span class=\"fa fa-envelope\"></span>\\nEmail Job\\n</a>\\n</div>\\n</div>\\n</div>\\n<div class=\"job-row\">\\n<div class=\"row\">\\n<div class=\"column\">\\n<div class=\"cb-apply-indicator\">CAREERBUILDER APPLY</div>\\n</div>\\n</div>\\n<div class=\"row\">\\n<div class=\"column small-10\">\\n<h2 class=\"job-title\">\\n<a data-company-did=\"cht3vg6lk6nkvvrxlrm\" data-gtm=\"jrp-job-list|job-title-click|22\" data-job-did=\"J3J0456B3D94XQ55BKC\" href=\"/job/J3J0456B3D94XQ55BKC?ipath=JRG22&amp;searchid=dd4ef795-9560-4576-af22-da1c330c35c3&amp;siteid=cbnsv\">System Analyst</a>\\n</h2>\\n</div>\\n<div class=\"column small-2 time-posted\">\\n<div class=\"hide-for-medium-up\">\\n1w\\n</div>\\n<div class=\"show-for-medium-up\">\\n<em>\\n1 week ago\\n</em>\\n</div>\\n</div>\\n</div>\\n<div class=\"row job-information\">\\n<div class=\"columns medium-6\">\\n<h4 class=\"job-text employment-info\">\\nFull-Time | Pay: $65k - $80k/year\\n</h4>\\n<div class=\"job-description show-for-medium-up\">\\nRef ID: 00320-9894369 Classification: System Analyst Compensation: $65,000.00 to $80,000.00 per year Top Requirements: 1.) Strong SQL understanding, including writing queries. 2.) Advanced Linux skills 3.) Experience or ability to learn a scripting langua\\n</div>\\n</div>\\n<div class=\"columns small-12 medium-3\">\\n<h4 class=\"job-text\">\\n<a data-company-did=\"cht3vg6lk6nkvvrxlrm\" data-gtm=\"jrp-job-list|company-click|22\" data-job-did=\"J3J0456B3D94XQ55BKC\" href=\"/company/cht3vg6lk6nkvvrxlrm?ipath=JRG22\">Robert Half Technology</a>\\n</h4>\\n</div>\\n<div class=\"columns small-12 medium-3 end\">\\n<h4 class=\"job-text\">\\nLos Angeles, CA\\n</h4>\\n<h4 class=\"job-distance\">\\n6 miles\\n\\n</h4>\\n</div>\\n</div>\\n<div class=\"row user-actions\">\\n<div class=\"small-12 columns job-actions\" data-job-did=\"J3J0456B3D94XQ55BKC\">\\n<span class=\"loading save-job\">\\n<a href=\"#\">\\n<span class=\"fa fa-star-o\"></span>\\nSave Job\\n</a>\\n</span>\\n<span class=\"hide saved-job\" js='{:id=&gt;\"\"}'>\\n<a class=\"saved-job-text\" href=\"#\">\\n<span class=\"fa fa-star\"></span>\\nSaved Job\\n</a>\\n<a href=\"/saved-jobs\">(View Saved Jobs)</a>\\n</span>\\n<a class=\"email-job-jrp\" data-gtm=\"jrp-job-list|email-link\" data-job-did=\"J3J0456B3D94XQ55BKC\" href=\"#\">\\n<span class=\"fa fa-envelope\"></span>\\nEmail Job\\n</a>\\n</div>\\n</div>\\n</div>\\n<div class=\"job-row\">\\n<div class=\"row\">\\n<div class=\"column\">\\n<div class=\"cb-apply-indicator\">CAREERBUILDER APPLY</div>\\n</div>\\n</div>\\n<div class=\"row\">\\n<div class=\"column small-10\">\\n<h2 class=\"job-title\">\\n<a data-company-did=\"chr0kk6ybynqw2zb2zk\" data-gtm=\"jrp-job-list|job-title-click|23\" data-job-did=\"J3H7GZ6CY56NS8SKL2N\" href=\"/job/J3H7GZ6CY56NS8SKL2N?ipath=JRG23&amp;searchid=dd4ef795-9560-4576-af22-da1c330c35c3&amp;siteid=cbnsv\">DevOps Engineer</a>\\n</h2>\\n</div>\\n<div class=\"column small-2 time-posted\">\\n<div class=\"hide-for-medium-up\">\\n5d\\n</div>\\n<div class=\"show-for-medium-up\">\\n<em>\\n5 days ago\\n</em>\\n</div>\\n</div>\\n</div>\\n<div class=\"row job-information\">\\n<div class=\"columns medium-6\">\\n<h4 class=\"job-text employment-info\">\\nFull-Time | Pay: $115k - $125k/year\\n</h4>\\n<div class=\"job-description show-for-medium-up\">\\nWe are looking to help a company in Pasadena find a DevOps engineer to help scale out their AWS infrastructure and improve efficiency/design of CI/CM. Automate a lot of stuff! \\x95 Purely Linux-Must know multiple flavors \\x95Master in the cloud-AWS(S3, Opworks,\\n</div>\\n</div>\\n<div class=\"columns small-12 medium-3\">\\n<h4 class=\"job-text\">\\n<a data-company-did=\"chr0kk6ybynqw2zb2zk\" data-gtm=\"jrp-job-list|company-click|23\" data-job-did=\"J3H7GZ6CY56NS8SKL2N\" href=\"/company/chr0kk6ybynqw2zb2zk?ipath=JRG23\">Ledgent Technology &amp; Engineering</a>\\n</h4>\\n</div>\\n<div class=\"columns small-12 medium-3 end\">\\n<h4 class=\"job-text\">\\nPasadena, CA\\n</h4>\\n<h4 class=\"job-distance\">\\n8 miles\\n\\n</h4>\\n</div>\\n</div>\\n<div class=\"row user-actions\">\\n<div class=\"small-12 columns job-actions\" data-job-did=\"J3H7GZ6CY56NS8SKL2N\">\\n<span class=\"loading save-job\">\\n<a href=\"#\">\\n<span class=\"fa fa-star-o\"></span>\\nSave Job\\n</a>\\n</span>\\n<span class=\"hide saved-job\" js='{:id=&gt;\"\"}'>\\n<a class=\"saved-job-text\" href=\"#\">\\n<span class=\"fa fa-star\"></span>\\nSaved Job\\n</a>\\n<a href=\"/saved-jobs\">(View Saved Jobs)</a>\\n</span>\\n<a class=\"email-job-jrp\" data-gtm=\"jrp-job-list|email-link\" data-job-did=\"J3H7GZ6CY56NS8SKL2N\" href=\"#\">\\n<span class=\"fa fa-envelope\"></span>\\nEmail Job\\n</a>\\n</div>\\n</div>\\n</div>\\n<div class=\"job-row\">\\n<div class=\"row\">\\n<div class=\"column\">\\n<div class=\"cb-apply-indicator\">CAREERBUILDER APPLY</div>\\n</div>\\n</div>\\n<div class=\"row\">\\n<div class=\"column small-10\">\\n<h2 class=\"job-title\">\\n<a data-company-did=\"chq0vp6bknrr4w2y7pw\" data-gtm=\"jrp-job-list|job-title-click|24\" data-job-did=\"J3J1JV6C5TJDNV3Y5L4\" href=\"/job/J3J1JV6C5TJDNV3Y5L4?ipath=JRG24&amp;searchid=dd4ef795-9560-4576-af22-da1c330c35c3&amp;siteid=cbnsv\">Data Warehouse Architect **Will relocate the right candidate**</a>\\n</h2>\\n</div>\\n<div class=\"column small-2 time-posted\">\\n<div class=\"hide-for-medium-up\">\\n6d\\n</div>\\n<div class=\"show-for-medium-up\">\\n<em>\\n6 days ago\\n</em>\\n</div>\\n</div>\\n</div>\\n<div class=\"row job-information\">\\n<div class=\"columns medium-6\">\\n<h4 class=\"job-text employment-info\">\\nFull-Time | Pay: $130k - $175k/year\\n</h4>\\n<div class=\"job-description show-for-medium-up\">\\nThis position is open as of 7/3/2016. Big Data Engineer - Hadoop - Culver City Are you a Data Warehouse Architect experienced with Big Data and Hadoop platforms or strong in Java and/or Python? If so, read on... \\u2022\\u2022\\u2022\\u2022 Please note we will offer relocation t\\n</div>\\n</div>\\n<div class=\"columns small-12 medium-3\">\\n<h4 class=\"job-text\">\\n<a data-company-did=\"chq0vp6bknrr4w2y7pw\" data-gtm=\"jrp-job-list|company-click|24\" data-job-did=\"J3J1JV6C5TJDNV3Y5L4\" href=\"/company/chq0vp6bknrr4w2y7pw?ipath=JRG24\">CyberCoders</a>\\n</h4>\\n</div>\\n<div class=\"columns small-12 medium-3 end\">\\n<h4 class=\"job-text\">\\nCulver City, CA\\n</h4>\\n<h4 class=\"job-distance\">\\n9 miles\\n\\n</h4>\\n</div>\\n</div>\\n<div class=\"row user-actions\">\\n<div class=\"small-12 columns job-actions\" data-job-did=\"J3J1JV6C5TJDNV3Y5L4\">\\n<span class=\"loading save-job\">\\n<a href=\"#\">\\n<span class=\"fa fa-star-o\"></span>\\nSave Job\\n</a>\\n</span>\\n<span class=\"hide saved-job\" js='{:id=&gt;\"\"}'>\\n<a class=\"saved-job-text\" href=\"#\">\\n<span class=\"fa fa-star\"></span>\\nSaved Job\\n</a>\\n<a href=\"/saved-jobs\">(View Saved Jobs)</a>\\n</span>\\n<a class=\"email-job-jrp\" data-gtm=\"jrp-job-list|email-link\" data-job-did=\"J3J1JV6C5TJDNV3Y5L4\" href=\"#\">\\n<span class=\"fa fa-envelope\"></span>\\nEmail Job\\n</a>\\n</div>\\n</div>\\n</div>\\n<div class=\"job-row\">\\n<div class=\"row\">\\n<div class=\"column\">\\n<div class=\"cb-apply-indicator\">CAREERBUILDER APPLY</div>\\n</div>\\n</div>\\n<div class=\"row\">\\n<div class=\"column small-10\">\\n<h2 class=\"job-title\">\\n<a data-company-did=\"chq0vp6bknrr4w2y7pw\" data-gtm=\"jrp-job-list|job-title-click|25\" data-job-did=\"J3G1PV652QSZP8SB5MH\" href=\"/job/J3G1PV652QSZP8SB5MH?ipath=JRG25&amp;searchid=dd4ef795-9560-4576-af22-da1c330c35c3&amp;siteid=cbnsv\">Software Development Engineer - ALL LEVELS, WILL RELOCATE</a>\\n</h2>\\n</div>\\n<div class=\"column small-2 time-posted\">\\n<div class=\"hide-for-medium-up\">\\n6d\\n</div>\\n<div class=\"show-for-medium-up\">\\n<em>\\n6 days ago\\n</em>\\n</div>\\n</div>\\n</div>\\n<div class=\"row job-information\">\\n<div class=\"columns medium-6\">\\n<h4 class=\"job-text employment-info\">\\nFull-Time | Pay: $80k - $200k/year\\n</h4>\\n<div class=\"job-description show-for-medium-up\">\\nThis position is open as of 7/3/2016. Software Development Engineer - ALL LEVELS, WILL RELOCATE We are looking for talented Software Engineers of ALL LEVELS! You can be new to the field, mid-level, Senior or an EXPERT! We will relocate you from anywhere.\\n</div>\\n</div>\\n<div class=\"columns small-12 medium-3\">\\n<h4 class=\"job-text\">\\n<a data-company-did=\"chq0vp6bknrr4w2y7pw\" data-gtm=\"jrp-job-list|company-click|25\" data-job-did=\"J3G1PV652QSZP8SB5MH\" href=\"/company/chq0vp6bknrr4w2y7pw?ipath=JRG25\">CyberCoders</a>\\n</h4>\\n</div>\\n<div class=\"columns small-12 medium-3 end\">\\n<h4 class=\"job-text\">\\nSanta Monica, CA\\n</h4>\\n<h4 class=\"job-distance\">\\n14 miles\\n\\n</h4>\\n</div>\\n</div>\\n<div class=\"row user-actions\">\\n<div class=\"small-12 columns job-actions\" data-job-did=\"J3G1PV652QSZP8SB5MH\">\\n<span class=\"loading save-job\">\\n<a href=\"#\">\\n<span class=\"fa fa-star-o\"></span>\\nSave Job\\n</a>\\n</span>\\n<span class=\"hide saved-job\" js='{:id=&gt;\"\"}'>\\n<a class=\"saved-job-text\" href=\"#\">\\n<span class=\"fa fa-star\"></span>\\nSaved Job\\n</a>\\n<a href=\"/saved-jobs\">(View Saved Jobs)</a>\\n</span>\\n<a class=\"email-job-jrp\" data-gtm=\"jrp-job-list|email-link\" data-job-did=\"J3G1PV652QSZP8SB5MH\" href=\"#\">\\n<span class=\"fa fa-envelope\"></span>\\nEmail Job\\n</a>\\n</div>\\n</div>\\n</div>\\n</div>\\n<div data-remodal-id=\"jobs-email-job-modal\" id=\"jobs-email-job-modal\">\\n<button class=\"remodal-close\" data-remodal-action=\"close\">\\n<span class=\"accessibility-hide-text\">Close</span>\\n</button>\\n<div class=\"row\">\\n<div class=\"small-12 large-10 large-push-1 columns\">\\n<form accept-charset=\"UTF-8\" action=\"/jobs/email\" id=\"email-job-form\" method=\"post\" novalidate=\"novalidate\"><input name=\"utf8\" type=\"hidden\" value=\"\\u2713\"/><input name=\"authenticity_token\" type=\"hidden\" value=\"vBHxrR8QM8AWjPonWqJ7ughKafhnKhDYhRYVxQfzu14M3PKlayNs5Pd06EL2ZIpULBInnY9tR+2gYX36VUZx8w==\"/><input id=\"job_id\" name=\"job_id\" type=\"hidden\"/>\\n<div class=\"row\">\\n<div class=\"small-12 columns\">\\n<h2>Email this Job to Yourself or a Friend</h2>\\n<label for=\"from_address\">From (your email)</label>\\n</div>\\n</div>\\n<div class=\"row\">\\n<div class=\"small-12 columns\">\\n<input class=\"required\" id=\"from_address\" name=\"from_address\" type=\"email\"/>\\n</div>\\n</div>\\n<div class=\"row\">\\n<div class=\"small-12 columns\">\\n<label for=\"to_address\">To (recipient's email)</label>\\n</div>\\n</div>\\n<div class=\"row\">\\n<div class=\"small-12 columns\">\\n<input class=\"required\" id=\"to_address\" name=\"to_address\" type=\"email\"/>\\n</div>\\n</div>\\n<div class=\"row\">\\n<div class=\"small-12 columns\">\\n<input class=\"btn\" type=\"submit\" value=\"Send Email\"/>\\n</div>\\n</div>\\n<div class=\"row\">\\n<div class=\"small-12 columns\">\\n<a class=\"btn negative\" data-remodal-action=\"cancel\" href=\"#\">\\nCancel\\n</a>\\n</div>\\n</div>\\n</form></div>\\n</div>\\n</div>\\n<div data-remodal-id=\"suggest-sign-in\" id=\"suggest-sign-in\">\\n<button class=\"remodal-close\" data-remodal-action=\"close\">\\n<span class=\"accessibility-hide-text\">Close</span>\\n</button>\\n<div class=\"row\">\\n<div class=\"small-12 columns\">\\n<h3>{msg}</h3>\\n</div>\\n</div>\\n<div class=\"row\">\\n<div class=\"small-12 columns\">\\n<a class=\"btn\" data-gtm=\"job-action|save-link-modal-signin-click\" href=\"/user/sign-in?next=http%3A%2F%2Fwww.careerbuilder.com%2Fjobs-python-in-los-angeles%3F%26pay%3D20%23save-job\">Sign in or Register</a>\\n</div>\\n</div>\\n<div class=\"row\">\\n<div class=\"small-12 columns\">\\n<button class=\"btn negative\" data-remodal-action=\"close\">\\nCancel\\n</button>\\n</div>\\n</div>\\n</div>\\n</div>\\n<div class=\"row bump pagination\">\\n<div class=\"small-12 columns\">\\n<div class=\"pager\" role=\"navigation\">\\n<a aria='{:label=&gt;\"Previous Page\", :disabled=&gt;\"true\"}' class=\"btn tertiary pagination-btn\" data-gtm=\"jrp-job-list|pagination-back\" disabled=\"\" href=\"http://www.careerbuilder.com/jobs-python-in-los-angeles?page_number=0&amp;pay=20\">\\n<span class=\"fa fa-chevron-left\"></span>\\n</a>\\n<a aria='{:label=&gt;\"Page 1\"}' class=\"btn current-page pagination-btn tertiary\" disabled=\"\" href=\"http://www.careerbuilder.com/jobs-python-in-los-angeles?pay=20\">\\n1\\n</a>\\n<a aria='{:label=&gt;\"Page 2\"}' class=\"btn pagination-btn tertiary\" href=\"http://www.careerbuilder.com/jobs-python-in-los-angeles?page_number=2&amp;pay=20\">\\n2\\n</a>\\n<a aria='{:label=&gt;\"Next Page\", :disabled=&gt;\"false\"}' class=\"btn tertiary pagination-btn\" data-gtm=\"jrp-job-list|pagination-next\" href=\"http://www.careerbuilder.com/jobs-python-in-los-angeles?page_number=2&amp;pay=20\">\\n<span class=\"fa fa-chevron-right\"></span>\\n</a>\\n</div>\\n<span class=\"page-count\">\\nPage 1 of 2\\n</span>\\n</div>\\n</div>\\n<div class=\"hide-for-large-up related_searches\">\\n<span class=\"related_separator show-for-large-up\">\\n|\\n</span>\\nRelated Searches:\\n<div class=\"related_search_links\">\\n<a class=\"crosslink\" data-gtm=\"jrp-crosslink|python developer\" href=\"/jobs-python-developer-in-los-angeles\">python developer</a>\\n<a class=\"crosslink\" data-gtm=\"jrp-crosslink|software engineer\" href=\"/jobs-software-engineer-in-los-angeles\">software engineer</a>\\n<a class=\"crosslink\" data-gtm=\"jrp-crosslink|linux engineer\" href=\"/jobs-linux-engineer-in-los-angeles\">linux engineer</a>\\n</div>\\n</div>\\n</div>\\n<div class=\"row\">\\n<div class=\"small-12 columns bump\">\\n<div class=\"secondary-background job-alert-box card\" id=\"create-job-alert\">\\n<form accept-charset=\"UTF-8\" action=\"/saved-searches/create\" id=\"create-job-alert-form\" method=\"post\"><input name=\"utf8\" type=\"hidden\" value=\"\\u2713\"/><input name=\"authenticity_token\" type=\"hidden\" value=\"0EoUsGIlOwwdFsqge8l02IY8yQSD9SrazyvI+rp488Zghxe4FhZkKPzu2MXXD4U2omSHYWuyfe/qXKDF6M05aw==\"/><div class=\"row\">\\n<div class=\"small-12 columns\">\\n<h2>Sign Up for Job Alerts</h2>\\n</div>\\n</div>\\n<div class=\"row\">\\n<div class=\"small-12 columns\">\\nNever miss the latest Python Jobs in Los Angeles, CA\\n</div>\\n</div>\\n<div class=\"row bump\">\\n<div class=\"small-12 medium-5 columns\">\\n<div class=\"row\">\\n<div class=\"small-12 columns\"><label for=\"email\">Your Email</label></div>\\n</div>\\n<div class=\"row\">\\n<div class=\"small-12 columns\"><input class=\"required\" id=\"email\" name=\"email\" type=\"text\" value=\"\"/></div>\\n</div>\\n</div>\\n<div class=\"small-12 medium-3 columns\">\\n<fieldset class=\"accessibility-hide\">\\n<legend class=\"accessibility-hide-text\">Alert Frequency</legend>\\n<div class=\"bold\">Alert Frequency</div>\\n<div>\\n<input id=\"frequency_Daily\" name=\"frequency\" type=\"radio\" value=\"Daily\"/>\\n<label for=\"frequency_Daily\">Daily</label>\\n</div>\\n<div>\\n<input checked=\"checked\" id=\"frequency_Weekly\" name=\"frequency\" type=\"radio\" value=\"Weekly\"/>\\n<label for=\"frequency_Weekly\">Weekly</label>\\n</div>\\n</fieldset>\\n</div>\\n<div class=\"small-12 medium-4 columns bump\">\\n<button class=\"btn secondary\" data-gtm=\"jrp-job-alerts|alerts-submit-bottom\" name=\"button\" type=\"submit\">Create Job Alert</button>\\n</div>\\n</div>\\n<div class=\"row\">\\n<div class=\"small-12 columns cancel\">\\nYou can cancel job alerts at any time\\n</div>\\n</div>\\n</form></div>\\n<div class=\"secondary-background job-alert-box card hide\" id=\"saving-job-alert\">\\n<div class=\"row\">\\n<div class=\"small-12 columns\">\\n<h2>\\n<i class=\"fa fa-spinner fa-spin\"></i>\\nSaving Your Job Alert\\n</h2>\\n</div>\\n</div>\\n</div>\\n<div class=\"secondary-background job-alert-box card hide\" id=\"job-alert-created\">\\n<div class=\"row\">\\n<div class=\"small-12 columns\">\\n<h2>\\n<i class=\"fa fa-check-circle success\"></i>\\nJob Alert Created\\n</h2>\\n</div>\\n</div>\\n<div class=\"row\">\\n<div class=\"small-12 columns\">\\nYou will be receiving\\n<span id=\"frequency_word\"></span>\\njob alerts for Python Jobs in Los Angeles, CA.\\n</div>\\n</div>\\n</div>\\n<div class=\"secondary-background job-alert-box card hide\" id=\"error-saving-job-alert\">\\n<div class=\"row\">\\n<div class=\"small-12 columns\">\\nWell, this is embarrassing. We are having trouble saving your search. You can try again or come back at a later time.\\n</div>\\n</div>\\n</div>\\n<div class=\"secondary-background job-alert-box card hide\" id=\"max-saved-searches-error\">\\n<div class=\"row\">\\n<div class=\"small-12 columns\">\\n<h2>Maximum Email Alerts</h2>\\n</div>\\n</div>\\n<div class=\"row\">\\n<div class=\"small-12 columns\">\\nThis email address has reached the maximum of 5 email alerts. To create a new alert, you will need to log into your email and unsubscribe from at least one.\\n</div>\\n</div>\\n</div>\\n</div>\\n</div>\\n</div>\\n</div>\\n<div class=\"row\">\\n<div class=\"bottom-ad-container\">\\n<div class=\"show-for-medium-up large-10 large-offset-2 columns\">\\n<div class=\"bottom-ad\"></div>\\n<h5>\\nADVERTISEMENT\\n</h5>\\n</div>\\n</div>\\n</div>\\n<div class=\"row back-to-top\">\\n<div class=\"column small-12 double-bump hide-for-large-up center-text\">\\n<a class=\"to-top\" href=\"\">\\nBack To Top\\n<i class=\"fa fa-arrow-up\"></i>\\n</a>\\n</div>\\n</div>\\n</div>\\n<footer class=\"universal-footer\">\\n<div class=\"row\" id=\"footer-links\">\\n<section class=\"columns small-9 small-offset-3 margin-below hide-section\" id=\"back-to-section-list\">\\n<a>\\n<span class=\"fa fa-angle-left bold\"></span>\\nBack\\n</a>\\n</section>\\n<section class=\"small-5 columns small-offset-3 medium-offset-0\" id=\"footer-sections-list\">\\n<ul>\\n<li data-section=\"footer-job-seeker-links\">\\n<a>\\n<strong>Job Seekers</strong>\\n<span class=\"fa fa-angle-right bold\"></span>\\n</a>\\n</li>\\n<li data-section=\"footer-help-center-links\">\\n<a>\\n<strong>Help Center</strong>\\n<span class=\"fa fa-angle-right bold\"></span>\\n</a>\\n</li>\\n<li data-section=\"footer-employer-links\">\\n<a>\\n<strong>Employers</strong>\\n<span class=\"fa fa-angle-right bold\"></span>\\n</a>\\n</li>\\n<li data-section=\"footer-careerbuilder-links\">\\n<a>\\n<strong>CareerBuilder</strong>\\n<span class=\"fa fa-angle-right bold\"></span>\\n</a>\\n</li>\\n<li data-section=\"footer-social-links\">\\n<a>\\n<strong>Stay Connected</strong>\\n<span class=\"fa fa-angle-right bold\"></span>\\n</a>\\n</li>\\n<li data-section=\"footer-legal-links\">\\n<a>\\n<strong>Legal</strong>\\n<span class=\"fa fa-angle-right bold\"></span>\\n</a>\\n</li>\\n</ul>\\n</section>\\n<section class=\"small-6 medium-3 large-2 columns small-offset-3 medium-offset-0 hide-section\" id=\"footer-job-seeker-links\">\\n<h4>Job Seekers</h4>\\n<ul>\\n<li>\\n<a data-gtm=\"footer|international-jobs\" href=\"http://www.careerbuilder.com/jobseeker/jobs/jobfindil.aspx\">International Jobs</a>\\n</li>\\n<li>\\n<a data-gtm=\"footer|blog\" href=\"http://advice.careerbuilder.com/\">Blog</a>\\n</li>\\n<li>\\n<a data-gtm=\"footer|career-insights\" href=\"http://coach.careerbuilder.com/\">Career Insights</a>\\n</li>\\n<li>\\n<a data-gtm=\"footer|sitemap\" href=\"http://www.careerbuilder.com/sitemap.aspx\">Sitemap</a>\\n</li>\\n<li>\\n<a data-gtm=\"footer|accessibility\" href=\"http://accesscb.net/\">Accessibility</a>\\n</li>\\n</ul>\\n</section>\\n<section class=\"small-6 medium-3 large-2 columns small-offset-3 medium-offset-0 hide-section\" id=\"footer-help-center-links\">\\n<h4>Help Center</h4>\\n<ul>\\n<li>\\n<a data-gtm=\"footer|manage-email\" href=\"http://www.careerbuilder.com/jobseeker/emails/emailsubcenter.aspx\">Manage Email</a>\\n</li>\\n<li>\\n<a data-gtm=\"footer|reset-password\" href=\"http://www.careerbuilder.com/share/changeemailpwd.aspx\">Reset Password</a>\\n</li>\\n<li>\\n<a data-gtm=\"footer|customer-service\" href=\"http://www.fuzeqna.com/careerbuilder/consumer/question.asp\">Customer Service</a>\\n</li>\\n</ul>\\n</section>\\n<section class=\"small-6 medium-3 large-2 columns small-offset-3 medium-offset-0 hide-section\" id=\"footer-employer-links\">\\n<h4>Employers</h4>\\n<ul>\\n<li>\\n<a data-gtm=\"footer|search-resumes\" href=\"http://hiring.careerbuilder.com/recruitment-advertising/small-business-resume-database\">Search Resumes</a>\\n</li>\\n<li>\\n<a data-gtm=\"footer|post-jobs\" href=\"http://hiring.careerbuilder.com/recruitment-advertising/post-job-right-now\">Post Jobs</a>\\n</li>\\n<li>\\n<a data-gtm=\"footer|talent-networks\" href=\"http://www.careerbuilder.com/s/talent-networks\">Talent Networks</a>\\n</li>\\n<li>\\n<a data-gtm=\"footer|advertising\" href=\"http://www.careerbuilder.com/jobseeker/info/advertise.aspx?sc_cmp1=JS_Advertise\">Advertising</a>\\n</li>\\n</ul>\\n</section>\\n<section class=\"small-6 medium-3 large-2 columns small-offset-3 medium-offset-0 hide-section\" id=\"footer-careerbuilder-links\">\\n<h4>CareerBuilder</h4>\\n<ul>\\n<li>\\n<a data-gtm=\"footer|about-us\" href=\"http://www.careerbuilder.com/share/aboutus/default.aspx\">About Us</a>\\n</li>\\n<li>\\n<a data-gtm=\"footer|work-at-careerbuilder\" href=\"http://www.careerbuildercareers.com/\">Work at CareerBuilder</a>\\n</li>\\n<li>\\n<a data-gtm=\"footer|send-feedback\" href=\"#\" onclick=\"window.usabilla_live('click');\">Send Feedback</a>\\n</li>\\n</ul>\\n<p class=\"bump\">\\n200 N. LaSalle St.\\n<br/>\\nSuite 1100\\n<br/>\\nChicago, IL 60601\\n</p>\\n</section>\\n<section class=\"small-6 medium-3 large-2 columns small-offset-3 medium-offset-0 hide-section\" id=\"footer-social-links\">\\n<h4>Stay Connected</h4>\\n<ul>\\n<li>\\n<a data-gtm=\"footer|twitter\" href=\"http://twitter.com/careerbuilder\">\\n<span class=\"fa fa-twitter-square\"></span>\\nTwitter\\n</a>\\n</li>\\n<li>\\n<a data-gtm=\"footer|instagram\" href=\"https://instagram.com/careerbuilder/\">\\n<span class=\"fa fa-instagram\"></span>\\nInstagram\\n</a>\\n</li>\\n<li>\\n<a data-gtm=\"footer|youtube\" href=\"https://www.youtube.com/user/CareerBuilder\">\\n<span class=\"fa fa-youtube-square\"></span>\\nYoutube\\n</a>\\n</li>\\n<li>\\n<a data-gtm=\"footer|facebook\" href=\"http://www.facebook.com/careerbuilder\">\\n<span class=\"fa fa-facebook-square\"></span>\\nFacebook\\n</a>\\n</li>\\n<li>\\n<a data-gtm=\"footer|tumblr\" href=\"http://workhappier.tumblr.com/\">\\n<span class=\"fa fa-tumblr-square\"></span>\\nTumblr\\n</a>\\n</li>\\n<li>\\n<a data-gtm=\"footer|google-plus\" href=\"https://plus.google.com/+careerbuilder/posts\">\\n<span class=\"fa fa-google-plus-square\"></span>\\nGoogle Plus\\n</a>\\n</li>\\n<li>\\n<a data-gtm=\"footer|pinterest\" href=\"https://www.pinterest.com/careerbuilder/\">\\n<span class=\"fa fa-pinterest-square\"></span>\\nPinterest\\n</a>\\n</li>\\n<li>\\n<a data-gtm=\"footer|linkedin\" href=\"https://www.linkedin.com/company/careerbuilder.com\">\\n<span class=\"fa fa-linkedin-square\"></span>\\nLinkedIn\\n</a>\\n</li>\\n</ul>\\n</section>\\n<section class=\"small-12 medium-3 large-2 columns small-offset-3 medium-offset-0 hide-section\" id=\"footer-legal-links\">\\n<h4>Legal</h4>\\n<ul>\\n<li>\\n<a data-gtm=\"footer|security-&amp;-fraud\" href=\"http://www.careerbuilder.com/jobseeker/info/fraud.aspx\">Security &amp; Fraud</a>\\n</li>\\n<li>\\n<a data-gtm=\"footer|privacy-policy\" href=\"http://www.careerbuilder.com/privacy\">Privacy Policy</a>\\n</li>\\n<li>\\n<a data-gtm=\"footer|terms\" href=\"http://www.careerbuilder.com/terms\">Terms</a>\\n</li>\\n<li>\\n<a data-gtm=\"footer|ad-choices\" href=\"http://preferences.truste.com/2.0/?affiliateId=126\">\\nAd Choices\\n<img alt=\"Ad Choices\" class=\"ad-choices\" src=\"/assets/consumer_layouts/ad_choices-179a67c29cac43cff327f12ea826145e596d3e93811bd7b89d0f4538e5bfab08.png\"/>\\n</a>\\n</li>\\n</ul>\\n</section>\\n<section class=\"small-9 medium-3 large-12 columns small-offset-3 medium-offset-0 hide-section end\" id=\"footer-mobile-app-links\">\\n<h4>Search on the Go</h4>\\n<a data-gtm=\"footer|download-ios-app\" href=\"https://itunes.apple.com/us/app/jobs-by-careerbuilder/id524123670\">\\n<img alt=\"Download the CB Jobs App in the iOS App Store\" class=\"app_logo_app_store\" src=\"/assets/consumer_layouts/s-ef1955ae757c8b966c83248350331bd3a30f658ced11f387f8ebf05ab3368629.gif\"/>\\n</a>\\n<a data-gtm=\"footer|download-android-app\" href=\"https://play.google.com/store/apps/details?id=com.careerbuilder.SugarDrone&amp;hl=en_US\">\\n<img alt=\"Download the CB Jobs App in the Google Play Store\" class=\"app_logo_google_play\" src=\"/assets/consumer_layouts/s-ef1955ae757c8b966c83248350331bd3a30f658ced11f387f8ebf05ab3368629.gif\"/>\\n</a>\\n</section>\\n</div>\\n<div class=\"row\">\\n<div class=\"columns bold small-12\" id=\"footer-legal-banner\">\\n<p>\\n\\xa9 2016 Careerbuilder, LLC. All rights reserved.\\n</p>\\n</div>\\n</div>\\n</footer>\\n<script src=\"https://www.google.com/jsapi\"></script>\\n<script src=\"/assets/application-99f6f029ff362d3a29eeeb23e198aa6f7698260a647c37f6211d69de0fec02ac.js\"></script>\\n<script>\\n  new Cb.JobResultPage();\\n</script>\\n<script>\\n  AdRetriever = new Cb.AdRetriever();\\n  new Cb.JobResultPageAds(AdRetriever);\\n</script>\\n<script>\\n  $('.search-form form').on('submit', function(e) {\\n    e.preventDefault();\\n    var inputKeywords = $('#header-keywords').val();\\n    var inputLocation = $('#header-location').val();\\n    $('#filter-keywords').val(inputKeywords);\\n    $('#filter-location').val(inputLocation);\\n    $('#filter-search-form').trigger('submit');\\n  });\\n</script>\\n<script type=\"application/ld+json\">\\n{\"@context\":\"http://schema.org\",\"@type\":\"ItemList\",\"itemListElement\":[{\"@type\":\"ListItem\",\"position\":1,\"url\":\"http://www.careerbuilder.com/job/J3F4996D370B8GMVSJL\"},{\"@type\":\"ListItem\",\"position\":2,\"url\":\"http://www.careerbuilder.com/job/J3L6QM5YFTG9XDSBSV0\"},{\"@type\":\"ListItem\",\"position\":3,\"url\":\"http://www.careerbuilder.com/job/JHQ0D16HT6C08XH2W7T\"},{\"@type\":\"ListItem\",\"position\":4,\"url\":\"http://www.careerbuilder.com/job/J9060N6L8WS8SNHT7LZ\"},{\"@type\":\"ListItem\",\"position\":5,\"url\":\"http://www.careerbuilder.com/job/J3G18K66GRHDCWR166Z\"},{\"@type\":\"ListItem\",\"position\":6,\"url\":\"http://www.careerbuilder.com/job/J3H74F5Z7B5J8DS8WKN\"},{\"@type\":\"ListItem\",\"position\":7,\"url\":\"http://www.careerbuilder.com/job/J3L4D865LF445FKLNJ9\"},{\"@type\":\"ListItem\",\"position\":8,\"url\":\"http://www.careerbuilder.com/job/J3G74567HRK3TP8H6G3\"},{\"@type\":\"ListItem\",\"position\":9,\"url\":\"http://www.careerbuilder.com/job/J3L4CV64HS2TG3Z5X9F\"},{\"@type\":\"ListItem\",\"position\":10,\"url\":\"http://www.careerbuilder.com/job/J3G2JY73GG8DJ8YZY73\"},{\"@type\":\"ListItem\",\"position\":11,\"url\":\"http://www.careerbuilder.com/job/J3K0L072Q98MTY9M9JP\"},{\"@type\":\"ListItem\",\"position\":12,\"url\":\"http://www.careerbuilder.com/job/J3H28F79J1JBJFJHLSF\"},{\"@type\":\"ListItem\",\"position\":13,\"url\":\"http://www.careerbuilder.com/job/J3G5336F8SYP98FQGWC\"},{\"@type\":\"ListItem\",\"position\":14,\"url\":\"http://www.careerbuilder.com/job/J3K1BH69ZSC33SCTJ35\"},{\"@type\":\"ListItem\",\"position\":15,\"url\":\"http://www.careerbuilder.com/job/J3G2GB6WG8PH1XF38TK\"},{\"@type\":\"ListItem\",\"position\":16,\"url\":\"http://www.careerbuilder.com/job/J3J5X56NR5HS591J2TT\"},{\"@type\":\"ListItem\",\"position\":17,\"url\":\"http://www.careerbuilder.com/job/J3K7SP6P1MS1NZLCK6P\"},{\"@type\":\"ListItem\",\"position\":18,\"url\":\"http://www.careerbuilder.com/job/J3J0CF74NPNQ78XZNJG\"},{\"@type\":\"ListItem\",\"position\":19,\"url\":\"http://www.careerbuilder.com/job/J3G7BQ746Y0YJVB37DP\"},{\"@type\":\"ListItem\",\"position\":20,\"url\":\"http://www.careerbuilder.com/job/J3J4ZF6L2VGT435KBGP\"},{\"@type\":\"ListItem\",\"position\":21,\"url\":\"http://www.careerbuilder.com/job/J8Q0NQ61M3FYWFGSBCY\"},{\"@type\":\"ListItem\",\"position\":22,\"url\":\"http://www.careerbuilder.com/job/J3J0456B3D94XQ55BKC\"},{\"@type\":\"ListItem\",\"position\":23,\"url\":\"http://www.careerbuilder.com/job/J3H7GZ6CY56NS8SKL2N\"},{\"@type\":\"ListItem\",\"position\":24,\"url\":\"http://www.careerbuilder.com/job/J3J1JV6C5TJDNV3Y5L4\"},{\"@type\":\"ListItem\",\"position\":25,\"url\":\"http://www.careerbuilder.com/job/J3G1PV652QSZP8SB5MH\"}]}\\n</script>\\n<script type=\"application/ld+json\">\\n{\\n  \"@context\" : \"http://schema.org\",\\n  \"@type\" : \"Organization\",\\n  \"name\" : \"CareerBuilder\",\\n  \"url\" : \"http://www.careerbuilder.com\",\\n  \"sameAs\" : [\\n    \"http://www.facebook.com/careerbuilder\",\\n    \"http://www.twitter.com/CareerBuilder\",\\n    \"https://www.linkedin.com/company/careerbuilder.com\",\\n    \"https://plus.google.com/+careerbuilder\",\\n    \"https://www.youtube.com/user/CareerBuilder\"\\n  ]\\n}\\n</script>\\n<script type=\"text/javascript\">\\n        (function()           {\\nvar injs = document.createElement('script');          injs.type = \"text/javascript\"          ;\\ninjs.src = \"https://visitor.careerbuilder.com/track/?event=eyJSRU1PVEVfQUREUiI6IjEwLjAuMC4xMiIsIk9SSUdJTkFMX0ZVTExQQVRIIjoiL2pvYnMtcHl0aG9uLWluLWxvcy1hbmdlbGVzP1x1MDAyNnBheT0yMCIsIlJFUVVFU1RfTUVUSE9EIjoiR0VUIiwiUkVRVUVTVF9VUkkiOiIvam9icy1weXRob24taW4tbG9zLWFuZ2VsZXM_XHUwMDI2cGF5PTIwIiwiSFRUUF9IT1NUIjoid3d3LmNhcmVlcmJ1aWxkZXIuY29tIiwiSFRUUF9VU0VSX0FHRU5UIjoicHl0aG9uLXJlcXVlc3RzLzIuOS4xIiwiUVVFUllfU1RSSU5HIjoiXHUwMDI2cGF5PTIwIiwiQklEIjoiWDE4MzNBQjc3NEVGMjc2RkNCNkY2QTgyQzVFMjVFODc1QUJBMTZBRDdDOEM3N0VFNUE5NjIyQThGQTc2NTFGNEEzMkE4REZDQzlBNTUxRDhFNEEyNDQ2MThDRjZGNEM3NUEiLCJldmVudF90eXBlIjoiam9iX3NlYXJjaCIsImpvYl9yZXN1bHRzIjoiSjNGNDk5NkQzNzBCOEdNVlNKTCxKM0w2UU01WUZURzlYRFNCU1YwLEpIUTBEMTZIVDZDMDhYSDJXN1QsSjkwNjBONkw4V1M4U05IVDdMWixKM0cxOEs2NkdSSERDV1IxNjZaLEozSDc0RjVaN0I1SjhEUzhXS04sSjNMNEQ4NjVMRjQ0NUZLTE5KOSxKM0c3NDU2N0hSSzNUUDhINkczLEozTDRDVjY0SFMyVEczWjVYOUYsSjNHMkpZNzNHRzhESjhZWlk3MyxKM0swTDA3MlE5OE1UWTlNOUpQLEozSDI4Rjc5SjFKQkpGSkhMU0YsSjNHNTMzNkY4U1lQOThGUUdXQyxKM0sxQkg2OVpTQzMzU0NUSjM1LEozRzJHQjZXRzhQSDFYRjM4VEssSjNKNVg1Nk5SNUhTNTkxSjJUVCxKM0s3U1A2UDFNUzFOWkxDSzZQLEozSjBDRjc0TlBOUTc4WFpOSkcsSjNHN0JRNzQ2WTBZSlZCMzdEUCxKM0o0WkY2TDJWR1Q0MzVLQkdQLEo4UTBOUTYxTTNGWVdGR1NCQ1ksSjNKMDQ1NkIzRDk0WFE1NUJLQyxKM0g3R1o2Q1k1Nk5TOFNLTDJOLEozSjFKVjZDNVRKRE5WM1k1TDQsSjNHMVBWNjUyUVNaUDhTQjVNSCIsImxvY2F0aW9uIjoibG9zIGFuZ2VsZXMiLCJrZXl3b3JkcyI6InB5dGhvbiIsImhvc3Rfc2l0ZSI6IlVTIiwic2l0ZV9wcm9wZXJ0eSI6IkNCTW91bnRhaW4iLCJWSUQiOiJWWDI2RTYyRDkwNDE3RjExRTY4M0Q0RTM4RDUwQTEyMzhBMjM2NjJLIn0=\"          ;\\ninjs.async = true          ;\\ninjs.id = \"inteljs\"          ;\\ndocument.body.appendChild(injs)          ;\\n})();\\n        </script>\\n</body>\\n</html>\\n"
      ]
     },
     "execution_count": 9,
     "metadata": {},
     "output_type": "execute_result"
    }
   ],
   "source": [
    "soup"
   ]
  },
  {
   "cell_type": "code",
   "execution_count": 21,
   "metadata": {
    "collapsed": false
   },
   "outputs": [
    {
     "data": {
      "text/plain": [
       "[<h4 class=\"job-text employment-info\">\\nFull-Time | Pay: $100k - $140k/year\\n</h4>,\n",
       " <h4 class=\"job-text\">\\n<a data-company-did=\"chq0vp6bknrr4w2y7pw\" data-gtm=\"jrp-job-list|company-click|1\" data-job-did=\"J3F4996D370B8GMVSJL\" href=\"/company/chq0vp6bknrr4w2y7pw?ipath=JRG1\">CyberCoders</a>\\n</h4>,\n",
       " <h4 class=\"job-text\">\\nLos Angeles, CA\\n</h4>,\n",
       " <h4 class=\"job-distance\">\\n5 miles\\n\\n</h4>,\n",
       " <h4 class=\"job-text employment-info\">\\nFull-Time | Pay: $80k - $130k/year\\n</h4>,\n",
       " <h4 class=\"job-text\">\\n<a data-company-did=\"chq0vp6bknrr4w2y7pw\" data-gtm=\"jrp-job-list|company-click|2\" data-job-did=\"J3L6QM5YFTG9XDSBSV0\" href=\"/company/chq0vp6bknrr4w2y7pw?ipath=JRG2\">CyberCoders</a>\\n</h4>,\n",
       " <h4 class=\"job-text\">\\nLos Angeles, CA\\n</h4>,\n",
       " <h4 class=\"job-distance\">\\n5 miles\\n<h4>\\n<a class=\"company-collapse-link\" data-company-did=\"chq0vp6bknrr4w2y7pw\" data-gtm=\"jrp-job-list|more-company-jobs|2\" data-job-did=\"J3L6QM5YFTG9XDSBSV0\" href=\"/jobs-python-in-los-angeles?company_name=CyberCoders&amp;grouping_value=6f34c9375ca1258bd25f25ecbf0692a9&amp;pay=20&amp;sort=distance_asc\">View 13 more</a>\\n</h4>\\n</h4>,\n",
       " <h4>\\n<a class=\"company-collapse-link\" data-company-did=\"chq0vp6bknrr4w2y7pw\" data-gtm=\"jrp-job-list|more-company-jobs|2\" data-job-did=\"J3L6QM5YFTG9XDSBSV0\" href=\"/jobs-python-in-los-angeles?company_name=CyberCoders&amp;grouping_value=6f34c9375ca1258bd25f25ecbf0692a9&amp;pay=20&amp;sort=distance_asc\">View 13 more</a>\\n</h4>,\n",
       " <h4 class=\"job-text employment-info\">\\nFull-Time | Pay: $50k - $90k/year\\n</h4>,\n",
       " <h4 class=\"job-text\">\\nConfidential\\n</h4>,\n",
       " <h4 class=\"job-text\">\\nOrange, CA\\n</h4>,\n",
       " <h4 class=\"job-distance\">\\n27 miles\\n\\n</h4>,\n",
       " <h4 class=\"job-text employment-info\">\\nFull-Time | Pay: $100k - $120k/year\\n</h4>,\n",
       " <h4 class=\"job-text\">\\nConfidential\\n</h4>,\n",
       " <h4 class=\"job-text\">\\nManhattan Beach, CA\\n</h4>,\n",
       " <h4 class=\"job-distance\">\\n13 miles\\n\\n</h4>,\n",
       " <h4 class=\"job-text employment-info\">\\nFull-Time | Pay: $100k - $140k/year\\n</h4>,\n",
       " <h4 class=\"job-text\">\\n<a data-company-did=\"chq0vp6bknrr4w2y7pw\" data-gtm=\"jrp-job-list|company-click|5\" data-job-did=\"J3G18K66GRHDCWR166Z\" href=\"/company/chq0vp6bknrr4w2y7pw?ipath=JRG5\">CyberCoders</a>\\n</h4>,\n",
       " <h4 class=\"job-text\">\\nLos Angeles, CA\\n</h4>,\n",
       " <h4 class=\"job-distance\">\\n4 miles\\n\\n</h4>,\n",
       " <h4 class=\"job-text employment-info\">\\nFull-Time | Pay: $100k - $130k/year\\n</h4>,\n",
       " <h4 class=\"job-text\">\\n<a data-company-did=\"chq0vp6bknrr4w2y7pw\" data-gtm=\"jrp-job-list|company-click|6\" data-job-did=\"J3H74F5Z7B5J8DS8WKN\" href=\"/company/chq0vp6bknrr4w2y7pw?ipath=JRG6\">CyberCoders</a>\\n</h4>,\n",
       " <h4 class=\"job-text\">\\nVenice, CA\\n</h4>,\n",
       " <h4 class=\"job-distance\">\\n13 miles\\n\\n</h4>,\n",
       " <h4 class=\"job-text employment-info\">\\nFull-Time | Pay: $140k - $175k/year\\n</h4>,\n",
       " <h4 class=\"job-text\">\\n<a data-company-did=\"chq0vp6bknrr4w2y7pw\" data-gtm=\"jrp-job-list|company-click|7\" data-job-did=\"J3L4D865LF445FKLNJ9\" href=\"/company/chq0vp6bknrr4w2y7pw?ipath=JRG7\">CyberCoders</a>\\n</h4>,\n",
       " <h4 class=\"job-text\">\\nLos Angeles, CA\\n</h4>,\n",
       " <h4 class=\"job-distance\">\\n5 miles\\n<h4>\\n<a class=\"company-collapse-link\" data-company-did=\"chq0vp6bknrr4w2y7pw\" data-gtm=\"jrp-job-list|more-company-jobs|7\" data-job-did=\"J3L4D865LF445FKLNJ9\" href=\"/jobs-python-in-los-angeles?company_name=CyberCoders&amp;grouping_value=1c383c1ef1c5583d844c4ec6b4f46798&amp;pay=20&amp;sort=distance_asc\">View 1 more</a>\\n</h4>\\n</h4>,\n",
       " <h4>\\n<a class=\"company-collapse-link\" data-company-did=\"chq0vp6bknrr4w2y7pw\" data-gtm=\"jrp-job-list|more-company-jobs|7\" data-job-did=\"J3L4D865LF445FKLNJ9\" href=\"/jobs-python-in-los-angeles?company_name=CyberCoders&amp;grouping_value=1c383c1ef1c5583d844c4ec6b4f46798&amp;pay=20&amp;sort=distance_asc\">View 1 more</a>\\n</h4>,\n",
       " <h4 class=\"job-text employment-info\">\\nFull-Time | Pay: $95k - $160k/year\\n</h4>,\n",
       " <h4 class=\"job-text\">\\n<a data-company-did=\"chq0vp6bknrr4w2y7pw\" data-gtm=\"jrp-job-list|company-click|8\" data-job-did=\"J3G74567HRK3TP8H6G3\" href=\"/company/chq0vp6bknrr4w2y7pw?ipath=JRG8\">CyberCoders</a>\\n</h4>,\n",
       " <h4 class=\"job-text\">\\nSanta Monica, CA\\n</h4>,\n",
       " <h4 class=\"job-distance\">\\n14 miles\\n\\n</h4>,\n",
       " <h4 class=\"job-text employment-info\">\\nFull-Time | Pay: $140k - $175k/year\\n</h4>,\n",
       " <h4 class=\"job-text\">\\n<a data-company-did=\"chq0vp6bknrr4w2y7pw\" data-gtm=\"jrp-job-list|company-click|9\" data-job-did=\"J3L4CV64HS2TG3Z5X9F\" href=\"/company/chq0vp6bknrr4w2y7pw?ipath=JRG9\">CyberCoders</a>\\n</h4>,\n",
       " <h4 class=\"job-text\">\\nLos Angeles, CA\\n</h4>,\n",
       " <h4 class=\"job-distance\">\\n5 miles\\n<h4>\\n<a class=\"company-collapse-link\" data-company-did=\"chq0vp6bknrr4w2y7pw\" data-gtm=\"jrp-job-list|more-company-jobs|9\" data-job-did=\"J3L4CV64HS2TG3Z5X9F\" href=\"/jobs-python-in-los-angeles?company_name=CyberCoders&amp;grouping_value=8f1af979b221566bdccc3e24ad8e1caa&amp;pay=20&amp;sort=distance_asc\">View 1 more</a>\\n</h4>\\n</h4>,\n",
       " <h4>\\n<a class=\"company-collapse-link\" data-company-did=\"chq0vp6bknrr4w2y7pw\" data-gtm=\"jrp-job-list|more-company-jobs|9\" data-job-did=\"J3L4CV64HS2TG3Z5X9F\" href=\"/jobs-python-in-los-angeles?company_name=CyberCoders&amp;grouping_value=8f1af979b221566bdccc3e24ad8e1caa&amp;pay=20&amp;sort=distance_asc\">View 1 more</a>\\n</h4>,\n",
       " <h4 class=\"job-text employment-info\">\\nFull-Time | Pay: $150k - $200k/year\\n</h4>,\n",
       " <h4 class=\"job-text\">\\n<a data-company-did=\"chq0vp6bknrr4w2y7pw\" data-gtm=\"jrp-job-list|company-click|10\" data-job-did=\"J3G2JY73GG8DJ8YZY73\" href=\"/company/chq0vp6bknrr4w2y7pw?ipath=JRG10\">CyberCoders</a>\\n</h4>,\n",
       " <h4 class=\"job-text\">\\nLos Angeles, CA\\n</h4>,\n",
       " <h4 class=\"job-distance\">\\n5 miles\\n\\n</h4>,\n",
       " <h4 class=\"job-text employment-info\">\\nFull-Time | Pay: $90k - $175k/year\\n</h4>,\n",
       " <h4 class=\"job-text\">\\n<a data-company-did=\"chq0vp6bknrr4w2y7pw\" data-gtm=\"jrp-job-list|company-click|11\" data-job-did=\"J3K0L072Q98MTY9M9JP\" href=\"/company/chq0vp6bknrr4w2y7pw?ipath=JRG11\">CyberCoders</a>\\n</h4>,\n",
       " <h4 class=\"job-text\">\\nPasadena, CA\\n</h4>,\n",
       " <h4 class=\"job-distance\">\\n8 miles\\n\\n</h4>,\n",
       " <h4 class=\"job-text employment-info\">\\nFull-Time | Pay: $150k - $200k/year\\n</h4>,\n",
       " <h4 class=\"job-text\">\\n<a data-company-did=\"chq0vp6bknrr4w2y7pw\" data-gtm=\"jrp-job-list|company-click|12\" data-job-did=\"J3H28F79J1JBJFJHLSF\" href=\"/company/chq0vp6bknrr4w2y7pw?ipath=JRG12\">CyberCoders</a>\\n</h4>,\n",
       " <h4 class=\"job-text\">\\nCulver City, CA\\n</h4>,\n",
       " <h4 class=\"job-distance\">\\n9 miles\\n<h4>\\n<a class=\"company-collapse-link\" data-company-did=\"chq0vp6bknrr4w2y7pw\" data-gtm=\"jrp-job-list|more-company-jobs|12\" data-job-did=\"J3H28F79J1JBJFJHLSF\" href=\"/jobs-python-in-los-angeles?company_name=CyberCoders&amp;grouping_value=e9e34407491f9fbbe39c86335d527443&amp;pay=20&amp;sort=distance_asc\">View 1 more</a>\\n</h4>\\n</h4>,\n",
       " <h4>\\n<a class=\"company-collapse-link\" data-company-did=\"chq0vp6bknrr4w2y7pw\" data-gtm=\"jrp-job-list|more-company-jobs|12\" data-job-did=\"J3H28F79J1JBJFJHLSF\" href=\"/jobs-python-in-los-angeles?company_name=CyberCoders&amp;grouping_value=e9e34407491f9fbbe39c86335d527443&amp;pay=20&amp;sort=distance_asc\">View 1 more</a>\\n</h4>,\n",
       " <h4 class=\"job-text employment-info\">\\nFull-Time | Pay: $100k - $175k/year\\n</h4>,\n",
       " <h4 class=\"job-text\">\\n<a data-company-did=\"chq0vp6bknrr4w2y7pw\" data-gtm=\"jrp-job-list|company-click|13\" data-job-did=\"J3G5336F8SYP98FQGWC\" href=\"/company/chq0vp6bknrr4w2y7pw?ipath=JRG13\">CyberCoders</a>\\n</h4>,\n",
       " <h4 class=\"job-text\">\\nLos Angeles, CA\\n</h4>,\n",
       " <h4 class=\"job-distance\">\\n8 miles\\n\\n</h4>,\n",
       " <h4 class=\"job-text employment-info\">\\nFull-Time | Pay: $150k - $250k/year\\n</h4>,\n",
       " <h4 class=\"job-text\">\\n<a data-company-did=\"chq0vp6bknrr4w2y7pw\" data-gtm=\"jrp-job-list|company-click|14\" data-job-did=\"J3K1BH69ZSC33SCTJ35\" href=\"/company/chq0vp6bknrr4w2y7pw?ipath=JRG14\">CyberCoders</a>\\n</h4>,\n",
       " <h4 class=\"job-text\">\\nCulver City, CA\\n</h4>,\n",
       " <h4 class=\"job-distance\">\\n9 miles\\n\\n</h4>,\n",
       " <h4 class=\"job-text employment-info\">\\nFull-Time | Pay: $100k - $110k/year\\n</h4>,\n",
       " <h4 class=\"job-text\">\\n<a data-company-did=\"chq0vp6bknrr4w2y7pw\" data-gtm=\"jrp-job-list|company-click|15\" data-job-did=\"J3G2GB6WG8PH1XF38TK\" href=\"/company/chq0vp6bknrr4w2y7pw?ipath=JRG15\">CyberCoders</a>\\n</h4>,\n",
       " <h4 class=\"job-text\">\\nEl Segundo, CA\\n</h4>,\n",
       " <h4 class=\"job-distance\">\\n12 miles\\n\\n</h4>,\n",
       " <h4 class=\"job-text employment-info\">\\nFull-Time | Pay: $120k - $150k/year\\n</h4>,\n",
       " <h4 class=\"job-text\">\\n<a data-company-did=\"chq0vp6bknrr4w2y7pw\" data-gtm=\"jrp-job-list|company-click|16\" data-job-did=\"J3J5X56NR5HS591J2TT\" href=\"/company/chq0vp6bknrr4w2y7pw?ipath=JRG16\">CyberCoders</a>\\n</h4>,\n",
       " <h4 class=\"job-text\">\\nEl Segundo, CA\\n</h4>,\n",
       " <h4 class=\"job-distance\">\\n12 miles\\n\\n</h4>,\n",
       " <h4 class=\"job-text employment-info\">\\nFull-Time | Pay: $120k - $200k/year\\n</h4>,\n",
       " <h4 class=\"job-text\">\\n<a data-company-did=\"chq0vp6bknrr4w2y7pw\" data-gtm=\"jrp-job-list|company-click|17\" data-job-did=\"J3K7SP6P1MS1NZLCK6P\" href=\"/company/chq0vp6bknrr4w2y7pw?ipath=JRG17\">CyberCoders</a>\\n</h4>,\n",
       " <h4 class=\"job-text\">\\nSanta Monica, CA\\n</h4>,\n",
       " <h4 class=\"job-distance\">\\n14 miles\\n\\n</h4>,\n",
       " <h4 class=\"job-text employment-info\">\\nFull-Time | Pay: $120k - $150k/year\\n</h4>,\n",
       " <h4 class=\"job-text\">\\n<a data-company-did=\"chq0vp6bknrr4w2y7pw\" data-gtm=\"jrp-job-list|company-click|18\" data-job-did=\"J3J0CF74NPNQ78XZNJG\" href=\"/company/chq0vp6bknrr4w2y7pw?ipath=JRG18\">CyberCoders</a>\\n</h4>,\n",
       " <h4 class=\"job-text\">\\nLos Angeles, CA\\n</h4>,\n",
       " <h4 class=\"job-distance\">\\n5 miles\\n<h4>\\n<a class=\"company-collapse-link\" data-company-did=\"chq0vp6bknrr4w2y7pw\" data-gtm=\"jrp-job-list|more-company-jobs|18\" data-job-did=\"J3J0CF74NPNQ78XZNJG\" href=\"/jobs-python-in-los-angeles?company_name=CyberCoders&amp;grouping_value=67055d89fd0281f930df589a6999f3f5&amp;pay=20&amp;sort=distance_asc\">View 1 more</a>\\n</h4>\\n</h4>,\n",
       " <h4>\\n<a class=\"company-collapse-link\" data-company-did=\"chq0vp6bknrr4w2y7pw\" data-gtm=\"jrp-job-list|more-company-jobs|18\" data-job-did=\"J3J0CF74NPNQ78XZNJG\" href=\"/jobs-python-in-los-angeles?company_name=CyberCoders&amp;grouping_value=67055d89fd0281f930df589a6999f3f5&amp;pay=20&amp;sort=distance_asc\">View 1 more</a>\\n</h4>,\n",
       " <h4 class=\"job-text employment-info\">\\nFull-Time | Pay: $150k - $200k/year\\n</h4>,\n",
       " <h4 class=\"job-text\">\\n<a data-company-did=\"chq0vp6bknrr4w2y7pw\" data-gtm=\"jrp-job-list|company-click|19\" data-job-did=\"J3G7BQ746Y0YJVB37DP\" href=\"/company/chq0vp6bknrr4w2y7pw?ipath=JRG19\">CyberCoders</a>\\n</h4>,\n",
       " <h4 class=\"job-text\">\\nLos Angeles, CA\\n</h4>,\n",
       " <h4 class=\"job-distance\">\\n5 miles\\n\\n</h4>,\n",
       " <h4 class=\"job-text employment-info\">\\nFull-Time | Pay: $100k - $175k/year\\n</h4>,\n",
       " <h4 class=\"job-text\">\\n<a data-company-did=\"chq0vp6bknrr4w2y7pw\" data-gtm=\"jrp-job-list|company-click|20\" data-job-did=\"J3J4ZF6L2VGT435KBGP\" href=\"/company/chq0vp6bknrr4w2y7pw?ipath=JRG20\">CyberCoders</a>\\n</h4>,\n",
       " <h4 class=\"job-text\">\\nWest Hollywood, CA\\n</h4>,\n",
       " <h4 class=\"job-distance\">\\n8 miles\\n\\n</h4>,\n",
       " <h4 class=\"job-text employment-info\">\\nFull-Time | Pay: $135k - $175k/year\\n</h4>,\n",
       " <h4 class=\"job-text\">\\n<a data-company-did=\"chp05z73cc02ydhxn0x\" data-gtm=\"jrp-job-list|company-click|21\" data-job-did=\"J8Q0NQ61M3FYWFGSBCY\" href=\"/company/chp05z73cc02ydhxn0x?ipath=JRG21\">Adam Jacobs Associates</a>\\n</h4>,\n",
       " <h4 class=\"job-text\">\\nresume@adam-jacobs.com,richard@adam-jacobs.com\\n<br/>\\nLos Angeles, CA\\n</h4>,\n",
       " <h4 class=\"job-distance\">\\nNearby\\n\\n</h4>,\n",
       " <h4 class=\"job-text employment-info\">\\nFull-Time | Pay: $65k - $80k/year\\n</h4>,\n",
       " <h4 class=\"job-text\">\\n<a data-company-did=\"cht3vg6lk6nkvvrxlrm\" data-gtm=\"jrp-job-list|company-click|22\" data-job-did=\"J3J0456B3D94XQ55BKC\" href=\"/company/cht3vg6lk6nkvvrxlrm?ipath=JRG22\">Robert Half Technology</a>\\n</h4>,\n",
       " <h4 class=\"job-text\">\\nLos Angeles, CA\\n</h4>,\n",
       " <h4 class=\"job-distance\">\\n6 miles\\n\\n</h4>,\n",
       " <h4 class=\"job-text employment-info\">\\nFull-Time | Pay: $115k - $125k/year\\n</h4>,\n",
       " <h4 class=\"job-text\">\\n<a data-company-did=\"chr0kk6ybynqw2zb2zk\" data-gtm=\"jrp-job-list|company-click|23\" data-job-did=\"J3H7GZ6CY56NS8SKL2N\" href=\"/company/chr0kk6ybynqw2zb2zk?ipath=JRG23\">Ledgent Technology &amp; Engineering</a>\\n</h4>,\n",
       " <h4 class=\"job-text\">\\nPasadena, CA\\n</h4>,\n",
       " <h4 class=\"job-distance\">\\n8 miles\\n\\n</h4>,\n",
       " <h4 class=\"job-text employment-info\">\\nFull-Time | Pay: $130k - $175k/year\\n</h4>,\n",
       " <h4 class=\"job-text\">\\n<a data-company-did=\"chq0vp6bknrr4w2y7pw\" data-gtm=\"jrp-job-list|company-click|24\" data-job-did=\"J3J1JV6C5TJDNV3Y5L4\" href=\"/company/chq0vp6bknrr4w2y7pw?ipath=JRG24\">CyberCoders</a>\\n</h4>,\n",
       " <h4 class=\"job-text\">\\nCulver City, CA\\n</h4>,\n",
       " <h4 class=\"job-distance\">\\n9 miles\\n\\n</h4>,\n",
       " <h4 class=\"job-text employment-info\">\\nFull-Time | Pay: $80k - $200k/year\\n</h4>,\n",
       " <h4 class=\"job-text\">\\n<a data-company-did=\"chq0vp6bknrr4w2y7pw\" data-gtm=\"jrp-job-list|company-click|25\" data-job-did=\"J3G1PV652QSZP8SB5MH\" href=\"/company/chq0vp6bknrr4w2y7pw?ipath=JRG25\">CyberCoders</a>\\n</h4>,\n",
       " <h4 class=\"job-text\">\\nSanta Monica, CA\\n</h4>,\n",
       " <h4 class=\"job-distance\">\\n14 miles\\n\\n</h4>,\n",
       " <h4>Job Seekers</h4>,\n",
       " <h4>Help Center</h4>,\n",
       " <h4>Employers</h4>,\n",
       " <h4>CareerBuilder</h4>,\n",
       " <h4>Stay Connected</h4>,\n",
       " <h4>Legal</h4>,\n",
       " <h4>Search on the Go</h4>]"
      ]
     },
     "execution_count": 21,
     "metadata": {},
     "output_type": "execute_result"
    }
   ],
   "source": [
    "soup.findAll('h4')\n",
    "# for i in \n",
    "\n",
    "# r = requests.get(URL)\n",
    "# soup = BeautifulSoup(r.content, 'lxml')"
   ]
  },
  {
   "cell_type": "code",
   "execution_count": 6,
   "metadata": {
    "collapsed": true
   },
   "outputs": [],
   "source": [
    "# import urllib2\n",
    "# ## DISPENSARY\n",
    "\n",
    "# WEEDMAPS_URL = 'https://weedmaps.com/api/web/v1/listings/'\n",
    "# disEND_URL = '/menu?type=dispensary'\n",
    "\n",
    "# dispensary_menu = []\n",
    "# for i in dispList:\n",
    "#     r = requests.get(WEEDMAPS_URL + i + disEND_URL)\n",
    "#     dispensary_menu.append(r.json())"
   ]
  },
  {
   "cell_type": "markdown",
   "metadata": {},
   "source": [
    "# Grab data and put into lists"
   ]
  },
  {
   "cell_type": "code",
   "execution_count": 15,
   "metadata": {
    "collapsed": false,
    "scrolled": true
   },
   "outputs": [
    {
     "data": {
      "text/plain": [
       "['\\nLos Angeles, CA\\n',\n",
       " '\\nLos Angeles, CA\\n',\n",
       " '\\nOrange, CA\\n',\n",
       " '\\nManhattan Beach, CA\\n',\n",
       " '\\nLos Angeles, CA\\n',\n",
       " '\\nVenice, CA\\n',\n",
       " '\\nLos Angeles, CA\\n',\n",
       " '\\nSanta Monica, CA\\n',\n",
       " '\\nLos Angeles, CA\\n',\n",
       " '\\nLos Angeles, CA\\n',\n",
       " '\\nPasadena, CA\\n',\n",
       " '\\nCulver City, CA\\n',\n",
       " '\\nLos Angeles, CA\\n',\n",
       " '\\nCulver City, CA\\n',\n",
       " '\\nEl Segundo, CA\\n',\n",
       " '\\nEl Segundo, CA\\n',\n",
       " '\\nSanta Monica, CA\\n',\n",
       " '\\nLos Angeles, CA\\n',\n",
       " '\\nLos Angeles, CA\\n',\n",
       " '\\nWest Hollywood, CA\\n',\n",
       " '\\nresume@adam-jacobs.com,richard@adam-jacobs.com\\n\\nLos Angeles, CA\\n',\n",
       " '\\nLos Angeles, CA\\n',\n",
       " '\\nPasadena, CA\\n',\n",
       " '\\nCulver City, CA\\n',\n",
       " '\\nSanta Monica, CA\\n']"
      ]
     },
     "execution_count": 15,
     "metadata": {},
     "output_type": "execute_result"
    }
   ],
   "source": [
    "LocList = []\n",
    "\n",
    "location = soup.select('h4.job-text')\n",
    "for l in location:\n",
    "    LocList.append(l.text)\n",
    "\n",
    "del LocList[::3]\n",
    "del LocList[::2]\n",
    "\n",
    "\n",
    "LocationList = [item.encode('utf-8') for item in LocList]\n",
    "LocationList\n"
   ]
  },
  {
   "cell_type": "code",
   "execution_count": 12,
   "metadata": {
    "collapsed": false
   },
   "outputs": [
    {
     "data": {
      "text/plain": [
       "['\\nCyberCoders\\n',\n",
       " '\\nCyberCoders\\n',\n",
       " '\\nConfidential\\n',\n",
       " '\\nConfidential\\n',\n",
       " '\\nCyberCoders\\n',\n",
       " '\\nCyberCoders\\n',\n",
       " '\\nCyberCoders\\n',\n",
       " '\\nCyberCoders\\n',\n",
       " '\\nCyberCoders\\n',\n",
       " '\\nCyberCoders\\n',\n",
       " '\\nCyberCoders\\n',\n",
       " '\\nCyberCoders\\n',\n",
       " '\\nCyberCoders\\n',\n",
       " '\\nCyberCoders\\n',\n",
       " '\\nCyberCoders\\n',\n",
       " '\\nCyberCoders\\n',\n",
       " '\\nCyberCoders\\n',\n",
       " '\\nCyberCoders\\n',\n",
       " '\\nCyberCoders\\n',\n",
       " '\\nCyberCoders\\n',\n",
       " '\\nAdam Jacobs Associates\\n',\n",
       " '\\nRobert Half Technology\\n',\n",
       " '\\nLedgent Technology & Engineering\\n',\n",
       " '\\nCyberCoders\\n',\n",
       " '\\nCyberCoders\\n']"
      ]
     },
     "execution_count": 12,
     "metadata": {},
     "output_type": "execute_result"
    }
   ],
   "source": [
    "ComList = []\n",
    "\n",
    "company = soup.select('h4.job-text')\n",
    "for c in company:\n",
    "    ComList.append(c.text)\n",
    "\n",
    "del ComList[::3]\n",
    "del ComList[1::2]\n",
    "\n",
    "CompanyList = [item.encode('utf-8') for item in ComList]\n",
    "CompanyList"
   ]
  },
  {
   "cell_type": "code",
   "execution_count": 349,
   "metadata": {
    "collapsed": false
   },
   "outputs": [],
   "source": [
    "SalList = []\n",
    "\n",
    "salary = soup.select('h4.job-text')\n",
    "for s in salary:\n",
    "    SalList.append(s.text)\n",
    "\n",
    "del SalList[1::3]\n",
    "del SalList[1::2]\n",
    "\n",
    "\n",
    "SalaryList = [item.encode('utf-8') for item in SalList]"
   ]
  },
  {
   "cell_type": "code",
   "execution_count": 350,
   "metadata": {
    "collapsed": true
   },
   "outputs": [],
   "source": [
    "descriptions = []\n",
    "\n",
    "desc = soup.select('div.job-description')\n",
    "for a in desc:\n",
    "    descriptions.append(a.text)\n",
    "    \n",
    "\n",
    "SummaryList = [item.encode('utf-8') for item in descriptions]\n"
   ]
  },
  {
   "cell_type": "code",
   "execution_count": 351,
   "metadata": {
    "collapsed": true
   },
   "outputs": [],
   "source": [
    "jobtitle = soup.select('.job-title')\n",
    "\n",
    "JTs = []\n",
    "\n",
    "for i in jobtitle:\n",
    "    JTs.append(i.text)\n",
    "\n",
    "JT = [item.encode('utf-8') for item in JTs]"
   ]
  },
  {
   "cell_type": "markdown",
   "metadata": {},
   "source": [
    "# Parse Salaries"
   ]
  },
  {
   "cell_type": "code",
   "execution_count": 347,
   "metadata": {
    "collapsed": false
   },
   "outputs": [],
   "source": [
    "import re\n",
    "\n",
    "parsed= []\n",
    "for i in SalaryList:\n",
    "    x = re.findall(r'\\d+', i)\n",
    "    parsed.append(x)\n",
    "#parsed"
   ]
  },
  {
   "cell_type": "code",
   "execution_count": 346,
   "metadata": {
    "collapsed": false
   },
   "outputs": [],
   "source": [
    "maxParse = []\n",
    "for i in parsed:\n",
    "    if len(i) == 1:\n",
    "        maxParse.append(i[0])\n",
    "    else:\n",
    "        maxParse.append(i[1])\n",
    "# maxParse"
   ]
  },
  {
   "cell_type": "code",
   "execution_count": 345,
   "metadata": {
    "collapsed": false
   },
   "outputs": [],
   "source": [
    "minParse = []\n",
    "for i in parsed:\n",
    "    if len(i) == 1:\n",
    "        minParse.append(i[0])\n",
    "    else:\n",
    "        minParse.append(i[0])\n",
    "#minParse"
   ]
  },
  {
   "cell_type": "markdown",
   "metadata": {},
   "source": [
    "# I like pandas... so time to clean and merge before exporting to csv"
   ]
  },
  {
   "cell_type": "code",
   "execution_count": 237,
   "metadata": {
    "collapsed": false
   },
   "outputs": [
    {
     "data": {
      "text/html": [
       "<div>\n",
       "<table border=\"1\" class=\"dataframe\">\n",
       "  <thead>\n",
       "    <tr style=\"text-align: right;\">\n",
       "      <th></th>\n",
       "      <th>title</th>\n",
       "    </tr>\n",
       "  </thead>\n",
       "  <tbody>\n",
       "    <tr>\n",
       "      <th>23</th>\n",
       "      <td>\\nFront End Developer\\n</td>\n",
       "    </tr>\n",
       "    <tr>\n",
       "      <th>24</th>\n",
       "      <td>\\nASIC Verification Engineer\\n</td>\n",
       "    </tr>\n",
       "  </tbody>\n",
       "</table>\n",
       "</div>"
      ],
      "text/plain": [
       "                             title\n",
       "23         \\nFront End Developer\\n\n",
       "24  \\nASIC Verification Engineer\\n"
      ]
     },
     "execution_count": 237,
     "metadata": {},
     "output_type": "execute_result"
    }
   ],
   "source": [
    "import pandas as pd\n",
    "\n",
    "titleDF = pd.DataFrame(JT)\n",
    "\n",
    "titleDF.columns = ['title']\n",
    "titleDF.tail(2)"
   ]
  },
  {
   "cell_type": "code",
   "execution_count": 238,
   "metadata": {
    "collapsed": false
   },
   "outputs": [
    {
     "data": {
      "text/html": [
       "<div>\n",
       "<table border=\"1\" class=\"dataframe\">\n",
       "  <thead>\n",
       "    <tr style=\"text-align: right;\">\n",
       "      <th></th>\n",
       "      <th>city</th>\n",
       "    </tr>\n",
       "  </thead>\n",
       "  <tbody>\n",
       "    <tr>\n",
       "      <th>23</th>\n",
       "      <td>\\nLos Angeles, CA\\n</td>\n",
       "    </tr>\n",
       "    <tr>\n",
       "      <th>24</th>\n",
       "      <td>\\nPasadena, CA\\n</td>\n",
       "    </tr>\n",
       "  </tbody>\n",
       "</table>\n",
       "</div>"
      ],
      "text/plain": [
       "                   city\n",
       "23  \\nLos Angeles, CA\\n\n",
       "24     \\nPasadena, CA\\n"
      ]
     },
     "execution_count": 238,
     "metadata": {},
     "output_type": "execute_result"
    }
   ],
   "source": [
    "locationDF = pd.DataFrame(LocationList)\n",
    "\n",
    "locationDF.columns = ['city']\n",
    "locationDF.tail(2)"
   ]
  },
  {
   "cell_type": "code",
   "execution_count": 239,
   "metadata": {
    "collapsed": false
   },
   "outputs": [
    {
     "data": {
      "text/html": [
       "<div>\n",
       "<table border=\"1\" class=\"dataframe\">\n",
       "  <thead>\n",
       "    <tr style=\"text-align: right;\">\n",
       "      <th></th>\n",
       "      <th>summary</th>\n",
       "    </tr>\n",
       "  </thead>\n",
       "  <tbody>\n",
       "    <tr>\n",
       "      <th>23</th>\n",
       "      <td>\\nThis position is open as of 7/3/2016. Front ...</td>\n",
       "    </tr>\n",
       "    <tr>\n",
       "      <th>24</th>\n",
       "      <td>\\nThis position is open as of 7/3/2016. ASIC V...</td>\n",
       "    </tr>\n",
       "  </tbody>\n",
       "</table>\n",
       "</div>"
      ],
      "text/plain": [
       "                                              summary\n",
       "23  \\nThis position is open as of 7/3/2016. Front ...\n",
       "24  \\nThis position is open as of 7/3/2016. ASIC V..."
      ]
     },
     "execution_count": 239,
     "metadata": {},
     "output_type": "execute_result"
    }
   ],
   "source": [
    "summaryDF = pd.DataFrame(SummaryList)\n",
    "\n",
    "summaryDF.columns = ['summary']\n",
    "summaryDF.tail(2)"
   ]
  },
  {
   "cell_type": "code",
   "execution_count": 240,
   "metadata": {
    "collapsed": false
   },
   "outputs": [
    {
     "data": {
      "text/html": [
       "<div>\n",
       "<table border=\"1\" class=\"dataframe\">\n",
       "  <thead>\n",
       "    <tr style=\"text-align: right;\">\n",
       "      <th></th>\n",
       "      <th>salary</th>\n",
       "    </tr>\n",
       "  </thead>\n",
       "  <tbody>\n",
       "    <tr>\n",
       "      <th>23</th>\n",
       "      <td>\\nFull-Time | Pay: $140k - $175k/year\\n</td>\n",
       "    </tr>\n",
       "    <tr>\n",
       "      <th>24</th>\n",
       "      <td>\\nFull-Time | Pay: $90k - $175k/year\\n</td>\n",
       "    </tr>\n",
       "  </tbody>\n",
       "</table>\n",
       "</div>"
      ],
      "text/plain": [
       "                                     salary\n",
       "23  \\nFull-Time | Pay: $140k - $175k/year\\n\n",
       "24   \\nFull-Time | Pay: $90k - $175k/year\\n"
      ]
     },
     "execution_count": 240,
     "metadata": {},
     "output_type": "execute_result"
    }
   ],
   "source": [
    "salaryDF = pd.DataFrame(SalaryList)\n",
    "\n",
    "salaryDF.columns = ['salary']\n",
    "salaryDF.tail(2)"
   ]
  },
  {
   "cell_type": "code",
   "execution_count": 336,
   "metadata": {
    "collapsed": false
   },
   "outputs": [
    {
     "data": {
      "text/html": [
       "<div>\n",
       "<table border=\"1\" class=\"dataframe\">\n",
       "  <thead>\n",
       "    <tr style=\"text-align: right;\">\n",
       "      <th></th>\n",
       "      <th>maxParse</th>\n",
       "    </tr>\n",
       "  </thead>\n",
       "  <tbody>\n",
       "    <tr>\n",
       "      <th>23</th>\n",
       "      <td>175.0</td>\n",
       "    </tr>\n",
       "    <tr>\n",
       "      <th>24</th>\n",
       "      <td>175.0</td>\n",
       "    </tr>\n",
       "  </tbody>\n",
       "</table>\n",
       "</div>"
      ],
      "text/plain": [
       "    maxParse\n",
       "23     175.0\n",
       "24     175.0"
      ]
     },
     "execution_count": 336,
     "metadata": {},
     "output_type": "execute_result"
    }
   ],
   "source": [
    "maxParseDF = pd.DataFrame(maxParse)\n",
    "\n",
    "maxParseDF.columns = ['maxParse']\n",
    "maxParseDF['maxParse'] = maxParseDF['maxParse'].astype(float)\n",
    "maxParseDF.tail(2)"
   ]
  },
  {
   "cell_type": "code",
   "execution_count": 337,
   "metadata": {
    "collapsed": false
   },
   "outputs": [
    {
     "data": {
      "text/html": [
       "<div>\n",
       "<table border=\"1\" class=\"dataframe\">\n",
       "  <thead>\n",
       "    <tr style=\"text-align: right;\">\n",
       "      <th></th>\n",
       "      <th>minParse</th>\n",
       "    </tr>\n",
       "  </thead>\n",
       "  <tbody>\n",
       "    <tr>\n",
       "      <th>23</th>\n",
       "      <td>140.0</td>\n",
       "    </tr>\n",
       "    <tr>\n",
       "      <th>24</th>\n",
       "      <td>90.0</td>\n",
       "    </tr>\n",
       "  </tbody>\n",
       "</table>\n",
       "</div>"
      ],
      "text/plain": [
       "    minParse\n",
       "23     140.0\n",
       "24      90.0"
      ]
     },
     "execution_count": 337,
     "metadata": {},
     "output_type": "execute_result"
    }
   ],
   "source": [
    "minParseDF = pd.DataFrame(minParse)\n",
    "\n",
    "minParseDF.columns = ['minParse']\n",
    "minParseDF['minParse'] = minParseDF['minParse'].astype(float)\n",
    "\n",
    "minParseDF.tail(2)\n"
   ]
  },
  {
   "cell_type": "code",
   "execution_count": 315,
   "metadata": {
    "collapsed": false
   },
   "outputs": [
    {
     "data": {
      "text/html": [
       "<div>\n",
       "<table border=\"1\" class=\"dataframe\">\n",
       "  <thead>\n",
       "    <tr style=\"text-align: right;\">\n",
       "      <th></th>\n",
       "      <th>company</th>\n",
       "    </tr>\n",
       "  </thead>\n",
       "  <tbody>\n",
       "    <tr>\n",
       "      <th>23</th>\n",
       "      <td>\\nCyberCoders\\n</td>\n",
       "    </tr>\n",
       "    <tr>\n",
       "      <th>24</th>\n",
       "      <td>\\nCyberCoders\\n</td>\n",
       "    </tr>\n",
       "  </tbody>\n",
       "</table>\n",
       "</div>"
      ],
      "text/plain": [
       "            company\n",
       "23  \\nCyberCoders\\n\n",
       "24  \\nCyberCoders\\n"
      ]
     },
     "execution_count": 315,
     "metadata": {},
     "output_type": "execute_result"
    }
   ],
   "source": [
    "companyDF = pd.DataFrame(CompanyList)\n",
    "\n",
    "companyDF.columns = ['company']\n",
    "companyDF.tail(2)"
   ]
  },
  {
   "cell_type": "markdown",
   "metadata": {},
   "source": [
    "# Concat and parse salary"
   ]
  },
  {
   "cell_type": "code",
   "execution_count": 339,
   "metadata": {
    "collapsed": false
   },
   "outputs": [
    {
     "data": {
      "text/html": [
       "<div>\n",
       "<table border=\"1\" class=\"dataframe\">\n",
       "  <thead>\n",
       "    <tr style=\"text-align: right;\">\n",
       "      <th></th>\n",
       "      <th>city</th>\n",
       "      <th>company</th>\n",
       "      <th>salary</th>\n",
       "      <th>summary</th>\n",
       "      <th>title</th>\n",
       "      <th>minParse</th>\n",
       "      <th>maxParse</th>\n",
       "    </tr>\n",
       "  </thead>\n",
       "  <tbody>\n",
       "    <tr>\n",
       "      <th>23</th>\n",
       "      <td>\\nLos Angeles, CA\\n</td>\n",
       "      <td>\\nCyberCoders\\n</td>\n",
       "      <td>\\nFull-Time | Pay: $140k - $175k/year\\n</td>\n",
       "      <td>\\nThis position is open as of 7/3/2016. Front ...</td>\n",
       "      <td>\\nFront End Developer\\n</td>\n",
       "      <td>140.0</td>\n",
       "      <td>175.0</td>\n",
       "    </tr>\n",
       "    <tr>\n",
       "      <th>24</th>\n",
       "      <td>\\nPasadena, CA\\n</td>\n",
       "      <td>\\nCyberCoders\\n</td>\n",
       "      <td>\\nFull-Time | Pay: $90k - $175k/year\\n</td>\n",
       "      <td>\\nThis position is open as of 7/3/2016. ASIC V...</td>\n",
       "      <td>\\nASIC Verification Engineer\\n</td>\n",
       "      <td>90.0</td>\n",
       "      <td>175.0</td>\n",
       "    </tr>\n",
       "  </tbody>\n",
       "</table>\n",
       "</div>"
      ],
      "text/plain": [
       "                   city          company  \\\n",
       "23  \\nLos Angeles, CA\\n  \\nCyberCoders\\n   \n",
       "24     \\nPasadena, CA\\n  \\nCyberCoders\\n   \n",
       "\n",
       "                                     salary  \\\n",
       "23  \\nFull-Time | Pay: $140k - $175k/year\\n   \n",
       "24   \\nFull-Time | Pay: $90k - $175k/year\\n   \n",
       "\n",
       "                                              summary  \\\n",
       "23  \\nThis position is open as of 7/3/2016. Front ...   \n",
       "24  \\nThis position is open as of 7/3/2016. ASIC V...   \n",
       "\n",
       "                             title  minParse  maxParse  \n",
       "23         \\nFront End Developer\\n     140.0     175.0  \n",
       "24  \\nASIC Verification Engineer\\n      90.0     175.0  "
      ]
     },
     "execution_count": 339,
     "metadata": {},
     "output_type": "execute_result"
    }
   ],
   "source": [
    "frames = [locationDF, companyDF, salaryDF, summaryDF, titleDF, minParseDF, maxParseDF]\n",
    "\n",
    "result = pd.concat(frames, axis = 1)\n",
    "result.tail(2)\n",
    "#result.dtypes"
   ]
  },
  {
   "cell_type": "code",
   "execution_count": 352,
   "metadata": {
    "collapsed": false
   },
   "outputs": [
    {
     "data": {
      "text/html": [
       "<div>\n",
       "<table border=\"1\" class=\"dataframe\">\n",
       "  <thead>\n",
       "    <tr style=\"text-align: right;\">\n",
       "      <th></th>\n",
       "      <th>city</th>\n",
       "      <th>company</th>\n",
       "      <th>salary</th>\n",
       "      <th>summary</th>\n",
       "      <th>title</th>\n",
       "      <th>minParse</th>\n",
       "      <th>maxParse</th>\n",
       "      <th>parsed_salary</th>\n",
       "    </tr>\n",
       "  </thead>\n",
       "  <tbody>\n",
       "    <tr>\n",
       "      <th>23</th>\n",
       "      <td>\\nLos Angeles, CA\\n</td>\n",
       "      <td>\\nCyberCoders\\n</td>\n",
       "      <td>\\nFull-Time | Pay: $140k - $175k/year\\n</td>\n",
       "      <td>\\nThis position is open as of 7/3/2016. Front ...</td>\n",
       "      <td>\\nFront End Developer\\n</td>\n",
       "      <td>140.0</td>\n",
       "      <td>175.0</td>\n",
       "      <td>157500.0</td>\n",
       "    </tr>\n",
       "    <tr>\n",
       "      <th>24</th>\n",
       "      <td>\\nPasadena, CA\\n</td>\n",
       "      <td>\\nCyberCoders\\n</td>\n",
       "      <td>\\nFull-Time | Pay: $90k - $175k/year\\n</td>\n",
       "      <td>\\nThis position is open as of 7/3/2016. ASIC V...</td>\n",
       "      <td>\\nASIC Verification Engineer\\n</td>\n",
       "      <td>90.0</td>\n",
       "      <td>175.0</td>\n",
       "      <td>132500.0</td>\n",
       "    </tr>\n",
       "  </tbody>\n",
       "</table>\n",
       "</div>"
      ],
      "text/plain": [
       "                   city          company  \\\n",
       "23  \\nLos Angeles, CA\\n  \\nCyberCoders\\n   \n",
       "24     \\nPasadena, CA\\n  \\nCyberCoders\\n   \n",
       "\n",
       "                                     salary  \\\n",
       "23  \\nFull-Time | Pay: $140k - $175k/year\\n   \n",
       "24   \\nFull-Time | Pay: $90k - $175k/year\\n   \n",
       "\n",
       "                                              summary  \\\n",
       "23  \\nThis position is open as of 7/3/2016. Front ...   \n",
       "24  \\nThis position is open as of 7/3/2016. ASIC V...   \n",
       "\n",
       "                             title  minParse  maxParse  parsed_salary  \n",
       "23         \\nFront End Developer\\n     140.0     175.0       157500.0  \n",
       "24  \\nASIC Verification Engineer\\n      90.0     175.0       132500.0  "
      ]
     },
     "execution_count": 352,
     "metadata": {},
     "output_type": "execute_result"
    }
   ],
   "source": [
    "result['parsed_salary'] = ((result['minParse'] + result['maxParse']) / 2) *1000\n",
    "\n",
    "result.tail(2)"
   ]
  },
  {
   "cell_type": "markdown",
   "metadata": {},
   "source": [
    "# Final Data frame"
   ]
  },
  {
   "cell_type": "code",
   "execution_count": 353,
   "metadata": {
    "collapsed": false
   },
   "outputs": [
    {
     "data": {
      "text/html": [
       "<div>\n",
       "<table border=\"1\" class=\"dataframe\">\n",
       "  <thead>\n",
       "    <tr style=\"text-align: right;\">\n",
       "      <th></th>\n",
       "      <th>city</th>\n",
       "      <th>company</th>\n",
       "      <th>salary</th>\n",
       "      <th>summary</th>\n",
       "      <th>title</th>\n",
       "      <th>parsed_salary</th>\n",
       "    </tr>\n",
       "  </thead>\n",
       "  <tbody>\n",
       "    <tr>\n",
       "      <th>0</th>\n",
       "      <td>\\nLos Angeles, CA\\n</td>\n",
       "      <td>\\nCyberCoders\\n</td>\n",
       "      <td>\\nFull-Time | Pay: $100k - $140k/year\\n</td>\n",
       "      <td>\\nThis position is open as of 7/3/2016. Python...</td>\n",
       "      <td>\\nPython Engineer - Love For Data - 99% WORK F...</td>\n",
       "      <td>120000.0</td>\n",
       "    </tr>\n",
       "    <tr>\n",
       "      <th>1</th>\n",
       "      <td>\\nLos Angeles, CA\\n</td>\n",
       "      <td>\\nCyberCoders\\n</td>\n",
       "      <td>\\nFull-Time | Pay: $85k - $110k/year\\n</td>\n",
       "      <td>\\nThis position is open as of 7/3/2016. Variab...</td>\n",
       "      <td>\\nVariable Data Programmer - XMPie\\n</td>\n",
       "      <td>97500.0</td>\n",
       "    </tr>\n",
       "    <tr>\n",
       "      <th>2</th>\n",
       "      <td>\\nLos Angeles, CA\\n</td>\n",
       "      <td>\\nCyberCoders\\n</td>\n",
       "      <td>\\nFull-Time | Pay: $100k - $150k/year\\n</td>\n",
       "      <td>\\nThis position is open as of 7/3/2016. Data P...</td>\n",
       "      <td>\\nData Pipeline Engineer\\n</td>\n",
       "      <td>125000.0</td>\n",
       "    </tr>\n",
       "    <tr>\n",
       "      <th>3</th>\n",
       "      <td>\\nLos Angeles, CA\\n</td>\n",
       "      <td>\\nCyberCoders\\n</td>\n",
       "      <td>\\nFull-Time | Pay: $140k - $175k/year\\n</td>\n",
       "      <td>\\nThis position is open as of 7/3/2016. Senior...</td>\n",
       "      <td>\\nSenior Data Scientist\\n</td>\n",
       "      <td>157500.0</td>\n",
       "    </tr>\n",
       "    <tr>\n",
       "      <th>4</th>\n",
       "      <td>\\nLos Angeles, CA\\n</td>\n",
       "      <td>\\nCyberCoders\\n</td>\n",
       "      <td>\\nFull-Time | Pay: $120k - $150k/year\\n</td>\n",
       "      <td>\\nThis position is open as of 7/3/2016. Lead D...</td>\n",
       "      <td>\\nSr. Software Engineer - Java/j2ee\\n</td>\n",
       "      <td>135000.0</td>\n",
       "    </tr>\n",
       "  </tbody>\n",
       "</table>\n",
       "</div>"
      ],
      "text/plain": [
       "                  city          company  \\\n",
       "0  \\nLos Angeles, CA\\n  \\nCyberCoders\\n   \n",
       "1  \\nLos Angeles, CA\\n  \\nCyberCoders\\n   \n",
       "2  \\nLos Angeles, CA\\n  \\nCyberCoders\\n   \n",
       "3  \\nLos Angeles, CA\\n  \\nCyberCoders\\n   \n",
       "4  \\nLos Angeles, CA\\n  \\nCyberCoders\\n   \n",
       "\n",
       "                                    salary  \\\n",
       "0  \\nFull-Time | Pay: $100k - $140k/year\\n   \n",
       "1   \\nFull-Time | Pay: $85k - $110k/year\\n   \n",
       "2  \\nFull-Time | Pay: $100k - $150k/year\\n   \n",
       "3  \\nFull-Time | Pay: $140k - $175k/year\\n   \n",
       "4  \\nFull-Time | Pay: $120k - $150k/year\\n   \n",
       "\n",
       "                                             summary  \\\n",
       "0  \\nThis position is open as of 7/3/2016. Python...   \n",
       "1  \\nThis position is open as of 7/3/2016. Variab...   \n",
       "2  \\nThis position is open as of 7/3/2016. Data P...   \n",
       "3  \\nThis position is open as of 7/3/2016. Senior...   \n",
       "4  \\nThis position is open as of 7/3/2016. Lead D...   \n",
       "\n",
       "                                               title  parsed_salary  \n",
       "0  \\nPython Engineer - Love For Data - 99% WORK F...       120000.0  \n",
       "1               \\nVariable Data Programmer - XMPie\\n        97500.0  \n",
       "2                         \\nData Pipeline Engineer\\n       125000.0  \n",
       "3                          \\nSenior Data Scientist\\n       157500.0  \n",
       "4              \\nSr. Software Engineer - Java/j2ee\\n       135000.0  "
      ]
     },
     "execution_count": 353,
     "metadata": {},
     "output_type": "execute_result"
    }
   ],
   "source": [
    "df = result[[0,1,2,3,4,7]]\n",
    "df.head()"
   ]
  },
  {
   "cell_type": "code",
   "execution_count": 195,
   "metadata": {
    "collapsed": false
   },
   "outputs": [],
   "source": []
  },
  {
   "cell_type": "code",
   "execution_count": 196,
   "metadata": {
    "collapsed": false
   },
   "outputs": [],
   "source": []
  },
  {
   "cell_type": "code",
   "execution_count": 197,
   "metadata": {
    "collapsed": false
   },
   "outputs": [],
   "source": []
  },
  {
   "cell_type": "code",
   "execution_count": null,
   "metadata": {
    "collapsed": true
   },
   "outputs": [],
   "source": []
  }
 ],
 "metadata": {
  "kernelspec": {
   "display_name": "Python 2",
   "language": "python",
   "name": "python2"
  },
  "language_info": {
   "codemirror_mode": {
    "name": "ipython",
    "version": 2
   },
   "file_extension": ".py",
   "mimetype": "text/x-python",
   "name": "python",
   "nbconvert_exporter": "python",
   "pygments_lexer": "ipython2",
   "version": "2.7.11"
  }
 },
 "nbformat": 4,
 "nbformat_minor": 0
}
