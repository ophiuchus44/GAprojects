{
 "cells": [
  {
   "cell_type": "code",
   "execution_count": 1,
   "metadata": {
    "collapsed": true
   },
   "outputs": [],
   "source": [
    "import pandas as pd\n",
    "\n",
    "df = pd.read_csv('/Users/Paul/Desktop/General_Assembly/DSI_SM_01/projects/01-projects-weekly/project-04/final/ALLSalaries.csv')"
   ]
  },
  {
   "cell_type": "code",
   "execution_count": 187,
   "metadata": {
    "collapsed": false
   },
   "outputs": [
    {
     "data": {
      "text/plain": [
       "Unnamed: 0        2395.813531\n",
       "parsed_salary    97316.191585\n",
       "dtype: float64"
      ]
     },
     "execution_count": 187,
     "metadata": {},
     "output_type": "execute_result"
    }
   ],
   "source": [
    "df.shape\n",
    "df.mean()\n",
    "#mean 97,316.19"
   ]
  },
  {
   "cell_type": "markdown",
   "metadata": {},
   "source": [
    "# What are the most used 'buzz' words in a job title?"
   ]
  },
  {
   "cell_type": "code",
   "execution_count": 37,
   "metadata": {
    "collapsed": false
   },
   "outputs": [
    {
     "data": {
      "text/plain": [
       "(3092, 7)"
      ]
     },
     "execution_count": 37,
     "metadata": {},
     "output_type": "execute_result"
    }
   ],
   "source": [
    "#3092 mentions of \"Scientist\"\n",
    "Scientist = df[df['title'].str.contains(\"Scientist\")]\n",
    "Scientist.shape"
   ]
  },
  {
   "cell_type": "code",
   "execution_count": 41,
   "metadata": {
    "collapsed": false
   },
   "outputs": [
    {
     "data": {
      "text/plain": [
       "(1247, 7)"
      ]
     },
     "execution_count": 41,
     "metadata": {},
     "output_type": "execute_result"
    }
   ],
   "source": [
    "#1247 mentions of \"Data\"\n",
    "Data = df[df['title'].str.contains(\"Data\")]\n",
    "Data.shape"
   ]
  },
  {
   "cell_type": "code",
   "execution_count": 40,
   "metadata": {
    "collapsed": false
   },
   "outputs": [
    {
     "data": {
      "text/plain": [
       "(825, 7)"
      ]
     },
     "execution_count": 40,
     "metadata": {},
     "output_type": "execute_result"
    }
   ],
   "source": [
    "#825 mentions of \"Research\"\n",
    "Research = df[df['title'].str.contains(\"Research\")]\n",
    "Research.shape\n",
    "#Research might need to exclude if repeated titles from University?"
   ]
  },
  {
   "cell_type": "code",
   "execution_count": 38,
   "metadata": {
    "collapsed": false
   },
   "outputs": [
    {
     "data": {
      "text/plain": [
       "(436, 7)"
      ]
     },
     "execution_count": 38,
     "metadata": {},
     "output_type": "execute_result"
    }
   ],
   "source": [
    "#436 mentions of \"Data Scientist\"\n",
    "DataScientist = df[df['title'].str.contains(\"Data Scientist\")]\n",
    "DataScientist.shape"
   ]
  },
  {
   "cell_type": "code",
   "execution_count": 50,
   "metadata": {
    "collapsed": false
   },
   "outputs": [
    {
     "data": {
      "text/plain": [
       "(395, 7)"
      ]
     },
     "execution_count": 50,
     "metadata": {},
     "output_type": "execute_result"
    }
   ],
   "source": [
    "#295 mentions of \"Manager\"\n",
    "Manager = df[df['title'].str.contains(\"Manager\")]\n",
    "Manager.shape"
   ]
  },
  {
   "cell_type": "markdown",
   "metadata": {},
   "source": [
    "# Least used 'buzz' words"
   ]
  },
  {
   "cell_type": "code",
   "execution_count": 58,
   "metadata": {
    "collapsed": false
   },
   "outputs": [
    {
     "data": {
      "text/plain": [
       "(43, 7)"
      ]
     },
     "execution_count": 58,
     "metadata": {},
     "output_type": "execute_result"
    }
   ],
   "source": [
    "Analyst = df[df['title'].str.contains(\"Analyst\")]\n",
    "Analyst.shape"
   ]
  },
  {
   "cell_type": "code",
   "execution_count": 57,
   "metadata": {
    "collapsed": false
   },
   "outputs": [
    {
     "data": {
      "text/plain": [
       "(13, 7)"
      ]
     },
     "execution_count": 57,
     "metadata": {},
     "output_type": "execute_result"
    }
   ],
   "source": [
    "MachineLearning = df[df['title'].str.contains(\"Machine Learning\")]\n",
    "MachineLearning.shape"
   ]
  },
  {
   "cell_type": "code",
   "execution_count": 51,
   "metadata": {
    "collapsed": false
   },
   "outputs": [
    {
     "data": {
      "text/plain": [
       "(10, 7)"
      ]
     },
     "execution_count": 51,
     "metadata": {},
     "output_type": "execute_result"
    }
   ],
   "source": [
    "VP = df[df['title'].str.contains(\"VP\",\"Vice President\")]\n",
    "VP.shape"
   ]
  },
  {
   "cell_type": "code",
   "execution_count": 52,
   "metadata": {
    "collapsed": false
   },
   "outputs": [
    {
     "data": {
      "text/plain": [
       "(7, 7)"
      ]
     },
     "execution_count": 52,
     "metadata": {},
     "output_type": "execute_result"
    }
   ],
   "source": [
    "Python = df[df['title'].str.contains(\"Python\",\"python\")]\n",
    "Python.shape"
   ]
  },
  {
   "cell_type": "code",
   "execution_count": 53,
   "metadata": {
    "collapsed": false
   },
   "outputs": [
    {
     "data": {
      "text/plain": [
       "(5, 7)"
      ]
     },
     "execution_count": 53,
     "metadata": {},
     "output_type": "execute_result"
    }
   ],
   "source": [
    "Senior = df[df['title'].str.contains(\"Sr\",\"Senior\")]\n",
    "Senior.shape"
   ]
  },
  {
   "cell_type": "code",
   "execution_count": 78,
   "metadata": {
    "collapsed": false
   },
   "outputs": [
    {
     "data": {
      "text/plain": [
       "(2, 7)"
      ]
     },
     "execution_count": 78,
     "metadata": {},
     "output_type": "execute_result"
    }
   ],
   "source": [
    "Junior = df[df['title'].str.contains(\"JR\",\"Junior\")]\n",
    "Junior.shape\n"
   ]
  },
  {
   "cell_type": "code",
   "execution_count": 82,
   "metadata": {
    "collapsed": false
   },
   "outputs": [
    {
     "data": {
      "text/plain": [
       "(2, 7)"
      ]
     },
     "execution_count": 82,
     "metadata": {},
     "output_type": "execute_result"
    }
   ],
   "source": [
    "FullStack = df[df['title'].str.contains(\"Full Stack\")]\n",
    "FullStack.shape"
   ]
  },
  {
   "cell_type": "markdown",
   "metadata": {},
   "source": [
    "# Make dictionary of all min/max/mean"
   ]
  },
  {
   "cell_type": "code",
   "execution_count": 173,
   "metadata": {
    "collapsed": false
   },
   "outputs": [],
   "source": [
    "JobTitles = {'JT-Scientist_mean' : Scientist[('parsed_salary')].mean(),\n",
    "        'JT-Scientist_min' : Scientist[('parsed_salary')].min(),\n",
    "        'JT-Scientist_max' : Scientist[('parsed_salary')].max(),\n",
    "        'JT-Data_mean': Data[('parsed_salary')].mean(),\n",
    "        'JT-Data_min': Data[('parsed_salary')].min(),\n",
    "        'JT-Data_max': Data[('parsed_salary')].max(),\n",
    "        'JT-Research_mean' : Research[('parsed_salary')].mean(),\n",
    "        'JT-Research_min' : Research[('parsed_salary')].min(),\n",
    "        'JT-Research_max' : Research[('parsed_salary')].max(),\n",
    "        'JT-Data_Scientist_mean' : DataScientist[('parsed_salary')].mean(),\n",
    "        'JT-Data_Scientist_min' : DataScientist[('parsed_salary')].min(),\n",
    "        'JT-Data_Scientist_max' : DataScientist[('parsed_salary')].max(),\n",
    "        'JT-Manager_mean' : Manager[('parsed_salary')].mean(),\n",
    "        'JT-Manager_min' : Manager[('parsed_salary')].min(),\n",
    "        'JT-Manager_max' : Manager[('parsed_salary')].max(),\n",
    "        'JT-Analyst_mean' : Analyst[('parsed_salary')].mean(),\n",
    "        'JT-Analyst_min' : Analyst[('parsed_salary')].min(),\n",
    "        'JT-Analyst_max' : Analyst[('parsed_salary')].max(),        \n",
    "        'JT-VP_mean' : VP[('parsed_salary')].mean(),\n",
    "        'JT-VP_min' : VP[('parsed_salary')].min(),\n",
    "        'JT-VP_max' : VP[('parsed_salary')].max(),\n",
    "        'JT-Python_mean' : Python[('parsed_salary')].mean(),\n",
    "        'JT-Python_min' : Python[('parsed_salary')].min(),\n",
    "        'JT-Python_max' : Python[('parsed_salary')].max(),\n",
    "        'JT-Senior_mean' : Senior[('parsed_salary')].mean(),\n",
    "        'JT-Senior_min' : Senior[('parsed_salary')].min(), \n",
    "        'JT-Senior_max' : Senior[('parsed_salary')].max(),\n",
    "        \n",
    "        }"
   ]
  },
  {
   "cell_type": "code",
   "execution_count": 174,
   "metadata": {
    "collapsed": false
   },
   "outputs": [
    {
     "data": {
      "text/plain": [
       "{'JT-Analyst_max': 250000.0,\n",
       " 'JT-Analyst_mean': 89922.43023255814,\n",
       " 'JT-Analyst_min': 35000.0,\n",
       " 'JT-Data_Scientist_max': 225000.0,\n",
       " 'JT-Data_Scientist_mean': 137568.79357798165,\n",
       " 'JT-Data_Scientist_min': 75000.0,\n",
       " 'JT-Data_max': 300000.0,\n",
       " 'JT-Data_mean': 130361.7730553328,\n",
       " 'JT-Data_min': 30000.0,\n",
       " 'JT-Manager_max': 225000.0,\n",
       " 'JT-Manager_mean': 83185.0835443038,\n",
       " 'JT-Manager_min': 82329.0,\n",
       " 'JT-Python_max': 185000.0,\n",
       " 'JT-Python_mean': 136785.7142857143,\n",
       " 'JT-Python_min': 120000.0,\n",
       " 'JT-Research_max': 200000.0,\n",
       " 'JT-Research_mean': 40515.38787878788,\n",
       " 'JT-Research_min': 27996.0,\n",
       " 'JT-Scientist_max': 225000.0,\n",
       " 'JT-Scientist_mean': 86510.43418499353,\n",
       " 'JT-Scientist_min': 27996.0,\n",
       " 'JT-Senior_max': 175000.0,\n",
       " 'JT-Senior_mean': 141500.0,\n",
       " 'JT-Senior_min': 120000.0,\n",
       " 'JT-VP_max': 300000.0,\n",
       " 'JT-VP_mean': 190500.0,\n",
       " 'JT-VP_min': 122500.0}"
      ]
     },
     "execution_count": 174,
     "metadata": {},
     "output_type": "execute_result"
    }
   ],
   "source": [
    "JobTitles"
   ]
  },
  {
   "cell_type": "markdown",
   "metadata": {},
   "source": []
  },
  {
   "cell_type": "code",
   "execution_count": 183,
   "metadata": {
    "collapsed": false
   },
   "outputs": [
    {
     "data": {
      "text/html": [
       "<div>\n",
       "<table border=\"1\" class=\"dataframe\">\n",
       "  <thead>\n",
       "    <tr style=\"text-align: right;\">\n",
       "      <th></th>\n",
       "      <th>0</th>\n",
       "      <th>1</th>\n",
       "    </tr>\n",
       "  </thead>\n",
       "  <tbody>\n",
       "    <tr>\n",
       "      <th>22</th>\n",
       "      <td>JT-Analyst_min</td>\n",
       "      <td>35000.000000</td>\n",
       "    </tr>\n",
       "    <tr>\n",
       "      <th>23</th>\n",
       "      <td>JT-Data_Scientist_mean</td>\n",
       "      <td>137568.793578</td>\n",
       "    </tr>\n",
       "    <tr>\n",
       "      <th>24</th>\n",
       "      <td>JT-Data_min</td>\n",
       "      <td>30000.000000</td>\n",
       "    </tr>\n",
       "    <tr>\n",
       "      <th>25</th>\n",
       "      <td>JT-Analyst_mean</td>\n",
       "      <td>89922.430233</td>\n",
       "    </tr>\n",
       "    <tr>\n",
       "      <th>26</th>\n",
       "      <td>JT-Python_min</td>\n",
       "      <td>120000.000000</td>\n",
       "    </tr>\n",
       "  </tbody>\n",
       "</table>\n",
       "</div>"
      ],
      "text/plain": [
       "                         0              1\n",
       "22          JT-Analyst_min   35000.000000\n",
       "23  JT-Data_Scientist_mean  137568.793578\n",
       "24             JT-Data_min   30000.000000\n",
       "25         JT-Analyst_mean   89922.430233\n",
       "26           JT-Python_min  120000.000000"
      ]
     },
     "execution_count": 183,
     "metadata": {},
     "output_type": "execute_result"
    }
   ],
   "source": [
    "Titles = pd.DataFrame(JobTitles.items())\n",
    "Titles.tail()"
   ]
  },
  {
   "cell_type": "code",
   "execution_count": 186,
   "metadata": {
    "collapsed": true
   },
   "outputs": [],
   "source": [
    "import csv\n",
    "\n",
    "Titles.to_csv('JT-min_max_mean.csv')"
   ]
  },
  {
   "cell_type": "markdown",
   "metadata": {},
   "source": [
    "# Export to CSV to be used in another notebook/visualizations"
   ]
  },
  {
   "cell_type": "code",
   "execution_count": 178,
   "metadata": {
    "collapsed": false
   },
   "outputs": [],
   "source": [
    "JobTitlesMean = {'JT-Scientist_mean' : Scientist[('parsed_salary')].mean(),\n",
    "\n",
    "\n",
    "        'JT-Data_mean': Data[('parsed_salary')].mean(),\n",
    "\n",
    "        'JT-Research_mean' : Research[('parsed_salary')].mean(),\n",
    "        'JT-Data_Scientist_mean' : DataScientist[('parsed_salary')].mean(),\n",
    "        'JT-Manager_mean' : Manager[('parsed_salary')].mean(),\n",
    "        'JT-Analyst_mean' : Analyst[('parsed_salary')].mean(),\n",
    "        'JT-VP_mean' : VP[('parsed_salary')].mean(),\n",
    "        'JT-Python_mean' : Python[('parsed_salary')].mean(),\n",
    "        'JT-Senior_mean' : Senior[('parsed_salary')].mean(),\n",
    "        \n",
    "        }"
   ]
  },
  {
   "cell_type": "code",
   "execution_count": 179,
   "metadata": {
    "collapsed": false
   },
   "outputs": [
    {
     "data": {
      "text/plain": [
       "{'JT-Analyst_mean': 89922.43023255814,\n",
       " 'JT-Data_Scientist_mean': 137568.79357798165,\n",
       " 'JT-Data_mean': 130361.7730553328,\n",
       " 'JT-Manager_mean': 83185.0835443038,\n",
       " 'JT-Python_mean': 136785.7142857143,\n",
       " 'JT-Research_mean': 40515.38787878788,\n",
       " 'JT-Scientist_mean': 86510.43418499353,\n",
       " 'JT-Senior_mean': 141500.0,\n",
       " 'JT-VP_mean': 190500.0}"
      ]
     },
     "execution_count": 179,
     "metadata": {},
     "output_type": "execute_result"
    }
   ],
   "source": [
    "JobTitlesMean"
   ]
  },
  {
   "cell_type": "code",
   "execution_count": 185,
   "metadata": {
    "collapsed": false
   },
   "outputs": [
    {
     "data": {
      "text/html": [
       "<div>\n",
       "<table border=\"1\" class=\"dataframe\">\n",
       "  <thead>\n",
       "    <tr style=\"text-align: right;\">\n",
       "      <th></th>\n",
       "      <th>0</th>\n",
       "      <th>1</th>\n",
       "    </tr>\n",
       "  </thead>\n",
       "  <tbody>\n",
       "    <tr>\n",
       "      <th>0</th>\n",
       "      <td>JT-Python_mean</td>\n",
       "      <td>136785.714286</td>\n",
       "    </tr>\n",
       "    <tr>\n",
       "      <th>1</th>\n",
       "      <td>JT-Manager_mean</td>\n",
       "      <td>83185.083544</td>\n",
       "    </tr>\n",
       "    <tr>\n",
       "      <th>2</th>\n",
       "      <td>JT-Research_mean</td>\n",
       "      <td>40515.387879</td>\n",
       "    </tr>\n",
       "    <tr>\n",
       "      <th>3</th>\n",
       "      <td>JT-Data_Scientist_mean</td>\n",
       "      <td>137568.793578</td>\n",
       "    </tr>\n",
       "    <tr>\n",
       "      <th>4</th>\n",
       "      <td>JT-VP_mean</td>\n",
       "      <td>190500.000000</td>\n",
       "    </tr>\n",
       "    <tr>\n",
       "      <th>5</th>\n",
       "      <td>JT-Scientist_mean</td>\n",
       "      <td>86510.434185</td>\n",
       "    </tr>\n",
       "    <tr>\n",
       "      <th>6</th>\n",
       "      <td>JT-Data_mean</td>\n",
       "      <td>130361.773055</td>\n",
       "    </tr>\n",
       "    <tr>\n",
       "      <th>7</th>\n",
       "      <td>JT-Analyst_mean</td>\n",
       "      <td>89922.430233</td>\n",
       "    </tr>\n",
       "    <tr>\n",
       "      <th>8</th>\n",
       "      <td>JT-Senior_mean</td>\n",
       "      <td>141500.000000</td>\n",
       "    </tr>\n",
       "  </tbody>\n",
       "</table>\n",
       "</div>"
      ],
      "text/plain": [
       "                        0              1\n",
       "0          JT-Python_mean  136785.714286\n",
       "1         JT-Manager_mean   83185.083544\n",
       "2        JT-Research_mean   40515.387879\n",
       "3  JT-Data_Scientist_mean  137568.793578\n",
       "4              JT-VP_mean  190500.000000\n",
       "5       JT-Scientist_mean   86510.434185\n",
       "6            JT-Data_mean  130361.773055\n",
       "7         JT-Analyst_mean   89922.430233\n",
       "8          JT-Senior_mean  141500.000000"
      ]
     },
     "execution_count": 185,
     "metadata": {},
     "output_type": "execute_result"
    }
   ],
   "source": [
    "JT_Mean = pd.DataFrame(JobTitlesMean.items())\n",
    "JT_Mean"
   ]
  },
  {
   "cell_type": "code",
   "execution_count": 181,
   "metadata": {
    "collapsed": true
   },
   "outputs": [],
   "source": [
    "JT_Mean.to_csv('JT-Mean.csv')"
   ]
  },
  {
   "cell_type": "code",
   "execution_count": null,
   "metadata": {
    "collapsed": true
   },
   "outputs": [],
   "source": [
    "# 9 Descriptive words for Job Titles"
   ]
  }
 ],
 "metadata": {
  "kernelspec": {
   "display_name": "Python 2",
   "language": "python",
   "name": "python2"
  },
  "language_info": {
   "codemirror_mode": {
    "name": "ipython",
    "version": 2
   },
   "file_extension": ".py",
   "mimetype": "text/x-python",
   "name": "python",
   "nbconvert_exporter": "python",
   "pygments_lexer": "ipython2",
   "version": "2.7.11"
  }
 },
 "nbformat": 4,
 "nbformat_minor": 0
}
