{
 "cells": [
  {
   "cell_type": "code",
   "execution_count": 354,
   "metadata": {
    "collapsed": false
   },
   "outputs": [],
   "source": [
    "import requests\n",
    "from bs4 import BeautifulSoup\n",
    "\n",
    "\n",
    "URL = 'http://www.careerbuilder.com/jobs-data-in-los-angeles?&pay=20'\n",
    "r = requests.get(URL)\n",
    "soup = BeautifulSoup(r.content, 'lxml')\n"
   ]
  },
  {
   "cell_type": "code",
   "execution_count": 355,
   "metadata": {
    "collapsed": false
   },
   "outputs": [
    {
     "data": {
      "text/plain": [
       "<!DOCTYPE html>\\n<!--[if lt IE 7 ]> <html class=\"ie6\" lang=\"en\"> <![endif]--><!--[if IE 7 ]> <html class=\"ie7\" lang=\"en\"> <![endif]--><!--[if IE 8 ]> <html class=\"ie8\" lang=\"en\"> <![endif]--><!--[if (gte IE 9)|!(IE)]> ><! <![endif]--><html lang=\"en\">\\n<!-- <![endif] -->\\n<head>\\n<meta charset=\"unicode-escape\"/>\\n<script type=\"text/javascript\">window.NREUM||(NREUM={});NREUM.info={\"beacon\":\"bam.nr-data.net\",\"errorBeacon\":\"bam.nr-data.net\",\"licenseKey\":\"42096352b4\",\"applicationID\":\"4991347\",\"transactionName\":\"el1YEUVZXlRRSxgIXlttRQBWRFFQG1BZBlRB\",\"queueTime\":0,\"applicationTime\":1984,\"agent\":\"\"}</script>\\n<script type=\"text/javascript\">(window.NREUM||(NREUM={})).loader_config={xpid:\"Uw4HVFNbGwcJXVBRAwY=\"};window.NREUM||(NREUM={}),__nr_require=function(t,e,n){function r(n){if(!e[n]){var o=e[n]={exports:{}};t[n][0].call(o.exports,function(e){var o=t[n][1][e];return r(o||e)},o,o.exports)}return e[n].exports}if(\"function\"==typeof __nr_require)return __nr_require;for(var o=0;o<n.length;o++)r(n[o]);return r}({1:[function(t,e,n){function r(t){try{s.console&&console.log(t)}catch(e){}}var o,i=t(\"ee\"),a=t(15),s={};try{o=localStorage.getItem(\"__nr_flags\").split(\",\"),console&&\"function\"==typeof console.log&&(s.console=!0,-1!==o.indexOf(\"dev\")&&(s.dev=!0),-1!==o.indexOf(\"nr_dev\")&&(s.nrDev=!0))}catch(c){}s.nrDev&&i.on(\"internal-error\",function(t){r(t.stack)}),s.dev&&i.on(\"fn-err\",function(t,e,n){r(n.stack)}),s.dev&&(r(\"NR AGENT IN DEVELOPMENT MODE\"),r(\"flags: \"+a(s,function(t,e){return t}).join(\", \")))},{}],2:[function(t,e,n){function r(t,e,n,r,o){try{d?d-=1:i(\"err\",[o||new UncaughtException(t,e,n)])}catch(s){try{i(\"ierr\",[s,(new Date).getTime(),!0])}catch(c){}}return\"function\"==typeof f?f.apply(this,a(arguments)):!1}function UncaughtException(t,e,n){this.message=t||\"Uncaught error with no additional information\",this.sourceURL=e,this.line=n}function o(t){i(\"err\",[t,(new Date).getTime()])}var i=t(\"handle\"),a=t(16),s=t(\"ee\"),c=t(\"loader\"),f=window.onerror,u=!1,d=0;c.features.err=!0,t(1),window.onerror=r;try{throw new Error}catch(l){\"stack\"in l&&(t(8),t(7),\"addEventListener\"in window&&t(5),c.xhrWrappable&&t(9),u=!0)}s.on(\"fn-start\",function(t,e,n){u&&(d+=1)}),s.on(\"fn-err\",function(t,e,n){u&&(this.thrown=!0,o(n))}),s.on(\"fn-end\",function(){u&&!this.thrown&&d>0&&(d-=1)}),s.on(\"internal-error\",function(t){i(\"ierr\",[t,(new Date).getTime(),!0])})},{}],3:[function(t,e,n){t(\"loader\").features.ins=!0},{}],4:[function(t,e,n){function r(t){}if(window.performance&&window.performance.timing&&window.performance.getEntriesByType){var o=t(\"ee\"),i=t(\"handle\"),a=t(8),s=t(7),c=\"learResourceTimings\",f=\"addEventListener\",u=\"resourcetimingbufferfull\",d=\"bstResource\",l=\"resource\",p=\"-start\",h=\"-end\",m=\"fn\"+p,w=\"fn\"+h,v=\"bstTimer\",y=\"pushState\";t(\"loader\").features.stn=!0,t(6);var g=NREUM.o.EV;o.on(m,function(t,e){var n=t[0];n instanceof g&&(this.bstStart=Date.now())}),o.on(w,function(t,e){var n=t[0];n instanceof g&&i(\"bst\",[n,e,this.bstStart,Date.now()])}),a.on(m,function(t,e,n){this.bstStart=Date.now(),this.bstType=n}),a.on(w,function(t,e){i(v,[e,this.bstStart,Date.now(),this.bstType])}),s.on(m,function(){this.bstStart=Date.now()}),s.on(w,function(t,e){i(v,[e,this.bstStart,Date.now(),\"requestAnimationFrame\"])}),o.on(y+p,function(t){this.time=Date.now(),this.startPath=location.pathname+location.hash}),o.on(y+h,function(t){i(\"bstHist\",[location.pathname+location.hash,this.startPath,this.time])}),f in window.performance&&(window.performance[\"c\"+c]?window.performance[f](u,function(t){i(d,[window.performance.getEntriesByType(l)]),window.performance[\"c\"+c]()},!1):window.performance[f](\"webkit\"+u,function(t){i(d,[window.performance.getEntriesByType(l)]),window.performance[\"webkitC\"+c]()},!1)),document[f](\"scroll\",r,!1),document[f](\"keypress\",r,!1),document[f](\"click\",r,!1)}},{}],5:[function(t,e,n){function r(t){for(var e=t;e&&!e.hasOwnProperty(u);)e=Object.getPrototypeOf(e);e&&o(e)}function o(t){s.inPlace(t,[u,d],\"-\",i)}function i(t,e){return t[1]}var a=t(\"ee\").get(\"events\"),s=t(17)(a),c=t(\"gos\"),f=XMLHttpRequest,u=\"addEventListener\",d=\"removeEventListener\";e.exports=a,\"getPrototypeOf\"in Object?(r(document),r(window),r(f.prototype)):f.prototype.hasOwnProperty(u)&&(o(window),o(f.prototype)),a.on(u+\"-start\",function(t,e){if(t[1]){var n=t[1];if(\"function\"==typeof n){var r=c(n,\"nr@wrapped\",function(){return s(n,\"fn-\",null,n.name||\"anonymous\")});this.wrapped=t[1]=r}else\"function\"==typeof n.handleEvent&&s.inPlace(n,[\"handleEvent\"],\"fn-\")}}),a.on(d+\"-start\",function(t){var e=this.wrapped;e&&(t[1]=e)})},{}],6:[function(t,e,n){var r=t(\"ee\").get(\"history\"),o=t(17)(r);e.exports=r,o.inPlace(window.history,[\"pushState\",\"replaceState\"],\"-\")},{}],7:[function(t,e,n){var r=t(\"ee\").get(\"raf\"),o=t(17)(r),i=\"equestAnimationFrame\";e.exports=r,o.inPlace(window,[\"r\"+i,\"mozR\"+i,\"webkitR\"+i,\"msR\"+i],\"raf-\"),r.on(\"raf-start\",function(t){t[0]=o(t[0],\"fn-\")})},{}],8:[function(t,e,n){function r(t,e,n){t[0]=a(t[0],\"fn-\",null,n)}function o(t,e,n){this.method=n,this.timerDuration=\"number\"==typeof t[1]?t[1]:0,t[0]=a(t[0],\"fn-\",this,n)}var i=t(\"ee\").get(\"timer\"),a=t(17)(i),s=\"setTimeout\",c=\"setInterval\",f=\"clearTimeout\",u=\"-start\",d=\"-\";e.exports=i,a.inPlace(window,[s,\"setImmediate\"],s+d),a.inPlace(window,[c],c+d),a.inPlace(window,[f,\"clearImmediate\"],f+d),i.on(c+u,r),i.on(s+u,o)},{}],9:[function(t,e,n){function r(t,e){d.inPlace(e,[\"onreadystatechange\"],\"fn-\",s)}function o(){var t=this,e=u.context(t);t.readyState>3&&!e.resolved&&(e.resolved=!0,u.emit(\"xhr-resolved\",[],t)),d.inPlace(t,w,\"fn-\",s)}function i(t){v.push(t),h&&(g=-g,b.data=g)}function a(){for(var t=0;t<v.length;t++)r([],v[t]);v.length&&(v=[])}function s(t,e){return e}function c(t,e){for(var n in t)e[n]=t[n];return e}t(5);var f=t(\"ee\"),u=f.get(\"xhr\"),d=t(17)(u),l=NREUM.o,p=l.XHR,h=l.MO,m=\"readystatechange\",w=[\"onload\",\"onerror\",\"onabort\",\"onloadstart\",\"onloadend\",\"onprogress\",\"ontimeout\"],v=[];e.exports=u;var y=window.XMLHttpRequest=function(t){var e=new p(t);try{u.emit(\"new-xhr\",[e],e),e.addEventListener(m,o,!1)}catch(n){try{u.emit(\"internal-error\",[n])}catch(r){}}return e};if(c(p,y),y.prototype=p.prototype,d.inPlace(y.prototype,[\"open\",\"send\"],\"-xhr-\",s),u.on(\"send-xhr-start\",function(t,e){r(t,e),i(e)}),u.on(\"open-xhr-start\",r),h){var g=1,b=document.createTextNode(g);new h(a).observe(b,{characterData:!0})}else f.on(\"fn-end\",function(t){t[0]&&t[0].type===m||a()})},{}],10:[function(t,e,n){function r(t){var e=this.params,n=this.metrics;if(!this.ended){this.ended=!0;for(var r=0;d>r;r++)t.removeEventListener(u[r],this.listener,!1);if(!e.aborted){if(n.duration=(new Date).getTime()-this.startTime,4===t.readyState){e.status=t.status;var i=o(t,this.lastSize);if(i&&(n.rxSize=i),this.sameOrigin){var a=t.getResponseHeader(\"X-NewRelic-App-Data\");a&&(e.cat=a.split(\", \").pop())}}else e.status=0;n.cbTime=this.cbTime,f.emit(\"xhr-done\",[t],t),s(\"xhr\",[e,n,this.startTime])}}}function o(t,e){var n=t.responseType;if(\"json\"===n&&null!==e)return e;var r=\"arraybuffer\"===n||\"blob\"===n||\"json\"===n?t.response:t.responseText;return h(r)}function i(t,e){var n=c(e),r=t.params;r.host=n.hostname+\":\"+n.port,r.pathname=n.pathname,t.sameOrigin=n.sameOrigin}var a=t(\"loader\");if(a.xhrWrappable){var s=t(\"handle\"),c=t(11),f=t(\"ee\"),u=[\"load\",\"error\",\"abort\",\"timeout\"],d=u.length,l=t(\"id\"),p=t(14),h=t(13),m=window.XMLHttpRequest;a.features.xhr=!0,t(9),f.on(\"new-xhr\",function(t){var e=this;e.totalCbs=0,e.called=0,e.cbTime=0,e.end=r,e.ended=!1,e.xhrGuids={},e.lastSize=null,p&&(p>34||10>p)||window.opera||t.addEventListener(\"progress\",function(t){e.lastSize=t.loaded},!1)}),f.on(\"open-xhr-start\",function(t){this.params={method:t[0]},i(this,t[1]),this.metrics={}}),f.on(\"open-xhr-end\",function(t,e){\"loader_config\"in NREUM&&\"xpid\"in NREUM.loader_config&&this.sameOrigin&&e.setRequestHeader(\"X-NewRelic-ID\",NREUM.loader_config.xpid)}),f.on(\"send-xhr-start\",function(t,e){var n=this.metrics,r=t[0],o=this;if(n&&r){var i=h(r);i&&(n.txSize=i)}this.startTime=(new Date).getTime(),this.listener=function(t){try{\"abort\"===t.type&&(o.params.aborted=!0),(\"load\"!==t.type||o.called===o.totalCbs&&(o.onloadCalled||\"function\"!=typeof e.onload))&&o.end(e)}catch(n){try{f.emit(\"internal-error\",[n])}catch(r){}}};for(var a=0;d>a;a++)e.addEventListener(u[a],this.listener,!1)}),f.on(\"xhr-cb-time\",function(t,e,n){this.cbTime+=t,e?this.onloadCalled=!0:this.called+=1,this.called!==this.totalCbs||!this.onloadCalled&&\"function\"==typeof n.onload||this.end(n)}),f.on(\"xhr-load-added\",function(t,e){var n=\"\"+l(t)+!!e;this.xhrGuids&&!this.xhrGuids[n]&&(this.xhrGuids[n]=!0,this.totalCbs+=1)}),f.on(\"xhr-load-removed\",function(t,e){var n=\"\"+l(t)+!!e;this.xhrGuids&&this.xhrGuids[n]&&(delete this.xhrGuids[n],this.totalCbs-=1)}),f.on(\"addEventListener-end\",function(t,e){e instanceof m&&\"load\"===t[0]&&f.emit(\"xhr-load-added\",[t[1],t[2]],e)}),f.on(\"removeEventListener-end\",function(t,e){e instanceof m&&\"load\"===t[0]&&f.emit(\"xhr-load-removed\",[t[1],t[2]],e)}),f.on(\"fn-start\",function(t,e,n){e instanceof m&&(\"onload\"===n&&(this.onload=!0),(\"load\"===(t[0]&&t[0].type)||this.onload)&&(this.xhrCbStart=(new Date).getTime()))}),f.on(\"fn-end\",function(t,e){this.xhrCbStart&&f.emit(\"xhr-cb-time\",[(new Date).getTime()-this.xhrCbStart,this.onload,e],e)})}},{}],11:[function(t,e,n){e.exports=function(t){var e=document.createElement(\"a\"),n=window.location,r={};e.href=t,r.port=e.port;var o=e.href.split(\"://\");!r.port&&o[1]&&(r.port=o[1].split(\"/\")[0].split(\"@\").pop().split(\":\")[1]),r.port&&\"0\"!==r.port||(r.port=\"https\"===o[0]?\"443\":\"80\"),r.hostname=e.hostname||n.hostname,r.pathname=e.pathname,r.protocol=o[0],\"/\"!==r.pathname.charAt(0)&&(r.pathname=\"/\"+r.pathname);var i=!e.protocol||\":\"===e.protocol||e.protocol===n.protocol,a=e.hostname===document.domain&&e.port===n.port;return r.sameOrigin=i&&(!e.hostname||a),r}},{}],12:[function(t,e,n){function r(t,e){return function(){o(t,[(new Date).getTime()].concat(a(arguments)),null,e)}}var o=t(\"handle\"),i=t(15),a=t(16);\"undefined\"==typeof window.newrelic&&(newrelic=NREUM);var s=[\"setPageViewName\",\"setCustomAttribute\",\"finished\",\"addToTrace\",\"inlineHit\"],c=[\"addPageAction\"],f=\"api-\";i(s,function(t,e){newrelic[e]=r(f+e,\"api\")}),i(c,function(t,e){newrelic[e]=r(f+e)}),e.exports=newrelic,newrelic.noticeError=function(t){\"string\"==typeof t&&(t=new Error(t)),o(\"err\",[t,(new Date).getTime()])}},{}],13:[function(t,e,n){e.exports=function(t){if(\"string\"==typeof t&&t.length)return t.length;if(\"object\"==typeof t){if(\"undefined\"!=typeof ArrayBuffer&&t instanceof ArrayBuffer&&t.byteLength)return t.byteLength;if(\"undefined\"!=typeof Blob&&t instanceof Blob&&t.size)return t.size;if(!(\"undefined\"!=typeof FormData&&t instanceof FormData))try{return JSON.stringify(t).length}catch(e){return}}}},{}],14:[function(t,e,n){var r=0,o=navigator.userAgent.match(/Firefox[\\\\/\\\\s](\\\\d+\\\\.\\\\d+)/);o&&(r=+o[1]),e.exports=r},{}],15:[function(t,e,n){function r(t,e){var n=[],r=\"\",i=0;for(r in t)o.call(t,r)&&(n[i]=e(r,t[r]),i+=1);return n}var o=Object.prototype.hasOwnProperty;e.exports=r},{}],16:[function(t,e,n){function r(t,e,n){e||(e=0),\"undefined\"==typeof n&&(n=t?t.length:0);for(var r=-1,o=n-e||0,i=Array(0>o?0:o);++r<o;)i[r]=t[e+r];return i}e.exports=r},{}],17:[function(t,e,n){function r(t){return!(t&&\"function\"==typeof t&&t.apply&&!t[a])}var o=t(\"ee\"),i=t(16),a=\"nr@original\",s=Object.prototype.hasOwnProperty,c=!1;e.exports=function(t){function e(t,e,n,o){function nrWrapper(){var r,a,s,c;try{a=this,r=i(arguments),s=\"function\"==typeof n?n(r,a):n||{}}catch(u){d([u,\"\",[r,a,o],s])}f(e+\"start\",[r,a,o],s);try{return c=t.apply(a,r)}catch(l){throw f(e+\"err\",[r,a,l],s),l}finally{f(e+\"end\",[r,a,c],s)}}return r(t)?t:(e||(e=\"\"),nrWrapper[a]=t,u(t,nrWrapper),nrWrapper)}function n(t,n,o,i){o||(o=\"\");var a,s,c,f=\"-\"===o.charAt(0);for(c=0;c<n.length;c++)s=n[c],a=t[s],r(a)||(t[s]=e(a,f?s+o:o,i,s))}function f(e,n,r){if(!c){c=!0;try{t.emit(e,n,r)}catch(o){d([o,e,n,r])}c=!1}}function u(t,e){if(Object.defineProperty&&Object.keys)try{var n=Object.keys(t);return n.forEach(function(n){Object.defineProperty(e,n,{get:function(){return t[n]},set:function(e){return t[n]=e,e}})}),e}catch(r){d([r])}for(var o in t)s.call(t,o)&&(e[o]=t[o]);return e}function d(e){try{t.emit(\"internal-error\",e)}catch(n){}}return t||(t=o),e.inPlace=n,e.flag=a,e}},{}],ee:[function(t,e,n){function r(){}function o(t){function e(t){return t&&t instanceof r?t:t?s(t,a,i):i()}function n(n,r,o){t&&t(n,r,o);for(var i=e(o),a=l(n),s=a.length,c=0;s>c;c++)a[c].apply(i,r);var u=f[w[n]];return u&&u.push([v,n,r,i]),i}function d(t,e){m[t]=l(t).concat(e)}function l(t){return m[t]||[]}function p(t){return u[t]=u[t]||o(n)}function h(t,e){c(t,function(t,n){e=e||\"feature\",w[n]=e,e in f||(f[e]=[])})}var m={},w={},v={on:d,emit:n,get:p,listeners:l,context:e,buffer:h};return v}function i(){return new r}var a=\"nr@context\",s=t(\"gos\"),c=t(15),f={},u={},d=e.exports=o();d.backlog=f},{}],gos:[function(t,e,n){function r(t,e,n){if(o.call(t,e))return t[e];var r=n();if(Object.defineProperty&&Object.keys)try{return Object.defineProperty(t,e,{value:r,writable:!0,enumerable:!1}),r}catch(i){}return t[e]=r,r}var o=Object.prototype.hasOwnProperty;e.exports=r},{}],handle:[function(t,e,n){function r(t,e,n,r){o.buffer([t],r),o.emit(t,e,n)}var o=t(\"ee\").get(\"handle\");e.exports=r,r.ee=o},{}],id:[function(t,e,n){function r(t){var e=typeof t;return!t||\"object\"!==e&&\"function\"!==e?-1:t===window?0:a(t,i,function(){return o++})}var o=1,i=\"nr@id\",a=t(\"gos\");e.exports=r},{}],loader:[function(t,e,n){function r(){if(!g++){var t=y.info=NREUM.info,e=u.getElementsByTagName(\"script\")[0];if(t&&t.licenseKey&&t.applicationID&&e){c(w,function(e,n){t[e]||(t[e]=n)});var n=\"https\"===m.split(\":\")[0]||t.sslForHttp;y.proto=n?\"https://\":\"http://\",s(\"mark\",[\"onload\",a()],null,\"api\");var r=u.createElement(\"script\");r.src=y.proto+t.agent,e.parentNode.insertBefore(r,e)}}}function o(){\"complete\"===u.readyState&&i()}function i(){s(\"mark\",[\"domContent\",a()],null,\"api\")}function a(){return(new Date).getTime()}var s=t(\"handle\"),c=t(15),f=window,u=f.document,d=\"addEventListener\",l=\"attachEvent\",p=f.XMLHttpRequest,h=p&&p.prototype;NREUM.o={ST:setTimeout,CT:clearTimeout,XHR:p,REQ:f.Request,EV:f.Event,PR:f.Promise,MO:f.MutationObserver},t(12);var m=\"\"+location,w={beacon:\"bam.nr-data.net\",errorBeacon:\"bam.nr-data.net\",agent:\"js-agent.newrelic.com/nr-952.min.js\"},v=p&&h&&h[d]&&!/CriOS/.test(navigator.userAgent),y=e.exports={offset:a(),origin:m,features:{},xhrWrappable:v};u[d]?(u[d](\"DOMContentLoaded\",i,!1),f[d](\"load\",r,!1)):(u[l](\"onreadystatechange\",o),f[l](\"onload\",r)),s(\"mark\",[\"firstbyte\",a()],null,\"api\");var g=0},{}]},{},[\"loader\",2,10,4,3]);</script>\\n<meta content=\"width=device-width, initial-scale=1.0, maximum-scale=1.0, user-scalable=0\" name=\"viewport\"/>\\n<meta content=\"app-id=com.careerbuilder.SugarDrone\" name=\"google-play-app\"/>\\n<meta content=\"app-id=524123670\" name=\"apple-itunes-app\"/>\\n<meta content=\"mu-a2a0832f-10763ae9-170d6c87-70e4a59c\" name=\"blitz\"/>\\n<title>Data Jobs in Los Angeles, CA | CareerBuilder</title>\\n<link href=\"/assets/consumer_layouts/host_sites/us/application-d8272a0259d3971467e4803b9c40d9966f018b73e3f9b723c0d233fa24e21730.css\" media=\"screen\" rel=\"stylesheet\"/>\\n<link href=\"/assets/application-6cae7f3b31b05911c1e5407066b1a22daed2186e928dfc39946383f08076c3be.css\" media=\"screen\" rel=\"stylesheet\"/>\\n<link href=\"/assets/global/print-94645ed6711d4da397f0eec09ad14f235ab96e0406ce79b43f0a915e9b9d4f8b.css\" media=\"print\" rel=\"stylesheet\"/>\\n<link href=\"/humans.txt\" rel=\"author\" type=\"text/plain\"/>\\n<script>\\n  WebFontConfig = {\\n    google: { families: [ 'Lato:400,700,300,400italic:latin' ] }\\n  };\\n  (function() {\\n    var wf = document.createElement('script');\\n    wf.src = ('https:' == document.location.protocol ? 'https' : 'http') +\\n      '://ajax.googleapis.com/ajax/libs/webfont/1/webfont.js';\\n    wf.type = 'text/javascript';\\n    wf.async = 'true';\\n    var s = document.getElementsByTagName('script')[0];\\n    s.parentNode.insertBefore(wf, s);\\n  })();\\n</script>\\n<script>\\n  var ScriptVars = {\\n    recent_searches_new: 'New',\\n    notifications_enabled: true,\\n    firebase_jwt: ''\\n    , notification_title: \"Notifications\", no_notifications_message: \"You have no notifications.\", seconds_ago: \"%{0} seconds ago\", minutes_ago: \"%{0} minutes ago\", hours_ago: \"%{0} hours ago\", days_ago: \"%{0} days ago\", weeks_ago: \"%{0} weeks ago\", months_ago: \"%{0} months ago\", years_ago: \"%{0} years ago\", viewed_your_application: \"has viewed your application.\", anonymous_company_name: \"An Anonymous Company\", resume_viewed_with_company: \"Your resume has been viewed by %{0}.\", relative_resume_notification_message: \"You have %{0} new resume views.\", confirm_text: \"I understand that removing my account from CareerBuilder can not be undone and all resumes, cover letters and profile information can not be restored\", invalid_dropbox_resume_file_name: \"Oops. The %{file_name} document is probably not a resume.\", invalid_dropbox_resume_file_name_description: \"Please make sure your file is a resume.\", invalid_email_address_error_message: \"Please enter a valid email address.\", invalid_field_error_message: \"This field appears invalid.\", invalid_password_do_not_match: \"Your passwords do not match.\", invalid_password_error_message: \"Your password needs at least 3 of the following: an uppercase letter, a lowercase letter, a number, a symbol.\", invalid_password_length_error_message: \"Your password must be at least 8 characters long.\", invalid_resume_file_extension: \"File type is not accepted.\", invalid_resume_file_extension_description: \"Accepted file types are: DOC, DOCX, ODT, PDF, RTF, TXT, WPS.\", invalid_resume_file_size: \"File is too large.\", invalid_resume_file_size_description: \"File upload data is larger than the maximum of %{size} KB.\", job_alerts_title: \"Job Alerts\", months: [\"January\",\"February\",\"March\",\"April\",\"May\",\"June\",\"July\",\"August\",\"September\",\"October\",\"November\",\"December\"], per_hour: \"Per Hour\", per_month: \"Per Month\", per_year: \"Per Year\", present: \"Present\", quick_apply_error: \"There was an error attempting to apply, please try again.\", quick_apply_success: \"Application Sent\", required_field_error_message: \"This field is required.\", saved_job_unsave_message: \"Are you sure you want to unsave this job?\"\\n    , \"keywords\": \"data\", \"location\": \"los angeles\", \"desktop_domain\": \"www.careerbuilder.com\", \"vid\": \"VX4801FA40417F11E6AD640796677E7CC91805UN\", \"keywords\": \"data\", \"location\": \"los angeles\", \"jobs_word\": \"Jobs\", \"job_word\": \"Job\", \"defaultFilters\": {\"cat1\":\"\",\"cat2\":\"\",\"cat3\":\"\",\"cb_apply\":\"false\",\"emp\":\"all\",\"pay\":\"0\",\"posted\":\"30\",\"radius\":\"30\",\"sort\":\"relevance_desc\",\"map\":\"false\"}, \"request_is_internal\": false, \"back_to_search_path\": \"/jobs-data-in-los-angeles\", \"i18n\": {\"login_or_reg_required_save_job\":\"Sign in or register to save this job\",\"login_or_reg_required_default\":\"Sign in or register to use this feature\",\"saved\":\"Saved\",\"save\":\"Save Job\"}, \"visitor_id\": \"VX4801FA40417F11E6AD640796677E7CC91805UN\", \"site_id\": \"cbnsv\", \"host_site\": \"US\", \"user\": {\"authenticated\":null}, \"SingleSignOn\": {\"clientId\":\"81d4d612\",\"authenticated\":false,\"cbClientScriptUrl\":\"https://accounts.careerbuilder.com/share/hybrid/cblogin.aspx\",\"oauthjsEnabledForHostsite\":true,\"Page\":{}}\\n  };\\n</script>\\n<script>\\n  ScriptVars.host_site = 'US';\\n  ScriptVars.mobile_domain = 'm.careerbuilder.com';\\n  ScriptVars.country_code = 'us';\\n</script>\\n<script>\\n  window.dataLayer = [{\\n    \"site_id\":\"cbnsv\",\"session_id\":null,\"visitor_id\":\"VX4801FA40417F11E6AD640796677E7CC91805UN\",\"browser_id\":\"X1833AB774EF276FCBFA64F46000CD71410FF035BE28A59E7AE161114569FE74CBF974B5160721432A16D50DE1B32A14A6\",\"is_internal\":false,\"user_status\":\"Unknown\"\\n    , \"jrp_result_count\":223, \"jobsearch_evidence_id\":\"d79be209-3212-4e49-a010-9ae80bf5abe8\", \"jobsearch_experiments\":\"lir:ignore,lirs:0,lcsr:8,ugns:test\", \\n  }]\\n</script>\\n<meta content=\"authenticity_token\" name=\"csrf-param\"/>\\n<meta content=\"Bxljf80pxcuNNQOS007hocXBLMdFeiiefnzMFW2SwqUU5T48psGAKktsee0g3ddUCWFbjhQ6PI2y/iYz9g1SuA==\" name=\"csrf-token\"/>\\n<link href=\"http://www.careerbuilder.com/jobs-data-in-los-angeles,ca\" rel=\"canonical\"/>\\n<link href=\"http://www.careerbuilder.com/jobs-data-in-los-angeles?page_number=2\" rel=\"next\"/>\\n<meta content=\"Search and apply for Data Jobs in Los Angeles, CA hiring now on CareerBuilder.\" name=\"description\"/>\\n</head>\\n<body class=\"\">\\n<!-- Google Tag Manager -->\\n<noscript>\\n<iframe height=\"0\" src='//www.googletagmanager.com/ns.html?id=GTM-MLFVGH&amp;noscript=true&amp;browser_id=\"no_script_browser_id\"' style=\"display:none;visibility:hidden\" width=\"0\"></iframe>\\n</noscript>\\n<script id=\"google-tag-manager\">\\n      (function(w,d,s,l,i){w[l]=w[l]||[];w[l].push({'gtm.start':\\n      new Date().getTime(),event:'gtm.js'});var f=d.getElementsByTagName(s)[0],\\n      j=d.createElement(s),dl=l!='dataLayer'?'&l='+l:'';j.async=true;j.src=\\n      '//www.googletagmanager.com/gtm.js?id='+i+dl;f.parentNode.insertBefore(j,f);\\n      })(window,document,'script','dataLayer','GTM-MLFVGH');\\n      </script>\\n<!-- End Google Tag Manager -->\\n<script src=\"/assets/visual_web_optimizer-c9d9c067532295a9587ce7db328bd97e643e91653aec50f78574f7c1e7c3a1c6.js\"></script>\\n<div class=\"row\">\\n<div class=\"small-12 columns skip-navigation\">\\n<a href=\"#main-content\">Skip navigation</a>\\n</div>\\n</div>\\n<header id=\"header-main\">\\n<div class=\"row\" id=\"header-primary\">\\n<div class=\"small-2 columns hide-for-large-up\">\\n<div id=\"show-menu\">\\n<span class=\"fa fa-bars\"></span>\\n</div>\\n</div>\\n<div class=\"small-8 large-no-columns columns center-text\">\\n<a data-gtm=\"mobile-header|logo-home\" href=\"/\" id=\"header-logo\">\\n<img alt=\"Find Jobs at CareerBuilder\" height=\"32\" src=\"/assets/consumer_layouts/logo-eb9422713f74cd2ce626ee322e3af58d84e17f6ea2fa253abbee48639ff78ea5.svg\" width=\"210\"/>\\n</a>\\n</div>\\n<div class=\"small-2 columns text-right hide-for-large-up\">\\n</div>\\n<div id=\"header-menu\">\\n<div class=\"small-12 columns no-padding\">\\n<div class=\"hide-for-large-up\" id=\"header-menu-greeting\">\\n<div class=\"row\">\\n<div class=\"small-12 columns\">\\n<h2 class=\"light-weight\">\\nHello.\\n</h2>\\n</div>\\n</div>\\n<div class=\"row\">\\n<div class=\"small-12 columns\">\\n<h3 class=\"light-weight\">\\nSign in to find your next job.\\n</h3>\\n</div>\\n</div>\\n</div>\\n<div id=\"header-menu-links\">\\n<div class=\"show-for-large-up\" id=\"header-menu-employer-link\">\\n<a data-gtm=\"mobile-header|employer-home\" href=\"http://hiring.careerbuilder.com/recruitment-advertising/post-job-right-now\">Post Jobs</a>\\n</div>\\n<ul>\\n<li id=\"header-menu-authentication-links\">\\n<div class=\"row\">\\n<div class=\"small-6 large-no-columns columns header-menu-authentication-link\">\\n<a class=\"btn tertiary\" data-gtm=\"mobile-header|sign-in\" href=\"/user/sign-in\" id=\"header-menu-sign-in-link\"><span>\\n<span class=\"show-for-large-up\">\\n<div class=\"fa fa-lock\"></div>\\n</span>\\n</span>\\nSign In\\n</a></div>\\n<div class=\"small-6 large-no-columns columns header-menu-authentication-link\">\\n<a class=\"btn tertiary\" data-gtm=\"mobile-header|register\" href=\"/user/register\" id=\"header-menu-register-link\">Sign Up</a>\\n</div>\\n</div>\\n</li>\\n<a class=\"show-for-medium-down\" data-gtm=\"mobile-header|home\" href=\"/\"><li>Home</li>\\n</a><a data-gtm=\"mobile-header|add-resume\" href=\"/resumes/new\"><li>Add Resume</li>\\n</a><a data-gtm=\"mobile-header|browse-jobs\" href=\"/browse\" id=\"header-menu-browse-jobs-link\"><li>Browse Jobs</li>\\n</a><a data-gtm=\"mobile-header|coach-insights\" href=\"http://coach.careerbuilder.com\"><li>Explore Careers</li>\\n</a><a data-gtm=\"mobile-header|search-resources\" href=\"http://advice.careerbuilder.com\"><li>Search Resources</li>\\n</a><li class=\"header-menu-employer-text light-weight hide-for-large-up\">Looking to Hire?</li>\\n<a class=\"hide-for-large-up\" data-gtm=\"mobile-header|employer-home\" href=\"http://hiring.careerbuilder.com/recruitment-advertising/post-job-right-now\"><li>Post Jobs</li>\\n</a></ul>\\n</div>\\n</div>\\n</div>\\n</div>\\n<div class=\"row search-form\">\\n<form action=\"/jobs\" method=\"get\">\\n<article class=\"small-12 medium-5 columns search-form-column\">\\n<div class=\"search-input-container\">\\n<input class=\"search-input keywords\" data-autocomplete=\"keywords\" id=\"header-keywords\" name=\"keywords\" placeholder=\"Job Title, Skills, or Company\" type=\"text\" value=\"data\"/>\\n<label class=\"input-icon fa fa-search\" for=\"header-keywords\">\\n<span class=\"small-screen-search\">Search</span>\\n</label>\\n</div>\\n</article>\\n<article class=\"small-12 medium-5 columns search-form-column\">\\n<div class=\"search-input-container\">\\n<input class=\"search-input location\" data-autocomplete=\"location\" id=\"header-location\" name=\"location\" placeholder=\"City, State or ZIP\" type=\"text\" value=\"los angeles\"/>\\n<label class=\"input-icon fa fa-location-arrow\" for=\"header-location\">\\n<span class=\"accessibility-hide-text\">Location</span>\\n</label>\\n</div>\\n</article>\\n<article class=\"small-12 medium-2 columns search-form-column\">\\n<input class=\"btn search-jobs\" data-gtm=\"header_search_form_find_jobs_btn_clicked\" type=\"submit\" value=\"Find Jobs\"/>\\n</article>\\n</form>\\n</div>\\n</header>\\n<div class=\"job-results main-body\" id=\"main-content\">\\n<div class=\"page-header\">\\n<div class=\"row\">\\n<div class=\"small-12 columns\">\\n<h1>Data Jobs in Los Angeles, CA</h1>\\n<div class=\"count\">(223 Jobs)</div>\\n</div>\\n</div>\\n</div>\\n<div class=\"row\">\\n<div class=\"small-12 columns val-error-message hide\" id=\"ajax-error\"></div>\\n</div>\\n<div class=\"row top-user-actions\">\\n<div class=\"columns\">\\n<a class=\"bold\" data-gtm=\"jrp-job-list|view-recent-searches\" href=\"/recent-searches\">View Recent Searches</a>\\n</div>\\n</div>\\n<div class=\"row\">\\n<div class=\"more-option\">\\n<div class=\"small-12 medium-3 columns\">\\n<div class=\"open-filters\">\\n<button class=\"btn secondary small-12 hide-for-large-up\" disabled=\"disabled\" id=\"btn-open-filter\">\\nFilter &amp; Sort (1)\\n</button>\\n</div>\\n</div>\\n</div>\\n</div>\\n<div class=\"row\">\\n<div class=\"small-12 large-2 columns no-padding\">\\n<div class=\"columns filter-reset show-for-large-up small-12\">\\n<a class=\"btn tertiary\" data-gtm=\"jrp-job-list|filter-reset-click\" href=\"/jobs-data-in-los-angeles\">Reset Filters</a>\\n</div>\\n<div class=\"filter-list small-12 columns show-for-large-up\">\\n<form action=\"/jobs\" id=\"filter-search-form\" method=\"get\">\\n<input id=\"filter-keywords\" name=\"keywords\" type=\"hidden\" value=\"data\"/>\\n<input id=\"filter-location\" name=\"location\" type=\"hidden\" value=\"los angeles\"/>\\n<div class=\"small-12 hide-for-large-up\">\\n<h3>Sort By</h3>\\n<dl class=\"accordion\">\\n<label class=\"accessibility-hide-text\" for=\"sort\">Sort By:</label>\\n<select class=\"drop-down-filter\" id=\"sort\" name=\"sort\">\\n<option disabled=\"disabled\">Sort By:</option>\\n<option selected=\"selected\" value=\"relevance_desc\">Relevance</option>\\n<option value=\"date_desc\">Date</option>\\n<option value=\"company_asc\">Company</option>\\n<option value=\"distance_asc\">Distance</option>\\n</select>\\n</dl>\\n</div>\\n<div class=\"small-12\">\\n<div class=\"hide-for-large-up filter-results-group\">\\n<h3 class=\"filter-results\">Filter Results</h3>\\n<a class=\"right\" data-gtm=\"jrp-job-list|filter-reset-click\" href=\"/jobs-data-in-los-angeles\">Reset Filters</a>\\n</div>\\n<dl class=\"accordion card\">\\n<dt class=\"posted-within accordion-active\">\\nDate Posted\\n</dt>\\n<dd class=\"posted-within active\">\\n<fieldset class=\"accessibility-hide\">\\n<legend class=\"accessibility-hide-text\">Date Posted</legend>\\n<ul>\\n<li class=\"filter-option\">\\n<input data-tag=\"filters-date-posted-1\" id=\"posted_1\" name=\"posted\" type=\"radio\" value=\"1\"/>\\n<label for=\"posted_1\">24 hours</label>\\n</li>\\n<li class=\"filter-option\">\\n<input data-tag=\"filters-date-posted-3\" id=\"posted_3\" name=\"posted\" type=\"radio\" value=\"3\"/>\\n<label for=\"posted_3\">3 days</label>\\n</li>\\n<li class=\"filter-option\">\\n<input data-tag=\"filters-date-posted-7\" id=\"posted_7\" name=\"posted\" type=\"radio\" value=\"7\"/>\\n<label for=\"posted_7\">7 days</label>\\n</li>\\n<li class=\"filter-option\">\\n<input checked=\"checked\" data-tag=\"filters-date-posted-30\" id=\"posted_30\" name=\"posted\" type=\"radio\" value=\"30\"/>\\n<label for=\"posted_30\">30 days</label>\\n</li>\\n</ul>\\n</fieldset>\\n</dd>\\n<dt class=\"distance accordion-active\">\\nDistance\\n</dt>\\n<dd class=\"distance active\">\\n<fieldset class=\"accessibility-hide\">\\n<legend class=\"accessibility-hide-text\">Distance</legend>\\n<ul>\\n<li class=\"filter-option\">\\n<input data-tag=\"filters-distance-5\" id=\"radius_5\" name=\"radius\" type=\"radio\" value=\"5\"/>\\n<label for=\"radius_5\">5 miles</label>\\n</li>\\n<li class=\"filter-option\">\\n<input data-tag=\"filters-distance-10\" id=\"radius_10\" name=\"radius\" type=\"radio\" value=\"10\"/>\\n<label for=\"radius_10\">10 miles</label>\\n</li>\\n<li class=\"filter-option\">\\n<input checked=\"checked\" data-tag=\"filters-distance-30\" id=\"radius_30\" name=\"radius\" type=\"radio\" value=\"30\"/>\\n<label for=\"radius_30\">30 miles</label>\\n</li>\\n<li class=\"filter-option\">\\n<input data-tag=\"filters-distance-50\" id=\"radius_50\" name=\"radius\" type=\"radio\" value=\"50\"/>\\n<label for=\"radius_50\">50 miles</label>\\n</li>\\n</ul>\\n</fieldset>\\n</dd>\\n<dt class=\"employment-type accordion-active\">\\nEmployment Type\\n</dt>\\n<dd class=\"employment-type active\">\\n<fieldset class=\"accessibility-hide\">\\n<legend class=\"accessibility-hide-text\">Employment Type</legend>\\n<ul>\\n<li class=\"filter-option\">\\n<input checked=\"checked\" class=\"emp\" data-tag=\"filters-emp-type-all\" id=\"emp_all\" type=\"checkbox\" value=\"all\"/>\\n<label for=\"emp_all\">All</label>\\n</li>\\n<li class=\"filter-option\">\\n<input class=\"emp emp-type\" data-tag=\"filters-emp-type-full-time\" id=\"emp_jtft\" type=\"checkbox\" value=\"jtft\"/>\\n<label for=\"emp_jtft\">Full Time</label>\\n</li>\\n<li class=\"filter-option\">\\n<input class=\"emp emp-type\" data-tag=\"filters-emp-type-part-time\" id=\"emp_jtpt\" type=\"checkbox\" value=\"jtpt\"/>\\n<label for=\"emp_jtpt\">Part Time</label>\\n</li>\\n<li class=\"filter-option\">\\n<input class=\"emp emp-type\" data-tag=\"filters-emp-type-contractor\" id=\"emp_jtct\" type=\"checkbox\" value=\"jtct\"/>\\n<label for=\"emp_jtct\">Contractor</label>\\n</li>\\n<li class=\"filter-option\">\\n<input class=\"emp emp-type\" data-tag=\"filters-emp-type-contract-to-hire\" id=\"emp_jtch\" type=\"checkbox\" value=\"jtch\"/>\\n<label for=\"emp_jtch\">Contract to Hire</label>\\n</li>\\n<li class=\"filter-option\">\\n<input class=\"emp emp-type\" data-tag=\"filters-emp-type-intern\" id=\"emp_jtin\" type=\"checkbox\" value=\"jtin\"/>\\n<label for=\"emp_jtin\">Intern</label>\\n</li>\\n<li class=\"filter-option\">\\n<input class=\"emp emp-type\" data-tag=\"filters-emp-type-seasonal-temp\" id=\"emp_jtse\" type=\"checkbox\" value=\"jtse\"/>\\n<label for=\"emp_jtse\">Seasonal / Temp</label>\\n</li>\\n</ul>\\n</fieldset>\\n<input id=\"emp\" name=\"emp\" type=\"hidden\" value=\"all\"/>\\n</dd>\\n<dt class=\"yearly-pay accordion-active\">\\nAnnual Pay\\n</dt>\\n<dd class=\"yearly-pay active\">\\n<fieldset class=\"accessibility-hide\">\\n<legend class=\"accessibility-hide-text\">Annual Pay</legend>\\n<ul>\\n<li class=\"filter-option\">\\n<input data-tag=\"filters-salary-0\" id=\"pay_0\" name=\"pay\" type=\"radio\" value=\"0\"/>\\n<label for=\"pay_0\">Any</label>\\n</li>\\n<li class=\"filter-option\">\\n<input checked=\"checked\" data-tag=\"filters-salary-20\" id=\"pay_20\" name=\"pay\" type=\"radio\" value=\"20\"/>\\n<label for=\"pay_20\">$20,000+</label>\\n</li>\\n<li class=\"filter-option\">\\n<input data-tag=\"filters-salary-40\" id=\"pay_40\" name=\"pay\" type=\"radio\" value=\"40\"/>\\n<label for=\"pay_40\">$40,000+</label>\\n</li>\\n<li class=\"filter-option\">\\n<input data-tag=\"filters-salary-60\" id=\"pay_60\" name=\"pay\" type=\"radio\" value=\"60\"/>\\n<label for=\"pay_60\">$60,000+</label>\\n</li>\\n<li class=\"filter-option\">\\n<input data-tag=\"filters-salary-80\" id=\"pay_80\" name=\"pay\" type=\"radio\" value=\"80\"/>\\n<label for=\"pay_80\">$80,000+</label>\\n</li>\\n<li class=\"filter-option\">\\n<input data-tag=\"filters-salary-100\" id=\"pay_100\" name=\"pay\" type=\"radio\" value=\"100\"/>\\n<label for=\"pay_100\">$100,000+</label>\\n</li>\\n<li class=\"filter-option\">\\n<input data-tag=\"filters-salary-120\" id=\"pay_120\" name=\"pay\" type=\"radio\" value=\"120\"/>\\n<label for=\"pay_120\">$120,000+</label>\\n</li>\\n</ul>\\n</fieldset>\\n</dd>\\n<dt class=\"job-category accordion-active\">\\nCompany\\n</dt>\\n<dd class=\"job-category active\">\\n<fieldset class=\"accessibility-hide\">\\n<legend class=\"accessibility-hide-text\">Company</legend>\\n<label class=\"accessibility-hide-text\" for=\"company\">\\nCompany\\n</label>\\n<select id=\"company\" name=\"company\">\\n<option value=\"\">All</option>\\n<option data-tag=\"filters-company-Accountemps\" value=\"Accountemps\">Accountemps (1)</option>\\n<option data-tag=\"filters-company-Accounting Principals\" value=\"Accounting Principals\">Accounting Principals (3)</option>\\n<option data-tag=\"filters-company-Act 1\" value=\"Act 1\">Act 1 (1)</option>\\n<option data-tag=\"filters-company-Adams &amp; Martin Group\" value=\"Adams &amp; Martin Group\">Adams &amp; Martin Group (1)</option>\\n<option data-tag=\"filters-company-Adecco\" value=\"Adecco\">Adecco (1)</option>\\n<option data-tag=\"filters-company-Aerotek\" value=\"Aerotek\">Aerotek (3)</option>\\n<option data-tag=\"filters-company-Ajilon Professional Staffing\" value=\"Ajilon Professional Staffing\">Ajilon Professional Staffing (1)</option>\\n<option data-tag=\"filters-company-Amtec.\" value=\"Amtec.\">Amtec. (2)</option>\\n<option data-tag=\"filters-company-Answer Financial Inc.\" value=\"Answer Financial Inc.\">Answer Financial Inc. (1)</option>\\n<option data-tag=\"filters-company-Answer Financial, part of Allstate Insurance\" value=\"Answer Financial, part of Allstate Insurance\">Answer Financial, part of Allstate Insurance (1)</option>\\n<option data-tag=\"filters-company-APN Staffing &amp; Employment Solutions\" value=\"APN Staffing &amp; Employment Solutions\">APN Staffing &amp; Employment Solutions (1)</option>\\n<option data-tag=\"filters-company-AppleOne\" value=\"AppleOne\">AppleOne (12)</option>\\n<option data-tag=\"filters-company-Caliber Home Loans\" value=\"Caliber Home Loans\">Caliber Home Loans (2)</option>\\n<option data-tag=\"filters-company-Career Movement\" value=\"Career Movement\">Career Movement (3)</option>\\n<option data-tag=\"filters-company-Century Group\" value=\"Century Group\">Century Group (3)</option>\\n<option data-tag=\"filters-company-City of Burbank\" value=\"City of Burbank\">City of Burbank (2)</option>\\n<option data-tag=\"filters-company-Confidential\" value=\"Confidential\">Confidential (4)</option>\\n<option data-tag=\"filters-company-CyberCoders\" value=\"CyberCoders\">CyberCoders (96)</option>\\n<option data-tag=\"filters-company-DataScan\" value=\"DataScan\">DataScan (3)</option>\\n<option data-tag=\"filters-company-De Vore Recruiting\" value=\"De Vore Recruiting\">De Vore Recruiting (2)</option>\\n<option data-tag=\"filters-company-Geometry Global\" value=\"Geometry Global\">Geometry Global (2)</option>\\n<option data-tag=\"filters-company-GHA Technologies\" value=\"GHA Technologies\">GHA Technologies (2)</option>\\n<option data-tag=\"filters-company-Global Executive Solutions Group\" value=\"Global Executive Solutions Group\">Global Executive Solutions Group (2)</option>\\n<option data-tag=\"filters-company-Kelly IT Resources\" value=\"Kelly IT Resources\">Kelly IT Resources (2)</option>\\n<option data-tag=\"filters-company-Ledgent Finance &amp; Accounting\" value=\"Ledgent Finance &amp; Accounting\">Ledgent Finance &amp; Accounting (2)</option>\\n<option data-tag=\"filters-company-Los Angeles Police Federal Credit Union\" value=\"Los Angeles Police Federal Credit Union\">Los Angeles Police Federal Credit Union (2)</option>\\n<option data-tag=\"filters-company-Maverick Trading\" value=\"Maverick Trading\">Maverick Trading (2)</option>\\n<option data-tag=\"filters-company-Nelson\" value=\"Nelson\">Nelson (3)</option>\\n<option data-tag=\"filters-company-Nigel Frank International US\" value=\"Nigel Frank International US\">Nigel Frank International US (2)</option>\\n<option data-tag=\"filters-company-NuVision Federal Credit Union\" value=\"NuVision Federal Credit Union\">NuVision Federal Credit Union (2)</option>\\n<option data-tag=\"filters-company-OfficeTeam\" value=\"OfficeTeam\">OfficeTeam (3)</option>\\n<option data-tag=\"filters-company-REM Group Consulting, LLC\" value=\"REM Group Consulting, LLC\">REM Group Consulting, LLC (3)</option>\\n<option data-tag=\"filters-company-Robert Half Finance &amp; Accounting U.S\" value=\"Robert Half Finance &amp; Accounting U.S\">Robert Half Finance &amp; Accounting U.S (11)</option>\\n<option data-tag=\"filters-company-Robert Half Technology\" value=\"Robert Half Technology\">Robert Half Technology (40)</option>\\n<option data-tag=\"filters-company-Strategic IT Staffing\" value=\"Strategic IT Staffing\">Strategic IT Staffing (2)</option>\\n<option data-tag=\"filters-company-System One\" value=\"System One\">System One (2)</option>\\n<option data-tag=\"filters-company-TEKsystems, Inc\" value=\"TEKsystems, Inc\">TEKsystems, Inc (2)</option>\\n<option data-tag=\"filters-company-Ultimate\" value=\"Ultimate\">Ultimate (3)</option>\\n<option data-tag=\"filters-company-Vaco Financial\" value=\"Vaco Financial\">Vaco Financial (2)</option>\\n<option data-tag=\"filters-company-Work 22\" value=\"Work 22\">Work 22 (3)</option>\\n</select>\\n</fieldset>\\n</dd>\\n<dt class=\"job-category accordion-active\">\\nJob Category\\n</dt>\\n<dd class=\"job-category active\">\\n<fieldset class=\"accessibility-hide\">\\n<legend class=\"accessibility-hide-text\">Job Category</legend>\\n<label class=\"accessibility-hide-text\" for=\"cat1\">\\nCategory\\n</label>\\n<select id=\"cat1\" name=\"cat1\">\\n<option value=\"\">Select</option>\\n<option data-tag=\"filters-category-JN001\" value=\"JN001\">Accounting (56)</option>\\n<option data-tag=\"filters-category-JN002\" value=\"JN002\">Admin - Clerical (17)</option>\\n<option data-tag=\"filters-category-JN054\" value=\"JN054\">Automotive (8)</option>\\n<option data-tag=\"filters-category-JN038\" value=\"JN038\">Banking (9)</option>\\n<option data-tag=\"filters-category-JN019\" value=\"JN019\">Business Development (10)</option>\\n<option data-tag=\"filters-category-JN043\" value=\"JN043\">Construction (4)</option>\\n<option data-tag=\"filters-category-JN020\" value=\"JN020\">Consultant (5)</option>\\n<option data-tag=\"filters-category-JN003\" value=\"JN003\">Customer Service (17)</option>\\n<option data-tag=\"filters-category-JN021\" value=\"JN021\">Design (58)</option>\\n<option data-tag=\"filters-category-JN027\" value=\"JN027\">Distribution - Shipping (2)</option>\\n<option data-tag=\"filters-category-JN004\" value=\"JN004\">Engineering (157)</option>\\n<option data-tag=\"filters-category-JN022\" value=\"JN022\">Entry Level (7)</option>\\n<option data-tag=\"filters-category-JN018\" value=\"JN018\">Executive (4)</option>\\n<option data-tag=\"filters-category-JN005\" value=\"JN005\">Finance (47)</option>\\n<option data-tag=\"filters-category-JN006\" value=\"JN006\">General Business (9)</option>\\n<option data-tag=\"filters-category-JN023\" value=\"JN023\">Health Care (13)</option>\\n<option data-tag=\"filters-category-JN040\" value=\"JN040\">Hospitality - Hotel (3)</option>\\n<option data-tag=\"filters-category-JN007\" value=\"JN007\">Human Resources (9)</option>\\n<option data-tag=\"filters-category-JN008\" value=\"JN008\">Information Technology (162)</option>\\n<option data-tag=\"filters-category-JN034\" value=\"JN034\">Insurance (5)</option>\\n<option data-tag=\"filters-category-JN015\" value=\"JN015\">Inventory (4)</option>\\n<option data-tag=\"filters-category-JN030\" value=\"JN030\">Legal (8)</option>\\n<option data-tag=\"filters-category-JN041\" value=\"JN041\">Legal Admin (2)</option>\\n<option data-tag=\"filters-category-JN037\" value=\"JN037\">Management (78)</option>\\n<option data-tag=\"filters-category-JN029\" value=\"JN029\">Manufacturing (12)</option>\\n<option data-tag=\"filters-category-JN009\" value=\"JN009\">Marketing (14)</option>\\n<option data-tag=\"filters-category-JN050\" value=\"JN050\">Nurse (8)</option>\\n<option data-tag=\"filters-category-JN010\" value=\"JN010\">Other (45)</option>\\n<option data-tag=\"filters-category-JN024\" value=\"JN024\">Professional Services (98)</option>\\n<option data-tag=\"filters-category-JN016\" value=\"JN016\">Purchasing - Procurement (2)</option>\\n<option data-tag=\"filters-category-JN025\" value=\"JN025\">QA - Quality Control (16)</option>\\n<option data-tag=\"filters-category-JN057\" value=\"JN057\">Real Estate (3)</option>\\n<option data-tag=\"filters-category-JN026\" value=\"JN026\">Research (5)</option>\\n<option data-tag=\"filters-category-JN035\" value=\"JN035\">Restaurant - Food Service (3)</option>\\n<option data-tag=\"filters-category-JN033\" value=\"JN033\">Retail (3)</option>\\n<option data-tag=\"filters-category-JN011\" value=\"JN011\">Sales (16)</option>\\n<option data-tag=\"filters-category-JN012\" value=\"JN012\">Science (4)</option>\\n<option data-tag=\"filters-category-JN013\" value=\"JN013\">Skilled Labor - Trades (4)</option>\\n<option data-tag=\"filters-category-JN028\" value=\"JN028\">Strategy - Planning (5)</option>\\n<option data-tag=\"filters-category-JN014\" value=\"JN014\">Supply Chain (2)</option>\\n</select>\\n<label class=\"accessibility-hide-text\" for=\"cat2\">\\nCategory\\n</label>\\n<select id=\"cat2\" name=\"cat2\">\\n<option value=\"\">Select</option>\\n<option data-tag=\"filters-category-JN001\" value=\"JN001\">Accounting (56)</option>\\n<option data-tag=\"filters-category-JN002\" value=\"JN002\">Admin - Clerical (17)</option>\\n<option data-tag=\"filters-category-JN054\" value=\"JN054\">Automotive (8)</option>\\n<option data-tag=\"filters-category-JN038\" value=\"JN038\">Banking (9)</option>\\n<option data-tag=\"filters-category-JN019\" value=\"JN019\">Business Development (10)</option>\\n<option data-tag=\"filters-category-JN043\" value=\"JN043\">Construction (4)</option>\\n<option data-tag=\"filters-category-JN020\" value=\"JN020\">Consultant (5)</option>\\n<option data-tag=\"filters-category-JN003\" value=\"JN003\">Customer Service (17)</option>\\n<option data-tag=\"filters-category-JN021\" value=\"JN021\">Design (58)</option>\\n<option data-tag=\"filters-category-JN027\" value=\"JN027\">Distribution - Shipping (2)</option>\\n<option data-tag=\"filters-category-JN004\" value=\"JN004\">Engineering (157)</option>\\n<option data-tag=\"filters-category-JN022\" value=\"JN022\">Entry Level (7)</option>\\n<option data-tag=\"filters-category-JN018\" value=\"JN018\">Executive (4)</option>\\n<option data-tag=\"filters-category-JN005\" value=\"JN005\">Finance (47)</option>\\n<option data-tag=\"filters-category-JN006\" value=\"JN006\">General Business (9)</option>\\n<option data-tag=\"filters-category-JN023\" value=\"JN023\">Health Care (13)</option>\\n<option data-tag=\"filters-category-JN040\" value=\"JN040\">Hospitality - Hotel (3)</option>\\n<option data-tag=\"filters-category-JN007\" value=\"JN007\">Human Resources (9)</option>\\n<option data-tag=\"filters-category-JN008\" value=\"JN008\">Information Technology (162)</option>\\n<option data-tag=\"filters-category-JN034\" value=\"JN034\">Insurance (5)</option>\\n<option data-tag=\"filters-category-JN015\" value=\"JN015\">Inventory (4)</option>\\n<option data-tag=\"filters-category-JN030\" value=\"JN030\">Legal (8)</option>\\n<option data-tag=\"filters-category-JN041\" value=\"JN041\">Legal Admin (2)</option>\\n<option data-tag=\"filters-category-JN037\" value=\"JN037\">Management (78)</option>\\n<option data-tag=\"filters-category-JN029\" value=\"JN029\">Manufacturing (12)</option>\\n<option data-tag=\"filters-category-JN009\" value=\"JN009\">Marketing (14)</option>\\n<option data-tag=\"filters-category-JN050\" value=\"JN050\">Nurse (8)</option>\\n<option data-tag=\"filters-category-JN010\" value=\"JN010\">Other (45)</option>\\n<option data-tag=\"filters-category-JN024\" value=\"JN024\">Professional Services (98)</option>\\n<option data-tag=\"filters-category-JN016\" value=\"JN016\">Purchasing - Procurement (2)</option>\\n<option data-tag=\"filters-category-JN025\" value=\"JN025\">QA - Quality Control (16)</option>\\n<option data-tag=\"filters-category-JN057\" value=\"JN057\">Real Estate (3)</option>\\n<option data-tag=\"filters-category-JN026\" value=\"JN026\">Research (5)</option>\\n<option data-tag=\"filters-category-JN035\" value=\"JN035\">Restaurant - Food Service (3)</option>\\n<option data-tag=\"filters-category-JN033\" value=\"JN033\">Retail (3)</option>\\n<option data-tag=\"filters-category-JN011\" value=\"JN011\">Sales (16)</option>\\n<option data-tag=\"filters-category-JN012\" value=\"JN012\">Science (4)</option>\\n<option data-tag=\"filters-category-JN013\" value=\"JN013\">Skilled Labor - Trades (4)</option>\\n<option data-tag=\"filters-category-JN028\" value=\"JN028\">Strategy - Planning (5)</option>\\n<option data-tag=\"filters-category-JN014\" value=\"JN014\">Supply Chain (2)</option>\\n</select>\\n<label class=\"accessibility-hide-text\" for=\"cat3\">\\nCategory\\n</label>\\n<select id=\"cat3\" name=\"cat3\">\\n<option value=\"\">Select</option>\\n<option data-tag=\"filters-category-JN001\" value=\"JN001\">Accounting (56)</option>\\n<option data-tag=\"filters-category-JN002\" value=\"JN002\">Admin - Clerical (17)</option>\\n<option data-tag=\"filters-category-JN054\" value=\"JN054\">Automotive (8)</option>\\n<option data-tag=\"filters-category-JN038\" value=\"JN038\">Banking (9)</option>\\n<option data-tag=\"filters-category-JN019\" value=\"JN019\">Business Development (10)</option>\\n<option data-tag=\"filters-category-JN043\" value=\"JN043\">Construction (4)</option>\\n<option data-tag=\"filters-category-JN020\" value=\"JN020\">Consultant (5)</option>\\n<option data-tag=\"filters-category-JN003\" value=\"JN003\">Customer Service (17)</option>\\n<option data-tag=\"filters-category-JN021\" value=\"JN021\">Design (58)</option>\\n<option data-tag=\"filters-category-JN027\" value=\"JN027\">Distribution - Shipping (2)</option>\\n<option data-tag=\"filters-category-JN004\" value=\"JN004\">Engineering (157)</option>\\n<option data-tag=\"filters-category-JN022\" value=\"JN022\">Entry Level (7)</option>\\n<option data-tag=\"filters-category-JN018\" value=\"JN018\">Executive (4)</option>\\n<option data-tag=\"filters-category-JN005\" value=\"JN005\">Finance (47)</option>\\n<option data-tag=\"filters-category-JN006\" value=\"JN006\">General Business (9)</option>\\n<option data-tag=\"filters-category-JN023\" value=\"JN023\">Health Care (13)</option>\\n<option data-tag=\"filters-category-JN040\" value=\"JN040\">Hospitality - Hotel (3)</option>\\n<option data-tag=\"filters-category-JN007\" value=\"JN007\">Human Resources (9)</option>\\n<option data-tag=\"filters-category-JN008\" value=\"JN008\">Information Technology (162)</option>\\n<option data-tag=\"filters-category-JN034\" value=\"JN034\">Insurance (5)</option>\\n<option data-tag=\"filters-category-JN015\" value=\"JN015\">Inventory (4)</option>\\n<option data-tag=\"filters-category-JN030\" value=\"JN030\">Legal (8)</option>\\n<option data-tag=\"filters-category-JN041\" value=\"JN041\">Legal Admin (2)</option>\\n<option data-tag=\"filters-category-JN037\" value=\"JN037\">Management (78)</option>\\n<option data-tag=\"filters-category-JN029\" value=\"JN029\">Manufacturing (12)</option>\\n<option data-tag=\"filters-category-JN009\" value=\"JN009\">Marketing (14)</option>\\n<option data-tag=\"filters-category-JN050\" value=\"JN050\">Nurse (8)</option>\\n<option data-tag=\"filters-category-JN010\" value=\"JN010\">Other (45)</option>\\n<option data-tag=\"filters-category-JN024\" value=\"JN024\">Professional Services (98)</option>\\n<option data-tag=\"filters-category-JN016\" value=\"JN016\">Purchasing - Procurement (2)</option>\\n<option data-tag=\"filters-category-JN025\" value=\"JN025\">QA - Quality Control (16)</option>\\n<option data-tag=\"filters-category-JN057\" value=\"JN057\">Real Estate (3)</option>\\n<option data-tag=\"filters-category-JN026\" value=\"JN026\">Research (5)</option>\\n<option data-tag=\"filters-category-JN035\" value=\"JN035\">Restaurant - Food Service (3)</option>\\n<option data-tag=\"filters-category-JN033\" value=\"JN033\">Retail (3)</option>\\n<option data-tag=\"filters-category-JN011\" value=\"JN011\">Sales (16)</option>\\n<option data-tag=\"filters-category-JN012\" value=\"JN012\">Science (4)</option>\\n<option data-tag=\"filters-category-JN013\" value=\"JN013\">Skilled Labor - Trades (4)</option>\\n<option data-tag=\"filters-category-JN028\" value=\"JN028\">Strategy - Planning (5)</option>\\n<option data-tag=\"filters-category-JN014\" value=\"JN014\">Supply Chain (2)</option>\\n</select>\\n</fieldset>\\n</dd>\\n<div class=\"simple-filter\">\\nCareerBuilder Apply Only\\n<div class=\"cb-apply-only-toggle toggle-section\">\\n<input class=\"slide-toggle cb-apply-toggle\" data-tag=\"filters-cb-apply-only\" id=\"cb-only\" type=\"checkbox\"/>\\n<label data-off=\"NO\" data-on=\"YES\" for=\"cb-only\"></label>\\n</div>\\n<input id=\"cb_apply\" name=\"cb_apply\" type=\"hidden\" value=\"false\"/>\\n</div>\\n</dl>\\n</div>\\n<div class=\"row\">\\n<div class=\"small-6 hide-for-large-up columns\">\\n<input class=\"btn\" id=\"btn-apply-filter\" type=\"submit\" value=\"Done\"/>\\n</div>\\n<div class=\"small-6 hide-for-large-up columns\">\\n<button class=\"btn negative\" id=\"btn-close-filter\">\\nCancel\\n</button>\\n</div>\\n</div>\\n<div class=\"row\">\\n<div class=\"side-ad-container\">\\n<div class=\"show-for-large-up large-12 columns\">\\n<div class=\"side-ad\"></div>\\n<h5>\\nADVERTISEMENT\\n</h5>\\n</div>\\n</div>\\n</div>\\n</form>\\n</div>\\n</div>\\n<div class=\"small-12 large-10 columns\">\\n<div class=\"results-area\">\\n<div class=\"job-list card\" data-count=\"25\">\\n<div class=\"show-for-large-up sort-by\" id=\"sort-links\">\\n<div class=\"sorting-options\">\\nSort By:\\n<a class=\"selected-sort-option\" href=\"/jobs-data-in-los-angeles?pay=20&amp;sort=relevance_desc\">Relevance</a>\\n|\\n<a href=\"/jobs-data-in-los-angeles?pay=20&amp;sort=date_desc\">Date</a>\\n|\\n<a href=\"/jobs-data-in-los-angeles?pay=20&amp;sort=company_asc\">Company</a>\\n|\\n<a href=\"/jobs-data-in-los-angeles?pay=20&amp;sort=distance_asc\">Distance</a>\\n</div>\\n</div>\\n<div class=\"jobs\">\\n<div class=\"job-row\">\\n<div class=\"row\">\\n<div class=\"column\">\\n<div class=\"cb-apply-indicator\">CAREERBUILDER APPLY</div>\\n</div>\\n</div>\\n<div class=\"row\">\\n<div class=\"column small-10\">\\n<h2 class=\"job-title\">\\n<a data-company-did=\"chq0vp6bknrr4w2y7pw\" data-gtm=\"jrp-job-list|job-title-click|1\" data-job-did=\"J3F4996D370B8GMVSJL\" href=\"/job/J3F4996D370B8GMVSJL?ipath=JRG1&amp;searchid=d79be209-3212-4e49-a010-9ae80bf5abe8&amp;siteid=cbnsv\">Python Engineer - Love For Data - 99% WORK FROM HOME!</a>\\n</h2>\\n</div>\\n<div class=\"column small-2 time-posted\">\\n<div class=\"hide-for-medium-up\">\\n2d\\n</div>\\n<div class=\"show-for-medium-up\">\\n<em>\\n1 day ago\\n</em>\\n</div>\\n</div>\\n</div>\\n<div class=\"row job-information\">\\n<div class=\"columns medium-6\">\\n<h4 class=\"job-text employment-info\">\\nFull-Time | Pay: $100k - $140k/year\\n</h4>\\n<div class=\"job-description show-for-medium-up\">\\nThis position is open as of 7/3/2016. Python Engineer - Love For Data! We are a data-driven web company whose technologies are used by thousands of companies to increase marketing campaign exposure, reach normally unreachable audiences, and keep their bra\\n</div>\\n</div>\\n<div class=\"columns small-12 medium-3\">\\n<h4 class=\"job-text\">\\n<a data-company-did=\"chq0vp6bknrr4w2y7pw\" data-gtm=\"jrp-job-list|company-click|1\" data-job-did=\"J3F4996D370B8GMVSJL\" href=\"/company/chq0vp6bknrr4w2y7pw?ipath=JRG1\">CyberCoders</a>\\n</h4>\\n</div>\\n<div class=\"columns small-12 medium-3 end\">\\n<h4 class=\"job-text\">\\nLos Angeles, CA\\n</h4>\\n<h4 class=\"job-distance\">\\n5 miles\\n\\n</h4>\\n</div>\\n</div>\\n<div class=\"row user-actions\">\\n<div class=\"small-12 columns job-actions\" data-job-did=\"J3F4996D370B8GMVSJL\">\\n<span class=\"loading save-job\">\\n<a href=\"#\">\\n<span class=\"fa fa-star-o\"></span>\\nSave Job\\n</a>\\n</span>\\n<span class=\"hide saved-job\" js='{:id=&gt;\"\"}'>\\n<a class=\"saved-job-text\" href=\"#\">\\n<span class=\"fa fa-star\"></span>\\nSaved Job\\n</a>\\n<a href=\"/saved-jobs\">(View Saved Jobs)</a>\\n</span>\\n<a class=\"email-job-jrp\" data-gtm=\"jrp-job-list|email-link\" data-job-did=\"J3F4996D370B8GMVSJL\" href=\"#\">\\n<span class=\"fa fa-envelope\"></span>\\nEmail Job\\n</a>\\n</div>\\n</div>\\n</div>\\n<div class=\"job-row\">\\n<div class=\"row\">\\n<div class=\"column\">\\n<div class=\"cb-apply-indicator\">CAREERBUILDER APPLY</div>\\n</div>\\n</div>\\n<div class=\"row\">\\n<div class=\"column small-10\">\\n<h2 class=\"job-title\">\\n<a data-company-did=\"chq0vp6bknrr4w2y7pw\" data-gtm=\"jrp-job-list|job-title-click|2\" data-job-did=\"J3K4PV6L7R54K2LKKMH\" href=\"/job/J3K4PV6L7R54K2LKKMH?ipath=JRG2&amp;searchid=d79be209-3212-4e49-a010-9ae80bf5abe8&amp;siteid=cbnsv\">Variable Data Programmer - XMPie</a>\\n</h2>\\n</div>\\n<div class=\"column small-2 time-posted\">\\n<div class=\"hide-for-medium-up\">\\n3d\\n</div>\\n<div class=\"show-for-medium-up\">\\n<em>\\n3 days ago\\n</em>\\n</div>\\n</div>\\n</div>\\n<div class=\"row job-information\">\\n<div class=\"columns medium-6\">\\n<h4 class=\"job-text employment-info\">\\nFull-Time | Pay: $85k - $110k/year\\n</h4>\\n<div class=\"job-description show-for-medium-up\">\\nThis position is open as of 7/3/2016. Variable Data Programmer - XMPie If you are a VDP Programmer with XMPie experience, please read on! Title: Variable Data Print Programmer Alt title: VDP Programmer Location: San Francisco -- WE WILL RELO! Salary: $85k\\n</div>\\n</div>\\n<div class=\"columns small-12 medium-3\">\\n<h4 class=\"job-text\">\\n<a data-company-did=\"chq0vp6bknrr4w2y7pw\" data-gtm=\"jrp-job-list|company-click|2\" data-job-did=\"J3K4PV6L7R54K2LKKMH\" href=\"/company/chq0vp6bknrr4w2y7pw?ipath=JRG2\">CyberCoders</a>\\n</h4>\\n</div>\\n<div class=\"columns small-12 medium-3 end\">\\n<h4 class=\"job-text\">\\nLos Angeles, CA\\n</h4>\\n<h4 class=\"job-distance\">\\n5 miles\\n\\n</h4>\\n</div>\\n</div>\\n<div class=\"row user-actions\">\\n<div class=\"small-12 columns job-actions\" data-job-did=\"J3K4PV6L7R54K2LKKMH\">\\n<span class=\"loading save-job\">\\n<a href=\"#\">\\n<span class=\"fa fa-star-o\"></span>\\nSave Job\\n</a>\\n</span>\\n<span class=\"hide saved-job\" js='{:id=&gt;\"\"}'>\\n<a class=\"saved-job-text\" href=\"#\">\\n<span class=\"fa fa-star\"></span>\\nSaved Job\\n</a>\\n<a href=\"/saved-jobs\">(View Saved Jobs)</a>\\n</span>\\n<a class=\"email-job-jrp\" data-gtm=\"jrp-job-list|email-link\" data-job-did=\"J3K4PV6L7R54K2LKKMH\" href=\"#\">\\n<span class=\"fa fa-envelope\"></span>\\nEmail Job\\n</a>\\n</div>\\n</div>\\n</div>\\n<div class=\"job-row\">\\n<div class=\"row\">\\n<div class=\"column\">\\n<div class=\"cb-apply-indicator\">CAREERBUILDER APPLY</div>\\n</div>\\n</div>\\n<div class=\"row\">\\n<div class=\"column small-10\">\\n<h2 class=\"job-title\">\\n<a data-company-did=\"chq0vp6bknrr4w2y7pw\" data-gtm=\"jrp-job-list|job-title-click|3\" data-job-did=\"J3K6Y869JKBPLZ6LCL7\" href=\"/job/J3K6Y869JKBPLZ6LCL7?ipath=JRG3&amp;searchid=d79be209-3212-4e49-a010-9ae80bf5abe8&amp;siteid=cbnsv\">Data Pipeline Engineer</a>\\n</h2>\\n</div>\\n<div class=\"column small-2 time-posted\">\\n<div class=\"hide-for-medium-up\">\\n4d\\n</div>\\n<div class=\"show-for-medium-up\">\\n<em>\\n4 days ago\\n</em>\\n</div>\\n</div>\\n</div>\\n<div class=\"row job-information\">\\n<div class=\"columns medium-6\">\\n<h4 class=\"job-text employment-info\">\\nFull-Time | Pay: $100k - $150k/year\\n</h4>\\n<div class=\"job-description show-for-medium-up\">\\nThis position is open as of 7/3/2016. Data Pipeline Engineer - Will Relocate Are you a Data Pipeline Engineer with a passion for startup life? If so, read on... We're headquartered in the emerging Downtown LA startup scene! We're backed by the same folks\\n</div>\\n</div>\\n<div class=\"columns small-12 medium-3\">\\n<h4 class=\"job-text\">\\n<a data-company-did=\"chq0vp6bknrr4w2y7pw\" data-gtm=\"jrp-job-list|company-click|3\" data-job-did=\"J3K6Y869JKBPLZ6LCL7\" href=\"/company/chq0vp6bknrr4w2y7pw?ipath=JRG3\">CyberCoders</a>\\n</h4>\\n</div>\\n<div class=\"columns small-12 medium-3 end\">\\n<h4 class=\"job-text\">\\nLos Angeles, CA\\n</h4>\\n<h4 class=\"job-distance\">\\n5 miles\\n\\n</h4>\\n</div>\\n</div>\\n<div class=\"row user-actions\">\\n<div class=\"small-12 columns job-actions\" data-job-did=\"J3K6Y869JKBPLZ6LCL7\">\\n<span class=\"loading save-job\">\\n<a href=\"#\">\\n<span class=\"fa fa-star-o\"></span>\\nSave Job\\n</a>\\n</span>\\n<span class=\"hide saved-job\" js='{:id=&gt;\"\"}'>\\n<a class=\"saved-job-text\" href=\"#\">\\n<span class=\"fa fa-star\"></span>\\nSaved Job\\n</a>\\n<a href=\"/saved-jobs\">(View Saved Jobs)</a>\\n</span>\\n<a class=\"email-job-jrp\" data-gtm=\"jrp-job-list|email-link\" data-job-did=\"J3K6Y869JKBPLZ6LCL7\" href=\"#\">\\n<span class=\"fa fa-envelope\"></span>\\nEmail Job\\n</a>\\n</div>\\n</div>\\n</div>\\n<div class=\"job-row\">\\n<div class=\"row\">\\n<div class=\"column\">\\n<div class=\"cb-apply-indicator\">CAREERBUILDER APPLY</div>\\n</div>\\n</div>\\n<div class=\"row\">\\n<div class=\"column small-10\">\\n<h2 class=\"job-title\">\\n<a data-company-did=\"chq0vp6bknrr4w2y7pw\" data-gtm=\"jrp-job-list|job-title-click|4\" data-job-did=\"J3L4CV64HS2TG3Z5X9F\" href=\"/job/J3L4CV64HS2TG3Z5X9F?ipath=JRG4&amp;searchid=d79be209-3212-4e49-a010-9ae80bf5abe8&amp;siteid=cbnsv\">Senior Data Scientist</a>\\n</h2>\\n</div>\\n<div class=\"column small-2 time-posted\">\\n<div class=\"hide-for-medium-up\">\\n5d\\n</div>\\n<div class=\"show-for-medium-up\">\\n<em>\\n5 days ago\\n</em>\\n</div>\\n</div>\\n</div>\\n<div class=\"row job-information\">\\n<div class=\"columns medium-6\">\\n<h4 class=\"job-text employment-info\">\\nFull-Time | Pay: $140k - $175k/year\\n</h4>\\n<div class=\"job-description show-for-medium-up\">\\nThis position is open as of 7/3/2016. Senior Data Scientist for Powerful Marketing Analytics Platform! If you are a Senior level Data Scientist (Willing to move to SF) , please read on! Our next-gen data platform provides key access to customer data, unlo\\n</div>\\n</div>\\n<div class=\"columns small-12 medium-3\">\\n<h4 class=\"job-text\">\\n<a data-company-did=\"chq0vp6bknrr4w2y7pw\" data-gtm=\"jrp-job-list|company-click|4\" data-job-did=\"J3L4CV64HS2TG3Z5X9F\" href=\"/company/chq0vp6bknrr4w2y7pw?ipath=JRG4\">CyberCoders</a>\\n</h4>\\n</div>\\n<div class=\"columns small-12 medium-3 end\">\\n<h4 class=\"job-text\">\\nLos Angeles, CA\\n</h4>\\n<h4 class=\"job-distance\">\\n5 miles\\n<h4>\\n<a class=\"company-collapse-link\" data-company-did=\"chq0vp6bknrr4w2y7pw\" data-gtm=\"jrp-job-list|more-company-jobs|4\" data-job-did=\"J3L4CV64HS2TG3Z5X9F\" href=\"/jobs-data-in-los-angeles?company_name=CyberCoders&amp;grouping_value=8f1af979b221566bdccc3e24ad8e1caa&amp;pay=20&amp;sort=distance_asc\">View 1 more</a>\\n</h4>\\n</h4>\\n</div>\\n</div>\\n<div class=\"row user-actions\">\\n<div class=\"small-12 columns job-actions\" data-job-did=\"J3L4CV64HS2TG3Z5X9F\">\\n<span class=\"loading save-job\">\\n<a href=\"#\">\\n<span class=\"fa fa-star-o\"></span>\\nSave Job\\n</a>\\n</span>\\n<span class=\"hide saved-job\" js='{:id=&gt;\"\"}'>\\n<a class=\"saved-job-text\" href=\"#\">\\n<span class=\"fa fa-star\"></span>\\nSaved Job\\n</a>\\n<a href=\"/saved-jobs\">(View Saved Jobs)</a>\\n</span>\\n<a class=\"email-job-jrp\" data-gtm=\"jrp-job-list|email-link\" data-job-did=\"J3L4CV64HS2TG3Z5X9F\" href=\"#\">\\n<span class=\"fa fa-envelope\"></span>\\nEmail Job\\n</a>\\n</div>\\n</div>\\n</div>\\n<div class=\"job-row\">\\n<div class=\"row\">\\n<div class=\"column\">\\n<div class=\"cb-apply-indicator\">CAREERBUILDER APPLY</div>\\n</div>\\n</div>\\n<div class=\"row\">\\n<div class=\"column small-10\">\\n<h2 class=\"job-title\">\\n<a data-company-did=\"chq0vp6bknrr4w2y7pw\" data-gtm=\"jrp-job-list|job-title-click|5\" data-job-did=\"J3J21265XDRCVZB1MSS\" href=\"/job/J3J21265XDRCVZB1MSS?ipath=JRG5&amp;searchid=d79be209-3212-4e49-a010-9ae80bf5abe8&amp;siteid=cbnsv\">Sr. Software Engineer - Java/j2ee</a>\\n</h2>\\n</div>\\n<div class=\"column small-2 time-posted\">\\n<div class=\"hide-for-medium-up\">\\n6d\\n</div>\\n<div class=\"show-for-medium-up\">\\n<em>\\n6 days ago\\n</em>\\n</div>\\n</div>\\n</div>\\n<div class=\"row job-information\">\\n<div class=\"columns medium-6\">\\n<h4 class=\"job-text employment-info\">\\nFull-Time | Pay: $120k - $150k/year\\n</h4>\\n<div class=\"job-description show-for-medium-up\">\\nThis position is open as of 7/3/2016. Lead Dev/Hands on Manager/Architect - Core Banking Located in Los Angeles, CA , we are a well funded start up with a healthy growth curve. We are looking for a Lead Dev/Hands on Manager/Architect with core banking, fi\\n</div>\\n</div>\\n<div class=\"columns small-12 medium-3\">\\n<h4 class=\"job-text\">\\n<a data-company-did=\"chq0vp6bknrr4w2y7pw\" data-gtm=\"jrp-job-list|company-click|5\" data-job-did=\"J3J21265XDRCVZB1MSS\" href=\"/company/chq0vp6bknrr4w2y7pw?ipath=JRG5\">CyberCoders</a>\\n</h4>\\n</div>\\n<div class=\"columns small-12 medium-3 end\">\\n<h4 class=\"job-text\">\\nLos Angeles, CA\\n</h4>\\n<h4 class=\"job-distance\">\\n3 miles\\n<h4>\\n<a class=\"company-collapse-link\" data-company-did=\"chq0vp6bknrr4w2y7pw\" data-gtm=\"jrp-job-list|more-company-jobs|5\" data-job-did=\"J3J21265XDRCVZB1MSS\" href=\"/jobs-data-in-los-angeles?company_name=CyberCoders&amp;grouping_value=6f34c9375ca1258bd25f25ecbf0692a9&amp;pay=20&amp;sort=distance_asc\">View 18 more</a>\\n</h4>\\n</h4>\\n</div>\\n</div>\\n<div class=\"row user-actions\">\\n<div class=\"small-12 columns job-actions\" data-job-did=\"J3J21265XDRCVZB1MSS\">\\n<span class=\"loading save-job\">\\n<a href=\"#\">\\n<span class=\"fa fa-star-o\"></span>\\nSave Job\\n</a>\\n</span>\\n<span class=\"hide saved-job\" js='{:id=&gt;\"\"}'>\\n<a class=\"saved-job-text\" href=\"#\">\\n<span class=\"fa fa-star\"></span>\\nSaved Job\\n</a>\\n<a href=\"/saved-jobs\">(View Saved Jobs)</a>\\n</span>\\n<a class=\"email-job-jrp\" data-gtm=\"jrp-job-list|email-link\" data-job-did=\"J3J21265XDRCVZB1MSS\" href=\"#\">\\n<span class=\"fa fa-envelope\"></span>\\nEmail Job\\n</a>\\n</div>\\n</div>\\n</div>\\n<div class=\"job-row\">\\n<div class=\"top-ad-container\">\\n<div class=\"show-for-medium-up\">\\n<div class=\"top-ad center-text\"></div>\\n<h5 class=\"center-text\">\\nADVERTISEMENT\\n</h5>\\n<hr/>\\n</div>\\n</div>\\n<div class=\"row\">\\n<div class=\"column\">\\n<div class=\"cb-apply-indicator\">CAREERBUILDER APPLY</div>\\n</div>\\n</div>\\n<div class=\"row\">\\n<div class=\"column small-10\">\\n<h2 class=\"job-title\">\\n<a data-company-did=\"chq0vp6bknrr4w2y7pw\" data-gtm=\"jrp-job-list|job-title-click|6\" data-job-did=\"J3G2JY73GG8DJ8YZY73\" href=\"/job/J3G2JY73GG8DJ8YZY73?ipath=JRG6&amp;searchid=d79be209-3212-4e49-a010-9ae80bf5abe8&amp;siteid=cbnsv\">Senior DevOps Engineer - large-scale data networks</a>\\n</h2>\\n</div>\\n<div class=\"column small-2 time-posted\">\\n<div class=\"hide-for-medium-up\">\\n4d\\n</div>\\n<div class=\"show-for-medium-up\">\\n<em>\\n4 days ago\\n</em>\\n</div>\\n</div>\\n</div>\\n<div class=\"row job-information\">\\n<div class=\"columns medium-6\">\\n<h4 class=\"job-text employment-info\">\\nFull-Time | Pay: $150k - $200k/year\\n</h4>\\n<div class=\"job-description show-for-medium-up\">\\nThis position is open as of 7/3/2016. Senior DevOps Engineer - popular social app! If you are a Senior DevOps Engineer with at least 5 years of experience working with large scale data networks, please read on! Headquartered in the heart of Hollywood, CA,\\n</div>\\n</div>\\n<div class=\"columns small-12 medium-3\">\\n<h4 class=\"job-text\">\\n<a data-company-did=\"chq0vp6bknrr4w2y7pw\" data-gtm=\"jrp-job-list|company-click|6\" data-job-did=\"J3G2JY73GG8DJ8YZY73\" href=\"/company/chq0vp6bknrr4w2y7pw?ipath=JRG6\">CyberCoders</a>\\n</h4>\\n</div>\\n<div class=\"columns small-12 medium-3 end\">\\n<h4 class=\"job-text\">\\nLos Angeles, CA\\n</h4>\\n<h4 class=\"job-distance\">\\n5 miles\\n\\n</h4>\\n</div>\\n</div>\\n<div class=\"row user-actions\">\\n<div class=\"small-12 columns job-actions\" data-job-did=\"J3G2JY73GG8DJ8YZY73\">\\n<span class=\"loading save-job\">\\n<a href=\"#\">\\n<span class=\"fa fa-star-o\"></span>\\nSave Job\\n</a>\\n</span>\\n<span class=\"hide saved-job\" js='{:id=&gt;\"\"}'>\\n<a class=\"saved-job-text\" href=\"#\">\\n<span class=\"fa fa-star\"></span>\\nSaved Job\\n</a>\\n<a href=\"/saved-jobs\">(View Saved Jobs)</a>\\n</span>\\n<a class=\"email-job-jrp\" data-gtm=\"jrp-job-list|email-link\" data-job-did=\"J3G2JY73GG8DJ8YZY73\" href=\"#\">\\n<span class=\"fa fa-envelope\"></span>\\nEmail Job\\n</a>\\n</div>\\n</div>\\n</div>\\n<div class=\"job-row\">\\n<div class=\"row\">\\n<div class=\"column\">\\n<div class=\"cb-apply-indicator\">CAREERBUILDER APPLY</div>\\n</div>\\n</div>\\n<div class=\"row\">\\n<div class=\"column small-10\">\\n<h2 class=\"job-title\">\\n<a data-company-did=\"chq0vp6bknrr4w2y7pw\" data-gtm=\"jrp-job-list|job-title-click|7\" data-job-did=\"J3K1BH69ZSC33SCTJ35\" href=\"/job/J3K1BH69ZSC33SCTJ35?ipath=JRG7&amp;searchid=d79be209-3212-4e49-a010-9ae80bf5abe8&amp;siteid=cbnsv\">Director of Data Science</a>\\n</h2>\\n</div>\\n<div class=\"column small-2 time-posted\">\\n<div class=\"hide-for-medium-up\">\\n6d\\n</div>\\n<div class=\"show-for-medium-up\">\\n<em>\\n6 days ago\\n</em>\\n</div>\\n</div>\\n</div>\\n<div class=\"row job-information\">\\n<div class=\"columns medium-6\">\\n<h4 class=\"job-text employment-info\">\\nFull-Time | Pay: $150k - $250k/year\\n</h4>\\n<div class=\"job-description show-for-medium-up\">\\nThis position is open as of 7/3/2016. Director of Data Science \\u2022\\u2022Will relocate the right candidate\\u2022\\u2022 Are you a Director of Data Science with strong analytics, machine learning, statistics background? If so, read on... \\u2022\\u2022\\u2022\\u2022 Please note we will offer reloca\\n</div>\\n</div>\\n<div class=\"columns small-12 medium-3\">\\n<h4 class=\"job-text\">\\n<a data-company-did=\"chq0vp6bknrr4w2y7pw\" data-gtm=\"jrp-job-list|company-click|7\" data-job-did=\"J3K1BH69ZSC33SCTJ35\" href=\"/company/chq0vp6bknrr4w2y7pw?ipath=JRG7\">CyberCoders</a>\\n</h4>\\n</div>\\n<div class=\"columns small-12 medium-3 end\">\\n<h4 class=\"job-text\">\\nCulver City, CA\\n</h4>\\n<h4 class=\"job-distance\">\\n9 miles\\n<h4>\\n<a class=\"company-collapse-link\" data-company-did=\"chq0vp6bknrr4w2y7pw\" data-gtm=\"jrp-job-list|more-company-jobs|7\" data-job-did=\"J3K1BH69ZSC33SCTJ35\" href=\"/jobs-data-in-los-angeles?company_name=CyberCoders&amp;grouping_value=c1dae508650a7b7da6352ae52ff8070c&amp;pay=20&amp;sort=distance_asc\">View 1 more</a>\\n</h4>\\n</h4>\\n</div>\\n</div>\\n<div class=\"row user-actions\">\\n<div class=\"small-12 columns job-actions\" data-job-did=\"J3K1BH69ZSC33SCTJ35\">\\n<span class=\"loading save-job\">\\n<a href=\"#\">\\n<span class=\"fa fa-star-o\"></span>\\nSave Job\\n</a>\\n</span>\\n<span class=\"hide saved-job\" js='{:id=&gt;\"\"}'>\\n<a class=\"saved-job-text\" href=\"#\">\\n<span class=\"fa fa-star\"></span>\\nSaved Job\\n</a>\\n<a href=\"/saved-jobs\">(View Saved Jobs)</a>\\n</span>\\n<a class=\"email-job-jrp\" data-gtm=\"jrp-job-list|email-link\" data-job-did=\"J3K1BH69ZSC33SCTJ35\" href=\"#\">\\n<span class=\"fa fa-envelope\"></span>\\nEmail Job\\n</a>\\n</div>\\n</div>\\n</div>\\n<div class=\"job-row\">\\n<div class=\"row\">\\n<div class=\"column\">\\n<div class=\"cb-apply-indicator\">CAREERBUILDER APPLY</div>\\n</div>\\n</div>\\n<div class=\"row\">\\n<div class=\"column small-10\">\\n<h2 class=\"job-title\">\\n<a data-company-did=\"chq0vp6bknrr4w2y7pw\" data-gtm=\"jrp-job-list|job-title-click|8\" data-job-did=\"J3J1JV6C5TJDNV3Y5L4\" href=\"/job/J3J1JV6C5TJDNV3Y5L4?ipath=JRG8&amp;searchid=d79be209-3212-4e49-a010-9ae80bf5abe8&amp;siteid=cbnsv\">Data Warehouse Architect **Will relocate the right candidate**</a>\\n</h2>\\n</div>\\n<div class=\"column small-2 time-posted\">\\n<div class=\"hide-for-medium-up\">\\n6d\\n</div>\\n<div class=\"show-for-medium-up\">\\n<em>\\n6 days ago\\n</em>\\n</div>\\n</div>\\n</div>\\n<div class=\"row job-information\">\\n<div class=\"columns medium-6\">\\n<h4 class=\"job-text employment-info\">\\nFull-Time | Pay: $130k - $175k/year\\n</h4>\\n<div class=\"job-description show-for-medium-up\">\\nThis position is open as of 7/3/2016. Big Data Engineer - Hadoop - Culver City Are you a Data Warehouse Architect experienced with Big Data and Hadoop platforms or strong in Java and/or Python? If so, read on... \\u2022\\u2022\\u2022\\u2022 Please note we will offer relocation t\\n</div>\\n</div>\\n<div class=\"columns small-12 medium-3\">\\n<h4 class=\"job-text\">\\n<a data-company-did=\"chq0vp6bknrr4w2y7pw\" data-gtm=\"jrp-job-list|company-click|8\" data-job-did=\"J3J1JV6C5TJDNV3Y5L4\" href=\"/company/chq0vp6bknrr4w2y7pw?ipath=JRG8\">CyberCoders</a>\\n</h4>\\n</div>\\n<div class=\"columns small-12 medium-3 end\">\\n<h4 class=\"job-text\">\\nCulver City, CA\\n</h4>\\n<h4 class=\"job-distance\">\\n9 miles\\n\\n</h4>\\n</div>\\n</div>\\n<div class=\"row user-actions\">\\n<div class=\"small-12 columns job-actions\" data-job-did=\"J3J1JV6C5TJDNV3Y5L4\">\\n<span class=\"loading save-job\">\\n<a href=\"#\">\\n<span class=\"fa fa-star-o\"></span>\\nSave Job\\n</a>\\n</span>\\n<span class=\"hide saved-job\" js='{:id=&gt;\"\"}'>\\n<a class=\"saved-job-text\" href=\"#\">\\n<span class=\"fa fa-star\"></span>\\nSaved Job\\n</a>\\n<a href=\"/saved-jobs\">(View Saved Jobs)</a>\\n</span>\\n<a class=\"email-job-jrp\" data-gtm=\"jrp-job-list|email-link\" data-job-did=\"J3J1JV6C5TJDNV3Y5L4\" href=\"#\">\\n<span class=\"fa fa-envelope\"></span>\\nEmail Job\\n</a>\\n</div>\\n</div>\\n</div>\\n<div class=\"job-row\">\\n<div class=\"row\">\\n<div class=\"column\">\\n<div class=\"cb-apply-indicator\">CAREERBUILDER APPLY</div>\\n</div>\\n</div>\\n<div class=\"row\">\\n<div class=\"column small-10\">\\n<h2 class=\"job-title\">\\n<a data-company-did=\"chq0vp6bknrr4w2y7pw\" data-gtm=\"jrp-job-list|job-title-click|9\" data-job-did=\"J3F6R76V6BPFHG901J8\" href=\"/job/J3F6R76V6BPFHG901J8?ipath=JRG9&amp;searchid=d79be209-3212-4e49-a010-9ae80bf5abe8&amp;siteid=cbnsv\">Senior Data Warehouse Engineer- SSAS and MDX</a>\\n</h2>\\n</div>\\n<div class=\"column small-2 time-posted\">\\n<div class=\"hide-for-medium-up\">\\n6d\\n</div>\\n<div class=\"show-for-medium-up\">\\n<em>\\n6 days ago\\n</em>\\n</div>\\n</div>\\n</div>\\n<div class=\"row job-information\">\\n<div class=\"columns medium-6\">\\n<h4 class=\"job-text employment-info\">\\nFull-Time | Pay: $120k - $150k/year\\n</h4>\\n<div class=\"job-description show-for-medium-up\">\\nThis position is open as of 7/3/2016. Data Warehouse Engineer with MDX, SSAS- Publicly Traded Internet Company We are publicly traded and have a surprisingly low rate of attrition! Due to continued success we are currently looking to add to our engineerin\\n</div>\\n</div>\\n<div class=\"columns small-12 medium-3\">\\n<h4 class=\"job-text\">\\n<a data-company-did=\"chq0vp6bknrr4w2y7pw\" data-gtm=\"jrp-job-list|company-click|9\" data-job-did=\"J3F6R76V6BPFHG901J8\" href=\"/company/chq0vp6bknrr4w2y7pw?ipath=JRG9\">CyberCoders</a>\\n</h4>\\n</div>\\n<div class=\"columns small-12 medium-3 end\">\\n<h4 class=\"job-text\">\\nLos Angeles, CA\\n</h4>\\n<h4 class=\"job-distance\">\\n10 miles\\n\\n</h4>\\n</div>\\n</div>\\n<div class=\"row user-actions\">\\n<div class=\"small-12 columns job-actions\" data-job-did=\"J3F6R76V6BPFHG901J8\">\\n<span class=\"loading save-job\">\\n<a href=\"#\">\\n<span class=\"fa fa-star-o\"></span>\\nSave Job\\n</a>\\n</span>\\n<span class=\"hide saved-job\" js='{:id=&gt;\"\"}'>\\n<a class=\"saved-job-text\" href=\"#\">\\n<span class=\"fa fa-star\"></span>\\nSaved Job\\n</a>\\n<a href=\"/saved-jobs\">(View Saved Jobs)</a>\\n</span>\\n<a class=\"email-job-jrp\" data-gtm=\"jrp-job-list|email-link\" data-job-did=\"J3F6R76V6BPFHG901J8\" href=\"#\">\\n<span class=\"fa fa-envelope\"></span>\\nEmail Job\\n</a>\\n</div>\\n</div>\\n</div>\\n<div class=\"job-row\">\\n<div class=\"row\">\\n<div class=\"column\">\\n<div class=\"cb-apply-indicator\">CAREERBUILDER APPLY</div>\\n</div>\\n</div>\\n<div class=\"row\">\\n<div class=\"column small-10\">\\n<h2 class=\"job-title\">\\n<a data-company-did=\"chq0vp6bknrr4w2y7pw\" data-gtm=\"jrp-job-list|job-title-click|10\" data-job-did=\"J3J5X56NR5HS591J2TT\" href=\"/job/J3J5X56NR5HS591J2TT?ipath=JRG10&amp;searchid=d79be209-3212-4e49-a010-9ae80bf5abe8&amp;siteid=cbnsv\">Big Data Engineer</a>\\n</h2>\\n</div>\\n<div class=\"column small-2 time-posted\">\\n<div class=\"hide-for-medium-up\">\\n6d\\n</div>\\n<div class=\"show-for-medium-up\">\\n<em>\\n6 days ago\\n</em>\\n</div>\\n</div>\\n</div>\\n<div class=\"row job-information\">\\n<div class=\"columns medium-6\">\\n<h4 class=\"job-text employment-info\">\\nFull-Time | Pay: $120k - $150k/year\\n</h4>\\n<div class=\"job-description show-for-medium-up\">\\nThis position is open as of 7/3/2016. Big Data Engineer - Ad Tech Start Up If you are a Big Data Engineer that has experience with NoSQL open source products, please read on! Located in Los Angeles, we are an emerging advertising technology company that w\\n</div>\\n</div>\\n<div class=\"columns small-12 medium-3\">\\n<h4 class=\"job-text\">\\n<a data-company-did=\"chq0vp6bknrr4w2y7pw\" data-gtm=\"jrp-job-list|company-click|10\" data-job-did=\"J3J5X56NR5HS591J2TT\" href=\"/company/chq0vp6bknrr4w2y7pw?ipath=JRG10\">CyberCoders</a>\\n</h4>\\n</div>\\n<div class=\"columns small-12 medium-3 end\">\\n<h4 class=\"job-text\">\\nEl Segundo, CA\\n</h4>\\n<h4 class=\"job-distance\">\\n12 miles\\n\\n</h4>\\n</div>\\n</div>\\n<div class=\"row user-actions\">\\n<div class=\"small-12 columns job-actions\" data-job-did=\"J3J5X56NR5HS591J2TT\">\\n<span class=\"loading save-job\">\\n<a href=\"#\">\\n<span class=\"fa fa-star-o\"></span>\\nSave Job\\n</a>\\n</span>\\n<span class=\"hide saved-job\" js='{:id=&gt;\"\"}'>\\n<a class=\"saved-job-text\" href=\"#\">\\n<span class=\"fa fa-star\"></span>\\nSaved Job\\n</a>\\n<a href=\"/saved-jobs\">(View Saved Jobs)</a>\\n</span>\\n<a class=\"email-job-jrp\" data-gtm=\"jrp-job-list|email-link\" data-job-did=\"J3J5X56NR5HS591J2TT\" href=\"#\">\\n<span class=\"fa fa-envelope\"></span>\\nEmail Job\\n</a>\\n</div>\\n</div>\\n</div>\\n<div class=\"job-row\">\\n<div class=\"row\">\\n<div class=\"column\">\\n<div class=\"cb-apply-indicator\">CAREERBUILDER APPLY</div>\\n</div>\\n</div>\\n<div class=\"row\">\\n<div class=\"column small-10\">\\n<h2 class=\"job-title\">\\n<a data-company-did=\"chp6qq69vpmf33kf957\" data-gtm=\"jrp-job-list|job-title-click|11\" data-job-did=\"J3J0NM5ZVMND5JG9XR3\" href=\"/job/J3J0NM5ZVMND5JG9XR3?ipath=JRG11&amp;searchid=d79be209-3212-4e49-a010-9ae80bf5abe8&amp;siteid=cbnsv\">Content and Data Analyst for cool company in West LA!!!</a>\\n</h2>\\n</div>\\n<div class=\"column small-2 time-posted\">\\n<div class=\"hide-for-medium-up\">\\n3d\\n</div>\\n<div class=\"show-for-medium-up\">\\n<em>\\n3 days ago\\n</em>\\n</div>\\n</div>\\n</div>\\n<div class=\"row job-information\">\\n<div class=\"columns medium-6\">\\n<h4 class=\"job-text employment-info\">\\nFull-Time | Pay: $45k - $50k/year\\n</h4>\\n<div class=\"job-description show-for-medium-up\">\\nRef ID: 00320-9896183 Classification: Multimedia Project Manager Compensation: $45,000.00 to $50,000.00 per year Our client is seeking an experienced Content and Data Analyst to join our team. In this role, you'll play a big part in finding opportunities\\n</div>\\n</div>\\n<div class=\"columns small-12 medium-3\">\\n<h4 class=\"job-text\">\\n<a data-company-did=\"chp6qq69vpmf33kf957\" data-gtm=\"jrp-job-list|company-click|11\" data-job-did=\"J3J0NM5ZVMND5JG9XR3\" href=\"/company/chp6qq69vpmf33kf957?ipath=JRG11\">The Creative Group</a>\\n</h4>\\n</div>\\n<div class=\"columns small-12 medium-3 end\">\\n<h4 class=\"job-text\">\\nLos Angeles, CA\\n</h4>\\n<h4 class=\"job-distance\">\\n11 miles\\n\\n</h4>\\n</div>\\n</div>\\n<div class=\"row user-actions\">\\n<div class=\"small-12 columns job-actions\" data-job-did=\"J3J0NM5ZVMND5JG9XR3\">\\n<span class=\"loading save-job\">\\n<a href=\"#\">\\n<span class=\"fa fa-star-o\"></span>\\nSave Job\\n</a>\\n</span>\\n<span class=\"hide saved-job\" js='{:id=&gt;\"\"}'>\\n<a class=\"saved-job-text\" href=\"#\">\\n<span class=\"fa fa-star\"></span>\\nSaved Job\\n</a>\\n<a href=\"/saved-jobs\">(View Saved Jobs)</a>\\n</span>\\n<a class=\"email-job-jrp\" data-gtm=\"jrp-job-list|email-link\" data-job-did=\"J3J0NM5ZVMND5JG9XR3\" href=\"#\">\\n<span class=\"fa fa-envelope\"></span>\\nEmail Job\\n</a>\\n</div>\\n</div>\\n</div>\\n<div class=\"job-row\">\\n<div class=\"row\">\\n<div class=\"column\">\\n<div class=\"cb-apply-indicator\">CAREERBUILDER APPLY</div>\\n</div>\\n</div>\\n<div class=\"row\">\\n<div class=\"column small-10\">\\n<h2 class=\"job-title\">\\n<a data-company-did=\"chq0vp6bknrr4w2y7pw\" data-gtm=\"jrp-job-list|job-title-click|12\" data-job-did=\"J3G45R6YVPQ9FNY69N8\" href=\"/job/J3G45R6YVPQ9FNY69N8?ipath=JRG12&amp;searchid=d79be209-3212-4e49-a010-9ae80bf5abe8&amp;siteid=cbnsv\">Full Stack Developer</a>\\n</h2>\\n</div>\\n<div class=\"column small-2 time-posted\">\\n<div class=\"hide-for-medium-up\">\\n3d\\n</div>\\n<div class=\"show-for-medium-up\">\\n<em>\\n3 days ago\\n</em>\\n</div>\\n</div>\\n</div>\\n<div class=\"row job-information\">\\n<div class=\"columns medium-6\">\\n<h4 class=\"job-text employment-info\">\\nFull-Time | Pay: $70k - $110k/year\\n</h4>\\n<div class=\"job-description show-for-medium-up\">\\nThis position is open as of 7/3/2016. Senior Full Stack Developer - Industry Disrupting Events Company If you are a Senior Full Stack Developer with experience, please read on! If you're into events, concerts, festivals, and being apart of a company that\\n</div>\\n</div>\\n<div class=\"columns small-12 medium-3\">\\n<h4 class=\"job-text\">\\n<a data-company-did=\"chq0vp6bknrr4w2y7pw\" data-gtm=\"jrp-job-list|company-click|12\" data-job-did=\"J3G45R6YVPQ9FNY69N8\" href=\"/company/chq0vp6bknrr4w2y7pw?ipath=JRG12\">CyberCoders</a>\\n</h4>\\n</div>\\n<div class=\"columns small-12 medium-3 end\">\\n<h4 class=\"job-text\">\\nLos Angeles, CA\\n</h4>\\n<h4 class=\"job-distance\">\\n7 miles\\n<h4>\\n<a class=\"company-collapse-link\" data-company-did=\"chq0vp6bknrr4w2y7pw\" data-gtm=\"jrp-job-list|more-company-jobs|12\" data-job-did=\"J3G45R6YVPQ9FNY69N8\" href=\"/jobs-data-in-los-angeles?company_name=CyberCoders&amp;grouping_value=4c18bd6a3775404b431cccade6404b2a&amp;pay=20&amp;sort=distance_asc\">View 2 more</a>\\n</h4>\\n</h4>\\n</div>\\n</div>\\n<div class=\"row user-actions\">\\n<div class=\"small-12 columns job-actions\" data-job-did=\"J3G45R6YVPQ9FNY69N8\">\\n<span class=\"loading save-job\">\\n<a href=\"#\">\\n<span class=\"fa fa-star-o\"></span>\\nSave Job\\n</a>\\n</span>\\n<span class=\"hide saved-job\" js='{:id=&gt;\"\"}'>\\n<a class=\"saved-job-text\" href=\"#\">\\n<span class=\"fa fa-star\"></span>\\nSaved Job\\n</a>\\n<a href=\"/saved-jobs\">(View Saved Jobs)</a>\\n</span>\\n<a class=\"email-job-jrp\" data-gtm=\"jrp-job-list|email-link\" data-job-did=\"J3G45R6YVPQ9FNY69N8\" href=\"#\">\\n<span class=\"fa fa-envelope\"></span>\\nEmail Job\\n</a>\\n</div>\\n</div>\\n</div>\\n<div class=\"job-row\">\\n<div class=\"row\">\\n<div class=\"column\">\\n<div class=\"cb-apply-indicator\">CAREERBUILDER APPLY</div>\\n</div>\\n</div>\\n<div class=\"row\">\\n<div class=\"column small-10\">\\n<h2 class=\"job-title\">\\n<a data-company-did=\"c7x6405xlj2shdyzc0x\" data-gtm=\"jrp-job-list|job-title-click|13\" data-job-did=\"JHR27478TSPQ794SBFJ\" href=\"/job/JHR27478TSPQ794SBFJ?ipath=JRG13&amp;searchid=d79be209-3212-4e49-a010-9ae80bf5abe8&amp;siteid=cbnsv\">CHIEF ENGINEER - ASIA [Mobile Device Electronics]</a>\\n</h2>\\n</div>\\n<div class=\"column small-2 time-posted\">\\n<div class=\"hide-for-medium-up\">\\n3d\\n</div>\\n<div class=\"show-for-medium-up\">\\n<em>\\n3 days ago\\n</em>\\n</div>\\n</div>\\n</div>\\n<div class=\"row job-information\">\\n<div class=\"columns medium-6\">\\n<h4 class=\"job-text employment-info\">\\nFull-Time | Pay: $140k - $160k/year\\n</h4>\\n<div class=\"job-description show-for-medium-up\">\\nChief Engineer - ASIA Mobile Automotive {Hardware &amp;amp; Software} AUTONOMOUS DRIVEN VEHICLE Our clientmanufactures various mobile devices &amp;amp; modules used in AUTONOMOUS DRIVENVEHICLES. This position is located inthe Asia Technical Center. Knowledge of Asian\\n</div>\\n</div>\\n<div class=\"columns small-12 medium-3\">\\n<h4 class=\"job-text\">\\n<a data-company-did=\"c7x6405xlj2shdyzc0x\" data-gtm=\"jrp-job-list|company-click|13\" data-job-did=\"JHR27478TSPQ794SBFJ\" href=\"/company/c7x6405xlj2shdyzc0x?ipath=JRG13\">FPC of Naples</a>\\n</h4>\\n</div>\\n<div class=\"columns small-12 medium-3 end\">\\n<h4 class=\"job-text\">\\nLos Angeles, CA\\n</h4>\\n<h4 class=\"job-distance\">\\nNearby\\n\\n</h4>\\n</div>\\n</div>\\n<div class=\"row user-actions\">\\n<div class=\"small-12 columns job-actions\" data-job-did=\"JHR27478TSPQ794SBFJ\">\\n<span class=\"loading save-job\">\\n<a href=\"#\">\\n<span class=\"fa fa-star-o\"></span>\\nSave Job\\n</a>\\n</span>\\n<span class=\"hide saved-job\" js='{:id=&gt;\"\"}'>\\n<a class=\"saved-job-text\" href=\"#\">\\n<span class=\"fa fa-star\"></span>\\nSaved Job\\n</a>\\n<a href=\"/saved-jobs\">(View Saved Jobs)</a>\\n</span>\\n<a class=\"email-job-jrp\" data-gtm=\"jrp-job-list|email-link\" data-job-did=\"JHR27478TSPQ794SBFJ\" href=\"#\">\\n<span class=\"fa fa-envelope\"></span>\\nEmail Job\\n</a>\\n</div>\\n</div>\\n</div>\\n<div class=\"job-row\">\\n<div class=\"row\">\\n<div class=\"column\">\\n<div class=\"cb-apply-indicator\">CAREERBUILDER APPLY</div>\\n</div>\\n</div>\\n<div class=\"row\">\\n<div class=\"column small-10\">\\n<h2 class=\"job-title\">\\n<a data-company-did=\"chp7f966scbh23jgrd3\" data-gtm=\"jrp-job-list|job-title-click|14\" data-job-did=\"J8G80M627RYD1JXS2MW\" href=\"/job/J8G80M627RYD1JXS2MW?ipath=JRG14&amp;searchid=d79be209-3212-4e49-a010-9ae80bf5abe8&amp;siteid=cbnsv\">Senior Tax Accountant</a>\\n</h2>\\n</div>\\n<div class=\"column small-2 time-posted\">\\n<div class=\"hide-for-medium-up\">\\n2w\\n</div>\\n<div class=\"show-for-medium-up\">\\n<em>\\n2 weeks ago\\n</em>\\n</div>\\n</div>\\n</div>\\n<div class=\"row job-information\">\\n<div class=\"columns medium-6\">\\n<h4 class=\"job-text employment-info\">\\nFull-Time | Pay: $80k - $100k/year\\n</h4>\\n<div class=\"job-description show-for-medium-up\">\\nOur client is looking for a Senior Tax Accountant\\xa0to join their team. Senior Tax Accountant - Duties: Prepare tax returns Prepare roll forwards, consolidated analysis and reconciliations Organize working papers Help input tax data Reclassify data from aud\\n</div>\\n</div>\\n<div class=\"columns small-12 medium-3\">\\n<h4 class=\"job-text\">\\n<a data-company-did=\"chp7f966scbh23jgrd3\" data-gtm=\"jrp-job-list|company-click|14\" data-job-did=\"J8G80M627RYD1JXS2MW\" href=\"/company/chp7f966scbh23jgrd3?ipath=JRG14\">Century Group</a>\\n</h4>\\n</div>\\n<div class=\"columns small-12 medium-3 end\">\\n<h4 class=\"job-text\">\\nLos Angeles, CA\\n</h4>\\n<h4 class=\"job-distance\">\\nNearby\\n\\n</h4>\\n</div>\\n</div>\\n<div class=\"row user-actions\">\\n<div class=\"small-12 columns job-actions\" data-job-did=\"J8G80M627RYD1JXS2MW\">\\n<span class=\"loading save-job\">\\n<a href=\"#\">\\n<span class=\"fa fa-star-o\"></span>\\nSave Job\\n</a>\\n</span>\\n<span class=\"hide saved-job\" js='{:id=&gt;\"\"}'>\\n<a class=\"saved-job-text\" href=\"#\">\\n<span class=\"fa fa-star\"></span>\\nSaved Job\\n</a>\\n<a href=\"/saved-jobs\">(View Saved Jobs)</a>\\n</span>\\n<a class=\"email-job-jrp\" data-gtm=\"jrp-job-list|email-link\" data-job-did=\"J8G80M627RYD1JXS2MW\" href=\"#\">\\n<span class=\"fa fa-envelope\"></span>\\nEmail Job\\n</a>\\n</div>\\n</div>\\n</div>\\n<div class=\"job-row\">\\n<div class=\"row\">\\n<div class=\"column\">\\n<div class=\"cb-apply-indicator\">CAREERBUILDER APPLY</div>\\n</div>\\n</div>\\n<div class=\"row\">\\n<div class=\"column small-10\">\\n<h2 class=\"job-title\">\\n<a data-company-did=\"c8b57d6lvmt95y5y3pq\" data-gtm=\"jrp-job-list|job-title-click|15\" data-job-did=\"J3J78D5W9T5JLJFG0CG\" href=\"/job/J3J78D5W9T5JLJFG0CG?ipath=JRG15&amp;searchid=d79be209-3212-4e49-a010-9ae80bf5abe8&amp;siteid=cbnsv\">Office Assistant- Great pay!!! Immediate Opening/$34000/year</a>\\n</h2>\\n</div>\\n<div class=\"column small-2 time-posted\">\\n<div class=\"hide-for-medium-up\">\\n4w\\n</div>\\n<div class=\"show-for-medium-up\">\\n<em>\\n4 weeks ago\\n</em>\\n</div>\\n</div>\\n</div>\\n<div class=\"row job-information\">\\n<div class=\"columns medium-6\">\\n<h4 class=\"job-text employment-info\">\\nFull-Time | Pay: $34k/year\\n</h4>\\n<div class=\"job-description show-for-medium-up\">\\nTerrific opportunity for a professional individual ready to move ahead in a great career. As an Office Assistant for this growing and stable company, you will be responsible for data entry, customer service and organizational skills. Professional attitude\\n</div>\\n</div>\\n<div class=\"columns small-12 medium-3\">\\n<h4 class=\"job-text\">\\n<a data-company-did=\"c8b57d6lvmt95y5y3pq\" data-gtm=\"jrp-job-list|company-click|15\" data-job-did=\"J3J78D5W9T5JLJFG0CG\" href=\"/company/c8b57d6lvmt95y5y3pq?ipath=JRG15\">AppleOne</a>\\n</h4>\\n</div>\\n<div class=\"columns small-12 medium-3 end\">\\n<h4 class=\"job-text\">\\nLong Beach, CA\\n</h4>\\n<h4 class=\"job-distance\">\\n14 miles\\n\\n</h4>\\n</div>\\n</div>\\n<div class=\"row user-actions\">\\n<div class=\"small-12 columns job-actions\" data-job-did=\"J3J78D5W9T5JLJFG0CG\">\\n<span class=\"loading save-job\">\\n<a href=\"#\">\\n<span class=\"fa fa-star-o\"></span>\\nSave Job\\n</a>\\n</span>\\n<span class=\"hide saved-job\" js='{:id=&gt;\"\"}'>\\n<a class=\"saved-job-text\" href=\"#\">\\n<span class=\"fa fa-star\"></span>\\nSaved Job\\n</a>\\n<a href=\"/saved-jobs\">(View Saved Jobs)</a>\\n</span>\\n<a class=\"email-job-jrp\" data-gtm=\"jrp-job-list|email-link\" data-job-did=\"J3J78D5W9T5JLJFG0CG\" href=\"#\">\\n<span class=\"fa fa-envelope\"></span>\\nEmail Job\\n</a>\\n</div>\\n</div>\\n</div>\\n<div class=\"job-row\">\\n<div class=\"row\">\\n<div class=\"column small-10\">\\n<h2 class=\"job-title\">\\n<a data-company-did=\"c3t3hn76g0rhwtqc3fp\" data-gtm=\"jrp-job-list|job-title-click|16\" data-job-did=\"J5L6RV6CPQ1N7J2MY6C\" href=\"/job/J5L6RV6CPQ1N7J2MY6C?ipath=JRG16&amp;searchid=d79be209-3212-4e49-a010-9ae80bf5abe8&amp;siteid=cbnsv\">Online Trader (Work from Home)</a>\\n</h2>\\n</div>\\n<div class=\"column small-2 time-posted\">\\n<div class=\"hide-for-medium-up\">\\n5d\\n</div>\\n<div class=\"show-for-medium-up\">\\n<em>\\n5 days ago\\n</em>\\n</div>\\n</div>\\n</div>\\n<div class=\"row job-information\">\\n<div class=\"columns medium-6\">\\n<h4 class=\"job-text employment-info\">\\nFull-Time | Pay: $50k - $500k/year\\n</h4>\\n<div class=\"job-description show-for-medium-up\">\\nMaverick Trading, established in 1997, is an award-winning trading firm that focuses primarily on equities, equity options and index options. We are currently seeking Online Traders to be trading representatives on behalf of the firm. We have some of the\\n</div>\\n</div>\\n<div class=\"columns small-12 medium-3\">\\n<h4 class=\"job-text\">\\n<a data-company-did=\"c3t3hn76g0rhwtqc3fp\" data-gtm=\"jrp-job-list|company-click|16\" data-job-did=\"J5L6RV6CPQ1N7J2MY6C\" href=\"/company/c3t3hn76g0rhwtqc3fp?ipath=JRG16\">Maverick Trading</a>\\n</h4>\\n</div>\\n<div class=\"columns small-12 medium-3 end\">\\n<h4 class=\"job-text\">\\nLos Angeles, CA\\n</h4>\\n<h4 class=\"job-distance\">\\nNearby\\n<h4>\\n<a class=\"company-collapse-link\" data-company-did=\"c3t3hn76g0rhwtqc3fp\" data-gtm=\"jrp-job-list|more-company-jobs|16\" data-job-did=\"J5L6RV6CPQ1N7J2MY6C\" href=\"/jobs-data-in-los-angeles?company_name=Maverick+Trading&amp;grouping_value=4aeb587a05b820b08a815b369d566d93&amp;pay=20&amp;sort=distance_asc\">View 1 more</a>\\n</h4>\\n</h4>\\n</div>\\n</div>\\n<div class=\"row user-actions\">\\n<div class=\"small-12 columns job-actions\" data-job-did=\"J5L6RV6CPQ1N7J2MY6C\">\\n<span class=\"loading save-job\">\\n<a href=\"#\">\\n<span class=\"fa fa-star-o\"></span>\\nSave Job\\n</a>\\n</span>\\n<span class=\"hide saved-job\" js='{:id=&gt;\"\"}'>\\n<a class=\"saved-job-text\" href=\"#\">\\n<span class=\"fa fa-star\"></span>\\nSaved Job\\n</a>\\n<a href=\"/saved-jobs\">(View Saved Jobs)</a>\\n</span>\\n<a class=\"email-job-jrp\" data-gtm=\"jrp-job-list|email-link\" data-job-did=\"J5L6RV6CPQ1N7J2MY6C\" href=\"#\">\\n<span class=\"fa fa-envelope\"></span>\\nEmail Job\\n</a>\\n</div>\\n</div>\\n</div>\\n<div class=\"job-row\">\\n<div class=\"row\">\\n<div class=\"column\">\\n<div class=\"cb-apply-indicator\">CAREERBUILDER APPLY</div>\\n</div>\\n</div>\\n<div class=\"row\">\\n<div class=\"column small-10\">\\n<h2 class=\"job-title\">\\n<a data-company-did=\"chr77s774yjjtsx3fbl\" data-gtm=\"jrp-job-list|job-title-click|17\" data-job-did=\"JHP49F789TB75LP1FCQ\" href=\"/job/JHP49F789TB75LP1FCQ?ipath=JRG17&amp;searchid=d79be209-3212-4e49-a010-9ae80bf5abe8&amp;siteid=cbnsv\">Senior Business Intelligence Architect</a>\\n</h2>\\n</div>\\n<div class=\"column small-2 time-posted\">\\n<div class=\"hide-for-medium-up\">\\n1w\\n</div>\\n<div class=\"show-for-medium-up\">\\n<em>\\n1 week ago\\n</em>\\n</div>\\n</div>\\n</div>\\n<div class=\"row job-information\">\\n<div class=\"columns medium-6\">\\n<h4 class=\"job-text employment-info\">\\nFull-Time | Pay: $0 - $145k/year\\n</h4>\\n<div class=\"job-description show-for-medium-up\">\\nThe Senior Data and Business Intelligence Engineer drives and\\xa0identifies the needs of various stakeholders, creating solutions to meet those needs, and helps to draw meaningful insights to\\xa0facilitate organizational action. The Senior Data and Business Int\\n</div>\\n</div>\\n<div class=\"columns small-12 medium-3\">\\n<h4 class=\"job-text\">\\n<a data-company-did=\"chr77s774yjjtsx3fbl\" data-gtm=\"jrp-job-list|company-click|17\" data-job-did=\"JHP49F789TB75LP1FCQ\" href=\"/company/chr77s774yjjtsx3fbl?ipath=JRG17\">Answer Financial Inc.</a>\\n</h4>\\n</div>\\n<div class=\"columns small-12 medium-3 end\">\\n<h4 class=\"job-text\">\\nLos Angeles, CA\\n</h4>\\n<h4 class=\"job-distance\">\\nNearby\\n\\n</h4>\\n</div>\\n</div>\\n<div class=\"row user-actions\">\\n<div class=\"small-12 columns job-actions\" data-job-did=\"JHP49F789TB75LP1FCQ\">\\n<span class=\"loading save-job\">\\n<a href=\"#\">\\n<span class=\"fa fa-star-o\"></span>\\nSave Job\\n</a>\\n</span>\\n<span class=\"hide saved-job\" js='{:id=&gt;\"\"}'>\\n<a class=\"saved-job-text\" href=\"#\">\\n<span class=\"fa fa-star\"></span>\\nSaved Job\\n</a>\\n<a href=\"/saved-jobs\">(View Saved Jobs)</a>\\n</span>\\n<a class=\"email-job-jrp\" data-gtm=\"jrp-job-list|email-link\" data-job-did=\"JHP49F789TB75LP1FCQ\" href=\"#\">\\n<span class=\"fa fa-envelope\"></span>\\nEmail Job\\n</a>\\n</div>\\n</div>\\n</div>\\n<div class=\"job-row\">\\n<div class=\"row\">\\n<div class=\"column\">\\n<div class=\"cb-apply-indicator\">CAREERBUILDER APPLY</div>\\n</div>\\n</div>\\n<div class=\"row\">\\n<div class=\"column small-10\">\\n<h2 class=\"job-title\">\\n<a data-company-did=\"\" data-gtm=\"jrp-job-list|job-title-click|18\" data-job-did=\"JHL1Y86JGHFWQ6YK5P0\" href=\"/job/JHL1Y86JGHFWQ6YK5P0?ipath=JRG18&amp;searchid=d79be209-3212-4e49-a010-9ae80bf5abe8&amp;siteid=cbnsv\">COUNTER  INSIDE  AND OUTSIDE SALES WHOLESALE DISTRIBUTOR CONTRACTORS SUPPLIES</a>\\n</h2>\\n</div>\\n<div class=\"column small-2 time-posted\">\\n<div class=\"hide-for-medium-up\">\\n3w\\n</div>\\n<div class=\"show-for-medium-up\">\\n<em>\\n3 weeks ago\\n</em>\\n</div>\\n</div>\\n</div>\\n<div class=\"row job-information\">\\n<div class=\"columns medium-6\">\\n<h4 class=\"job-text employment-info\">\\nFull-Time | Pay: $50k - $80k/year\\n</h4>\\n<div class=\"job-description show-for-medium-up\">\\nInside / Outside / Counter Sales - Electrical Distributor Contractor Supplies Nation\\u2019s Largest Wholesale Electrical Distributor Description : Multiple Positions open in the Pasadena, Ca. area. Our client is a multi-Billion dollar electrical Distribution C\\n</div>\\n</div>\\n<div class=\"columns small-12 medium-3\">\\n<h4 class=\"job-text\">\\nNational Electrical Distributor Contractor Supplies\\n</h4>\\n</div>\\n<div class=\"columns small-12 medium-3 end\">\\n<h4 class=\"job-text\">\\nPasadena, CA\\n</h4>\\n<h4 class=\"job-distance\">\\n8 miles\\n\\n</h4>\\n</div>\\n</div>\\n<div class=\"row user-actions\">\\n<div class=\"small-12 columns job-actions\" data-job-did=\"JHL1Y86JGHFWQ6YK5P0\">\\n<span class=\"loading save-job\">\\n<a href=\"#\">\\n<span class=\"fa fa-star-o\"></span>\\nSave Job\\n</a>\\n</span>\\n<span class=\"hide saved-job\" js='{:id=&gt;\"\"}'>\\n<a class=\"saved-job-text\" href=\"#\">\\n<span class=\"fa fa-star\"></span>\\nSaved Job\\n</a>\\n<a href=\"/saved-jobs\">(View Saved Jobs)</a>\\n</span>\\n<a class=\"email-job-jrp\" data-gtm=\"jrp-job-list|email-link\" data-job-did=\"JHL1Y86JGHFWQ6YK5P0\" href=\"#\">\\n<span class=\"fa fa-envelope\"></span>\\nEmail Job\\n</a>\\n</div>\\n</div>\\n</div>\\n<div class=\"job-row\">\\n<div class=\"row\">\\n<div class=\"column\">\\n<div class=\"cb-apply-indicator\">CAREERBUILDER APPLY</div>\\n</div>\\n</div>\\n<div class=\"row\">\\n<div class=\"column small-10\">\\n<h2 class=\"job-title\">\\n<a data-company-did=\"chl0h769z8j0tfc3m16\" data-gtm=\"jrp-job-list|job-title-click|19\" data-job-did=\"J3G3DB72LV3ZJFLPNMJ\" href=\"/job/J3G3DB72LV3ZJFLPNMJ?ipath=JRG19&amp;searchid=d79be209-3212-4e49-a010-9ae80bf5abe8&amp;siteid=cbnsv\">Sales Engineer</a>\\n</h2>\\n</div>\\n<div class=\"column small-2 time-posted\">\\n<div class=\"hide-for-medium-up\">\\n5d\\n</div>\\n<div class=\"show-for-medium-up\">\\n<em>\\n5 days ago\\n</em>\\n</div>\\n</div>\\n</div>\\n<div class=\"row job-information\">\\n<div class=\"columns medium-6\">\\n<h4 class=\"job-text employment-info\">\\nFull-Time | Pay: $120k - $140k/year\\n</h4>\\n<div class=\"job-description show-for-medium-up\">\\nDuties Providing general product information, installation and configuration support to evaluators Interviewing prospects to determine business and technical requirements Creating POCs and demonstrating features and solutions that link to prospect require\\n</div>\\n</div>\\n<div class=\"columns small-12 medium-3\">\\n<h4 class=\"job-text\">\\n<a data-company-did=\"chl0h769z8j0tfc3m16\" data-gtm=\"jrp-job-list|company-click|19\" data-job-did=\"J3G3DB72LV3ZJFLPNMJ\" href=\"/company/chl0h769z8j0tfc3m16?ipath=JRG19\">Dunhill Professional Search</a>\\n</h4>\\n</div>\\n<div class=\"columns small-12 medium-3 end\">\\n<h4 class=\"job-text\">\\nLos Angeles, CA\\n</h4>\\n<h4 class=\"job-distance\">\\nNearby\\n\\n</h4>\\n</div>\\n</div>\\n<div class=\"row user-actions\">\\n<div class=\"small-12 columns job-actions\" data-job-did=\"J3G3DB72LV3ZJFLPNMJ\">\\n<span class=\"loading save-job\">\\n<a href=\"#\">\\n<span class=\"fa fa-star-o\"></span>\\nSave Job\\n</a>\\n</span>\\n<span class=\"hide saved-job\" js='{:id=&gt;\"\"}'>\\n<a class=\"saved-job-text\" href=\"#\">\\n<span class=\"fa fa-star\"></span>\\nSaved Job\\n</a>\\n<a href=\"/saved-jobs\">(View Saved Jobs)</a>\\n</span>\\n<a class=\"email-job-jrp\" data-gtm=\"jrp-job-list|email-link\" data-job-did=\"J3G3DB72LV3ZJFLPNMJ\" href=\"#\">\\n<span class=\"fa fa-envelope\"></span>\\nEmail Job\\n</a>\\n</div>\\n</div>\\n</div>\\n<div class=\"job-row\">\\n<div class=\"row\">\\n<div class=\"column\">\\n<div class=\"cb-apply-indicator\">CAREERBUILDER APPLY</div>\\n</div>\\n</div>\\n<div class=\"row\">\\n<div class=\"column small-10\">\\n<h2 class=\"job-title\">\\n<a data-company-did=\"\" data-gtm=\"jrp-job-list|job-title-click|20\" data-job-did=\"J900ZY6JGVQGH4FFHCC\" href=\"/job/J900ZY6JGVQGH4FFHCC?ipath=JRG20&amp;searchid=d79be209-3212-4e49-a010-9ae80bf5abe8&amp;siteid=cbnsv\">Senior Statistician - Business Decisions</a>\\n</h2>\\n</div>\\n<div class=\"column small-2 time-posted\">\\n<div class=\"hide-for-medium-up\">\\n3w\\n</div>\\n<div class=\"show-for-medium-up\">\\n<em>\\n3 weeks ago\\n</em>\\n</div>\\n</div>\\n</div>\\n<div class=\"row job-information\">\\n<div class=\"columns medium-6\">\\n<h4 class=\"job-text employment-info\">\\nFull-Time | Pay: $90k - $100k/year\\n</h4>\\n<div class=\"job-description show-for-medium-up\">\\nThe Senior Statistician will be a Master of Quantitative Methods and Statistical Modeling . In addition to selecting the appropriate technique, you will also be the one to conduct the analyses providing the results to the Global Consumer and Member Insigh\\n</div>\\n</div>\\n<div class=\"columns small-12 medium-3\">\\n<h4 class=\"job-text\">\\nFuturetech Staffing\\n</h4>\\n</div>\\n<div class=\"columns small-12 medium-3 end\">\\n<h4 class=\"job-text\">\\nLos Angeles, CA\\n</h4>\\n<h4 class=\"job-distance\">\\nNearby\\n\\n</h4>\\n</div>\\n</div>\\n<div class=\"row user-actions\">\\n<div class=\"small-12 columns job-actions\" data-job-did=\"J900ZY6JGVQGH4FFHCC\">\\n<span class=\"loading save-job\">\\n<a href=\"#\">\\n<span class=\"fa fa-star-o\"></span>\\nSave Job\\n</a>\\n</span>\\n<span class=\"hide saved-job\" js='{:id=&gt;\"\"}'>\\n<a class=\"saved-job-text\" href=\"#\">\\n<span class=\"fa fa-star\"></span>\\nSaved Job\\n</a>\\n<a href=\"/saved-jobs\">(View Saved Jobs)</a>\\n</span>\\n<a class=\"email-job-jrp\" data-gtm=\"jrp-job-list|email-link\" data-job-did=\"J900ZY6JGVQGH4FFHCC\" href=\"#\">\\n<span class=\"fa fa-envelope\"></span>\\nEmail Job\\n</a>\\n</div>\\n</div>\\n</div>\\n<div class=\"job-row\">\\n<div class=\"row\">\\n<div class=\"column small-10\">\\n<h2 class=\"job-title\">\\n<a data-company-did=\"c7g7jj77nvmshq4fctz\" data-gtm=\"jrp-job-list|job-title-click|21\" data-job-did=\"J3J60J6F7SD9S2SVZV9\" href=\"/job/J3J60J6F7SD9S2SVZV9?ipath=JRG21&amp;searchid=d79be209-3212-4e49-a010-9ae80bf5abe8&amp;siteid=cbnsv\">Business Intelligence Developer</a>\\n</h2>\\n</div>\\n<div class=\"column small-2 time-posted\">\\n<div class=\"hide-for-medium-up\">\\n2w\\n</div>\\n<div class=\"show-for-medium-up\">\\n<em>\\n2 weeks ago\\n</em>\\n</div>\\n</div>\\n</div>\\n<div class=\"row job-information\">\\n<div class=\"columns medium-6\">\\n<h4 class=\"job-text employment-info\">\\nFull-Time | Pay: $110k - $120k/year\\n</h4>\\n<div class=\"job-description show-for-medium-up\">\\nBusiness Intelligence Developer Basic Function: The BI developer is responsible for the development of reporting and analytic solutions for our retail client's data and information by gathering business needs, documenting requirements, identifying appropr\\n</div>\\n</div>\\n<div class=\"columns small-12 medium-3\">\\n<h4 class=\"job-text\">\\n<a data-company-did=\"c7g7jj77nvmshq4fctz\" data-gtm=\"jrp-job-list|company-click|21\" data-job-did=\"J3J60J6F7SD9S2SVZV9\" href=\"/company/c7g7jj77nvmshq4fctz?ipath=JRG21\">TEKsystems, Inc</a>\\n</h4>\\n</div>\\n<div class=\"columns small-12 medium-3 end\">\\n<h4 class=\"job-text\">\\nLos Angeles, CA\\n</h4>\\n<h4 class=\"job-distance\">\\nNearby\\n\\n</h4>\\n</div>\\n</div>\\n<div class=\"row user-actions\">\\n<div class=\"small-12 columns job-actions\" data-job-did=\"J3J60J6F7SD9S2SVZV9\">\\n<span class=\"loading save-job\">\\n<a href=\"#\">\\n<span class=\"fa fa-star-o\"></span>\\nSave Job\\n</a>\\n</span>\\n<span class=\"hide saved-job\" js='{:id=&gt;\"\"}'>\\n<a class=\"saved-job-text\" href=\"#\">\\n<span class=\"fa fa-star\"></span>\\nSaved Job\\n</a>\\n<a href=\"/saved-jobs\">(View Saved Jobs)</a>\\n</span>\\n<a class=\"email-job-jrp\" data-gtm=\"jrp-job-list|email-link\" data-job-did=\"J3J60J6F7SD9S2SVZV9\" href=\"#\">\\n<span class=\"fa fa-envelope\"></span>\\nEmail Job\\n</a>\\n</div>\\n</div>\\n</div>\\n<div class=\"job-row\">\\n<div class=\"row\">\\n<div class=\"column\">\\n<div class=\"cb-apply-indicator\">CAREERBUILDER APPLY</div>\\n</div>\\n</div>\\n<div class=\"row\">\\n<div class=\"column small-10\">\\n<h2 class=\"job-title\">\\n<a data-company-did=\"chq0vp6bknrr4w2y7pw\" data-gtm=\"jrp-job-list|job-title-click|22\" data-job-did=\"J3F4XF67TH7C6GW5VZC\" href=\"/job/J3F4XF67TH7C6GW5VZC?ipath=JRG22&amp;searchid=d79be209-3212-4e49-a010-9ae80bf5abe8&amp;siteid=cbnsv\">Senior JavaScript Developer</a>\\n</h2>\\n</div>\\n<div class=\"column small-2 time-posted\">\\n<div class=\"hide-for-medium-up\">\\n2d\\n</div>\\n<div class=\"show-for-medium-up\">\\n<em>\\n1 day ago\\n</em>\\n</div>\\n</div>\\n</div>\\n<div class=\"row job-information\">\\n<div class=\"columns medium-6\">\\n<h4 class=\"job-text employment-info\">\\nFull-Time | Pay: $110k - $150k/year\\n</h4>\\n<div class=\"job-description show-for-medium-up\">\\nThis position is open as of 7/3/2016. Senior JavaScript Developer - AngularJS, ReactJS, Bootstrap Our team is recognized as one of the top data driven organizations in the country with over a billion unique visitors and huge amounts of data coming in ever\\n</div>\\n</div>\\n<div class=\"columns small-12 medium-3\">\\n<h4 class=\"job-text\">\\n<a data-company-did=\"chq0vp6bknrr4w2y7pw\" data-gtm=\"jrp-job-list|company-click|22\" data-job-did=\"J3F4XF67TH7C6GW5VZC\" href=\"/company/chq0vp6bknrr4w2y7pw?ipath=JRG22\">CyberCoders</a>\\n</h4>\\n</div>\\n<div class=\"columns small-12 medium-3 end\">\\n<h4 class=\"job-text\">\\nLos Angeles, CA\\n</h4>\\n<h4 class=\"job-distance\">\\n5 miles\\n<h4>\\n<a class=\"company-collapse-link\" data-company-did=\"chq0vp6bknrr4w2y7pw\" data-gtm=\"jrp-job-list|more-company-jobs|22\" data-job-did=\"J3F4XF67TH7C6GW5VZC\" href=\"/jobs-data-in-los-angeles?company_name=CyberCoders&amp;grouping_value=7031e8a1a0eb7d36b55c1d003210330c&amp;pay=20&amp;sort=distance_asc\">View 1 more</a>\\n</h4>\\n</h4>\\n</div>\\n</div>\\n<div class=\"row user-actions\">\\n<div class=\"small-12 columns job-actions\" data-job-did=\"J3F4XF67TH7C6GW5VZC\">\\n<span class=\"loading save-job\">\\n<a href=\"#\">\\n<span class=\"fa fa-star-o\"></span>\\nSave Job\\n</a>\\n</span>\\n<span class=\"hide saved-job\" js='{:id=&gt;\"\"}'>\\n<a class=\"saved-job-text\" href=\"#\">\\n<span class=\"fa fa-star\"></span>\\nSaved Job\\n</a>\\n<a href=\"/saved-jobs\">(View Saved Jobs)</a>\\n</span>\\n<a class=\"email-job-jrp\" data-gtm=\"jrp-job-list|email-link\" data-job-did=\"J3F4XF67TH7C6GW5VZC\" href=\"#\">\\n<span class=\"fa fa-envelope\"></span>\\nEmail Job\\n</a>\\n</div>\\n</div>\\n</div>\\n<div class=\"job-row\">\\n<div class=\"row\">\\n<div class=\"column\">\\n<div class=\"cb-apply-indicator\">CAREERBUILDER APPLY</div>\\n</div>\\n</div>\\n<div class=\"row\">\\n<div class=\"column small-10\">\\n<h2 class=\"job-title\">\\n<a data-company-did=\"chq0vp6bknrr4w2y7pw\" data-gtm=\"jrp-job-list|job-title-click|23\" data-job-did=\"J3H6716D8B78P0TP2JY\" href=\"/job/J3H6716D8B78P0TP2JY?ipath=JRG23&amp;searchid=d79be209-3212-4e49-a010-9ae80bf5abe8&amp;siteid=cbnsv\">Senior Javascript Engineer - 100% REMOTE</a>\\n</h2>\\n</div>\\n<div class=\"column small-2 time-posted\">\\n<div class=\"hide-for-medium-up\">\\n2d\\n</div>\\n<div class=\"show-for-medium-up\">\\n<em>\\n1 day ago\\n</em>\\n</div>\\n</div>\\n</div>\\n<div class=\"row job-information\">\\n<div class=\"columns medium-6\">\\n<h4 class=\"job-text employment-info\">\\nFull-Time | Pay: $110k - $130k/year\\n</h4>\\n<div class=\"job-description show-for-medium-up\">\\nThis position is open as of 7/3/2016. Senior Javascript Engineer - WORK REMOTE Are you a Senior JavaScript Engineer who can parse data, deal with events &amp;amp; generally do a lot of lower level stuff without writing in frameworks? If yes, read on! We are a nex\\n</div>\\n</div>\\n<div class=\"columns small-12 medium-3\">\\n<h4 class=\"job-text\">\\n<a data-company-did=\"chq0vp6bknrr4w2y7pw\" data-gtm=\"jrp-job-list|company-click|23\" data-job-did=\"J3H6716D8B78P0TP2JY\" href=\"/company/chq0vp6bknrr4w2y7pw?ipath=JRG23\">CyberCoders</a>\\n</h4>\\n</div>\\n<div class=\"columns small-12 medium-3 end\">\\n<h4 class=\"job-text\">\\nLos Angeles, CA\\n</h4>\\n<h4 class=\"job-distance\">\\n5 miles\\n\\n</h4>\\n</div>\\n</div>\\n<div class=\"row user-actions\">\\n<div class=\"small-12 columns job-actions\" data-job-did=\"J3H6716D8B78P0TP2JY\">\\n<span class=\"loading save-job\">\\n<a href=\"#\">\\n<span class=\"fa fa-star-o\"></span>\\nSave Job\\n</a>\\n</span>\\n<span class=\"hide saved-job\" js='{:id=&gt;\"\"}'>\\n<a class=\"saved-job-text\" href=\"#\">\\n<span class=\"fa fa-star\"></span>\\nSaved Job\\n</a>\\n<a href=\"/saved-jobs\">(View Saved Jobs)</a>\\n</span>\\n<a class=\"email-job-jrp\" data-gtm=\"jrp-job-list|email-link\" data-job-did=\"J3H6716D8B78P0TP2JY\" href=\"#\">\\n<span class=\"fa fa-envelope\"></span>\\nEmail Job\\n</a>\\n</div>\\n</div>\\n</div>\\n<div class=\"job-row\">\\n<div class=\"row\">\\n<div class=\"column\">\\n<div class=\"cb-apply-indicator\">CAREERBUILDER APPLY</div>\\n</div>\\n</div>\\n<div class=\"row\">\\n<div class=\"column small-10\">\\n<h2 class=\"job-title\">\\n<a data-company-did=\"chq0vp6bknrr4w2y7pw\" data-gtm=\"jrp-job-list|job-title-click|24\" data-job-did=\"J3J38T70TCP3P1RWLWV\" href=\"/job/J3J38T70TCP3P1RWLWV?ipath=JRG24&amp;searchid=d79be209-3212-4e49-a010-9ae80bf5abe8&amp;siteid=cbnsv\">Front End Developer</a>\\n</h2>\\n</div>\\n<div class=\"column small-2 time-posted\">\\n<div class=\"hide-for-medium-up\">\\n5d\\n</div>\\n<div class=\"show-for-medium-up\">\\n<em>\\n5 days ago\\n</em>\\n</div>\\n</div>\\n</div>\\n<div class=\"row job-information\">\\n<div class=\"columns medium-6\">\\n<h4 class=\"job-text employment-info\">\\nFull-Time | Pay: $140k - $175k/year\\n</h4>\\n<div class=\"job-description show-for-medium-up\">\\nThis position is open as of 7/3/2016. Front End Developer - AngularJS, ReactJS, Bootstrap If you are a Front End Software Engineer with advanced JavaScript experience , please read on! Our team is recognized as one of the top data driven organizations in\\n</div>\\n</div>\\n<div class=\"columns small-12 medium-3\">\\n<h4 class=\"job-text\">\\n<a data-company-did=\"chq0vp6bknrr4w2y7pw\" data-gtm=\"jrp-job-list|company-click|24\" data-job-did=\"J3J38T70TCP3P1RWLWV\" href=\"/company/chq0vp6bknrr4w2y7pw?ipath=JRG24\">CyberCoders</a>\\n</h4>\\n</div>\\n<div class=\"columns small-12 medium-3 end\">\\n<h4 class=\"job-text\">\\nLos Angeles, CA\\n</h4>\\n<h4 class=\"job-distance\">\\n5 miles\\n<h4>\\n<a class=\"company-collapse-link\" data-company-did=\"chq0vp6bknrr4w2y7pw\" data-gtm=\"jrp-job-list|more-company-jobs|24\" data-job-did=\"J3J38T70TCP3P1RWLWV\" href=\"/jobs-data-in-los-angeles?company_name=CyberCoders&amp;grouping_value=4523d182baa5764aba752b598820df32&amp;pay=20&amp;sort=distance_asc\">View 1 more</a>\\n</h4>\\n</h4>\\n</div>\\n</div>\\n<div class=\"row user-actions\">\\n<div class=\"small-12 columns job-actions\" data-job-did=\"J3J38T70TCP3P1RWLWV\">\\n<span class=\"loading save-job\">\\n<a href=\"#\">\\n<span class=\"fa fa-star-o\"></span>\\nSave Job\\n</a>\\n</span>\\n<span class=\"hide saved-job\" js='{:id=&gt;\"\"}'>\\n<a class=\"saved-job-text\" href=\"#\">\\n<span class=\"fa fa-star\"></span>\\nSaved Job\\n</a>\\n<a href=\"/saved-jobs\">(View Saved Jobs)</a>\\n</span>\\n<a class=\"email-job-jrp\" data-gtm=\"jrp-job-list|email-link\" data-job-did=\"J3J38T70TCP3P1RWLWV\" href=\"#\">\\n<span class=\"fa fa-envelope\"></span>\\nEmail Job\\n</a>\\n</div>\\n</div>\\n</div>\\n<div class=\"job-row\">\\n<div class=\"row\">\\n<div class=\"column\">\\n<div class=\"cb-apply-indicator\">CAREERBUILDER APPLY</div>\\n</div>\\n</div>\\n<div class=\"row\">\\n<div class=\"column small-10\">\\n<h2 class=\"job-title\">\\n<a data-company-did=\"chq0vp6bknrr4w2y7pw\" data-gtm=\"jrp-job-list|job-title-click|25\" data-job-did=\"J3K0L072Q98MTY9M9JP\" href=\"/job/J3K0L072Q98MTY9M9JP?ipath=JRG25&amp;searchid=d79be209-3212-4e49-a010-9ae80bf5abe8&amp;siteid=cbnsv\">ASIC Verification Engineer</a>\\n</h2>\\n</div>\\n<div class=\"column small-2 time-posted\">\\n<div class=\"hide-for-medium-up\">\\n3d\\n</div>\\n<div class=\"show-for-medium-up\">\\n<em>\\n3 days ago\\n</em>\\n</div>\\n</div>\\n</div>\\n<div class=\"row job-information\">\\n<div class=\"columns medium-6\">\\n<h4 class=\"job-text employment-info\">\\nFull-Time | Pay: $90k - $175k/year\\n</h4>\\n<div class=\"job-description show-for-medium-up\">\\nThis position is open as of 7/3/2016. ASIC Verification Engineer If you are an ASIC Verification Engineer with experience, please read on! Top Reasons to Work with Us 1. Stealth organization, Incredibly well funded, made up of Brilliant Engineers 2. Solid\\n</div>\\n</div>\\n<div class=\"columns small-12 medium-3\">\\n<h4 class=\"job-text\">\\n<a data-company-did=\"chq0vp6bknrr4w2y7pw\" data-gtm=\"jrp-job-list|company-click|25\" data-job-did=\"J3K0L072Q98MTY9M9JP\" href=\"/company/chq0vp6bknrr4w2y7pw?ipath=JRG25\">CyberCoders</a>\\n</h4>\\n</div>\\n<div class=\"columns small-12 medium-3 end\">\\n<h4 class=\"job-text\">\\nPasadena, CA\\n</h4>\\n<h4 class=\"job-distance\">\\n8 miles\\n\\n</h4>\\n</div>\\n</div>\\n<div class=\"row user-actions\">\\n<div class=\"small-12 columns job-actions\" data-job-did=\"J3K0L072Q98MTY9M9JP\">\\n<span class=\"loading save-job\">\\n<a href=\"#\">\\n<span class=\"fa fa-star-o\"></span>\\nSave Job\\n</a>\\n</span>\\n<span class=\"hide saved-job\" js='{:id=&gt;\"\"}'>\\n<a class=\"saved-job-text\" href=\"#\">\\n<span class=\"fa fa-star\"></span>\\nSaved Job\\n</a>\\n<a href=\"/saved-jobs\">(View Saved Jobs)</a>\\n</span>\\n<a class=\"email-job-jrp\" data-gtm=\"jrp-job-list|email-link\" data-job-did=\"J3K0L072Q98MTY9M9JP\" href=\"#\">\\n<span class=\"fa fa-envelope\"></span>\\nEmail Job\\n</a>\\n</div>\\n</div>\\n</div>\\n</div>\\n<div data-remodal-id=\"jobs-email-job-modal\" id=\"jobs-email-job-modal\">\\n<button class=\"remodal-close\" data-remodal-action=\"close\">\\n<span class=\"accessibility-hide-text\">Close</span>\\n</button>\\n<div class=\"row\">\\n<div class=\"small-12 large-10 large-push-1 columns\">\\n<form accept-charset=\"UTF-8\" action=\"/jobs/email\" id=\"email-job-form\" method=\"post\" novalidate=\"novalidate\"><input name=\"utf8\" type=\"hidden\" value=\"\\u2713\"/><input name=\"authenticity_token\" type=\"hidden\" value=\"UskEW93D/BUN64ngNiL9mKt7ae89bpSQ5hEv8CqvccFBNVkYtiu59Muy85/FscttZ9sepmwugIMqk8XWsTDh3A==\"/><input id=\"job_id\" name=\"job_id\" type=\"hidden\"/>\\n<div class=\"row\">\\n<div class=\"small-12 columns\">\\n<h2>Email this Job to Yourself or a Friend</h2>\\n<label for=\"from_address\">From (your email)</label>\\n</div>\\n</div>\\n<div class=\"row\">\\n<div class=\"small-12 columns\">\\n<input class=\"required\" id=\"from_address\" name=\"from_address\" type=\"email\"/>\\n</div>\\n</div>\\n<div class=\"row\">\\n<div class=\"small-12 columns\">\\n<label for=\"to_address\">To (recipient's email)</label>\\n</div>\\n</div>\\n<div class=\"row\">\\n<div class=\"small-12 columns\">\\n<input class=\"required\" id=\"to_address\" name=\"to_address\" type=\"email\"/>\\n</div>\\n</div>\\n<div class=\"row\">\\n<div class=\"small-12 columns\">\\n<input class=\"btn\" type=\"submit\" value=\"Send Email\"/>\\n</div>\\n</div>\\n<div class=\"row\">\\n<div class=\"small-12 columns\">\\n<a class=\"btn negative\" data-remodal-action=\"cancel\" href=\"#\">\\nCancel\\n</a>\\n</div>\\n</div>\\n</form></div>\\n</div>\\n</div>\\n<div data-remodal-id=\"suggest-sign-in\" id=\"suggest-sign-in\">\\n<button class=\"remodal-close\" data-remodal-action=\"close\">\\n<span class=\"accessibility-hide-text\">Close</span>\\n</button>\\n<div class=\"row\">\\n<div class=\"small-12 columns\">\\n<h3>{msg}</h3>\\n</div>\\n</div>\\n<div class=\"row\">\\n<div class=\"small-12 columns\">\\n<a class=\"btn\" data-gtm=\"job-action|save-link-modal-signin-click\" href=\"/user/sign-in?next=http%3A%2F%2Fwww.careerbuilder.com%2Fjobs-data-in-los-angeles%3F%26pay%3D20%23save-job\">Sign in or Register</a>\\n</div>\\n</div>\\n<div class=\"row\">\\n<div class=\"small-12 columns\">\\n<button class=\"btn negative\" data-remodal-action=\"close\">\\nCancel\\n</button>\\n</div>\\n</div>\\n</div>\\n</div>\\n<div class=\"row bump pagination\">\\n<div class=\"small-12 columns\">\\n<div class=\"pager\" role=\"navigation\">\\n<a aria='{:label=&gt;\"Previous Page\", :disabled=&gt;\"true\"}' class=\"btn tertiary pagination-btn\" data-gtm=\"jrp-job-list|pagination-back\" disabled=\"\" href=\"http://www.careerbuilder.com/jobs-data-in-los-angeles?page_number=0&amp;pay=20\">\\n<span class=\"fa fa-chevron-left\"></span>\\n</a>\\n<a aria='{:label=&gt;\"Page 1\"}' class=\"btn current-page pagination-btn tertiary\" disabled=\"\" href=\"http://www.careerbuilder.com/jobs-data-in-los-angeles?pay=20\">\\n1\\n</a>\\n<a aria='{:label=&gt;\"Page 2\"}' class=\"btn pagination-btn tertiary\" href=\"http://www.careerbuilder.com/jobs-data-in-los-angeles?page_number=2&amp;pay=20\">\\n2\\n</a>\\n<a aria='{:label=&gt;\"Page 3\"}' class=\"btn pagination-btn tertiary\" href=\"http://www.careerbuilder.com/jobs-data-in-los-angeles?page_number=3&amp;pay=20\">\\n3\\n</a>\\n<a aria='{:label=&gt;\"Page 4\"}' class=\"btn pagination-btn tertiary\" href=\"http://www.careerbuilder.com/jobs-data-in-los-angeles?page_number=4&amp;pay=20\">\\n4\\n</a>\\n<a aria='{:label=&gt;\"Page 5\"}' class=\"btn pagination-btn tertiary\" href=\"http://www.careerbuilder.com/jobs-data-in-los-angeles?page_number=5&amp;pay=20\">\\n5\\n</a>\\n<span class=\"ellipsis\">\\n\\u2026\\n</span>\\n<a aria='{:label=&gt;\"Page 9\"}' class=\"btn tertiary pagination-btn last\" data-gtm=\"jrp-job-list|pagination-last\" href=\"http://www.careerbuilder.com/jobs-data-in-los-angeles?page_number=9&amp;pay=20\">\\n9\\n</a>\\n<a aria='{:label=&gt;\"Next Page\", :disabled=&gt;\"false\"}' class=\"btn tertiary pagination-btn\" data-gtm=\"jrp-job-list|pagination-next\" href=\"http://www.careerbuilder.com/jobs-data-in-los-angeles?page_number=2&amp;pay=20\">\\n<span class=\"fa fa-chevron-right\"></span>\\n</a>\\n</div>\\n<span class=\"page-count\">\\nPage 1 of 9\\n</span>\\n</div>\\n</div>\\n</div>\\n<div class=\"row\">\\n<div class=\"small-12 columns bump\">\\n<div class=\"secondary-background job-alert-box card\" id=\"create-job-alert\">\\n<form accept-charset=\"UTF-8\" action=\"/saved-searches/create\" id=\"create-job-alert-form\" method=\"post\"><input name=\"utf8\" type=\"hidden\" value=\"\\u2713\"/><input name=\"authenticity_token\" type=\"hidden\" value=\"v4/43dia+/67dDP20iuYKClGPpr4aKS1R+2c0WTH0Ousc6Wes3K+H30tSYkhuK7d5eZJ06kosKaLb3b3/1hA9g==\"/><div class=\"row\">\\n<div class=\"small-12 columns\">\\n<h2>Sign Up for Job Alerts</h2>\\n</div>\\n</div>\\n<div class=\"row\">\\n<div class=\"small-12 columns\">\\nNever miss the latest Data Jobs in Los Angeles, CA\\n</div>\\n</div>\\n<div class=\"row bump\">\\n<div class=\"small-12 medium-5 columns\">\\n<div class=\"row\">\\n<div class=\"small-12 columns\"><label for=\"email\">Your Email</label></div>\\n</div>\\n<div class=\"row\">\\n<div class=\"small-12 columns\"><input class=\"required\" id=\"email\" name=\"email\" type=\"text\" value=\"\"/></div>\\n</div>\\n</div>\\n<div class=\"small-12 medium-3 columns\">\\n<fieldset class=\"accessibility-hide\">\\n<legend class=\"accessibility-hide-text\">Alert Frequency</legend>\\n<div class=\"bold\">Alert Frequency</div>\\n<div>\\n<input id=\"frequency_Daily\" name=\"frequency\" type=\"radio\" value=\"Daily\"/>\\n<label for=\"frequency_Daily\">Daily</label>\\n</div>\\n<div>\\n<input checked=\"checked\" id=\"frequency_Weekly\" name=\"frequency\" type=\"radio\" value=\"Weekly\"/>\\n<label for=\"frequency_Weekly\">Weekly</label>\\n</div>\\n</fieldset>\\n</div>\\n<div class=\"small-12 medium-4 columns bump\">\\n<button class=\"btn secondary\" data-gtm=\"jrp-job-alerts|alerts-submit-bottom\" name=\"button\" type=\"submit\">Create Job Alert</button>\\n</div>\\n</div>\\n<div class=\"row\">\\n<div class=\"small-12 columns cancel\">\\nYou can cancel job alerts at any time\\n</div>\\n</div>\\n</form></div>\\n<div class=\"secondary-background job-alert-box card hide\" id=\"saving-job-alert\">\\n<div class=\"row\">\\n<div class=\"small-12 columns\">\\n<h2>\\n<i class=\"fa fa-spinner fa-spin\"></i>\\nSaving Your Job Alert\\n</h2>\\n</div>\\n</div>\\n</div>\\n<div class=\"secondary-background job-alert-box card hide\" id=\"job-alert-created\">\\n<div class=\"row\">\\n<div class=\"small-12 columns\">\\n<h2>\\n<i class=\"fa fa-check-circle success\"></i>\\nJob Alert Created\\n</h2>\\n</div>\\n</div>\\n<div class=\"row\">\\n<div class=\"small-12 columns\">\\nYou will be receiving\\n<span id=\"frequency_word\"></span>\\njob alerts for Data Jobs in Los Angeles, CA.\\n</div>\\n</div>\\n</div>\\n<div class=\"secondary-background job-alert-box card hide\" id=\"error-saving-job-alert\">\\n<div class=\"row\">\\n<div class=\"small-12 columns\">\\nWell, this is embarrassing. We are having trouble saving your search. You can try again or come back at a later time.\\n</div>\\n</div>\\n</div>\\n<div class=\"secondary-background job-alert-box card hide\" id=\"max-saved-searches-error\">\\n<div class=\"row\">\\n<div class=\"small-12 columns\">\\n<h2>Maximum Email Alerts</h2>\\n</div>\\n</div>\\n<div class=\"row\">\\n<div class=\"small-12 columns\">\\nThis email address has reached the maximum of 5 email alerts. To create a new alert, you will need to log into your email and unsubscribe from at least one.\\n</div>\\n</div>\\n</div>\\n</div>\\n</div>\\n</div>\\n</div>\\n<div class=\"row\">\\n<div class=\"bottom-ad-container\">\\n<div class=\"show-for-medium-up large-10 large-offset-2 columns\">\\n<div class=\"bottom-ad\"></div>\\n<h5>\\nADVERTISEMENT\\n</h5>\\n</div>\\n</div>\\n</div>\\n<div class=\"row back-to-top\">\\n<div class=\"column small-12 double-bump hide-for-large-up center-text\">\\n<a class=\"to-top\" href=\"\">\\nBack To Top\\n<i class=\"fa fa-arrow-up\"></i>\\n</a>\\n</div>\\n</div>\\n</div>\\n<footer class=\"universal-footer\">\\n<div class=\"row\" id=\"footer-links\">\\n<section class=\"columns small-9 small-offset-3 margin-below hide-section\" id=\"back-to-section-list\">\\n<a>\\n<span class=\"fa fa-angle-left bold\"></span>\\nBack\\n</a>\\n</section>\\n<section class=\"small-5 columns small-offset-3 medium-offset-0\" id=\"footer-sections-list\">\\n<ul>\\n<li data-section=\"footer-job-seeker-links\">\\n<a>\\n<strong>Job Seekers</strong>\\n<span class=\"fa fa-angle-right bold\"></span>\\n</a>\\n</li>\\n<li data-section=\"footer-help-center-links\">\\n<a>\\n<strong>Help Center</strong>\\n<span class=\"fa fa-angle-right bold\"></span>\\n</a>\\n</li>\\n<li data-section=\"footer-employer-links\">\\n<a>\\n<strong>Employers</strong>\\n<span class=\"fa fa-angle-right bold\"></span>\\n</a>\\n</li>\\n<li data-section=\"footer-careerbuilder-links\">\\n<a>\\n<strong>CareerBuilder</strong>\\n<span class=\"fa fa-angle-right bold\"></span>\\n</a>\\n</li>\\n<li data-section=\"footer-social-links\">\\n<a>\\n<strong>Stay Connected</strong>\\n<span class=\"fa fa-angle-right bold\"></span>\\n</a>\\n</li>\\n<li data-section=\"footer-legal-links\">\\n<a>\\n<strong>Legal</strong>\\n<span class=\"fa fa-angle-right bold\"></span>\\n</a>\\n</li>\\n</ul>\\n</section>\\n<section class=\"small-6 medium-3 large-2 columns small-offset-3 medium-offset-0 hide-section\" id=\"footer-job-seeker-links\">\\n<h4>Job Seekers</h4>\\n<ul>\\n<li>\\n<a data-gtm=\"footer|international-jobs\" href=\"http://www.careerbuilder.com/jobseeker/jobs/jobfindil.aspx\">International Jobs</a>\\n</li>\\n<li>\\n<a data-gtm=\"footer|blog\" href=\"http://advice.careerbuilder.com/\">Blog</a>\\n</li>\\n<li>\\n<a data-gtm=\"footer|career-insights\" href=\"http://coach.careerbuilder.com/\">Career Insights</a>\\n</li>\\n<li>\\n<a data-gtm=\"footer|sitemap\" href=\"http://www.careerbuilder.com/sitemap.aspx\">Sitemap</a>\\n</li>\\n<li>\\n<a data-gtm=\"footer|accessibility\" href=\"http://accesscb.net/\">Accessibility</a>\\n</li>\\n</ul>\\n</section>\\n<section class=\"small-6 medium-3 large-2 columns small-offset-3 medium-offset-0 hide-section\" id=\"footer-help-center-links\">\\n<h4>Help Center</h4>\\n<ul>\\n<li>\\n<a data-gtm=\"footer|manage-email\" href=\"http://www.careerbuilder.com/jobseeker/emails/emailsubcenter.aspx\">Manage Email</a>\\n</li>\\n<li>\\n<a data-gtm=\"footer|reset-password\" href=\"http://www.careerbuilder.com/share/changeemailpwd.aspx\">Reset Password</a>\\n</li>\\n<li>\\n<a data-gtm=\"footer|customer-service\" href=\"http://www.fuzeqna.com/careerbuilder/consumer/question.asp\">Customer Service</a>\\n</li>\\n</ul>\\n</section>\\n<section class=\"small-6 medium-3 large-2 columns small-offset-3 medium-offset-0 hide-section\" id=\"footer-employer-links\">\\n<h4>Employers</h4>\\n<ul>\\n<li>\\n<a data-gtm=\"footer|search-resumes\" href=\"http://hiring.careerbuilder.com/recruitment-advertising/small-business-resume-database\">Search Resumes</a>\\n</li>\\n<li>\\n<a data-gtm=\"footer|post-jobs\" href=\"http://hiring.careerbuilder.com/recruitment-advertising/post-job-right-now\">Post Jobs</a>\\n</li>\\n<li>\\n<a data-gtm=\"footer|talent-networks\" href=\"http://www.careerbuilder.com/s/talent-networks\">Talent Networks</a>\\n</li>\\n<li>\\n<a data-gtm=\"footer|advertising\" href=\"http://www.careerbuilder.com/jobseeker/info/advertise.aspx?sc_cmp1=JS_Advertise\">Advertising</a>\\n</li>\\n</ul>\\n</section>\\n<section class=\"small-6 medium-3 large-2 columns small-offset-3 medium-offset-0 hide-section\" id=\"footer-careerbuilder-links\">\\n<h4>CareerBuilder</h4>\\n<ul>\\n<li>\\n<a data-gtm=\"footer|about-us\" href=\"http://www.careerbuilder.com/share/aboutus/default.aspx\">About Us</a>\\n</li>\\n<li>\\n<a data-gtm=\"footer|work-at-careerbuilder\" href=\"http://www.careerbuildercareers.com/\">Work at CareerBuilder</a>\\n</li>\\n<li>\\n<a data-gtm=\"footer|send-feedback\" href=\"#\" onclick=\"window.usabilla_live('click');\">Send Feedback</a>\\n</li>\\n</ul>\\n<p class=\"bump\">\\n200 N. LaSalle St.\\n<br/>\\nSuite 1100\\n<br/>\\nChicago, IL 60601\\n</p>\\n</section>\\n<section class=\"small-6 medium-3 large-2 columns small-offset-3 medium-offset-0 hide-section\" id=\"footer-social-links\">\\n<h4>Stay Connected</h4>\\n<ul>\\n<li>\\n<a data-gtm=\"footer|twitter\" href=\"http://twitter.com/careerbuilder\">\\n<span class=\"fa fa-twitter-square\"></span>\\nTwitter\\n</a>\\n</li>\\n<li>\\n<a data-gtm=\"footer|instagram\" href=\"https://instagram.com/careerbuilder/\">\\n<span class=\"fa fa-instagram\"></span>\\nInstagram\\n</a>\\n</li>\\n<li>\\n<a data-gtm=\"footer|youtube\" href=\"https://www.youtube.com/user/CareerBuilder\">\\n<span class=\"fa fa-youtube-square\"></span>\\nYoutube\\n</a>\\n</li>\\n<li>\\n<a data-gtm=\"footer|facebook\" href=\"http://www.facebook.com/careerbuilder\">\\n<span class=\"fa fa-facebook-square\"></span>\\nFacebook\\n</a>\\n</li>\\n<li>\\n<a data-gtm=\"footer|tumblr\" href=\"http://workhappier.tumblr.com/\">\\n<span class=\"fa fa-tumblr-square\"></span>\\nTumblr\\n</a>\\n</li>\\n<li>\\n<a data-gtm=\"footer|google-plus\" href=\"https://plus.google.com/+careerbuilder/posts\">\\n<span class=\"fa fa-google-plus-square\"></span>\\nGoogle Plus\\n</a>\\n</li>\\n<li>\\n<a data-gtm=\"footer|pinterest\" href=\"https://www.pinterest.com/careerbuilder/\">\\n<span class=\"fa fa-pinterest-square\"></span>\\nPinterest\\n</a>\\n</li>\\n<li>\\n<a data-gtm=\"footer|linkedin\" href=\"https://www.linkedin.com/company/careerbuilder.com\">\\n<span class=\"fa fa-linkedin-square\"></span>\\nLinkedIn\\n</a>\\n</li>\\n</ul>\\n</section>\\n<section class=\"small-12 medium-3 large-2 columns small-offset-3 medium-offset-0 hide-section\" id=\"footer-legal-links\">\\n<h4>Legal</h4>\\n<ul>\\n<li>\\n<a data-gtm=\"footer|security-&amp;-fraud\" href=\"http://www.careerbuilder.com/jobseeker/info/fraud.aspx\">Security &amp; Fraud</a>\\n</li>\\n<li>\\n<a data-gtm=\"footer|privacy-policy\" href=\"http://www.careerbuilder.com/privacy\">Privacy Policy</a>\\n</li>\\n<li>\\n<a data-gtm=\"footer|terms\" href=\"http://www.careerbuilder.com/terms\">Terms</a>\\n</li>\\n<li>\\n<a data-gtm=\"footer|ad-choices\" href=\"http://preferences.truste.com/2.0/?affiliateId=126\">\\nAd Choices\\n<img alt=\"Ad Choices\" class=\"ad-choices\" src=\"/assets/consumer_layouts/ad_choices-179a67c29cac43cff327f12ea826145e596d3e93811bd7b89d0f4538e5bfab08.png\"/>\\n</a>\\n</li>\\n</ul>\\n</section>\\n<section class=\"small-9 medium-3 large-12 columns small-offset-3 medium-offset-0 hide-section end\" id=\"footer-mobile-app-links\">\\n<h4>Search on the Go</h4>\\n<a data-gtm=\"footer|download-ios-app\" href=\"https://itunes.apple.com/us/app/jobs-by-careerbuilder/id524123670\">\\n<img alt=\"Download the CB Jobs App in the iOS App Store\" class=\"app_logo_app_store\" src=\"/assets/consumer_layouts/s-ef1955ae757c8b966c83248350331bd3a30f658ced11f387f8ebf05ab3368629.gif\"/>\\n</a>\\n<a data-gtm=\"footer|download-android-app\" href=\"https://play.google.com/store/apps/details?id=com.careerbuilder.SugarDrone&amp;hl=en_US\">\\n<img alt=\"Download the CB Jobs App in the Google Play Store\" class=\"app_logo_google_play\" src=\"/assets/consumer_layouts/s-ef1955ae757c8b966c83248350331bd3a30f658ced11f387f8ebf05ab3368629.gif\"/>\\n</a>\\n</section>\\n</div>\\n<div class=\"row\">\\n<div class=\"columns bold small-12\" id=\"footer-legal-banner\">\\n<p>\\n\\xa9 2016 Careerbuilder, LLC. All rights reserved.\\n</p>\\n</div>\\n</div>\\n</footer>\\n<script src=\"https://www.google.com/jsapi\"></script>\\n<script src=\"/assets/application-99f6f029ff362d3a29eeeb23e198aa6f7698260a647c37f6211d69de0fec02ac.js\"></script>\\n<script>\\n  new Cb.JobResultPage();\\n</script>\\n<script>\\n  AdRetriever = new Cb.AdRetriever();\\n  new Cb.JobResultPageAds(AdRetriever);\\n</script>\\n<script>\\n  $('.search-form form').on('submit', function(e) {\\n    e.preventDefault();\\n    var inputKeywords = $('#header-keywords').val();\\n    var inputLocation = $('#header-location').val();\\n    $('#filter-keywords').val(inputKeywords);\\n    $('#filter-location').val(inputLocation);\\n    $('#filter-search-form').trigger('submit');\\n  });\\n</script>\\n<script type=\"application/ld+json\">\\n{\"@context\":\"http://schema.org\",\"@type\":\"ItemList\",\"itemListElement\":[{\"@type\":\"ListItem\",\"position\":1,\"url\":\"http://www.careerbuilder.com/job/J3F4996D370B8GMVSJL\"},{\"@type\":\"ListItem\",\"position\":2,\"url\":\"http://www.careerbuilder.com/job/J3K4PV6L7R54K2LKKMH\"},{\"@type\":\"ListItem\",\"position\":3,\"url\":\"http://www.careerbuilder.com/job/J3K6Y869JKBPLZ6LCL7\"},{\"@type\":\"ListItem\",\"position\":4,\"url\":\"http://www.careerbuilder.com/job/J3L4CV64HS2TG3Z5X9F\"},{\"@type\":\"ListItem\",\"position\":5,\"url\":\"http://www.careerbuilder.com/job/J3J21265XDRCVZB1MSS\"},{\"@type\":\"ListItem\",\"position\":6,\"url\":\"http://www.careerbuilder.com/job/J3G2JY73GG8DJ8YZY73\"},{\"@type\":\"ListItem\",\"position\":7,\"url\":\"http://www.careerbuilder.com/job/J3K1BH69ZSC33SCTJ35\"},{\"@type\":\"ListItem\",\"position\":8,\"url\":\"http://www.careerbuilder.com/job/J3J1JV6C5TJDNV3Y5L4\"},{\"@type\":\"ListItem\",\"position\":9,\"url\":\"http://www.careerbuilder.com/job/J3F6R76V6BPFHG901J8\"},{\"@type\":\"ListItem\",\"position\":10,\"url\":\"http://www.careerbuilder.com/job/J3J5X56NR5HS591J2TT\"},{\"@type\":\"ListItem\",\"position\":11,\"url\":\"http://www.careerbuilder.com/job/J3J0NM5ZVMND5JG9XR3\"},{\"@type\":\"ListItem\",\"position\":12,\"url\":\"http://www.careerbuilder.com/job/J3G45R6YVPQ9FNY69N8\"},{\"@type\":\"ListItem\",\"position\":13,\"url\":\"http://www.careerbuilder.com/job/JHR27478TSPQ794SBFJ\"},{\"@type\":\"ListItem\",\"position\":14,\"url\":\"http://www.careerbuilder.com/job/J8G80M627RYD1JXS2MW\"},{\"@type\":\"ListItem\",\"position\":15,\"url\":\"http://www.careerbuilder.com/job/J3J78D5W9T5JLJFG0CG\"},{\"@type\":\"ListItem\",\"position\":16,\"url\":\"http://www.careerbuilder.com/job/J5L6RV6CPQ1N7J2MY6C\"},{\"@type\":\"ListItem\",\"position\":17,\"url\":\"http://www.careerbuilder.com/job/JHP49F789TB75LP1FCQ\"},{\"@type\":\"ListItem\",\"position\":18,\"url\":\"http://www.careerbuilder.com/job/JHL1Y86JGHFWQ6YK5P0\"},{\"@type\":\"ListItem\",\"position\":19,\"url\":\"http://www.careerbuilder.com/job/J3G3DB72LV3ZJFLPNMJ\"},{\"@type\":\"ListItem\",\"position\":20,\"url\":\"http://www.careerbuilder.com/job/J900ZY6JGVQGH4FFHCC\"},{\"@type\":\"ListItem\",\"position\":21,\"url\":\"http://www.careerbuilder.com/job/J3J60J6F7SD9S2SVZV9\"},{\"@type\":\"ListItem\",\"position\":22,\"url\":\"http://www.careerbuilder.com/job/J3F4XF67TH7C6GW5VZC\"},{\"@type\":\"ListItem\",\"position\":23,\"url\":\"http://www.careerbuilder.com/job/J3H6716D8B78P0TP2JY\"},{\"@type\":\"ListItem\",\"position\":24,\"url\":\"http://www.careerbuilder.com/job/J3J38T70TCP3P1RWLWV\"},{\"@type\":\"ListItem\",\"position\":25,\"url\":\"http://www.careerbuilder.com/job/J3K0L072Q98MTY9M9JP\"}]}\\n</script>\\n<script type=\"application/ld+json\">\\n{\\n  \"@context\" : \"http://schema.org\",\\n  \"@type\" : \"Organization\",\\n  \"name\" : \"CareerBuilder\",\\n  \"url\" : \"http://www.careerbuilder.com\",\\n  \"sameAs\" : [\\n    \"http://www.facebook.com/careerbuilder\",\\n    \"http://www.twitter.com/CareerBuilder\",\\n    \"https://www.linkedin.com/company/careerbuilder.com\",\\n    \"https://plus.google.com/+careerbuilder\",\\n    \"https://www.youtube.com/user/CareerBuilder\"\\n  ]\\n}\\n</script>\\n<script type=\"text/javascript\">\\n        (function()           {\\nvar injs = document.createElement('script');          injs.type = \"text/javascript\"          ;\\ninjs.src = \"https://visitor.careerbuilder.com/track/?event=eyJSRU1PVEVfQUREUiI6IjEwLjAuMjAwLjEyNCIsIk9SSUdJTkFMX0ZVTExQQVRIIjoiL2pvYnMtZGF0YS1pbi1sb3MtYW5nZWxlcz9cdTAwMjZwYXk9MjAiLCJSRVFVRVNUX01FVEhPRCI6IkdFVCIsIlJFUVVFU1RfVVJJIjoiL2pvYnMtZGF0YS1pbi1sb3MtYW5nZWxlcz9cdTAwMjZwYXk9MjAiLCJIVFRQX0hPU1QiOiJ3d3cuY2FyZWVyYnVpbGRlci5jb20iLCJIVFRQX1VTRVJfQUdFTlQiOiJweXRob24tcmVxdWVzdHMvMi45LjEiLCJRVUVSWV9TVFJJTkciOiJcdTAwMjZwYXk9MjAiLCJCSUQiOiJYMTgzM0FCNzc0RUYyNzZGQ0JGQTY0RjQ2MDAwQ0Q3MTQxMEZGMDM1QkUyOEE1OUU3QUUxNjExMTQ1NjlGRTc0Q0JGOTc0QjUxNjA3MjE0MzJBMTZENTBERTFCMzJBMTRBNiIsImV2ZW50X3R5cGUiOiJqb2Jfc2VhcmNoIiwiam9iX3Jlc3VsdHMiOiJKM0Y0OTk2RDM3MEI4R01WU0pMLEozSzRQVjZMN1I1NEsyTEtLTUgsSjNLNlk4NjlKS0JQTFo2TENMNyxKM0w0Q1Y2NEhTMlRHM1o1WDlGLEozSjIxMjY1WERSQ1ZaQjFNU1MsSjNHMkpZNzNHRzhESjhZWlk3MyxKM0sxQkg2OVpTQzMzU0NUSjM1LEozSjFKVjZDNVRKRE5WM1k1TDQsSjNGNlI3NlY2QlBGSEc5MDFKOCxKM0o1WDU2TlI1SFM1OTFKMlRULEozSjBOTTVaVk1ORDVKRzlYUjMsSjNHNDVSNllWUFE5Rk5ZNjlOOCxKSFIyNzQ3OFRTUFE3OTRTQkZKLEo4RzgwTTYyN1JZRDFKWFMyTVcsSjNKNzhENVc5VDVKTEpGRzBDRyxKNUw2UlY2Q1BRMU43SjJNWTZDLEpIUDQ5Rjc4OVRCNzVMUDFGQ1EsSkhMMVk4NkpHSEZXUTZZSzVQMCxKM0czREI3MkxWM1pKRkxQTk1KLEo5MDBaWTZKR1ZRR0g0RkZIQ0MsSjNKNjBKNkY3U0Q5UzJTVlpWOSxKM0Y0WEY2N1RIN0M2R1c1VlpDLEozSDY3MTZEOEI3OFAwVFAySlksSjNKMzhUNzBUQ1AzUDFSV0xXVixKM0swTDA3MlE5OE1UWTlNOUpQIiwibG9jYXRpb24iOiJsb3MgYW5nZWxlcyIsImtleXdvcmRzIjoiZGF0YSIsImhvc3Rfc2l0ZSI6IlVTIiwic2l0ZV9wcm9wZXJ0eSI6IkNCTW91bnRhaW4iLCJWSUQiOiJWWDQ4MDFGQTQwNDE3RjExRTZBRDY0MDc5NjY3N0U3Q0M5MTgwNVVOIn0=\"          ;\\ninjs.async = true          ;\\ninjs.id = \"inteljs\"          ;\\ndocument.body.appendChild(injs)          ;\\n})();\\n        </script>\\n</body>\\n</html>\\n"
      ]
     },
     "execution_count": 355,
     "metadata": {},
     "output_type": "execute_result"
    }
   ],
   "source": [
    "soup"
   ]
  },
  {
   "cell_type": "markdown",
   "metadata": {},
   "source": [
    "# Grab data and put into lists"
   ]
  },
  {
   "cell_type": "code",
   "execution_count": 232,
   "metadata": {
    "collapsed": false,
    "scrolled": true
   },
   "outputs": [],
   "source": [
    "LocList = []\n",
    "\n",
    "location = soup.select('h4.job-text')\n",
    "for l in location:\n",
    "    LocList.append(l.text)\n",
    "\n",
    "del LocList[::3]\n",
    "del LocList[::2]\n",
    "\n",
    "\n",
    "LocationList = [item.encode('utf-8') for item in LocList]\n"
   ]
  },
  {
   "cell_type": "code",
   "execution_count": 348,
   "metadata": {
    "collapsed": false
   },
   "outputs": [],
   "source": [
    "ComList = []\n",
    "\n",
    "company = soup.select('h4.job-text')\n",
    "for c in company:\n",
    "    ComList.append(c.text)\n",
    "\n",
    "del ComList[::3]\n",
    "del ComList[1::2]\n",
    "\n",
    "CompanyList = [item.encode('utf-8') for item in ComList]"
   ]
  },
  {
   "cell_type": "code",
   "execution_count": 349,
   "metadata": {
    "collapsed": false
   },
   "outputs": [],
   "source": [
    "SalList = []\n",
    "\n",
    "salary = soup.select('h4.job-text')\n",
    "for s in salary:\n",
    "    SalList.append(s.text)\n",
    "\n",
    "del SalList[1::3]\n",
    "del SalList[1::2]\n",
    "\n",
    "\n",
    "SalaryList = [item.encode('utf-8') for item in SalList]"
   ]
  },
  {
   "cell_type": "code",
   "execution_count": 350,
   "metadata": {
    "collapsed": true
   },
   "outputs": [],
   "source": [
    "descriptions = []\n",
    "\n",
    "desc = soup.select('div.job-description')\n",
    "for a in desc:\n",
    "    descriptions.append(a.text)\n",
    "    \n",
    "\n",
    "SummaryList = [item.encode('utf-8') for item in descriptions]\n"
   ]
  },
  {
   "cell_type": "code",
   "execution_count": 351,
   "metadata": {
    "collapsed": true
   },
   "outputs": [],
   "source": [
    "jobtitle = soup.select('.job-title')\n",
    "\n",
    "JTs = []\n",
    "\n",
    "for i in jobtitle:\n",
    "    JTs.append(i.text)\n",
    "\n",
    "JT = [item.encode('utf-8') for item in JTs]"
   ]
  },
  {
   "cell_type": "markdown",
   "metadata": {},
   "source": [
    "# Parse Salaries"
   ]
  },
  {
   "cell_type": "code",
   "execution_count": 347,
   "metadata": {
    "collapsed": false
   },
   "outputs": [],
   "source": [
    "import re\n",
    "\n",
    "parsed= []\n",
    "for i in SalaryList:\n",
    "    x = re.findall(r'\\d+', i)\n",
    "    parsed.append(x)\n",
    "#parsed"
   ]
  },
  {
   "cell_type": "code",
   "execution_count": 346,
   "metadata": {
    "collapsed": false
   },
   "outputs": [],
   "source": [
    "maxParse = []\n",
    "for i in parsed:\n",
    "    if len(i) == 1:\n",
    "        maxParse.append(i[0])\n",
    "    else:\n",
    "        maxParse.append(i[1])\n",
    "# maxParse"
   ]
  },
  {
   "cell_type": "code",
   "execution_count": 345,
   "metadata": {
    "collapsed": false
   },
   "outputs": [],
   "source": [
    "minParse = []\n",
    "for i in parsed:\n",
    "    if len(i) == 1:\n",
    "        minParse.append(i[0])\n",
    "    else:\n",
    "        minParse.append(i[0])\n",
    "#minParse"
   ]
  },
  {
   "cell_type": "markdown",
   "metadata": {},
   "source": [
    "# I like pandas... so time to clean and merge before exporting to csv"
   ]
  },
  {
   "cell_type": "code",
   "execution_count": 237,
   "metadata": {
    "collapsed": false
   },
   "outputs": [
    {
     "data": {
      "text/html": [
       "<div>\n",
       "<table border=\"1\" class=\"dataframe\">\n",
       "  <thead>\n",
       "    <tr style=\"text-align: right;\">\n",
       "      <th></th>\n",
       "      <th>title</th>\n",
       "    </tr>\n",
       "  </thead>\n",
       "  <tbody>\n",
       "    <tr>\n",
       "      <th>23</th>\n",
       "      <td>\\nFront End Developer\\n</td>\n",
       "    </tr>\n",
       "    <tr>\n",
       "      <th>24</th>\n",
       "      <td>\\nASIC Verification Engineer\\n</td>\n",
       "    </tr>\n",
       "  </tbody>\n",
       "</table>\n",
       "</div>"
      ],
      "text/plain": [
       "                             title\n",
       "23         \\nFront End Developer\\n\n",
       "24  \\nASIC Verification Engineer\\n"
      ]
     },
     "execution_count": 237,
     "metadata": {},
     "output_type": "execute_result"
    }
   ],
   "source": [
    "import pandas as pd\n",
    "\n",
    "titleDF = pd.DataFrame(JT)\n",
    "\n",
    "titleDF.columns = ['title']\n",
    "titleDF.tail(2)"
   ]
  },
  {
   "cell_type": "code",
   "execution_count": 238,
   "metadata": {
    "collapsed": false
   },
   "outputs": [
    {
     "data": {
      "text/html": [
       "<div>\n",
       "<table border=\"1\" class=\"dataframe\">\n",
       "  <thead>\n",
       "    <tr style=\"text-align: right;\">\n",
       "      <th></th>\n",
       "      <th>city</th>\n",
       "    </tr>\n",
       "  </thead>\n",
       "  <tbody>\n",
       "    <tr>\n",
       "      <th>23</th>\n",
       "      <td>\\nLos Angeles, CA\\n</td>\n",
       "    </tr>\n",
       "    <tr>\n",
       "      <th>24</th>\n",
       "      <td>\\nPasadena, CA\\n</td>\n",
       "    </tr>\n",
       "  </tbody>\n",
       "</table>\n",
       "</div>"
      ],
      "text/plain": [
       "                   city\n",
       "23  \\nLos Angeles, CA\\n\n",
       "24     \\nPasadena, CA\\n"
      ]
     },
     "execution_count": 238,
     "metadata": {},
     "output_type": "execute_result"
    }
   ],
   "source": [
    "locationDF = pd.DataFrame(LocationList)\n",
    "\n",
    "locationDF.columns = ['city']\n",
    "locationDF.tail(2)"
   ]
  },
  {
   "cell_type": "code",
   "execution_count": 239,
   "metadata": {
    "collapsed": false
   },
   "outputs": [
    {
     "data": {
      "text/html": [
       "<div>\n",
       "<table border=\"1\" class=\"dataframe\">\n",
       "  <thead>\n",
       "    <tr style=\"text-align: right;\">\n",
       "      <th></th>\n",
       "      <th>summary</th>\n",
       "    </tr>\n",
       "  </thead>\n",
       "  <tbody>\n",
       "    <tr>\n",
       "      <th>23</th>\n",
       "      <td>\\nThis position is open as of 7/3/2016. Front ...</td>\n",
       "    </tr>\n",
       "    <tr>\n",
       "      <th>24</th>\n",
       "      <td>\\nThis position is open as of 7/3/2016. ASIC V...</td>\n",
       "    </tr>\n",
       "  </tbody>\n",
       "</table>\n",
       "</div>"
      ],
      "text/plain": [
       "                                              summary\n",
       "23  \\nThis position is open as of 7/3/2016. Front ...\n",
       "24  \\nThis position is open as of 7/3/2016. ASIC V..."
      ]
     },
     "execution_count": 239,
     "metadata": {},
     "output_type": "execute_result"
    }
   ],
   "source": [
    "summaryDF = pd.DataFrame(SummaryList)\n",
    "\n",
    "summaryDF.columns = ['summary']\n",
    "summaryDF.tail(2)"
   ]
  },
  {
   "cell_type": "code",
   "execution_count": 240,
   "metadata": {
    "collapsed": false
   },
   "outputs": [
    {
     "data": {
      "text/html": [
       "<div>\n",
       "<table border=\"1\" class=\"dataframe\">\n",
       "  <thead>\n",
       "    <tr style=\"text-align: right;\">\n",
       "      <th></th>\n",
       "      <th>salary</th>\n",
       "    </tr>\n",
       "  </thead>\n",
       "  <tbody>\n",
       "    <tr>\n",
       "      <th>23</th>\n",
       "      <td>\\nFull-Time | Pay: $140k - $175k/year\\n</td>\n",
       "    </tr>\n",
       "    <tr>\n",
       "      <th>24</th>\n",
       "      <td>\\nFull-Time | Pay: $90k - $175k/year\\n</td>\n",
       "    </tr>\n",
       "  </tbody>\n",
       "</table>\n",
       "</div>"
      ],
      "text/plain": [
       "                                     salary\n",
       "23  \\nFull-Time | Pay: $140k - $175k/year\\n\n",
       "24   \\nFull-Time | Pay: $90k - $175k/year\\n"
      ]
     },
     "execution_count": 240,
     "metadata": {},
     "output_type": "execute_result"
    }
   ],
   "source": [
    "salaryDF = pd.DataFrame(SalaryList)\n",
    "\n",
    "salaryDF.columns = ['salary']\n",
    "salaryDF.tail(2)"
   ]
  },
  {
   "cell_type": "code",
   "execution_count": 336,
   "metadata": {
    "collapsed": false
   },
   "outputs": [
    {
     "data": {
      "text/html": [
       "<div>\n",
       "<table border=\"1\" class=\"dataframe\">\n",
       "  <thead>\n",
       "    <tr style=\"text-align: right;\">\n",
       "      <th></th>\n",
       "      <th>maxParse</th>\n",
       "    </tr>\n",
       "  </thead>\n",
       "  <tbody>\n",
       "    <tr>\n",
       "      <th>23</th>\n",
       "      <td>175.0</td>\n",
       "    </tr>\n",
       "    <tr>\n",
       "      <th>24</th>\n",
       "      <td>175.0</td>\n",
       "    </tr>\n",
       "  </tbody>\n",
       "</table>\n",
       "</div>"
      ],
      "text/plain": [
       "    maxParse\n",
       "23     175.0\n",
       "24     175.0"
      ]
     },
     "execution_count": 336,
     "metadata": {},
     "output_type": "execute_result"
    }
   ],
   "source": [
    "maxParseDF = pd.DataFrame(maxParse)\n",
    "\n",
    "maxParseDF.columns = ['maxParse']\n",
    "maxParseDF['maxParse'] = maxParseDF['maxParse'].astype(float)\n",
    "maxParseDF.tail(2)"
   ]
  },
  {
   "cell_type": "code",
   "execution_count": 337,
   "metadata": {
    "collapsed": false
   },
   "outputs": [
    {
     "data": {
      "text/html": [
       "<div>\n",
       "<table border=\"1\" class=\"dataframe\">\n",
       "  <thead>\n",
       "    <tr style=\"text-align: right;\">\n",
       "      <th></th>\n",
       "      <th>minParse</th>\n",
       "    </tr>\n",
       "  </thead>\n",
       "  <tbody>\n",
       "    <tr>\n",
       "      <th>23</th>\n",
       "      <td>140.0</td>\n",
       "    </tr>\n",
       "    <tr>\n",
       "      <th>24</th>\n",
       "      <td>90.0</td>\n",
       "    </tr>\n",
       "  </tbody>\n",
       "</table>\n",
       "</div>"
      ],
      "text/plain": [
       "    minParse\n",
       "23     140.0\n",
       "24      90.0"
      ]
     },
     "execution_count": 337,
     "metadata": {},
     "output_type": "execute_result"
    }
   ],
   "source": [
    "minParseDF = pd.DataFrame(minParse)\n",
    "\n",
    "minParseDF.columns = ['minParse']\n",
    "minParseDF['minParse'] = minParseDF['minParse'].astype(float)\n",
    "\n",
    "minParseDF.tail(2)\n"
   ]
  },
  {
   "cell_type": "code",
   "execution_count": 315,
   "metadata": {
    "collapsed": false
   },
   "outputs": [
    {
     "data": {
      "text/html": [
       "<div>\n",
       "<table border=\"1\" class=\"dataframe\">\n",
       "  <thead>\n",
       "    <tr style=\"text-align: right;\">\n",
       "      <th></th>\n",
       "      <th>company</th>\n",
       "    </tr>\n",
       "  </thead>\n",
       "  <tbody>\n",
       "    <tr>\n",
       "      <th>23</th>\n",
       "      <td>\\nCyberCoders\\n</td>\n",
       "    </tr>\n",
       "    <tr>\n",
       "      <th>24</th>\n",
       "      <td>\\nCyberCoders\\n</td>\n",
       "    </tr>\n",
       "  </tbody>\n",
       "</table>\n",
       "</div>"
      ],
      "text/plain": [
       "            company\n",
       "23  \\nCyberCoders\\n\n",
       "24  \\nCyberCoders\\n"
      ]
     },
     "execution_count": 315,
     "metadata": {},
     "output_type": "execute_result"
    }
   ],
   "source": [
    "companyDF = pd.DataFrame(CompanyList)\n",
    "\n",
    "companyDF.columns = ['company']\n",
    "companyDF.tail(2)"
   ]
  },
  {
   "cell_type": "markdown",
   "metadata": {},
   "source": [
    "# Concat and parse salary"
   ]
  },
  {
   "cell_type": "code",
   "execution_count": 339,
   "metadata": {
    "collapsed": false
   },
   "outputs": [
    {
     "data": {
      "text/html": [
       "<div>\n",
       "<table border=\"1\" class=\"dataframe\">\n",
       "  <thead>\n",
       "    <tr style=\"text-align: right;\">\n",
       "      <th></th>\n",
       "      <th>city</th>\n",
       "      <th>company</th>\n",
       "      <th>salary</th>\n",
       "      <th>summary</th>\n",
       "      <th>title</th>\n",
       "      <th>minParse</th>\n",
       "      <th>maxParse</th>\n",
       "    </tr>\n",
       "  </thead>\n",
       "  <tbody>\n",
       "    <tr>\n",
       "      <th>23</th>\n",
       "      <td>\\nLos Angeles, CA\\n</td>\n",
       "      <td>\\nCyberCoders\\n</td>\n",
       "      <td>\\nFull-Time | Pay: $140k - $175k/year\\n</td>\n",
       "      <td>\\nThis position is open as of 7/3/2016. Front ...</td>\n",
       "      <td>\\nFront End Developer\\n</td>\n",
       "      <td>140.0</td>\n",
       "      <td>175.0</td>\n",
       "    </tr>\n",
       "    <tr>\n",
       "      <th>24</th>\n",
       "      <td>\\nPasadena, CA\\n</td>\n",
       "      <td>\\nCyberCoders\\n</td>\n",
       "      <td>\\nFull-Time | Pay: $90k - $175k/year\\n</td>\n",
       "      <td>\\nThis position is open as of 7/3/2016. ASIC V...</td>\n",
       "      <td>\\nASIC Verification Engineer\\n</td>\n",
       "      <td>90.0</td>\n",
       "      <td>175.0</td>\n",
       "    </tr>\n",
       "  </tbody>\n",
       "</table>\n",
       "</div>"
      ],
      "text/plain": [
       "                   city          company  \\\n",
       "23  \\nLos Angeles, CA\\n  \\nCyberCoders\\n   \n",
       "24     \\nPasadena, CA\\n  \\nCyberCoders\\n   \n",
       "\n",
       "                                     salary  \\\n",
       "23  \\nFull-Time | Pay: $140k - $175k/year\\n   \n",
       "24   \\nFull-Time | Pay: $90k - $175k/year\\n   \n",
       "\n",
       "                                              summary  \\\n",
       "23  \\nThis position is open as of 7/3/2016. Front ...   \n",
       "24  \\nThis position is open as of 7/3/2016. ASIC V...   \n",
       "\n",
       "                             title  minParse  maxParse  \n",
       "23         \\nFront End Developer\\n     140.0     175.0  \n",
       "24  \\nASIC Verification Engineer\\n      90.0     175.0  "
      ]
     },
     "execution_count": 339,
     "metadata": {},
     "output_type": "execute_result"
    }
   ],
   "source": [
    "frames = [locationDF, companyDF, salaryDF, summaryDF, titleDF, minParseDF, maxParseDF]\n",
    "\n",
    "result = pd.concat(frames, axis = 1)\n",
    "result.tail(2)\n",
    "#result.dtypes"
   ]
  },
  {
   "cell_type": "code",
   "execution_count": 352,
   "metadata": {
    "collapsed": false
   },
   "outputs": [
    {
     "data": {
      "text/html": [
       "<div>\n",
       "<table border=\"1\" class=\"dataframe\">\n",
       "  <thead>\n",
       "    <tr style=\"text-align: right;\">\n",
       "      <th></th>\n",
       "      <th>city</th>\n",
       "      <th>company</th>\n",
       "      <th>salary</th>\n",
       "      <th>summary</th>\n",
       "      <th>title</th>\n",
       "      <th>minParse</th>\n",
       "      <th>maxParse</th>\n",
       "      <th>parsed_salary</th>\n",
       "    </tr>\n",
       "  </thead>\n",
       "  <tbody>\n",
       "    <tr>\n",
       "      <th>23</th>\n",
       "      <td>\\nLos Angeles, CA\\n</td>\n",
       "      <td>\\nCyberCoders\\n</td>\n",
       "      <td>\\nFull-Time | Pay: $140k - $175k/year\\n</td>\n",
       "      <td>\\nThis position is open as of 7/3/2016. Front ...</td>\n",
       "      <td>\\nFront End Developer\\n</td>\n",
       "      <td>140.0</td>\n",
       "      <td>175.0</td>\n",
       "      <td>157500.0</td>\n",
       "    </tr>\n",
       "    <tr>\n",
       "      <th>24</th>\n",
       "      <td>\\nPasadena, CA\\n</td>\n",
       "      <td>\\nCyberCoders\\n</td>\n",
       "      <td>\\nFull-Time | Pay: $90k - $175k/year\\n</td>\n",
       "      <td>\\nThis position is open as of 7/3/2016. ASIC V...</td>\n",
       "      <td>\\nASIC Verification Engineer\\n</td>\n",
       "      <td>90.0</td>\n",
       "      <td>175.0</td>\n",
       "      <td>132500.0</td>\n",
       "    </tr>\n",
       "  </tbody>\n",
       "</table>\n",
       "</div>"
      ],
      "text/plain": [
       "                   city          company  \\\n",
       "23  \\nLos Angeles, CA\\n  \\nCyberCoders\\n   \n",
       "24     \\nPasadena, CA\\n  \\nCyberCoders\\n   \n",
       "\n",
       "                                     salary  \\\n",
       "23  \\nFull-Time | Pay: $140k - $175k/year\\n   \n",
       "24   \\nFull-Time | Pay: $90k - $175k/year\\n   \n",
       "\n",
       "                                              summary  \\\n",
       "23  \\nThis position is open as of 7/3/2016. Front ...   \n",
       "24  \\nThis position is open as of 7/3/2016. ASIC V...   \n",
       "\n",
       "                             title  minParse  maxParse  parsed_salary  \n",
       "23         \\nFront End Developer\\n     140.0     175.0       157500.0  \n",
       "24  \\nASIC Verification Engineer\\n      90.0     175.0       132500.0  "
      ]
     },
     "execution_count": 352,
     "metadata": {},
     "output_type": "execute_result"
    }
   ],
   "source": [
    "result['parsed_salary'] = ((result['minParse'] + result['maxParse']) / 2) *1000\n",
    "\n",
    "result.tail(2)"
   ]
  },
  {
   "cell_type": "markdown",
   "metadata": {},
   "source": [
    "# Final Data frame"
   ]
  },
  {
   "cell_type": "code",
   "execution_count": 353,
   "metadata": {
    "collapsed": false
   },
   "outputs": [
    {
     "data": {
      "text/html": [
       "<div>\n",
       "<table border=\"1\" class=\"dataframe\">\n",
       "  <thead>\n",
       "    <tr style=\"text-align: right;\">\n",
       "      <th></th>\n",
       "      <th>city</th>\n",
       "      <th>company</th>\n",
       "      <th>salary</th>\n",
       "      <th>summary</th>\n",
       "      <th>title</th>\n",
       "      <th>parsed_salary</th>\n",
       "    </tr>\n",
       "  </thead>\n",
       "  <tbody>\n",
       "    <tr>\n",
       "      <th>0</th>\n",
       "      <td>\\nLos Angeles, CA\\n</td>\n",
       "      <td>\\nCyberCoders\\n</td>\n",
       "      <td>\\nFull-Time | Pay: $100k - $140k/year\\n</td>\n",
       "      <td>\\nThis position is open as of 7/3/2016. Python...</td>\n",
       "      <td>\\nPython Engineer - Love For Data - 99% WORK F...</td>\n",
       "      <td>120000.0</td>\n",
       "    </tr>\n",
       "    <tr>\n",
       "      <th>1</th>\n",
       "      <td>\\nLos Angeles, CA\\n</td>\n",
       "      <td>\\nCyberCoders\\n</td>\n",
       "      <td>\\nFull-Time | Pay: $85k - $110k/year\\n</td>\n",
       "      <td>\\nThis position is open as of 7/3/2016. Variab...</td>\n",
       "      <td>\\nVariable Data Programmer - XMPie\\n</td>\n",
       "      <td>97500.0</td>\n",
       "    </tr>\n",
       "    <tr>\n",
       "      <th>2</th>\n",
       "      <td>\\nLos Angeles, CA\\n</td>\n",
       "      <td>\\nCyberCoders\\n</td>\n",
       "      <td>\\nFull-Time | Pay: $100k - $150k/year\\n</td>\n",
       "      <td>\\nThis position is open as of 7/3/2016. Data P...</td>\n",
       "      <td>\\nData Pipeline Engineer\\n</td>\n",
       "      <td>125000.0</td>\n",
       "    </tr>\n",
       "    <tr>\n",
       "      <th>3</th>\n",
       "      <td>\\nLos Angeles, CA\\n</td>\n",
       "      <td>\\nCyberCoders\\n</td>\n",
       "      <td>\\nFull-Time | Pay: $140k - $175k/year\\n</td>\n",
       "      <td>\\nThis position is open as of 7/3/2016. Senior...</td>\n",
       "      <td>\\nSenior Data Scientist\\n</td>\n",
       "      <td>157500.0</td>\n",
       "    </tr>\n",
       "    <tr>\n",
       "      <th>4</th>\n",
       "      <td>\\nLos Angeles, CA\\n</td>\n",
       "      <td>\\nCyberCoders\\n</td>\n",
       "      <td>\\nFull-Time | Pay: $120k - $150k/year\\n</td>\n",
       "      <td>\\nThis position is open as of 7/3/2016. Lead D...</td>\n",
       "      <td>\\nSr. Software Engineer - Java/j2ee\\n</td>\n",
       "      <td>135000.0</td>\n",
       "    </tr>\n",
       "  </tbody>\n",
       "</table>\n",
       "</div>"
      ],
      "text/plain": [
       "                  city          company  \\\n",
       "0  \\nLos Angeles, CA\\n  \\nCyberCoders\\n   \n",
       "1  \\nLos Angeles, CA\\n  \\nCyberCoders\\n   \n",
       "2  \\nLos Angeles, CA\\n  \\nCyberCoders\\n   \n",
       "3  \\nLos Angeles, CA\\n  \\nCyberCoders\\n   \n",
       "4  \\nLos Angeles, CA\\n  \\nCyberCoders\\n   \n",
       "\n",
       "                                    salary  \\\n",
       "0  \\nFull-Time | Pay: $100k - $140k/year\\n   \n",
       "1   \\nFull-Time | Pay: $85k - $110k/year\\n   \n",
       "2  \\nFull-Time | Pay: $100k - $150k/year\\n   \n",
       "3  \\nFull-Time | Pay: $140k - $175k/year\\n   \n",
       "4  \\nFull-Time | Pay: $120k - $150k/year\\n   \n",
       "\n",
       "                                             summary  \\\n",
       "0  \\nThis position is open as of 7/3/2016. Python...   \n",
       "1  \\nThis position is open as of 7/3/2016. Variab...   \n",
       "2  \\nThis position is open as of 7/3/2016. Data P...   \n",
       "3  \\nThis position is open as of 7/3/2016. Senior...   \n",
       "4  \\nThis position is open as of 7/3/2016. Lead D...   \n",
       "\n",
       "                                               title  parsed_salary  \n",
       "0  \\nPython Engineer - Love For Data - 99% WORK F...       120000.0  \n",
       "1               \\nVariable Data Programmer - XMPie\\n        97500.0  \n",
       "2                         \\nData Pipeline Engineer\\n       125000.0  \n",
       "3                          \\nSenior Data Scientist\\n       157500.0  \n",
       "4              \\nSr. Software Engineer - Java/j2ee\\n       135000.0  "
      ]
     },
     "execution_count": 353,
     "metadata": {},
     "output_type": "execute_result"
    }
   ],
   "source": [
    "df = result[[0,1,2,3,4,7]]\n",
    "df.head()"
   ]
  },
  {
   "cell_type": "code",
   "execution_count": 195,
   "metadata": {
    "collapsed": false
   },
   "outputs": [],
   "source": []
  },
  {
   "cell_type": "code",
   "execution_count": 196,
   "metadata": {
    "collapsed": false
   },
   "outputs": [],
   "source": []
  },
  {
   "cell_type": "code",
   "execution_count": 197,
   "metadata": {
    "collapsed": false
   },
   "outputs": [],
   "source": []
  },
  {
   "cell_type": "code",
   "execution_count": null,
   "metadata": {
    "collapsed": true
   },
   "outputs": [],
   "source": []
  }
 ],
 "metadata": {
  "kernelspec": {
   "display_name": "Python 2",
   "language": "python",
   "name": "python2"
  },
  "language_info": {
   "codemirror_mode": {
    "name": "ipython",
    "version": 2
   },
   "file_extension": ".py",
   "mimetype": "text/x-python",
   "name": "python",
   "nbconvert_exporter": "python",
   "pygments_lexer": "ipython2",
   "version": "2.7.11"
  }
 },
 "nbformat": 4,
 "nbformat_minor": 0
}
