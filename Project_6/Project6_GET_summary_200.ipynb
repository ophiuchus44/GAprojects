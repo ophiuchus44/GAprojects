{
 "cells": [
  {
   "cell_type": "code",
   "execution_count": 11,
   "metadata": {
    "collapsed": true
   },
   "outputs": [],
   "source": [
    "#import packages\n",
    "import os\n",
    "import subprocess\n",
    "import pandas as pd\n",
    "import numpy as np\n",
    "from sklearn.ensemble import RandomForestClassifier\n",
    "from sklearn.ensemble import RandomForestRegressor\n",
    "import scipy\n",
    "import requests\n",
    "from imdbpie import Imdb\n",
    "import nltk\n",
    "import matplotlib.pyplot as plt\n",
    "import urllib\n",
    "from bs4 import BeautifulSoup\n",
    "import nltk\n",
    "import collections\n",
    "import re\n",
    "import csv\n",
    "import psycopg2\n",
    "from scrapy.selector import Selector\n",
    "import os\n",
    "import spacy\n",
    "from spacy.en import English\n",
    "parser = English()\n",
    "import unicodedata\n",
    "import random\n",
    "from time import sleep\n",
    "import time\n",
    "\n",
    "\n",
    "\n",
    "%matplotlib inline"
   ]
  },
  {
   "cell_type": "code",
   "execution_count": 2,
   "metadata": {
    "collapsed": true
   },
   "outputs": [],
   "source": [
    "# connect to the IMDB api\n",
    "imdb = Imdb()\n",
    "imdb = Imdb(anonymize=True)"
   ]
  },
  {
   "cell_type": "code",
   "execution_count": 87,
   "metadata": {
    "collapsed": false
   },
   "outputs": [],
   "source": [
    "#get the top 250 movies\n",
    "top = imdb.top_250()\n",
    "#put the top 25 movies in a dataframe\n",
    "top250 = pd.DataFrame(top)\n",
    "#drop useless columns\n",
    "top250 = top250.drop('image', axis=1).drop('can_rate',axis=1)\n",
    "#export to csv\n",
    "#top250.to_csv('top250.csv',encoding='utf-8')\n",
    "#store the codes of the top 25 movies in the variable tconst\n",
    "titleList = [i for i in top250.tconst]"
   ]
  },
  {
   "cell_type": "code",
   "execution_count": 14,
   "metadata": {
    "collapsed": false
   },
   "outputs": [],
   "source": [
    "titleList= titleList[:25]"
   ]
  },
  {
   "cell_type": "code",
   "execution_count": 15,
   "metadata": {
    "collapsed": false
   },
   "outputs": [],
   "source": [
    "#titlelist2 is a list of movies from 6 genres. Each genre has a range scores from 1 to 10\n",
    "titleList2 = ['tt1343103','tt2574698','tt5720450','tt0338459','tt4335650','tt2381991','tt2975590','tt1431045','tt0468569','tt0252487','tt4048272','tt2278388','tt0163651','tt3416828','tt2637294','tt0108255','tt1107812','tt0362165','tt4404474','tt0107715',\n",
    " 'tt0185183',\n",
    " 'tt0115624',\n",
    " 'tt0358349',\n",
    " 'tt0114614',\n",
    " 'tt0097428',\n",
    " 'tt0120903',\n",
    " 'tt0133093',\n",
    " 'tt5466576','tt2313780',\n",
    " 'tt0367677',\n",
    " 'tt0093300',\n",
    " 'tt3832096',\n",
    " 'tt1131734',\n",
    " 'tt4094724',\n",
    " 'tt0084516',\n",
    " 'tt0081505',\n",
    " 'tt4687276','tt0110357', 'tt0126029', 'tt0120855', 'tt0371606', 'tt2017020', 'tt1594972', 'tt0763304', 'tt0330994','tt1623780', 'tt1702443', 'tt1229827', 'tt3797808', 'tt0939684', 'tt1753433', 'tt4382552', 'tt3962848', 'tt5278596',\n",
    "         'tt2653342', 'tt1754151']"
   ]
  },
  {
   "cell_type": "code",
   "execution_count": 16,
   "metadata": {
    "collapsed": true
   },
   "outputs": [],
   "source": [
    "titleList3 = titleList2 + titleList"
   ]
  },
  {
   "cell_type": "code",
   "execution_count": 17,
   "metadata": {
    "collapsed": false
   },
   "outputs": [
    {
     "data": {
      "text/plain": [
       "81"
      ]
     },
     "execution_count": 17,
     "metadata": {},
     "output_type": "execute_result"
    }
   ],
   "source": [
    "len(titleList3)"
   ]
  },
  {
   "cell_type": "code",
   "execution_count": 54,
   "metadata": {
    "collapsed": false
   },
   "outputs": [],
   "source": [
    "title = imdb.get_title_by_id('tt0126029')\n",
    "\n",
    "user = imdb.get_title_reviews('tt0126029', max_results = 20)\n"
   ]
  },
  {
   "cell_type": "code",
   "execution_count": 67,
   "metadata": {
    "collapsed": false
   },
   "outputs": [],
   "source": [
    "test = user[15]"
   ]
  },
  {
   "cell_type": "code",
   "execution_count": 68,
   "metadata": {
    "collapsed": false
   },
   "outputs": [
    {
     "data": {
      "text/plain": [
       "u'Wonderfully irreverent family film with lots of laughs'"
      ]
     },
     "execution_count": 68,
     "metadata": {},
     "output_type": "execute_result"
    }
   ],
   "source": [
    "test.summary"
   ]
  },
  {
   "cell_type": "code",
   "execution_count": 26,
   "metadata": {
    "collapsed": false
   },
   "outputs": [
    {
     "data": {
      "text/plain": [
       "u'Colorado'"
      ]
     },
     "execution_count": 26,
     "metadata": {},
     "output_type": "execute_result"
    }
   ],
   "source": [
    "test.user_location"
   ]
  },
  {
   "cell_type": "code",
   "execution_count": 69,
   "metadata": {
    "collapsed": false
   },
   "outputs": [
    {
     "data": {
      "text/plain": [
       "u'Kris Morris'"
      ]
     },
     "execution_count": 69,
     "metadata": {},
     "output_type": "execute_result"
    }
   ],
   "source": [
    "test.username"
   ]
  },
  {
   "cell_type": "code",
   "execution_count": 85,
   "metadata": {
    "collapsed": false
   },
   "outputs": [],
   "source": [
    "#title.data"
   ]
  },
  {
   "cell_type": "code",
   "execution_count": 89,
   "metadata": {
    "collapsed": false
   },
   "outputs": [
    {
     "data": {
      "text/plain": [
       "3"
      ]
     },
     "execution_count": 89,
     "metadata": {},
     "output_type": "execute_result"
    }
   ],
   "source": [
    "test.user_score"
   ]
  },
  {
   "cell_type": "code",
   "execution_count": 90,
   "metadata": {
    "collapsed": false
   },
   "outputs": [
    {
     "data": {
      "text/plain": [
       "3"
      ]
     },
     "execution_count": 90,
     "metadata": {},
     "output_type": "execute_result"
    }
   ],
   "source": [
    "test.user_score_count"
   ]
  },
  {
   "cell_type": "code",
   "execution_count": null,
   "metadata": {
    "collapsed": true
   },
   "outputs": [],
   "source": [
    "test."
   ]
  },
  {
   "cell_type": "code",
   "execution_count": 92,
   "metadata": {
    "collapsed": false
   },
   "outputs": [],
   "source": [
    "#make a list of reviews with movie title, user review, review score, movie score, and genre\n",
    "reviewList = []\n",
    "\n",
    "for i in titleList3:\n",
    "    title5 = imdb.get_title_by_id(i)\n",
    "    time.sleep(random.random())\n",
    "    user2 = imdb.get_title_reviews(i, max_results = 200)\n",
    "    for user in user2:\n",
    "        reviewList.append((title5.title, user.user_location, user.summary, user.rating, title5.rating, title5.genres[0]))"
   ]
  },
  {
   "cell_type": "code",
   "execution_count": 116,
   "metadata": {
    "collapsed": false
   },
   "outputs": [
    {
     "data": {
      "text/html": [
       "<div>\n",
       "<table border=\"1\" class=\"dataframe\">\n",
       "  <thead>\n",
       "    <tr style=\"text-align: right;\">\n",
       "      <th></th>\n",
       "      <th>0</th>\n",
       "      <th>1</th>\n",
       "      <th>2</th>\n",
       "      <th>3</th>\n",
       "      <th>4</th>\n",
       "      <th>5</th>\n",
       "    </tr>\n",
       "  </thead>\n",
       "  <tbody>\n",
       "    <tr>\n",
       "      <th>11038</th>\n",
       "      <td>The Usual Suspects</td>\n",
       "      <td>United States</td>\n",
       "      <td>A film to watch over and over again for the fi...</td>\n",
       "      <td>9.0</td>\n",
       "      <td>8.6</td>\n",
       "      <td>Crime</td>\n",
       "    </tr>\n",
       "    <tr>\n",
       "      <th>11039</th>\n",
       "      <td>The Usual Suspects</td>\n",
       "      <td>United States</td>\n",
       "      <td>A movie you need to watch twice to appreciate</td>\n",
       "      <td>9.0</td>\n",
       "      <td>8.6</td>\n",
       "      <td>Crime</td>\n",
       "    </tr>\n",
       "    <tr>\n",
       "      <th>11040</th>\n",
       "      <td>The Usual Suspects</td>\n",
       "      <td>None</td>\n",
       "      <td>\"The greatest trick the Devil ever pulled was ...</td>\n",
       "      <td>10.0</td>\n",
       "      <td>8.6</td>\n",
       "      <td>Crime</td>\n",
       "    </tr>\n",
       "  </tbody>\n",
       "</table>\n",
       "</div>"
      ],
      "text/plain": [
       "                        0              1  \\\n",
       "11038  The Usual Suspects  United States   \n",
       "11039  The Usual Suspects  United States   \n",
       "11040  The Usual Suspects           None   \n",
       "\n",
       "                                                       2     3    4      5  \n",
       "11038  A film to watch over and over again for the fi...   9.0  8.6  Crime  \n",
       "11039      A movie you need to watch twice to appreciate   9.0  8.6  Crime  \n",
       "11040  \"The greatest trick the Devil ever pulled was ...  10.0  8.6  Crime  "
      ]
     },
     "execution_count": 116,
     "metadata": {},
     "output_type": "execute_result"
    }
   ],
   "source": [
    "df = pd.DataFrame(reviewList)\n",
    "\n",
    "df.tail(3)"
   ]
  },
  {
   "cell_type": "code",
   "execution_count": 117,
   "metadata": {
    "collapsed": false
   },
   "outputs": [],
   "source": [
    "#turn the list of reviews into a dataframe\n",
    "df = pd.DataFrame(reviewList, columns = ['title','location','summary_review','review_score','movie_score','genre'])"
   ]
  },
  {
   "cell_type": "code",
   "execution_count": 118,
   "metadata": {
    "collapsed": false
   },
   "outputs": [
    {
     "data": {
      "text/plain": [
       "title                0\n",
       "location          1143\n",
       "summary_review       3\n",
       "review_score      1330\n",
       "movie_score          0\n",
       "genre                0\n",
       "dtype: int64"
      ]
     },
     "execution_count": 118,
     "metadata": {},
     "output_type": "execute_result"
    }
   ],
   "source": [
    "df.isnull().sum()"
   ]
  },
  {
   "cell_type": "code",
   "execution_count": 119,
   "metadata": {
    "collapsed": false
   },
   "outputs": [],
   "source": [
    "#fill na in review score with movie score\n",
    "df.review_score.fillna(df.movie_score, inplace =True)"
   ]
  },
  {
   "cell_type": "code",
   "execution_count": 120,
   "metadata": {
    "collapsed": true
   },
   "outputs": [],
   "source": [
    "#fill na in review score with movie score\n",
    "df.location.fillna(value = 'UNKNOWN', inplace =True)"
   ]
  },
  {
   "cell_type": "code",
   "execution_count": 121,
   "metadata": {
    "collapsed": false
   },
   "outputs": [
    {
     "data": {
      "text/plain": [
       "title             0\n",
       "location          0\n",
       "summary_review    3\n",
       "review_score      0\n",
       "movie_score       0\n",
       "genre             0\n",
       "dtype: int64"
      ]
     },
     "execution_count": 121,
     "metadata": {},
     "output_type": "execute_result"
    }
   ],
   "source": [
    "# only 3 empty summary reviews, not bad - we can just drop these\n",
    "df.isnull().sum()"
   ]
  },
  {
   "cell_type": "code",
   "execution_count": 122,
   "metadata": {
    "collapsed": false
   },
   "outputs": [],
   "source": [
    "df = df.dropna()"
   ]
  },
  {
   "cell_type": "code",
   "execution_count": 123,
   "metadata": {
    "collapsed": false
   },
   "outputs": [
    {
     "data": {
      "text/plain": [
       "title             0\n",
       "location          0\n",
       "summary_review    0\n",
       "review_score      0\n",
       "movie_score       0\n",
       "genre             0\n",
       "dtype: int64"
      ]
     },
     "execution_count": 123,
     "metadata": {},
     "output_type": "execute_result"
    }
   ],
   "source": [
    "df.isnull().sum()"
   ]
  },
  {
   "cell_type": "code",
   "execution_count": 128,
   "metadata": {
    "collapsed": false
   },
   "outputs": [
    {
     "data": {
      "text/html": [
       "<div>\n",
       "<table border=\"1\" class=\"dataframe\">\n",
       "  <thead>\n",
       "    <tr style=\"text-align: right;\">\n",
       "      <th></th>\n",
       "      <th>title</th>\n",
       "      <th>location</th>\n",
       "      <th>summary_review</th>\n",
       "      <th>review_score</th>\n",
       "      <th>movie_score</th>\n",
       "      <th>genre</th>\n",
       "    </tr>\n",
       "  </thead>\n",
       "  <tbody>\n",
       "    <tr>\n",
       "      <th>0</th>\n",
       "      <td>Raptor Ranch</td>\n",
       "      <td>United States</td>\n",
       "      <td>Really Not Good!</td>\n",
       "      <td>2.0</td>\n",
       "      <td>3.1</td>\n",
       "      <td>Action</td>\n",
       "    </tr>\n",
       "    <tr>\n",
       "      <th>1</th>\n",
       "      <td>Raptor Ranch</td>\n",
       "      <td>United Kingdom</td>\n",
       "      <td>You're better off staying well clear from this...</td>\n",
       "      <td>1.0</td>\n",
       "      <td>3.1</td>\n",
       "      <td>Action</td>\n",
       "    </tr>\n",
       "  </tbody>\n",
       "</table>\n",
       "</div>"
      ],
      "text/plain": [
       "          title        location  \\\n",
       "0  Raptor Ranch   United States   \n",
       "1  Raptor Ranch  United Kingdom   \n",
       "\n",
       "                                      summary_review  review_score  \\\n",
       "0                                   Really Not Good!           2.0   \n",
       "1  You're better off staying well clear from this...           1.0   \n",
       "\n",
       "   movie_score   genre  \n",
       "0          3.1  Action  \n",
       "1          3.1  Action  "
      ]
     },
     "execution_count": 128,
     "metadata": {},
     "output_type": "execute_result"
    }
   ],
   "source": [
    "df.head(2)"
   ]
  },
  {
   "cell_type": "code",
   "execution_count": 125,
   "metadata": {
    "collapsed": false
   },
   "outputs": [],
   "source": [
    "def cleaner(string):\n",
    "    parsed = parser(unicode(string))\n",
    "    lemmas_unicode = [token.lemma_ for token in parsed]\n",
    "    lemmas_string = [unicodedata.normalize('NFKD', i).encode('utf-8') for i in lemmas_unicode]\n",
    "    lstring = ''\n",
    "    for i in lemmas_string:\n",
    "        if i not in  ['\\n\\n', '!','?','.',',','[0-9]+','[)()-\\'/]']:\n",
    "            lstring += i\n",
    "            lstring += ' '\n",
    "    return lstring"
   ]
  },
  {
   "cell_type": "code",
   "execution_count": 131,
   "metadata": {
    "collapsed": false
   },
   "outputs": [
    {
     "data": {
      "text/plain": [
       "'of reptile and man '"
      ]
     },
     "execution_count": 131,
     "metadata": {},
     "output_type": "execute_result"
    }
   ],
   "source": [
    "cleaner(df.summary_review[3])"
   ]
  },
  {
   "cell_type": "code",
   "execution_count": 133,
   "metadata": {
    "collapsed": false
   },
   "outputs": [
    {
     "data": {
      "text/plain": [
       "['really not good ', \"you 're better off stay well clear from this ranch \"]"
      ]
     },
     "execution_count": 133,
     "metadata": {},
     "output_type": "execute_result"
    }
   ],
   "source": [
    "reviewlist2 = []\n",
    "for i in df['summary_review']:\n",
    "    reviewlist2.append(cleaner(i))\n",
    "reviewlist2[:2]"
   ]
  },
  {
   "cell_type": "code",
   "execution_count": 135,
   "metadata": {
    "collapsed": false
   },
   "outputs": [],
   "source": [
    "df['summary_review'] = reviewlist2"
   ]
  },
  {
   "cell_type": "code",
   "execution_count": 136,
   "metadata": {
    "collapsed": false
   },
   "outputs": [
    {
     "data": {
      "text/html": [
       "<div>\n",
       "<table border=\"1\" class=\"dataframe\">\n",
       "  <thead>\n",
       "    <tr style=\"text-align: right;\">\n",
       "      <th></th>\n",
       "      <th>title</th>\n",
       "      <th>location</th>\n",
       "      <th>summary_review</th>\n",
       "      <th>review_score</th>\n",
       "      <th>movie_score</th>\n",
       "      <th>genre</th>\n",
       "    </tr>\n",
       "  </thead>\n",
       "  <tbody>\n",
       "    <tr>\n",
       "      <th>11039</th>\n",
       "      <td>The Usual Suspects</td>\n",
       "      <td>United States</td>\n",
       "      <td>a movie you need to watch twice to appreciate</td>\n",
       "      <td>9.0</td>\n",
       "      <td>8.6</td>\n",
       "      <td>Crime</td>\n",
       "    </tr>\n",
       "    <tr>\n",
       "      <th>11040</th>\n",
       "      <td>The Usual Suspects</td>\n",
       "      <td>UNKNOWN</td>\n",
       "      <td>\" the great trick the devil ever pull be convi...</td>\n",
       "      <td>10.0</td>\n",
       "      <td>8.6</td>\n",
       "      <td>Crime</td>\n",
       "    </tr>\n",
       "  </tbody>\n",
       "</table>\n",
       "</div>"
      ],
      "text/plain": [
       "                    title       location  \\\n",
       "11039  The Usual Suspects  United States   \n",
       "11040  The Usual Suspects        UNKNOWN   \n",
       "\n",
       "                                          summary_review  review_score  \\\n",
       "11039     a movie you need to watch twice to appreciate            9.0   \n",
       "11040  \" the great trick the devil ever pull be convi...          10.0   \n",
       "\n",
       "       movie_score  genre  \n",
       "11039          8.6  Crime  \n",
       "11040          8.6  Crime  "
      ]
     },
     "execution_count": 136,
     "metadata": {},
     "output_type": "execute_result"
    }
   ],
   "source": [
    "df.tail(2)"
   ]
  },
  {
   "cell_type": "code",
   "execution_count": 138,
   "metadata": {
    "collapsed": false
   },
   "outputs": [],
   "source": [
    "import csv\n",
    "\n",
    "df.to_csv('summaryMovie.csv', encoding ='utf-8')"
   ]
  },
  {
   "cell_type": "code",
   "execution_count": null,
   "metadata": {
    "collapsed": true
   },
   "outputs": [],
   "source": []
  }
 ],
 "metadata": {
  "kernelspec": {
   "display_name": "Python 2",
   "language": "python",
   "name": "python2"
  },
  "language_info": {
   "codemirror_mode": {
    "name": "ipython",
    "version": 2
   },
   "file_extension": ".py",
   "mimetype": "text/x-python",
   "name": "python",
   "nbconvert_exporter": "python",
   "pygments_lexer": "ipython2",
   "version": "2.7.11"
  }
 },
 "nbformat": 4,
 "nbformat_minor": 0
}
