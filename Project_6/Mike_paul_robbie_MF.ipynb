{
 "cells": [
  {
   "cell_type": "code",
   "execution_count": 1,
   "metadata": {
    "collapsed": false
   },
   "outputs": [],
   "source": [
    "#import packages\n",
    "import os\n",
    "import subprocess\n",
    "import pandas as pd\n",
    "import numpy as np\n",
    "from sklearn.ensemble import RandomForestClassifier\n",
    "from sklearn.ensemble import RandomForestRegressor\n",
    "import scipy\n",
    "import requests\n",
    "from imdbpie import Imdb\n",
    "import nltk\n",
    "import matplotlib.pyplot as plt\n",
    "import urllib\n",
    "from bs4 import BeautifulSoup\n",
    "import nltk\n",
    "import collections\n",
    "import re\n",
    "import csv\n",
    "import psycopg2\n",
    "from scrapy.selector import Selector\n",
    "import os\n",
    "import spacy\n",
    "from spacy.en import English\n",
    "parser = English()\n",
    "import unicodedata\n",
    "import random\n",
    "from time import sleep\n",
    "import time\n",
    "\n",
    "\n",
    "\n",
    "%matplotlib inline"
   ]
  },
  {
   "cell_type": "code",
   "execution_count": 2,
   "metadata": {
    "collapsed": true
   },
   "outputs": [],
   "source": [
    "# connect to the IMDB api\n",
    "imdb = Imdb()\n",
    "imdb = Imdb(anonymize=True)"
   ]
  },
  {
   "cell_type": "code",
   "execution_count": 3,
   "metadata": {
    "collapsed": false
   },
   "outputs": [],
   "source": [
    "#get the top 250 movies\n",
    "top = imdb.top_250()\n",
    "#put the top 25 movies in a dataframe\n",
    "top250 = pd.DataFrame(top)\n",
    "#drop useless columns\n",
    "top250 = top250.drop('image', axis=1).drop('can_rate',axis=1)\n",
    "#export to csv\n",
    "top250.to_csv('top250.csv',encoding='utf-8')\n",
    "#store the codes of the top 25 movies in the variable tconst\n",
    "titleList = [i for i in top250.tconst]"
   ]
  },
  {
   "cell_type": "code",
   "execution_count": null,
   "metadata": {
    "collapsed": true
   },
   "outputs": [],
   "source": [
    "# reviewList2 = []\n",
    "\n",
    "# for i in titleList[0:2]:\n",
    "#     title5 = imdb.get_title_by_id(i)\n",
    "#     user2 = imdb.get_title_reviews(i, max_results = 5)\n",
    "#     for user in user2:\n",
    "#         reviewList2.append((title5.title, user.text, user.rating, title5.rating))"
   ]
  },
  {
   "cell_type": "code",
   "execution_count": 4,
   "metadata": {
    "collapsed": false
   },
   "outputs": [],
   "source": [
    "titleList= titleList[:25]"
   ]
  },
  {
   "cell_type": "code",
   "execution_count": null,
   "metadata": {
    "collapsed": false
   },
   "outputs": [],
   "source": [
    "# pd.DataFrame(reviewList2, columns = ['title','reviews','review_score','movie_score'])"
   ]
  },
  {
   "cell_type": "code",
   "execution_count": null,
   "metadata": {
    "collapsed": true
   },
   "outputs": [],
   "source": [
    "# actioncomedy = ['tt1343103','tt2574698','tt5720450','tt0338459','tt4335650','tt2381991','tt2975590','tt1431045','tt0468569','tt0252487','tt4048272','tt2278388','tt0163651','tt3416828','tt2637294','tt0108255','tt1107812','tt0362165','tt4404474']"
   ]
  },
  {
   "cell_type": "code",
   "execution_count": null,
   "metadata": {
    "collapsed": false
   },
   "outputs": [],
   "source": [
    "# len(actioncomedy)"
   ]
  },
  {
   "cell_type": "code",
   "execution_count": 5,
   "metadata": {
    "collapsed": false
   },
   "outputs": [],
   "source": [
    "#titlelist2 is a list of movies from 6 genres. Each genre has a range scores from 1 to 10\n",
    "titleList2 = ['tt1343103','tt2574698','tt5720450','tt0338459','tt4335650','tt2381991','tt2975590','tt1431045','tt0468569','tt0252487','tt4048272','tt2278388','tt0163651','tt3416828','tt2637294','tt0108255','tt1107812','tt0362165','tt4404474','tt0107715',\n",
    " 'tt0185183',\n",
    " 'tt0115624',\n",
    " 'tt0358349',\n",
    " 'tt0114614',\n",
    " 'tt0097428',\n",
    " 'tt0120903',\n",
    " 'tt0133093',\n",
    " 'tt5466576','tt2313780',\n",
    " 'tt0367677',\n",
    " 'tt0093300',\n",
    " 'tt3832096',\n",
    " 'tt1131734',\n",
    " 'tt4094724',\n",
    " 'tt0084516',\n",
    " 'tt0081505',\n",
    " 'tt4687276','tt0110357', 'tt0126029', 'tt0120855', 'tt0371606', 'tt2017020', 'tt1594972', 'tt0763304', 'tt0330994','tt1623780', 'tt1702443', 'tt1229827', 'tt3797808', 'tt0939684', 'tt1753433', 'tt4382552', 'tt3962848', 'tt5278596',\n",
    "         'tt2653342', 'tt1754151']"
   ]
  },
  {
   "cell_type": "code",
   "execution_count": 6,
   "metadata": {
    "collapsed": false
   },
   "outputs": [],
   "source": [
    "titleList3 = titleList2 + titleList"
   ]
  },
  {
   "cell_type": "code",
   "execution_count": 7,
   "metadata": {
    "collapsed": false
   },
   "outputs": [
    {
     "data": {
      "text/plain": [
       "81"
      ]
     },
     "execution_count": 7,
     "metadata": {},
     "output_type": "execute_result"
    }
   ],
   "source": [
    "len(titleList3)"
   ]
  },
  {
   "cell_type": "code",
   "execution_count": null,
   "metadata": {
    "collapsed": false
   },
   "outputs": [],
   "source": [
    "# reviewList4 = []\n",
    "\n",
    "# for i in titleList3:\n",
    "#     title5 = imdb.get_title_by_id(i)\n",
    "#     user2 = imdb.get_title_reviews(i, max_results = 200)\n",
    "#     for user in user2:\n",
    "#         reviewList4.append((title5.title, user.text, user.rating, title5.rating, title5.genres[0]))"
   ]
  },
  {
   "cell_type": "code",
   "execution_count": null,
   "metadata": {
    "collapsed": false
   },
   "outputs": [],
   "source": [
    "# df = pd.DataFrame(reviewList3,columns = ['title','reviews','review_score','movie_score','genre'])"
   ]
  },
  {
   "cell_type": "code",
   "execution_count": null,
   "metadata": {
    "collapsed": false
   },
   "outputs": [],
   "source": [
    "# df.shape"
   ]
  },
  {
   "cell_type": "code",
   "execution_count": null,
   "metadata": {
    "collapsed": false
   },
   "outputs": [],
   "source": [
    "#are there null values in the DF?\n",
    "# df.isnull().sum()"
   ]
  },
  {
   "cell_type": "code",
   "execution_count": null,
   "metadata": {
    "collapsed": true
   },
   "outputs": [],
   "source": []
  },
  {
   "cell_type": "code",
   "execution_count": 8,
   "metadata": {
    "collapsed": false
   },
   "outputs": [],
   "source": [
    "#make a list of reviews with movie title, user review, review score, movie score, and genre\n",
    "reviewList5 = []\n",
    "\n",
    "for i in titleList3:\n",
    "    title5 = imdb.get_title_by_id(i)\n",
    "    time.sleep(random.random())\n",
    "    user2 = imdb.get_title_reviews(i, max_results = 200)\n",
    "    for user in user2:\n",
    "        reviewList5.append((title5.title, user.text, user.rating, title5.rating, title5.genres[0]))"
   ]
  },
  {
   "cell_type": "code",
   "execution_count": 10,
   "metadata": {
    "collapsed": false
   },
   "outputs": [],
   "source": [
    "#turn the list of reviews into a dataframe\n",
    "df = pd.DataFrame(reviewList5, columns = ['title','reviews','review_score','movie_score','genre'])"
   ]
  },
  {
   "cell_type": "code",
   "execution_count": null,
   "metadata": {
    "collapsed": false
   },
   "outputs": [],
   "source": [
    "# df.tail()"
   ]
  },
  {
   "cell_type": "code",
   "execution_count": null,
   "metadata": {
    "collapsed": false
   },
   "outputs": [],
   "source": [
    "# np.mean(df.review_score)"
   ]
  },
  {
   "cell_type": "code",
   "execution_count": null,
   "metadata": {
    "collapsed": false
   },
   "outputs": [],
   "source": [
    "# type(df.review_score[3])"
   ]
  },
  {
   "cell_type": "code",
   "execution_count": 11,
   "metadata": {
    "collapsed": false
   },
   "outputs": [],
   "source": [
    "#fill na in review score with movie score\n",
    "df.review_score.fillna(df.movie_score, inplace =True)"
   ]
  },
  {
   "cell_type": "code",
   "execution_count": 12,
   "metadata": {
    "collapsed": false
   },
   "outputs": [
    {
     "data": {
      "text/plain": [
       "title           0\n",
       "reviews         0\n",
       "review_score    0\n",
       "movie_score     0\n",
       "genre           0\n",
       "dtype: int64"
      ]
     },
     "execution_count": 12,
     "metadata": {},
     "output_type": "execute_result"
    }
   ],
   "source": [
    "df.isnull().sum()"
   ]
  },
  {
   "cell_type": "code",
   "execution_count": null,
   "metadata": {
    "collapsed": false
   },
   "outputs": [],
   "source": [
    "# export the df to csv\n",
    "# df.to_csv('ALLMovieData200.csv', encoding= 'utf-8')"
   ]
  },
  {
   "cell_type": "code",
   "execution_count": null,
   "metadata": {
    "collapsed": false
   },
   "outputs": [],
   "source": [
    "# list1 = df['reviews'][0]"
   ]
  },
  {
   "cell_type": "code",
   "execution_count": null,
   "metadata": {
    "collapsed": false
   },
   "outputs": [],
   "source": [
    "# list1"
   ]
  },
  {
   "cell_type": "code",
   "execution_count": null,
   "metadata": {
    "collapsed": false
   },
   "outputs": [],
   "source": [
    "# parsed = parser(unicode(df['reviews'][0]))"
   ]
  },
  {
   "cell_type": "code",
   "execution_count": null,
   "metadata": {
    "collapsed": false
   },
   "outputs": [],
   "source": [
    "# parsed.text"
   ]
  },
  {
   "cell_type": "code",
   "execution_count": null,
   "metadata": {
    "collapsed": false
   },
   "outputs": [],
   "source": [
    "# lemmas_unicode = [token.lemma_ for token in parsed]"
   ]
  },
  {
   "cell_type": "code",
   "execution_count": null,
   "metadata": {
    "collapsed": false
   },
   "outputs": [],
   "source": [
    "# lemmas_string = [unicodedata.normalize('NFKD', i).encode('utf-8') for i in lemmas_unicode]"
   ]
  },
  {
   "cell_type": "code",
   "execution_count": null,
   "metadata": {
    "collapsed": false
   },
   "outputs": [],
   "source": [
    "# lstring = ''\n",
    "# for i in lemmas_string:\n",
    "#     if i not in  ['\\n\\n', '!','?','.',',','[0-9]']:\n",
    "#         lstring += i\n",
    "#         lstring += ' '\n",
    "# lstring"
   ]
  },
  {
   "cell_type": "code",
   "execution_count": 13,
   "metadata": {
    "collapsed": true
   },
   "outputs": [],
   "source": [
    "def cleaner(string):\n",
    "    parsed = parser(unicode(string))\n",
    "    lemmas_unicode = [token.lemma_ for token in parsed]\n",
    "    lemmas_string = [unicodedata.normalize('NFKD', i).encode('utf-8') for i in lemmas_unicode]\n",
    "    lstring = ''\n",
    "    for i in lemmas_string:\n",
    "        if i not in  ['\\n\\n', '!','?','.',',','[0-9]+','[)()-\\'/]']:\n",
    "            lstring += i\n",
    "            lstring += ' '\n",
    "    return lstring"
   ]
  },
  {
   "cell_type": "code",
   "execution_count": null,
   "metadata": {
    "collapsed": false
   },
   "outputs": [],
   "source": [
    "# cleaner(df.reviews[1])"
   ]
  },
  {
   "cell_type": "code",
   "execution_count": 14,
   "metadata": {
    "collapsed": false
   },
   "outputs": [
    {
     "data": {
      "text/plain": [
       "['i love movie and i also will check out most independent produce picture as well when i saw this have a small but functional budget i give it a chance all i can say be this the best act in this movie come from the animated creature the script be weak and they manage to include almost every stereotype that have ever exist yet not one of them could act seriously you will spend time that you can never get back and life be just too short to care do not waste your time just my thought ',\n",
       " 'even from the trailer raptor ranch from the get go be one such movie to not expect too much from and to not take too seriously the trailer do look sort of fun if in a guilty - pleasure sort of way and any movie deserve to be see fairly sad to say that from personal opinion raptor ranch be every bit as bad as the review and rating here say(and no i be not one of those immature people who vote 1 literally a year before raptor ranch be even release ) one of those instance where the ridiculously hyperbolic imdb plot summary be more entertaining than anything in this movie put together even for a low - budget movie the movie look cheap it have a very drab look be edit awkwardly often and the dinosaur not only move with such stiffness but they be poorly design and textured- they would belong more at home in perhaps 70s-80s high school art projects- as well as not blend at all within the background the soundtrack be at best forgettable and it add little if at all to the movie the dialogue sound improvised judging from the delivery and sound incredibly stilted the humour often force if you \\'re look for any excitement suspense tension and surprise look somewhere else the storytelling be incredibly simplistic and predictable with a story that be nowhere near enough to sustain the length even before the end you can tell they be run out of idea raptor ranch try to incorporate different genre like horror thriller comedy and action - adventure and because of primarily the force humour the complete lack of creativity and the atmosphere be next to non - existent it fail miserably at every single one you do not engage with any of the character it be true that every stereotype seem here and they be write very poorly come across as obnoxious and spoilt brat in fact you find yourself root for the dinosaur and they be also the best actor that \\' say little because they also have a lack of personality so you can not relate to anything that go on within the story and what \\' happen to the character when the dinosaur \\' acting be little to write home about that go to show actually at how awful the acting be it do not even look like act the action be limp and even the death scene lack originality and suffer from the bad of the editing the only thing that they succeed in do be that you be secretly glad that with every killing that there be one less annoying character to \" care \" about all in all an amateurish mess(so much so it be very difficult to find a shred of entertainment value ) prehistoric terror be a far from apt description and it be best left forget 1/10 bethany cox ',\n",
       " 'well this movie have prehistoric raptor and lorenzo lama ... so what could possibly go wrong aside from just about everything this movie be really awful sorry for be so direct and blunt but it need to be say the 2004 \" raptor island \" movie also with lorenzo lama in it be equally bad and yet there be something allure to these kind of cheesy movie perhaps it be the fact that you know it be go to be bad that make you want to sit down for a laugh or two the story here be about a strange old man who apparently have be create dinosaur on his farm ( for some odd reason we do not get to know why much less to be tell just how about he go do this ) a local native girl along with a singer and his groupie and three young college friend become stuck in the small town terrorize by the prehistoric raptor and call to the case be two federal agent right this storyline be really not believable in any sense and there be just so many thing that do not make sense throughout the movie and for be federal agent then i must say that those two in the movie be about the most ineffective and lazy of agent around there be no excitement thrill or scare throughout this movie and the pace just trot ahead in a very monotone pace which actually case me to nod off two or three time along the movie and i can not claim that doze off here and there cause me to miss out on anything crucial to the storyline the dinosaur be awkward and badly animate most of the time however once in a while they do actually come off as believable enough however do not expect anything near \" jurassic park \" in any way the dialogue throughout the movie be unbelievably force and stuttering there be no natural flow and most of the actor and actress be not really help the movie along in a positive way you know very well how this movie be go to be and sure enough it turn out to be exactly as bad as expect there may be some odd enjoyment in this movie if you be a head - over-heels fan of anything even remotely tie to dinosaur but for u regular movie watcher nah not so much to come here for ... ',\n",
       " \"' raptor ranch ' ( audaciously retitled ' jurassic dark ' with a d in my country ) tell u about the waitress abbi ( jana mashonee ) she have a really bad day : she be stick in a boring countryside town her car break down her bos be really mean to her and everybody she meet be an idiot however the bad be yet to come when a bunch of dinosaur escape from a farm nearby - how they be breed there we never really find out anyway there be a lot of screaming run kill more running two fbi agent ( declan joyce and the only star lorenzo lama in a rather small part ) look for clue but do not find much although the hungry reptile be run around all over the place i can not really say much to praise this movie the animation be mediocre act skill non existing and the narration and edit clumsy for example in one scene 2 character find a safe place of a roof where the creature can not catch them they climb down again - why because they enjoy be chase in my view there be only 1 thing that ' raptor ranch ' do better than other low budget flick of the genre and that be the choice of character from the entertainer in a purple suit to the college kid who dress as a roman centurio there be a lot of weird character the comedy bit sometimes work well which be why i do not regret too much that i waste an evening watch this one kid proudly announce man will finally defeat reptile because they have a high intelligence - this movie may not be the best example for that i vote 3 of 10 \",\n",
       " \"personally i do not get all the hate for this film i think it be entertaining and divert enough to kill 90 minute have some cool death scene and fun act by lamas(repris his role from raptor island and raptor planet ) the cgi be not horrible i have see way worse the story be nothing special but then again with sci - fi channel film you know not to expect oscar - caliber writing be it a smart film hell no but it ' infinitely more watchable then say those godawful paranormal activity film the twilight movie those horrible remake of foreign horror films(i.e. the eye shutter pulse one miss call the grudge etc ) \",\n",
       " \"this be obviously make around the time the first jurassic park appeared\\xef\\xbb\\xbf. i think velasa raptor be name beth how they do this idk but lama be in it and he do a couple gag lol it be as if dinos be in the bus but they do not know especially the part with the twinkie :) be funny if you watch this flick make sur you watch it with frends because it be fonnier with them also the cgi be actually good i think they use the myst engine from the hit game king 's quest also if you look closey at 5min 30sec you can see the gerpantis of the main girl when she get out of bed which kind of be hot because there be another sex scene quick but there be not any shot of anything like body or bum so this be good to start -5/10 bethany coke \",\n",
       " 'this movie be just a completely different movie than i have imagine and it \\' all thanks to the \" uniqueness \" of the character if i may call it that here we have the stereotypical bossy green arrow impersonator drive waitress who work for a stereotypical sleazy fat greasy inappropriate degrading politician/restaurant owner/toy store owner/car dealer who decide to use his power in a town of three count \\'em three people we also have the old farmer who just so happen to be a mad scientist/ dot pet owner on his farm of dinosaur who can somehow miraculously use up all of the ga in town ... until morning when apparently the town revitalize everything include the girl \\'s and guy \\' break down car how you ask i be guess magic we also get in this treasure trove of diversity a gay black guy yes you read that right a gay jazz singing black guy with his two backstage singer one be a dumb blonde slut who love everything and the other be the very embodiment of all thing emo - teen- psychopathic i honestly do not know where they come up with that it \\' brilliant and then we have the dorky - yet-cute and wimpy college dude force onto a ski trip ( through the desert ) by his skirt chase nimrod buddy ( one be hot one could lay off the chip ) and the dinosaur be character of themselves we have the ever so watchful velociraptor who be basically just there for a show ... i think one of them go for country food later we have the gurl - power ultimate cyan blue female whatthefudgeisitasaurus rex and then we have the t. rex a t. rex who decide mid chase that he will not be confine to just be a hunter he shall also be an interior decorator we get to see him in action when he somehow bust through the waitress \\'s house and paint the couch with her bos \\' intestine as he scream for her ( ooooh a hint of love ) and the goth geek and waitress stand there scream like we all would we also have our ever intelligent forensic scientist who be apparently foreign who forewarn our ever present csi/fbi/monster hunter agent to remain indoors and indoors they stay sleep like good little hero because they work hard oh so very hard hard. so hard in fact that when they sleep nothing - not even the screams/barking/crashing/ smashing/stomping/shrieking/roaring/scraping/hysterical laughing of the cast - could wake them nope guy gotta get their sleep thank you for protect your country gentleman you be an inspiration and let \\' not forget the amazing scene of this tiny rundown town ... that have a factory that produce anything your imagination can think up like willy wonka \\'s chocolate factory ... except with dinosaur instead of candy and oompa loompas my favorite part be the dinosaur dramatic entrance like when the fat skirt chaser switch on and off all the switch that so obviously but not obviously say doors- lights- beth * caution * ( our daddysgirlasaurus rex ) over and over to test the dinosaur ability to perceive escape as the waitress and goth stand in the middle of the farm star at him in deep contemplation of his iq status and there be the fact that as long as you do not see the dinosaur even if it \\' behind you/ stalk you/want to ask you about our lord and savior it will not run after you if you run back to your friends/people who abandon you at the earliest opportunity and as madam dark and crazy demonstrate you can fish for raptor use a toy fishing rod and a doll sure go ahead reel it in she also show u that dinosaur be great back messagers with just enough pressure it can make you feel like it just snap your spine oh - so good but do not let me tell you ask the fbi/sleepyhead agent who can only be raise from their slumber by an explosion ... not a roar an explosion this movie have get it all ',\n",
       " \"i be not exactly a great lover of horror film but in spite of that i like watch horror film well produce picture and with a good storyline believe me this movie do not have any of those quality it ' just waste your time the story be very week as well as the actor animation look like back in the 50 's after all it ' a low budget movie but not one like evil deed or paranormal activity to make a low budget movie successful at least you need a handful well write script then some good actor and finally moderate animation in this 21st century you can not expect lot of viewer with this kind of level so my advice do not waste your time and money watch this creepy one \",\n",
       " 'the movie be probably aim at be on of those a masala flick with bromance romance song sequence tragic background and what not but half an hour into the movie and it all go for a toss due to a very very weak script the on screen appearance of the actor be good but it be not really back by any actual acting the dialogue be over cheesy and ludicrous in all aspect probably priyanka chopra be the only watchable element of the movie ( or may be i be be biased ) frankly an hour into the movie and i really feel like leave ( i do not know why i do not ) trust me guy its one of those movie which be mean to be forget and if you have not watch it and be plan to then forget the time and money that you be go to waste on this and just save yourself from the agony that may scar you the only way this movie could be watchable be with a group of friend who be make fun of everything possible whilst the movie play ',\n",
       " \"this be one of those bad movie you can hardy digest which be full of historically inappropriate inaccurate and dumb event all most all the historian find this speculation about the great liberation war of bangladesh way too hard to swallow give that at the time the film be set- it be an india - pakistan war happen in 1971 similarly this terrible film often humiliate the bangladeshi on several sight it depict that people of bangladesh be involve in various criminal activity during the liberation war when in reality ; they have be fight for the liberation of their motherland furthermore the movie awfully exaggerate the situation in 1971 portraying that the bangladeshi use to talk in hindi my foot it ' a matter of great pity when some dumb & numb scriptwriter portray the bangladeshi as hindi - speaking nation who be the only brave nation who have shed their blood for claim their mother tongue back in 1952 such be the state and height of historically inaccuracy and dumbness poor dumb as yashrajfilms better start sell pinup magazine on the street - i mean it \"]"
      ]
     },
     "execution_count": 14,
     "metadata": {},
     "output_type": "execute_result"
    }
   ],
   "source": [
    "reviewlist = []\n",
    "for i in df['reviews']:\n",
    "    reviewlist.append(cleaner(i))\n",
    "reviewlist[:10]"
   ]
  },
  {
   "cell_type": "code",
   "execution_count": 15,
   "metadata": {
    "collapsed": true
   },
   "outputs": [],
   "source": [
    "df['reviews'] = reviewlist"
   ]
  },
  {
   "cell_type": "code",
   "execution_count": 16,
   "metadata": {
    "collapsed": false
   },
   "outputs": [
    {
     "data": {
      "text/html": [
       "<div>\n",
       "<table border=\"1\" class=\"dataframe\">\n",
       "  <thead>\n",
       "    <tr style=\"text-align: right;\">\n",
       "      <th></th>\n",
       "      <th>title</th>\n",
       "      <th>reviews</th>\n",
       "      <th>review_score</th>\n",
       "      <th>movie_score</th>\n",
       "      <th>genre</th>\n",
       "    </tr>\n",
       "  </thead>\n",
       "  <tbody>\n",
       "    <tr>\n",
       "      <th>0</th>\n",
       "      <td>Raptor Ranch</td>\n",
       "      <td>i love movie and i also will check out most in...</td>\n",
       "      <td>2.0</td>\n",
       "      <td>3.0</td>\n",
       "      <td>Action</td>\n",
       "    </tr>\n",
       "    <tr>\n",
       "      <th>1</th>\n",
       "      <td>Raptor Ranch</td>\n",
       "      <td>even from the trailer raptor ranch from the ge...</td>\n",
       "      <td>1.0</td>\n",
       "      <td>3.0</td>\n",
       "      <td>Action</td>\n",
       "    </tr>\n",
       "    <tr>\n",
       "      <th>2</th>\n",
       "      <td>Raptor Ranch</td>\n",
       "      <td>well this movie have prehistoric raptor and lo...</td>\n",
       "      <td>2.0</td>\n",
       "      <td>3.0</td>\n",
       "      <td>Action</td>\n",
       "    </tr>\n",
       "    <tr>\n",
       "      <th>3</th>\n",
       "      <td>Raptor Ranch</td>\n",
       "      <td>' raptor ranch ' ( audaciously retitled ' jura...</td>\n",
       "      <td>3.0</td>\n",
       "      <td>3.0</td>\n",
       "      <td>Action</td>\n",
       "    </tr>\n",
       "    <tr>\n",
       "      <th>4</th>\n",
       "      <td>Raptor Ranch</td>\n",
       "      <td>personally i do not get all the hate for this ...</td>\n",
       "      <td>7.0</td>\n",
       "      <td>3.0</td>\n",
       "      <td>Action</td>\n",
       "    </tr>\n",
       "  </tbody>\n",
       "</table>\n",
       "</div>"
      ],
      "text/plain": [
       "          title                                            reviews  \\\n",
       "0  Raptor Ranch  i love movie and i also will check out most in...   \n",
       "1  Raptor Ranch  even from the trailer raptor ranch from the ge...   \n",
       "2  Raptor Ranch  well this movie have prehistoric raptor and lo...   \n",
       "3  Raptor Ranch  ' raptor ranch ' ( audaciously retitled ' jura...   \n",
       "4  Raptor Ranch  personally i do not get all the hate for this ...   \n",
       "\n",
       "   review_score  movie_score   genre  \n",
       "0           2.0          3.0  Action  \n",
       "1           1.0          3.0  Action  \n",
       "2           2.0          3.0  Action  \n",
       "3           3.0          3.0  Action  \n",
       "4           7.0          3.0  Action  "
      ]
     },
     "execution_count": 16,
     "metadata": {},
     "output_type": "execute_result"
    }
   ],
   "source": [
    "df.head()"
   ]
  },
  {
   "cell_type": "code",
   "execution_count": 17,
   "metadata": {
    "collapsed": true
   },
   "outputs": [],
   "source": [
    "#export the df to csv\n",
    "df.to_csv('ALLMovieData200.csv')"
   ]
  },
  {
   "cell_type": "code",
   "execution_count": null,
   "metadata": {
    "collapsed": true
   },
   "outputs": [],
   "source": []
  }
 ],
 "metadata": {
  "kernelspec": {
   "display_name": "Python 2",
   "language": "python",
   "name": "python2"
  },
  "language_info": {
   "codemirror_mode": {
    "name": "ipython",
    "version": 2
   },
   "file_extension": ".py",
   "mimetype": "text/x-python",
   "name": "python",
   "nbconvert_exporter": "python",
   "pygments_lexer": "ipython2",
   "version": "2.7.11"
  }
 },
 "nbformat": 4,
 "nbformat_minor": 0
}
